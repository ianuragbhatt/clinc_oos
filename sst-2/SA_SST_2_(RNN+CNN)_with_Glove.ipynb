{
  "nbformat": 4,
  "nbformat_minor": 0,
  "metadata": {
    "colab": {
      "name": "SA_SST_2_(RNN+CNN)_with_Glove.ipynb",
      "provenance": [],
      "collapsed_sections": [
        "xqnOjfZgRUr9"
      ],
      "toc_visible": true
    },
    "kernelspec": {
      "display_name": "Python 3",
      "name": "python3"
    },
    "widgets": {
      "application/vnd.jupyter.widget-state+json": {
        "bef8d2b762e14fc4a9577e2d336c452f": {
          "model_module": "@jupyter-widgets/controls",
          "model_name": "HBoxModel",
          "model_module_version": "1.5.0",
          "state": {
            "_view_name": "HBoxView",
            "_dom_classes": [],
            "_model_name": "HBoxModel",
            "_view_module": "@jupyter-widgets/controls",
            "_model_module_version": "1.5.0",
            "_view_count": null,
            "_view_module_version": "1.5.0",
            "box_style": "",
            "layout": "IPY_MODEL_ee7d6b3d09dc4eb4bbdfe05575f231f5",
            "_model_module": "@jupyter-widgets/controls",
            "children": [
              "IPY_MODEL_daa0a46fbf614fd693a1957cec15f6a1",
              "IPY_MODEL_c8874cc928664c59894daf40735eaed2",
              "IPY_MODEL_8141335504744273aa510e4b0a26d722"
            ]
          }
        },
        "ee7d6b3d09dc4eb4bbdfe05575f231f5": {
          "model_module": "@jupyter-widgets/base",
          "model_name": "LayoutModel",
          "model_module_version": "1.2.0",
          "state": {
            "_view_name": "LayoutView",
            "grid_template_rows": null,
            "right": null,
            "justify_content": null,
            "_view_module": "@jupyter-widgets/base",
            "overflow": null,
            "_model_module_version": "1.2.0",
            "_view_count": null,
            "flex_flow": null,
            "width": null,
            "min_width": null,
            "border": null,
            "align_items": null,
            "bottom": null,
            "_model_module": "@jupyter-widgets/base",
            "top": null,
            "grid_column": null,
            "overflow_y": null,
            "overflow_x": null,
            "grid_auto_flow": null,
            "grid_area": null,
            "grid_template_columns": null,
            "flex": null,
            "_model_name": "LayoutModel",
            "justify_items": null,
            "grid_row": null,
            "max_height": null,
            "align_content": null,
            "visibility": null,
            "align_self": null,
            "height": null,
            "min_height": null,
            "padding": null,
            "grid_auto_rows": null,
            "grid_gap": null,
            "max_width": null,
            "order": null,
            "_view_module_version": "1.2.0",
            "grid_template_areas": null,
            "object_position": null,
            "object_fit": null,
            "grid_auto_columns": null,
            "margin": null,
            "display": null,
            "left": null
          }
        },
        "daa0a46fbf614fd693a1957cec15f6a1": {
          "model_module": "@jupyter-widgets/controls",
          "model_name": "HTMLModel",
          "model_module_version": "1.5.0",
          "state": {
            "_view_name": "HTMLView",
            "style": "IPY_MODEL_d24985f0e36648de934ba0fcfd932571",
            "_dom_classes": [],
            "description": "",
            "_model_name": "HTMLModel",
            "placeholder": "​",
            "_view_module": "@jupyter-widgets/controls",
            "_model_module_version": "1.5.0",
            "value": "",
            "_view_count": null,
            "_view_module_version": "1.5.0",
            "description_tooltip": null,
            "_model_module": "@jupyter-widgets/controls",
            "layout": "IPY_MODEL_ab4bc94e0a07407f9392387057cbbc90"
          }
        },
        "c8874cc928664c59894daf40735eaed2": {
          "model_module": "@jupyter-widgets/controls",
          "model_name": "FloatProgressModel",
          "model_module_version": "1.5.0",
          "state": {
            "_view_name": "ProgressView",
            "style": "IPY_MODEL_b1c0216bc0b742f99bee2c7d226ab973",
            "_dom_classes": [],
            "description": "",
            "_model_name": "FloatProgressModel",
            "bar_style": "success",
            "max": 1,
            "_view_module": "@jupyter-widgets/controls",
            "_model_module_version": "1.5.0",
            "value": 1,
            "_view_count": null,
            "_view_module_version": "1.5.0",
            "orientation": "horizontal",
            "min": 0,
            "description_tooltip": null,
            "_model_module": "@jupyter-widgets/controls",
            "layout": "IPY_MODEL_6cbdf39357ac4028a1df17b607edc9a8"
          }
        },
        "8141335504744273aa510e4b0a26d722": {
          "model_module": "@jupyter-widgets/controls",
          "model_name": "HTMLModel",
          "model_module_version": "1.5.0",
          "state": {
            "_view_name": "HTMLView",
            "style": "IPY_MODEL_1e3897b75bdf4996ba932f820ecff6e0",
            "_dom_classes": [],
            "description": "",
            "_model_name": "HTMLModel",
            "placeholder": "​",
            "_view_module": "@jupyter-widgets/controls",
            "_model_module_version": "1.5.0",
            "value": " 2196017/? [03:26&lt;00:00, 12048.60it/s]",
            "_view_count": null,
            "_view_module_version": "1.5.0",
            "description_tooltip": null,
            "_model_module": "@jupyter-widgets/controls",
            "layout": "IPY_MODEL_0acd6c44c6b845fab98ee479e646bdc4"
          }
        },
        "d24985f0e36648de934ba0fcfd932571": {
          "model_module": "@jupyter-widgets/controls",
          "model_name": "DescriptionStyleModel",
          "model_module_version": "1.5.0",
          "state": {
            "_view_name": "StyleView",
            "_model_name": "DescriptionStyleModel",
            "description_width": "",
            "_view_module": "@jupyter-widgets/base",
            "_model_module_version": "1.5.0",
            "_view_count": null,
            "_view_module_version": "1.2.0",
            "_model_module": "@jupyter-widgets/controls"
          }
        },
        "ab4bc94e0a07407f9392387057cbbc90": {
          "model_module": "@jupyter-widgets/base",
          "model_name": "LayoutModel",
          "model_module_version": "1.2.0",
          "state": {
            "_view_name": "LayoutView",
            "grid_template_rows": null,
            "right": null,
            "justify_content": null,
            "_view_module": "@jupyter-widgets/base",
            "overflow": null,
            "_model_module_version": "1.2.0",
            "_view_count": null,
            "flex_flow": null,
            "width": null,
            "min_width": null,
            "border": null,
            "align_items": null,
            "bottom": null,
            "_model_module": "@jupyter-widgets/base",
            "top": null,
            "grid_column": null,
            "overflow_y": null,
            "overflow_x": null,
            "grid_auto_flow": null,
            "grid_area": null,
            "grid_template_columns": null,
            "flex": null,
            "_model_name": "LayoutModel",
            "justify_items": null,
            "grid_row": null,
            "max_height": null,
            "align_content": null,
            "visibility": null,
            "align_self": null,
            "height": null,
            "min_height": null,
            "padding": null,
            "grid_auto_rows": null,
            "grid_gap": null,
            "max_width": null,
            "order": null,
            "_view_module_version": "1.2.0",
            "grid_template_areas": null,
            "object_position": null,
            "object_fit": null,
            "grid_auto_columns": null,
            "margin": null,
            "display": null,
            "left": null
          }
        },
        "b1c0216bc0b742f99bee2c7d226ab973": {
          "model_module": "@jupyter-widgets/controls",
          "model_name": "ProgressStyleModel",
          "model_module_version": "1.5.0",
          "state": {
            "_view_name": "StyleView",
            "_model_name": "ProgressStyleModel",
            "description_width": "",
            "_view_module": "@jupyter-widgets/base",
            "_model_module_version": "1.5.0",
            "_view_count": null,
            "_view_module_version": "1.2.0",
            "bar_color": null,
            "_model_module": "@jupyter-widgets/controls"
          }
        },
        "6cbdf39357ac4028a1df17b607edc9a8": {
          "model_module": "@jupyter-widgets/base",
          "model_name": "LayoutModel",
          "model_module_version": "1.2.0",
          "state": {
            "_view_name": "LayoutView",
            "grid_template_rows": null,
            "right": null,
            "justify_content": null,
            "_view_module": "@jupyter-widgets/base",
            "overflow": null,
            "_model_module_version": "1.2.0",
            "_view_count": null,
            "flex_flow": null,
            "width": "20px",
            "min_width": null,
            "border": null,
            "align_items": null,
            "bottom": null,
            "_model_module": "@jupyter-widgets/base",
            "top": null,
            "grid_column": null,
            "overflow_y": null,
            "overflow_x": null,
            "grid_auto_flow": null,
            "grid_area": null,
            "grid_template_columns": null,
            "flex": null,
            "_model_name": "LayoutModel",
            "justify_items": null,
            "grid_row": null,
            "max_height": null,
            "align_content": null,
            "visibility": null,
            "align_self": null,
            "height": null,
            "min_height": null,
            "padding": null,
            "grid_auto_rows": null,
            "grid_gap": null,
            "max_width": null,
            "order": null,
            "_view_module_version": "1.2.0",
            "grid_template_areas": null,
            "object_position": null,
            "object_fit": null,
            "grid_auto_columns": null,
            "margin": null,
            "display": null,
            "left": null
          }
        },
        "1e3897b75bdf4996ba932f820ecff6e0": {
          "model_module": "@jupyter-widgets/controls",
          "model_name": "DescriptionStyleModel",
          "model_module_version": "1.5.0",
          "state": {
            "_view_name": "StyleView",
            "_model_name": "DescriptionStyleModel",
            "description_width": "",
            "_view_module": "@jupyter-widgets/base",
            "_model_module_version": "1.5.0",
            "_view_count": null,
            "_view_module_version": "1.2.0",
            "_model_module": "@jupyter-widgets/controls"
          }
        },
        "0acd6c44c6b845fab98ee479e646bdc4": {
          "model_module": "@jupyter-widgets/base",
          "model_name": "LayoutModel",
          "model_module_version": "1.2.0",
          "state": {
            "_view_name": "LayoutView",
            "grid_template_rows": null,
            "right": null,
            "justify_content": null,
            "_view_module": "@jupyter-widgets/base",
            "overflow": null,
            "_model_module_version": "1.2.0",
            "_view_count": null,
            "flex_flow": null,
            "width": null,
            "min_width": null,
            "border": null,
            "align_items": null,
            "bottom": null,
            "_model_module": "@jupyter-widgets/base",
            "top": null,
            "grid_column": null,
            "overflow_y": null,
            "overflow_x": null,
            "grid_auto_flow": null,
            "grid_area": null,
            "grid_template_columns": null,
            "flex": null,
            "_model_name": "LayoutModel",
            "justify_items": null,
            "grid_row": null,
            "max_height": null,
            "align_content": null,
            "visibility": null,
            "align_self": null,
            "height": null,
            "min_height": null,
            "padding": null,
            "grid_auto_rows": null,
            "grid_gap": null,
            "max_width": null,
            "order": null,
            "_view_module_version": "1.2.0",
            "grid_template_areas": null,
            "object_position": null,
            "object_fit": null,
            "grid_auto_columns": null,
            "margin": null,
            "display": null,
            "left": null
          }
        },
        "6ac1d34bf7574cbbbdcc1efae0b1fcd9": {
          "model_module": "@jupyter-widgets/controls",
          "model_name": "HBoxModel",
          "model_module_version": "1.5.0",
          "state": {
            "_view_name": "HBoxView",
            "_dom_classes": [],
            "_model_name": "HBoxModel",
            "_view_module": "@jupyter-widgets/controls",
            "_model_module_version": "1.5.0",
            "_view_count": null,
            "_view_module_version": "1.5.0",
            "box_style": "",
            "layout": "IPY_MODEL_3d1057fcf0ac4fb89a32fd26250652bc",
            "_model_module": "@jupyter-widgets/controls",
            "children": [
              "IPY_MODEL_38d0b392380b46b3a825d5aaeb243797",
              "IPY_MODEL_9dff82d36fe9455e8c01ca764d231619",
              "IPY_MODEL_b198002049e84c30ac31ceea4c6ce9f3"
            ]
          }
        },
        "3d1057fcf0ac4fb89a32fd26250652bc": {
          "model_module": "@jupyter-widgets/base",
          "model_name": "LayoutModel",
          "model_module_version": "1.2.0",
          "state": {
            "_view_name": "LayoutView",
            "grid_template_rows": null,
            "right": null,
            "justify_content": null,
            "_view_module": "@jupyter-widgets/base",
            "overflow": null,
            "_model_module_version": "1.2.0",
            "_view_count": null,
            "flex_flow": null,
            "width": null,
            "min_width": null,
            "border": null,
            "align_items": null,
            "bottom": null,
            "_model_module": "@jupyter-widgets/base",
            "top": null,
            "grid_column": null,
            "overflow_y": null,
            "overflow_x": null,
            "grid_auto_flow": null,
            "grid_area": null,
            "grid_template_columns": null,
            "flex": null,
            "_model_name": "LayoutModel",
            "justify_items": null,
            "grid_row": null,
            "max_height": null,
            "align_content": null,
            "visibility": null,
            "align_self": null,
            "height": null,
            "min_height": null,
            "padding": null,
            "grid_auto_rows": null,
            "grid_gap": null,
            "max_width": null,
            "order": null,
            "_view_module_version": "1.2.0",
            "grid_template_areas": null,
            "object_position": null,
            "object_fit": null,
            "grid_auto_columns": null,
            "margin": null,
            "display": null,
            "left": null
          }
        },
        "38d0b392380b46b3a825d5aaeb243797": {
          "model_module": "@jupyter-widgets/controls",
          "model_name": "HTMLModel",
          "model_module_version": "1.5.0",
          "state": {
            "_view_name": "HTMLView",
            "style": "IPY_MODEL_6904912cb8644ca89aabb04618c2958c",
            "_dom_classes": [],
            "description": "",
            "_model_name": "HTMLModel",
            "placeholder": "​",
            "_view_module": "@jupyter-widgets/controls",
            "_model_module_version": "1.5.0",
            "value": "100%",
            "_view_count": null,
            "_view_module_version": "1.5.0",
            "description_tooltip": null,
            "_model_module": "@jupyter-widgets/controls",
            "layout": "IPY_MODEL_630a263f283c435fb0afca5a301b1eb7"
          }
        },
        "9dff82d36fe9455e8c01ca764d231619": {
          "model_module": "@jupyter-widgets/controls",
          "model_name": "FloatProgressModel",
          "model_module_version": "1.5.0",
          "state": {
            "_view_name": "ProgressView",
            "style": "IPY_MODEL_530a91b2b4dc4b3f9188921aef2090bc",
            "_dom_classes": [],
            "description": "",
            "_model_name": "FloatProgressModel",
            "bar_style": "success",
            "max": 2195885,
            "_view_module": "@jupyter-widgets/controls",
            "_model_module_version": "1.5.0",
            "value": 2195885,
            "_view_count": null,
            "_view_module_version": "1.5.0",
            "orientation": "horizontal",
            "min": 0,
            "description_tooltip": null,
            "_model_module": "@jupyter-widgets/controls",
            "layout": "IPY_MODEL_ee4241283f734d5d8400fb112ca7db16"
          }
        },
        "b198002049e84c30ac31ceea4c6ce9f3": {
          "model_module": "@jupyter-widgets/controls",
          "model_name": "HTMLModel",
          "model_module_version": "1.5.0",
          "state": {
            "_view_name": "HTMLView",
            "style": "IPY_MODEL_0c28100a95f0441597d5cc74fcaa6686",
            "_dom_classes": [],
            "description": "",
            "_model_name": "HTMLModel",
            "placeholder": "​",
            "_view_module": "@jupyter-widgets/controls",
            "_model_module_version": "1.5.0",
            "value": " 2195885/2195885 [00:02&lt;00:00, 878235.69it/s]",
            "_view_count": null,
            "_view_module_version": "1.5.0",
            "description_tooltip": null,
            "_model_module": "@jupyter-widgets/controls",
            "layout": "IPY_MODEL_59b8a1577b574ef9ae243f882a3c610b"
          }
        },
        "6904912cb8644ca89aabb04618c2958c": {
          "model_module": "@jupyter-widgets/controls",
          "model_name": "DescriptionStyleModel",
          "model_module_version": "1.5.0",
          "state": {
            "_view_name": "StyleView",
            "_model_name": "DescriptionStyleModel",
            "description_width": "",
            "_view_module": "@jupyter-widgets/base",
            "_model_module_version": "1.5.0",
            "_view_count": null,
            "_view_module_version": "1.2.0",
            "_model_module": "@jupyter-widgets/controls"
          }
        },
        "630a263f283c435fb0afca5a301b1eb7": {
          "model_module": "@jupyter-widgets/base",
          "model_name": "LayoutModel",
          "model_module_version": "1.2.0",
          "state": {
            "_view_name": "LayoutView",
            "grid_template_rows": null,
            "right": null,
            "justify_content": null,
            "_view_module": "@jupyter-widgets/base",
            "overflow": null,
            "_model_module_version": "1.2.0",
            "_view_count": null,
            "flex_flow": null,
            "width": null,
            "min_width": null,
            "border": null,
            "align_items": null,
            "bottom": null,
            "_model_module": "@jupyter-widgets/base",
            "top": null,
            "grid_column": null,
            "overflow_y": null,
            "overflow_x": null,
            "grid_auto_flow": null,
            "grid_area": null,
            "grid_template_columns": null,
            "flex": null,
            "_model_name": "LayoutModel",
            "justify_items": null,
            "grid_row": null,
            "max_height": null,
            "align_content": null,
            "visibility": null,
            "align_self": null,
            "height": null,
            "min_height": null,
            "padding": null,
            "grid_auto_rows": null,
            "grid_gap": null,
            "max_width": null,
            "order": null,
            "_view_module_version": "1.2.0",
            "grid_template_areas": null,
            "object_position": null,
            "object_fit": null,
            "grid_auto_columns": null,
            "margin": null,
            "display": null,
            "left": null
          }
        },
        "530a91b2b4dc4b3f9188921aef2090bc": {
          "model_module": "@jupyter-widgets/controls",
          "model_name": "ProgressStyleModel",
          "model_module_version": "1.5.0",
          "state": {
            "_view_name": "StyleView",
            "_model_name": "ProgressStyleModel",
            "description_width": "",
            "_view_module": "@jupyter-widgets/base",
            "_model_module_version": "1.5.0",
            "_view_count": null,
            "_view_module_version": "1.2.0",
            "bar_color": null,
            "_model_module": "@jupyter-widgets/controls"
          }
        },
        "ee4241283f734d5d8400fb112ca7db16": {
          "model_module": "@jupyter-widgets/base",
          "model_name": "LayoutModel",
          "model_module_version": "1.2.0",
          "state": {
            "_view_name": "LayoutView",
            "grid_template_rows": null,
            "right": null,
            "justify_content": null,
            "_view_module": "@jupyter-widgets/base",
            "overflow": null,
            "_model_module_version": "1.2.0",
            "_view_count": null,
            "flex_flow": null,
            "width": null,
            "min_width": null,
            "border": null,
            "align_items": null,
            "bottom": null,
            "_model_module": "@jupyter-widgets/base",
            "top": null,
            "grid_column": null,
            "overflow_y": null,
            "overflow_x": null,
            "grid_auto_flow": null,
            "grid_area": null,
            "grid_template_columns": null,
            "flex": null,
            "_model_name": "LayoutModel",
            "justify_items": null,
            "grid_row": null,
            "max_height": null,
            "align_content": null,
            "visibility": null,
            "align_self": null,
            "height": null,
            "min_height": null,
            "padding": null,
            "grid_auto_rows": null,
            "grid_gap": null,
            "max_width": null,
            "order": null,
            "_view_module_version": "1.2.0",
            "grid_template_areas": null,
            "object_position": null,
            "object_fit": null,
            "grid_auto_columns": null,
            "margin": null,
            "display": null,
            "left": null
          }
        },
        "0c28100a95f0441597d5cc74fcaa6686": {
          "model_module": "@jupyter-widgets/controls",
          "model_name": "DescriptionStyleModel",
          "model_module_version": "1.5.0",
          "state": {
            "_view_name": "StyleView",
            "_model_name": "DescriptionStyleModel",
            "description_width": "",
            "_view_module": "@jupyter-widgets/base",
            "_model_module_version": "1.5.0",
            "_view_count": null,
            "_view_module_version": "1.2.0",
            "_model_module": "@jupyter-widgets/controls"
          }
        },
        "59b8a1577b574ef9ae243f882a3c610b": {
          "model_module": "@jupyter-widgets/base",
          "model_name": "LayoutModel",
          "model_module_version": "1.2.0",
          "state": {
            "_view_name": "LayoutView",
            "grid_template_rows": null,
            "right": null,
            "justify_content": null,
            "_view_module": "@jupyter-widgets/base",
            "overflow": null,
            "_model_module_version": "1.2.0",
            "_view_count": null,
            "flex_flow": null,
            "width": null,
            "min_width": null,
            "border": null,
            "align_items": null,
            "bottom": null,
            "_model_module": "@jupyter-widgets/base",
            "top": null,
            "grid_column": null,
            "overflow_y": null,
            "overflow_x": null,
            "grid_auto_flow": null,
            "grid_area": null,
            "grid_template_columns": null,
            "flex": null,
            "_model_name": "LayoutModel",
            "justify_items": null,
            "grid_row": null,
            "max_height": null,
            "align_content": null,
            "visibility": null,
            "align_self": null,
            "height": null,
            "min_height": null,
            "padding": null,
            "grid_auto_rows": null,
            "grid_gap": null,
            "max_width": null,
            "order": null,
            "_view_module_version": "1.2.0",
            "grid_template_areas": null,
            "object_position": null,
            "object_fit": null,
            "grid_auto_columns": null,
            "margin": null,
            "display": null,
            "left": null
          }
        },
        "a804ab336889480cb0bccbbe65a46b85": {
          "model_module": "@jupyter-widgets/controls",
          "model_name": "HBoxModel",
          "model_module_version": "1.5.0",
          "state": {
            "_view_name": "HBoxView",
            "_dom_classes": [],
            "_model_name": "HBoxModel",
            "_view_module": "@jupyter-widgets/controls",
            "_model_module_version": "1.5.0",
            "_view_count": null,
            "_view_module_version": "1.5.0",
            "box_style": "",
            "layout": "IPY_MODEL_f077c044ff3a435d93cdd5a5445b3ede",
            "_model_module": "@jupyter-widgets/controls",
            "children": [
              "IPY_MODEL_e351978041a046878f4ce03988c77a31",
              "IPY_MODEL_905c9157d0a5483ea6d11702349f5f1f",
              "IPY_MODEL_519b6ffcb64446a6b8c4b96d1846d2c1"
            ]
          }
        },
        "f077c044ff3a435d93cdd5a5445b3ede": {
          "model_module": "@jupyter-widgets/base",
          "model_name": "LayoutModel",
          "model_module_version": "1.2.0",
          "state": {
            "_view_name": "LayoutView",
            "grid_template_rows": null,
            "right": null,
            "justify_content": null,
            "_view_module": "@jupyter-widgets/base",
            "overflow": null,
            "_model_module_version": "1.2.0",
            "_view_count": null,
            "flex_flow": null,
            "width": null,
            "min_width": null,
            "border": null,
            "align_items": null,
            "bottom": null,
            "_model_module": "@jupyter-widgets/base",
            "top": null,
            "grid_column": null,
            "overflow_y": null,
            "overflow_x": null,
            "grid_auto_flow": null,
            "grid_area": null,
            "grid_template_columns": null,
            "flex": null,
            "_model_name": "LayoutModel",
            "justify_items": null,
            "grid_row": null,
            "max_height": null,
            "align_content": null,
            "visibility": null,
            "align_self": null,
            "height": null,
            "min_height": null,
            "padding": null,
            "grid_auto_rows": null,
            "grid_gap": null,
            "max_width": null,
            "order": null,
            "_view_module_version": "1.2.0",
            "grid_template_areas": null,
            "object_position": null,
            "object_fit": null,
            "grid_auto_columns": null,
            "margin": null,
            "display": null,
            "left": null
          }
        },
        "e351978041a046878f4ce03988c77a31": {
          "model_module": "@jupyter-widgets/controls",
          "model_name": "HTMLModel",
          "model_module_version": "1.5.0",
          "state": {
            "_view_name": "HTMLView",
            "style": "IPY_MODEL_b5c2cbcc2270401e8c796b19df58069c",
            "_dom_classes": [],
            "description": "",
            "_model_name": "HTMLModel",
            "placeholder": "​",
            "_view_module": "@jupyter-widgets/controls",
            "_model_module_version": "1.5.0",
            "value": "100%",
            "_view_count": null,
            "_view_module_version": "1.5.0",
            "description_tooltip": null,
            "_model_module": "@jupyter-widgets/controls",
            "layout": "IPY_MODEL_44f806201f3e486b8506428179369ba6"
          }
        },
        "905c9157d0a5483ea6d11702349f5f1f": {
          "model_module": "@jupyter-widgets/controls",
          "model_name": "FloatProgressModel",
          "model_module_version": "1.5.0",
          "state": {
            "_view_name": "ProgressView",
            "style": "IPY_MODEL_2d5f0af0e2e14cb7b677814e908ca076",
            "_dom_classes": [],
            "description": "",
            "_model_name": "FloatProgressModel",
            "bar_style": "success",
            "max": 13822,
            "_view_module": "@jupyter-widgets/controls",
            "_model_module_version": "1.5.0",
            "value": 13822,
            "_view_count": null,
            "_view_module_version": "1.5.0",
            "orientation": "horizontal",
            "min": 0,
            "description_tooltip": null,
            "_model_module": "@jupyter-widgets/controls",
            "layout": "IPY_MODEL_ea024fad49aa4981899180f36b00c188"
          }
        },
        "519b6ffcb64446a6b8c4b96d1846d2c1": {
          "model_module": "@jupyter-widgets/controls",
          "model_name": "HTMLModel",
          "model_module_version": "1.5.0",
          "state": {
            "_view_name": "HTMLView",
            "style": "IPY_MODEL_ff8f1511e7884332b2667c4201aedda7",
            "_dom_classes": [],
            "description": "",
            "_model_name": "HTMLModel",
            "placeholder": "​",
            "_view_module": "@jupyter-widgets/controls",
            "_model_module_version": "1.5.0",
            "value": " 13822/13822 [00:00&lt;00:00, 130913.28it/s]",
            "_view_count": null,
            "_view_module_version": "1.5.0",
            "description_tooltip": null,
            "_model_module": "@jupyter-widgets/controls",
            "layout": "IPY_MODEL_e9fdb54fd33741f09141946f6dd4b65c"
          }
        },
        "b5c2cbcc2270401e8c796b19df58069c": {
          "model_module": "@jupyter-widgets/controls",
          "model_name": "DescriptionStyleModel",
          "model_module_version": "1.5.0",
          "state": {
            "_view_name": "StyleView",
            "_model_name": "DescriptionStyleModel",
            "description_width": "",
            "_view_module": "@jupyter-widgets/base",
            "_model_module_version": "1.5.0",
            "_view_count": null,
            "_view_module_version": "1.2.0",
            "_model_module": "@jupyter-widgets/controls"
          }
        },
        "44f806201f3e486b8506428179369ba6": {
          "model_module": "@jupyter-widgets/base",
          "model_name": "LayoutModel",
          "model_module_version": "1.2.0",
          "state": {
            "_view_name": "LayoutView",
            "grid_template_rows": null,
            "right": null,
            "justify_content": null,
            "_view_module": "@jupyter-widgets/base",
            "overflow": null,
            "_model_module_version": "1.2.0",
            "_view_count": null,
            "flex_flow": null,
            "width": null,
            "min_width": null,
            "border": null,
            "align_items": null,
            "bottom": null,
            "_model_module": "@jupyter-widgets/base",
            "top": null,
            "grid_column": null,
            "overflow_y": null,
            "overflow_x": null,
            "grid_auto_flow": null,
            "grid_area": null,
            "grid_template_columns": null,
            "flex": null,
            "_model_name": "LayoutModel",
            "justify_items": null,
            "grid_row": null,
            "max_height": null,
            "align_content": null,
            "visibility": null,
            "align_self": null,
            "height": null,
            "min_height": null,
            "padding": null,
            "grid_auto_rows": null,
            "grid_gap": null,
            "max_width": null,
            "order": null,
            "_view_module_version": "1.2.0",
            "grid_template_areas": null,
            "object_position": null,
            "object_fit": null,
            "grid_auto_columns": null,
            "margin": null,
            "display": null,
            "left": null
          }
        },
        "2d5f0af0e2e14cb7b677814e908ca076": {
          "model_module": "@jupyter-widgets/controls",
          "model_name": "ProgressStyleModel",
          "model_module_version": "1.5.0",
          "state": {
            "_view_name": "StyleView",
            "_model_name": "ProgressStyleModel",
            "description_width": "",
            "_view_module": "@jupyter-widgets/base",
            "_model_module_version": "1.5.0",
            "_view_count": null,
            "_view_module_version": "1.2.0",
            "bar_color": null,
            "_model_module": "@jupyter-widgets/controls"
          }
        },
        "ea024fad49aa4981899180f36b00c188": {
          "model_module": "@jupyter-widgets/base",
          "model_name": "LayoutModel",
          "model_module_version": "1.2.0",
          "state": {
            "_view_name": "LayoutView",
            "grid_template_rows": null,
            "right": null,
            "justify_content": null,
            "_view_module": "@jupyter-widgets/base",
            "overflow": null,
            "_model_module_version": "1.2.0",
            "_view_count": null,
            "flex_flow": null,
            "width": null,
            "min_width": null,
            "border": null,
            "align_items": null,
            "bottom": null,
            "_model_module": "@jupyter-widgets/base",
            "top": null,
            "grid_column": null,
            "overflow_y": null,
            "overflow_x": null,
            "grid_auto_flow": null,
            "grid_area": null,
            "grid_template_columns": null,
            "flex": null,
            "_model_name": "LayoutModel",
            "justify_items": null,
            "grid_row": null,
            "max_height": null,
            "align_content": null,
            "visibility": null,
            "align_self": null,
            "height": null,
            "min_height": null,
            "padding": null,
            "grid_auto_rows": null,
            "grid_gap": null,
            "max_width": null,
            "order": null,
            "_view_module_version": "1.2.0",
            "grid_template_areas": null,
            "object_position": null,
            "object_fit": null,
            "grid_auto_columns": null,
            "margin": null,
            "display": null,
            "left": null
          }
        },
        "ff8f1511e7884332b2667c4201aedda7": {
          "model_module": "@jupyter-widgets/controls",
          "model_name": "DescriptionStyleModel",
          "model_module_version": "1.5.0",
          "state": {
            "_view_name": "StyleView",
            "_model_name": "DescriptionStyleModel",
            "description_width": "",
            "_view_module": "@jupyter-widgets/base",
            "_model_module_version": "1.5.0",
            "_view_count": null,
            "_view_module_version": "1.2.0",
            "_model_module": "@jupyter-widgets/controls"
          }
        },
        "e9fdb54fd33741f09141946f6dd4b65c": {
          "model_module": "@jupyter-widgets/base",
          "model_name": "LayoutModel",
          "model_module_version": "1.2.0",
          "state": {
            "_view_name": "LayoutView",
            "grid_template_rows": null,
            "right": null,
            "justify_content": null,
            "_view_module": "@jupyter-widgets/base",
            "overflow": null,
            "_model_module_version": "1.2.0",
            "_view_count": null,
            "flex_flow": null,
            "width": null,
            "min_width": null,
            "border": null,
            "align_items": null,
            "bottom": null,
            "_model_module": "@jupyter-widgets/base",
            "top": null,
            "grid_column": null,
            "overflow_y": null,
            "overflow_x": null,
            "grid_auto_flow": null,
            "grid_area": null,
            "grid_template_columns": null,
            "flex": null,
            "_model_name": "LayoutModel",
            "justify_items": null,
            "grid_row": null,
            "max_height": null,
            "align_content": null,
            "visibility": null,
            "align_self": null,
            "height": null,
            "min_height": null,
            "padding": null,
            "grid_auto_rows": null,
            "grid_gap": null,
            "max_width": null,
            "order": null,
            "_view_module_version": "1.2.0",
            "grid_template_areas": null,
            "object_position": null,
            "object_fit": null,
            "grid_auto_columns": null,
            "margin": null,
            "display": null,
            "left": null
          }
        }
      }
    },
    "accelerator": "GPU"
  },
  "cells": [
    {
      "cell_type": "markdown",
      "metadata": {
        "id": "0L6WPiVSdvE7"
      },
      "source": [
        "### **Load Dataset**"
      ]
    },
    {
      "cell_type": "code",
      "metadata": {
        "colab": {
          "base_uri": "https://localhost:8080/"
        },
        "id": "h2KZJg9RapEc",
        "outputId": "945825f1-7957-4caf-e7b9-0295d6cfa475"
      },
      "source": [
        "from google.colab import drive\n",
        "drive.mount('/content/drive')"
      ],
      "execution_count": null,
      "outputs": [
        {
          "output_type": "stream",
          "name": "stdout",
          "text": [
            "Mounted at /content/drive\n"
          ]
        }
      ]
    },
    {
      "cell_type": "code",
      "metadata": {
        "id": "QUuJcHTkVWEE"
      },
      "source": [
        "import pandas as pd\n",
        "# from sklearn.utils import shuffle"
      ],
      "execution_count": null,
      "outputs": []
    },
    {
      "cell_type": "code",
      "metadata": {
        "id": "z2QItpocqPKK"
      },
      "source": [
        "train_path = '/content/drive/MyDrive/Datasets/SST-2/train.tsv' # training set\n",
        "dev_path = '/content/drive/MyDrive/Datasets/SST-2/dev.tsv' # dev set"
      ],
      "execution_count": null,
      "outputs": []
    },
    {
      "cell_type": "code",
      "metadata": {
        "id": "TkKat2wDaUvN"
      },
      "source": [
        "# reading file\n",
        "train_df = pd.read_csv(train_path, sep='\\t')\n",
        "dev_df = pd.read_csv(dev_path, sep='\\t')\n",
        "# data = shuffle(pd.read_csv(filepath, encoding='latin1'))\n",
        "# data = data.reset_index(drop=True)"
      ],
      "execution_count": null,
      "outputs": []
    },
    {
      "cell_type": "code",
      "metadata": {
        "colab": {
          "base_uri": "https://localhost:8080/"
        },
        "id": "F3wkkP40Ohec",
        "outputId": "fe369040-20ef-431c-820c-e46f2d9151c1"
      },
      "source": [
        "train_df.shape, dev_df.shape"
      ],
      "execution_count": null,
      "outputs": [
        {
          "output_type": "execute_result",
          "data": {
            "text/plain": [
              "((67349, 2), (872, 2))"
            ]
          },
          "metadata": {},
          "execution_count": 22
        }
      ]
    },
    {
      "cell_type": "code",
      "metadata": {
        "colab": {
          "base_uri": "https://localhost:8080/",
          "height": 206
        },
        "id": "sLU8KqElqcxF",
        "outputId": "3ec8c57b-e232-42b6-8e56-3855019a5d38"
      },
      "source": [
        "train_df.head()"
      ],
      "execution_count": null,
      "outputs": [
        {
          "output_type": "execute_result",
          "data": {
            "text/html": [
              "<div>\n",
              "<style scoped>\n",
              "    .dataframe tbody tr th:only-of-type {\n",
              "        vertical-align: middle;\n",
              "    }\n",
              "\n",
              "    .dataframe tbody tr th {\n",
              "        vertical-align: top;\n",
              "    }\n",
              "\n",
              "    .dataframe thead th {\n",
              "        text-align: right;\n",
              "    }\n",
              "</style>\n",
              "<table border=\"1\" class=\"dataframe\">\n",
              "  <thead>\n",
              "    <tr style=\"text-align: right;\">\n",
              "      <th></th>\n",
              "      <th>sentence</th>\n",
              "      <th>label</th>\n",
              "    </tr>\n",
              "  </thead>\n",
              "  <tbody>\n",
              "    <tr>\n",
              "      <th>0</th>\n",
              "      <td>hide new secretions from the parental units</td>\n",
              "      <td>0</td>\n",
              "    </tr>\n",
              "    <tr>\n",
              "      <th>1</th>\n",
              "      <td>contains no wit , only labored gags</td>\n",
              "      <td>0</td>\n",
              "    </tr>\n",
              "    <tr>\n",
              "      <th>2</th>\n",
              "      <td>that loves its characters and communicates som...</td>\n",
              "      <td>1</td>\n",
              "    </tr>\n",
              "    <tr>\n",
              "      <th>3</th>\n",
              "      <td>remains utterly satisfied to remain the same t...</td>\n",
              "      <td>0</td>\n",
              "    </tr>\n",
              "    <tr>\n",
              "      <th>4</th>\n",
              "      <td>on the worst revenge-of-the-nerds clichés the ...</td>\n",
              "      <td>0</td>\n",
              "    </tr>\n",
              "  </tbody>\n",
              "</table>\n",
              "</div>"
            ],
            "text/plain": [
              "                                            sentence  label\n",
              "0       hide new secretions from the parental units       0\n",
              "1               contains no wit , only labored gags       0\n",
              "2  that loves its characters and communicates som...      1\n",
              "3  remains utterly satisfied to remain the same t...      0\n",
              "4  on the worst revenge-of-the-nerds clichés the ...      0"
            ]
          },
          "metadata": {},
          "execution_count": 23
        }
      ]
    },
    {
      "cell_type": "code",
      "metadata": {
        "colab": {
          "base_uri": "https://localhost:8080/",
          "height": 206
        },
        "id": "3kqbWU03fXoN",
        "outputId": "908f5e02-2679-413e-84be-e2e3345ae9ff"
      },
      "source": [
        "dev_df.head()"
      ],
      "execution_count": null,
      "outputs": [
        {
          "output_type": "execute_result",
          "data": {
            "text/html": [
              "<div>\n",
              "<style scoped>\n",
              "    .dataframe tbody tr th:only-of-type {\n",
              "        vertical-align: middle;\n",
              "    }\n",
              "\n",
              "    .dataframe tbody tr th {\n",
              "        vertical-align: top;\n",
              "    }\n",
              "\n",
              "    .dataframe thead th {\n",
              "        text-align: right;\n",
              "    }\n",
              "</style>\n",
              "<table border=\"1\" class=\"dataframe\">\n",
              "  <thead>\n",
              "    <tr style=\"text-align: right;\">\n",
              "      <th></th>\n",
              "      <th>sentence</th>\n",
              "      <th>label</th>\n",
              "    </tr>\n",
              "  </thead>\n",
              "  <tbody>\n",
              "    <tr>\n",
              "      <th>0</th>\n",
              "      <td>it 's a charming and often affecting journey .</td>\n",
              "      <td>1</td>\n",
              "    </tr>\n",
              "    <tr>\n",
              "      <th>1</th>\n",
              "      <td>unflinchingly bleak and desperate</td>\n",
              "      <td>0</td>\n",
              "    </tr>\n",
              "    <tr>\n",
              "      <th>2</th>\n",
              "      <td>allows us to hope that nolan is poised to emba...</td>\n",
              "      <td>1</td>\n",
              "    </tr>\n",
              "    <tr>\n",
              "      <th>3</th>\n",
              "      <td>the acting , costumes , music , cinematography...</td>\n",
              "      <td>1</td>\n",
              "    </tr>\n",
              "    <tr>\n",
              "      <th>4</th>\n",
              "      <td>it 's slow -- very , very slow .</td>\n",
              "      <td>0</td>\n",
              "    </tr>\n",
              "  </tbody>\n",
              "</table>\n",
              "</div>"
            ],
            "text/plain": [
              "                                            sentence  label\n",
              "0    it 's a charming and often affecting journey .       1\n",
              "1                 unflinchingly bleak and desperate       0\n",
              "2  allows us to hope that nolan is poised to emba...      1\n",
              "3  the acting , costumes , music , cinematography...      1\n",
              "4                  it 's slow -- very , very slow .       0"
            ]
          },
          "metadata": {},
          "execution_count": 24
        }
      ]
    },
    {
      "cell_type": "code",
      "metadata": {
        "colab": {
          "base_uri": "https://localhost:8080/"
        },
        "id": "ilIxiZcrhn5q",
        "outputId": "b3c81809-28fc-41d3-af32-410661e9b2c6"
      },
      "source": [
        "dev_df['label'].value_counts()"
      ],
      "execution_count": null,
      "outputs": [
        {
          "output_type": "execute_result",
          "data": {
            "text/plain": [
              "1    444\n",
              "0    428\n",
              "Name: label, dtype: int64"
            ]
          },
          "metadata": {},
          "execution_count": 25
        }
      ]
    },
    {
      "cell_type": "code",
      "metadata": {
        "colab": {
          "base_uri": "https://localhost:8080/"
        },
        "id": "cZUv3LKJqeUp",
        "outputId": "1cdcc0df-3b63-48f2-e0b6-e23700e817dd"
      },
      "source": [
        "train_df['label'].value_counts()"
      ],
      "execution_count": null,
      "outputs": [
        {
          "output_type": "execute_result",
          "data": {
            "text/plain": [
              "1    37569\n",
              "0    29780\n",
              "Name: label, dtype: int64"
            ]
          },
          "metadata": {},
          "execution_count": 26
        }
      ]
    },
    {
      "cell_type": "code",
      "metadata": {
        "id": "VCUSQcyZu36p"
      },
      "source": [
        "from sklearn.preprocessing import LabelBinarizer\n",
        "labelBinary = LabelBinarizer()\n",
        " \n",
        "labels = labelBinary.fit_transform(train_df['label'])\n",
        "text = train_df['sentence']\n",
        "# import numpy as np\n",
        "# val = [\n",
        "#        [0, 0, 1],\n",
        "#        [1, 0, 0]\n",
        "# ]\n",
        " \n",
        "# lb.inverse_transform(np.asarray(val))"
      ],
      "execution_count": null,
      "outputs": []
    },
    {
      "cell_type": "code",
      "metadata": {
        "colab": {
          "base_uri": "https://localhost:8080/"
        },
        "id": "tRwDRSl41w6a",
        "outputId": "b5ce9695-55f6-45ca-ea7c-206bc3ad6456"
      },
      "source": [
        "labelBinary.classes_"
      ],
      "execution_count": null,
      "outputs": [
        {
          "output_type": "execute_result",
          "data": {
            "text/plain": [
              "array([0, 1])"
            ]
          },
          "metadata": {},
          "execution_count": 8
        }
      ]
    },
    {
      "cell_type": "code",
      "metadata": {
        "colab": {
          "base_uri": "https://localhost:8080/"
        },
        "id": "cllbu6RR4yZu",
        "outputId": "92dc1a4a-c689-4011-f730-84de64683a0a"
      },
      "source": [
        "labels"
      ],
      "execution_count": null,
      "outputs": [
        {
          "output_type": "execute_result",
          "data": {
            "text/plain": [
              "array([[0],\n",
              "       [0],\n",
              "       [1],\n",
              "       ...,\n",
              "       [1],\n",
              "       [1],\n",
              "       [0]])"
            ]
          },
          "metadata": {},
          "execution_count": 9
        }
      ]
    },
    {
      "cell_type": "code",
      "metadata": {
        "id": "lZ1xy7Jf1ywE"
      },
      "source": [
        "import pickle\n",
        "\n",
        "labelpath = '/content/drive/MyDrive/SST-2/label.pkl'\n",
        "with open(labelpath, 'wb') as handle:\n",
        "    pickle.dump(labelBinary, handle, protocol=pickle.HIGHEST_PROTOCOL)"
      ],
      "execution_count": null,
      "outputs": []
    },
    {
      "cell_type": "code",
      "metadata": {
        "colab": {
          "base_uri": "https://localhost:8080/"
        },
        "id": "CvhMIxSK11Bd",
        "outputId": "b3c9e929-f0a6-4824-f404-fb0dfd82657a"
      },
      "source": [
        "print(labels.shape, text.shape)"
      ],
      "execution_count": null,
      "outputs": [
        {
          "output_type": "stream",
          "name": "stdout",
          "text": [
            "(67349, 1) (67349,)\n"
          ]
        }
      ]
    },
    {
      "cell_type": "markdown",
      "metadata": {
        "id": "bWRbhw8qOljk"
      },
      "source": [
        "### **Download & Load Word Vectors for Embedding (Glove)**"
      ]
    },
    {
      "cell_type": "markdown",
      "metadata": {
        "id": "mQQh-7I_McGj"
      },
      "source": [
        "* *Download and extract word vectors Glove*"
      ]
    },
    {
      "cell_type": "code",
      "metadata": {
        "id": "-jo10NRyMTmG"
      },
      "source": [
        "%%time\n",
        "\n",
        "import zipfile\n",
        "!wget http://nlp.stanford.edu/data/glove.840B.300d.zip\n",
        "zip_file = zipfile.ZipFile('glove.840B.300d.zip')\n",
        "zip_file.extractall()"
      ],
      "execution_count": null,
      "outputs": []
    },
    {
      "cell_type": "markdown",
      "metadata": {
        "id": "TGHB3FeGOSiG"
      },
      "source": [
        "* *Load Word vectors in memory*"
      ]
    },
    {
      "cell_type": "code",
      "metadata": {
        "colab": {
          "base_uri": "https://localhost:8080/",
          "height": 115,
          "referenced_widgets": [
            "bef8d2b762e14fc4a9577e2d336c452f",
            "ee7d6b3d09dc4eb4bbdfe05575f231f5",
            "daa0a46fbf614fd693a1957cec15f6a1",
            "c8874cc928664c59894daf40735eaed2",
            "8141335504744273aa510e4b0a26d722",
            "d24985f0e36648de934ba0fcfd932571",
            "ab4bc94e0a07407f9392387057cbbc90",
            "b1c0216bc0b742f99bee2c7d226ab973",
            "6cbdf39357ac4028a1df17b607edc9a8",
            "1e3897b75bdf4996ba932f820ecff6e0",
            "0acd6c44c6b845fab98ee479e646bdc4",
            "6ac1d34bf7574cbbbdcc1efae0b1fcd9",
            "3d1057fcf0ac4fb89a32fd26250652bc",
            "38d0b392380b46b3a825d5aaeb243797",
            "9dff82d36fe9455e8c01ca764d231619",
            "b198002049e84c30ac31ceea4c6ce9f3",
            "6904912cb8644ca89aabb04618c2958c",
            "630a263f283c435fb0afca5a301b1eb7",
            "530a91b2b4dc4b3f9188921aef2090bc",
            "ee4241283f734d5d8400fb112ca7db16",
            "0c28100a95f0441597d5cc74fcaa6686",
            "59b8a1577b574ef9ae243f882a3c610b"
          ]
        },
        "id": "49DV0K0HMit7",
        "outputId": "9e27b32b-a332-4413-e6be-b4185c92926e"
      },
      "source": [
        "%%time\n",
        "\n",
        "from tqdm.notebook import tqdm\n",
        "import numpy as np \n",
        " \n",
        "def get_coefs(word, *arr):\n",
        "    try:\n",
        "        return word, np.asarray(arr, dtype='float32')\n",
        "    except:\n",
        "        return None, None\n",
        "\n",
        "embedding_path = '/content/drive/MyDrive/glove.840B.300d.txt'\n",
        "embeddings_index = dict(get_coefs(*o.strip().split()) for o in tqdm(open(\n",
        "    embedding_path)))\n",
        " \n",
        "embed_size=300\n",
        " \n",
        "for k in tqdm(list(embeddings_index.keys())):\n",
        "    v = embeddings_index[k]\n",
        "    try:\n",
        "        if v.shape != (embed_size, ):\n",
        "            embeddings_index.pop(k)\n",
        "    except:\n",
        "        pass\n",
        " \n",
        "if None in embeddings_index:\n",
        "  embeddings_index.pop(None)\n",
        "  \n",
        "values = list(embeddings_index.values())\n",
        "all_embs = np.stack(values)\n",
        " \n",
        "emb_mean, emb_std = all_embs.mean(), all_embs.std()"
      ],
      "execution_count": null,
      "outputs": [
        {
          "output_type": "display_data",
          "data": {
            "application/vnd.jupyter.widget-view+json": {
              "model_id": "bef8d2b762e14fc4a9577e2d336c452f",
              "version_minor": 0,
              "version_major": 2
            },
            "text/plain": [
              "0it [00:00, ?it/s]"
            ]
          },
          "metadata": {}
        },
        {
          "output_type": "display_data",
          "data": {
            "application/vnd.jupyter.widget-view+json": {
              "model_id": "6ac1d34bf7574cbbbdcc1efae0b1fcd9",
              "version_minor": 0,
              "version_major": 2
            },
            "text/plain": [
              "  0%|          | 0/2195885 [00:00<?, ?it/s]"
            ]
          },
          "metadata": {}
        },
        {
          "output_type": "stream",
          "name": "stdout",
          "text": [
            "CPU times: user 3min 13s, sys: 15.6 s, total: 3min 28s\n",
            "Wall time: 3min 38s\n"
          ]
        }
      ]
    },
    {
      "cell_type": "markdown",
      "metadata": {
        "id": "3lIexLVw5klJ"
      },
      "source": [
        "### **Tokenizing the Dataset using keras**\n",
        "\n"
      ]
    },
    {
      "cell_type": "markdown",
      "metadata": {
        "id": "dtipf4Ad5ebS"
      },
      "source": [
        "* *Read the train and test file from directory and split the train dataset in train test split*"
      ]
    },
    {
      "cell_type": "code",
      "metadata": {
        "id": "uVgNOXuSr-nR"
      },
      "source": [
        "import tensorflow"
      ],
      "execution_count": null,
      "outputs": []
    },
    {
      "cell_type": "code",
      "metadata": {
        "id": "-msqkEAe56GW"
      },
      "source": [
        "from tensorflow.keras.preprocessing.text import Tokenizer\n",
        "from tensorflow.keras.preprocessing.text import text_to_word_sequence\n",
        "from tensorflow.keras.preprocessing.sequence import pad_sequences\n",
        " \n",
        " \n",
        "from tensorflow.keras.models import Model\n",
        "from tensorflow.keras.models import Sequential\n",
        " \n",
        "from tensorflow.keras.layers import Input, Dense, Embedding, Conv1D, Conv2D, MaxPooling1D, MaxPool2D\n",
        "from tensorflow.keras.layers import Reshape, Flatten, Dropout, Concatenate\n",
        "from tensorflow.keras.layers import SpatialDropout1D, concatenate\n",
        "from tensorflow.keras.layers import GRU, Bidirectional, GlobalAveragePooling1D, GlobalMaxPooling1D\n",
        "from tensorflow.keras.layers import TimeDistributed\n",
        " \n",
        "from tensorflow.keras.callbacks import Callback\n",
        "from tensorflow.keras.optimizers import Adam\n",
        " \n",
        "from tensorflow.keras.callbacks import ModelCheckpoint, EarlyStopping"
      ],
      "execution_count": null,
      "outputs": []
    },
    {
      "cell_type": "markdown",
      "metadata": {
        "id": "IyhQy2whXgmK"
      },
      "source": [
        "#### **Save Keras Tokenizer**"
      ]
    },
    {
      "cell_type": "code",
      "metadata": {
        "colab": {
          "base_uri": "https://localhost:8080/"
        },
        "id": "4Fg0FozOvNms",
        "outputId": "24b48c57-e091-4ea0-dc44-00493e2567e7"
      },
      "source": [
        "text.map(len).max()"
      ],
      "execution_count": null,
      "outputs": [
        {
          "output_type": "execute_result",
          "data": {
            "text/plain": [
              "268"
            ]
          },
          "metadata": {},
          "execution_count": 16
        }
      ]
    },
    {
      "cell_type": "code",
      "metadata": {
        "colab": {
          "base_uri": "https://localhost:8080/"
        },
        "id": "lFJhazYhtB7B",
        "outputId": "9de206e0-37d1-4495-f01e-3ca86086941c"
      },
      "source": [
        "%%time\n",
        "MAX_NB_WORDS = 10000\n",
        "# tokenizer = Tokenizer(num_words=MAX_NB_WORDS)\n",
        "tokenizer = Tokenizer(num_words=MAX_NB_WORDS)\n",
        "tokenizer.fit_on_texts(text)"
      ],
      "execution_count": null,
      "outputs": [
        {
          "output_type": "stream",
          "name": "stdout",
          "text": [
            "CPU times: user 1.05 s, sys: 8.73 ms, total: 1.06 s\n",
            "Wall time: 1.06 s\n"
          ]
        }
      ]
    },
    {
      "cell_type": "code",
      "metadata": {
        "colab": {
          "base_uri": "https://localhost:8080/"
        },
        "id": "CwwezOjS9A67",
        "outputId": "2bdd5f9b-9023-4051-daa5-07efaa3db2f3"
      },
      "source": [
        "%%time\n",
        "train_sequences = tokenizer.texts_to_sequences(text)"
      ],
      "execution_count": null,
      "outputs": [
        {
          "output_type": "stream",
          "name": "stdout",
          "text": [
            "CPU times: user 1.01 s, sys: 14.6 ms, total: 1.02 s\n",
            "Wall time: 1.02 s\n"
          ]
        }
      ]
    },
    {
      "cell_type": "code",
      "metadata": {
        "colab": {
          "base_uri": "https://localhost:8080/"
        },
        "id": "9r4OI_naXdx1",
        "outputId": "66a7cd8c-3d42-43ea-97fc-fbadb678c2a9"
      },
      "source": [
        "train_sequences[:3]"
      ],
      "execution_count": null,
      "outputs": [
        {
          "output_type": "execute_result",
          "data": {
            "text/plain": [
              "[[4568, 87, 31, 1, 7156, 8691],\n",
              " [3000, 52, 327, 83, 2055, 571],\n",
              " [8, 1855, 16, 50, 3, 6013, 92, 182, 263, 32, 172, 630]]"
            ]
          },
          "metadata": {},
          "execution_count": 19
        }
      ]
    },
    {
      "cell_type": "code",
      "metadata": {
        "colab": {
          "base_uri": "https://localhost:8080/"
        },
        "id": "mnRau9Vzz89W",
        "outputId": "48252c83-6c22-4c77-96b7-05b3e6b0eb14"
      },
      "source": [
        "print(text[0], train_sequences[0])"
      ],
      "execution_count": null,
      "outputs": [
        {
          "output_type": "stream",
          "name": "stdout",
          "text": [
            "hide new secretions from the parental units  [4568, 87, 31, 1, 7156, 8691]\n"
          ]
        }
      ]
    },
    {
      "cell_type": "code",
      "metadata": {
        "id": "nOx4Up9Pi7N2"
      },
      "source": [
        "def FindMaxLength(lst): \n",
        "    maxList = max(lst, key = lambda i: len(i)) \n",
        "    maxLength = len(maxList) \n",
        "    return maxLength\n",
        "\n",
        "MAX_LENGTH = FindMaxLength(train_sequences)"
      ],
      "execution_count": null,
      "outputs": []
    },
    {
      "cell_type": "code",
      "metadata": {
        "colab": {
          "base_uri": "https://localhost:8080/"
        },
        "id": "S4jdN62foenP",
        "outputId": "ef078593-7625-4580-91c8-04e5a4f8c3eb"
      },
      "source": [
        "print(MAX_LENGTH)"
      ],
      "execution_count": null,
      "outputs": [
        {
          "output_type": "stream",
          "name": "stdout",
          "text": [
            "49\n"
          ]
        }
      ]
    },
    {
      "cell_type": "markdown",
      "metadata": {
        "id": "R9DSBV4f9IoR"
      },
      "source": [
        "* Now the Sentences are mapped to lists of integers. However, we still cannot stack them together in a matrix since they have different lengths.\n",
        "Hopefully Keras allows to **pad** sequences with **0s** to a maximum length. We'll set this length to 425."
      ]
    },
    {
      "cell_type": "code",
      "metadata": {
        "colab": {
          "base_uri": "https://localhost:8080/"
        },
        "id": "h3EKPUNe9Ecm",
        "outputId": "d1a86049-8dd8-4fc4-bccc-b51fa483043b"
      },
      "source": [
        "%%time\n",
        "padded_train_sequences = pad_sequences(train_sequences, maxlen=MAX_LENGTH)"
      ],
      "execution_count": null,
      "outputs": [
        {
          "output_type": "stream",
          "name": "stdout",
          "text": [
            "CPU times: user 326 ms, sys: 6.22 ms, total: 332 ms\n",
            "Wall time: 330 ms\n"
          ]
        }
      ]
    },
    {
      "cell_type": "code",
      "metadata": {
        "colab": {
          "base_uri": "https://localhost:8080/"
        },
        "id": "WaDSp1ZE-Jpk",
        "outputId": "98c156d1-8d17-4c17-911c-4ca12fc113c7"
      },
      "source": [
        "%%time\n",
        "padded_train_sequences"
      ],
      "execution_count": null,
      "outputs": [
        {
          "output_type": "stream",
          "name": "stdout",
          "text": [
            "CPU times: user 4 µs, sys: 1e+03 ns, total: 5 µs\n",
            "Wall time: 8.34 µs\n"
          ]
        },
        {
          "output_type": "execute_result",
          "data": {
            "text/plain": [
              "array([[   0,    0,    0, ...,    1, 7156, 8691],\n",
              "       [   0,    0,    0, ...,   83, 2055,  571],\n",
              "       [   0,    0,    0, ...,   32,  172,  630],\n",
              "       ...,\n",
              "       [   0,    0,    0, ...,  842,   15,  198],\n",
              "       [   0,    0,    0, ...,    2, 3580,  511],\n",
              "       [   0,    0,    0, ...,   15,    1,  397]], dtype=int32)"
            ]
          },
          "metadata": {},
          "execution_count": 24
        }
      ]
    },
    {
      "cell_type": "code",
      "metadata": {
        "colab": {
          "base_uri": "https://localhost:8080/"
        },
        "id": "MR5FrUKX-R08",
        "outputId": "9c9b6c58-05ab-4697-f662-9c70d78bd1c0"
      },
      "source": [
        "%%time\n",
        "padded_train_sequences.shape"
      ],
      "execution_count": null,
      "outputs": [
        {
          "output_type": "stream",
          "name": "stdout",
          "text": [
            "CPU times: user 6 µs, sys: 0 ns, total: 6 µs\n",
            "Wall time: 9.06 µs\n"
          ]
        },
        {
          "output_type": "execute_result",
          "data": {
            "text/plain": [
              "(67349, 49)"
            ]
          },
          "metadata": {},
          "execution_count": 25
        }
      ]
    },
    {
      "cell_type": "code",
      "metadata": {
        "id": "4OjGiot5UdGn"
      },
      "source": [
        "import pickle\n",
        " \n",
        "with open('/content/drive/MyDrive/SST-2/token-49.pkl', 'wb') as handle:\n",
        "    pickle.dump(tokenizer, handle, protocol=pickle.HIGHEST_PROTOCOL)"
      ],
      "execution_count": null,
      "outputs": []
    },
    {
      "cell_type": "markdown",
      "metadata": {
        "id": "EtZlVLSEsxRT"
      },
      "source": [
        "#### **Use Saved keras tokenizer**"
      ]
    },
    {
      "cell_type": "code",
      "metadata": {
        "id": "bXhRRXKd3o4z"
      },
      "source": [
        "import pickle\n",
        "cat_token = '/content/drive/MyDrive/SST-2/token-49.pkl'\n",
        "with open(cat_token, 'rb') as handle:\n",
        "    load_token = pickle.load(handle)"
      ],
      "execution_count": null,
      "outputs": []
    },
    {
      "cell_type": "code",
      "metadata": {
        "colab": {
          "base_uri": "https://localhost:8080/",
          "height": 35
        },
        "id": "rDM3udJkW2hw",
        "outputId": "c0757f2f-e309-49f3-b235-f307ca7ec929"
      },
      "source": [
        "text[2]"
      ],
      "execution_count": null,
      "outputs": [
        {
          "output_type": "execute_result",
          "data": {
            "application/vnd.google.colaboratory.intrinsic+json": {
              "type": "string"
            },
            "text/plain": [
              "'that loves its characters and communicates something rather beautiful about human nature '"
            ]
          },
          "metadata": {},
          "execution_count": 28
        }
      ]
    },
    {
      "cell_type": "code",
      "metadata": {
        "id": "SD7R7zUW5Fsw"
      },
      "source": [
        "MAX_LENGTH = 49\n",
        "train_sequences = load_token.texts_to_sequences(text)\n",
        "padded_train_sequences = pad_sequences(train_sequences, maxlen=MAX_LENGTH)"
      ],
      "execution_count": null,
      "outputs": []
    },
    {
      "cell_type": "code",
      "metadata": {
        "colab": {
          "base_uri": "https://localhost:8080/"
        },
        "id": "6sbk6cclMS7I",
        "outputId": "dd7d32db-53f4-4469-9c1b-7c6422a0f884"
      },
      "source": [
        "padded_train_sequences.shape"
      ],
      "execution_count": null,
      "outputs": [
        {
          "output_type": "execute_result",
          "data": {
            "text/plain": [
              "(67349, 49)"
            ]
          },
          "metadata": {},
          "execution_count": 30
        }
      ]
    },
    {
      "cell_type": "markdown",
      "metadata": {
        "id": "utRC5pB8_AJw"
      },
      "source": [
        "### **Training Model using Glove Embedding while using RNN & CNN**"
      ]
    },
    {
      "cell_type": "code",
      "metadata": {
        "colab": {
          "base_uri": "https://localhost:8080/",
          "height": 101,
          "referenced_widgets": [
            "a804ab336889480cb0bccbbe65a46b85",
            "f077c044ff3a435d93cdd5a5445b3ede",
            "e351978041a046878f4ce03988c77a31",
            "905c9157d0a5483ea6d11702349f5f1f",
            "519b6ffcb64446a6b8c4b96d1846d2c1",
            "b5c2cbcc2270401e8c796b19df58069c",
            "44f806201f3e486b8506428179369ba6",
            "2d5f0af0e2e14cb7b677814e908ca076",
            "ea024fad49aa4981899180f36b00c188",
            "ff8f1511e7884332b2667c4201aedda7",
            "e9fdb54fd33741f09141946f6dd4b65c"
          ]
        },
        "id": "FkkFCyOX5klK",
        "outputId": "8fbc298d-e261-4c45-cdb4-139177e85a3a"
      },
      "source": [
        "%%time\n",
        "# MAX_NB_WORDS = 2600\n",
        "word_index = load_token.word_index\n",
        "nb_words = MAX_NB_WORDS\n",
        "embedding_matrix = np.random.normal(emb_mean, emb_std, (nb_words, embed_size))\n",
        " \n",
        "oov = 0\n",
        "for word, i in tqdm(word_index.items()):\n",
        "    if i >= MAX_NB_WORDS: continue\n",
        "    embedding_vector = embeddings_index.get(word)\n",
        "    if embedding_vector is not None:\n",
        "        embedding_matrix[i] = embedding_vector\n",
        "    else:\n",
        "        oov += 1\n",
        " \n",
        "print(oov)"
      ],
      "execution_count": null,
      "outputs": [
        {
          "output_type": "display_data",
          "data": {
            "application/vnd.jupyter.widget-view+json": {
              "model_id": "a804ab336889480cb0bccbbe65a46b85",
              "version_minor": 0,
              "version_major": 2
            },
            "text/plain": [
              "  0%|          | 0/13822 [00:00<?, ?it/s]"
            ]
          },
          "metadata": {}
        },
        {
          "output_type": "stream",
          "name": "stdout",
          "text": [
            "146\n",
            "CPU times: user 230 ms, sys: 6.92 ms, total: 237 ms\n",
            "Wall time: 249 ms\n"
          ]
        }
      ]
    },
    {
      "cell_type": "markdown",
      "metadata": {
        "id": "iZVvISMGRefj"
      },
      "source": [
        "* Loading the Layers and Embedding"
      ]
    },
    {
      "cell_type": "code",
      "metadata": {
        "colab": {
          "base_uri": "https://localhost:8080/"
        },
        "id": "G5fFz2FfSKxV",
        "outputId": "8b218017-b3f0-4222-c968-0d6539ec3d15"
      },
      "source": [
        "len(labels[0])"
      ],
      "execution_count": null,
      "outputs": [
        {
          "output_type": "execute_result",
          "data": {
            "text/plain": [
              "1"
            ]
          },
          "metadata": {},
          "execution_count": 32
        }
      ]
    },
    {
      "cell_type": "code",
      "metadata": {
        "colab": {
          "base_uri": "https://localhost:8080/"
        },
        "id": "tMqOB8RSNAW2",
        "outputId": "908caab9-92b5-47ef-a21d-38755c82d45f"
      },
      "source": [
        "labels"
      ],
      "execution_count": null,
      "outputs": [
        {
          "output_type": "execute_result",
          "data": {
            "text/plain": [
              "array([[0],\n",
              "       [0],\n",
              "       [1],\n",
              "       ...,\n",
              "       [1],\n",
              "       [1],\n",
              "       [0]])"
            ]
          },
          "metadata": {},
          "execution_count": 33
        }
      ]
    },
    {
      "cell_type": "code",
      "metadata": {
        "id": "u8XYuXWtwHh0"
      },
      "source": [
        "LABEL_VALUES = labels\n",
        "LABEL_LEN = len(labels[0])\n",
        "# MAX_LENGTH = 1155\n",
        "# MAX_NB_WORDS = 1170"
      ],
      "execution_count": null,
      "outputs": []
    },
    {
      "cell_type": "code",
      "metadata": {
        "colab": {
          "base_uri": "https://localhost:8080/"
        },
        "id": "2zDAcVPi_L-i",
        "outputId": "d8362479-104f-4ba6-eb70-a84a496493c7"
      },
      "source": [
        "%%time\n",
        "from tensorflow.keras.regularizers import l2\n",
        "\n",
        "def get_rnn_cnn_model():\n",
        "    embedding_dim = 300\n",
        "    inp = Input(shape=(MAX_LENGTH, ))\n",
        "    x = Embedding(MAX_NB_WORDS, embedding_dim, weights=[embedding_matrix], input_length=MAX_LENGTH, trainable=True)(inp)\n",
        "    x = SpatialDropout1D(0.3)(x)\n",
        "    x = Bidirectional(GRU(100, return_sequences=True))(x)\n",
        "    # x = Conv1D(64, kernel_size = 2, padding = \"valid\", kernel_initializer = \"he_uniform\")(x)\n",
        "    x = Conv1D(64, kernel_size = 2, padding = \"valid\", kernel_regularizer=l2(0.0005))(x)\n",
        "    avg_pool = GlobalAveragePooling1D()(x)\n",
        "    max_pool = GlobalMaxPooling1D()(x)\n",
        "    conc = concatenate([avg_pool, max_pool])\n",
        "    outp = Dense(LABEL_LEN, activation=\"sigmoid\")(conc)\n",
        "    model = Model(inputs=inp, outputs=outp)\n",
        "    model.compile(loss='binary_crossentropy',\n",
        "                  optimizer='adam',\n",
        "                  metrics=['accuracy'])\n",
        "    return model\n",
        "\n",
        "rnn_cnn_model = get_rnn_cnn_model()"
      ],
      "execution_count": null,
      "outputs": [
        {
          "output_type": "stream",
          "name": "stdout",
          "text": [
            "CPU times: user 1.29 s, sys: 2.94 s, total: 4.22 s\n",
            "Wall time: 6.16 s\n"
          ]
        }
      ]
    },
    {
      "cell_type": "markdown",
      "metadata": {
        "id": "2xFD0l39RjPH"
      },
      "source": [
        "* **Training and Saving the Model**"
      ]
    },
    {
      "cell_type": "markdown",
      "metadata": {
        "id": "AsJBEk3_SYQs"
      },
      "source": [
        "* *change mode to min if we are going to monitor the loss*\n",
        "* *If we don't want to use validation data for whatever be the reason and implement check pointing, we have to change the ModelCheckpoint to work based on monitor='acc'*\n",
        "* We have to fit validation data like this validation_data=(X_valid, y_valid),"
      ]
    },
    {
      "cell_type": "code",
      "metadata": {
        "id": "2cAUshD_DvaW"
      },
      "source": [
        "filepath = '/content/drive/MyDrive/SST-2/model.h5'\n",
        "checkpoint = ModelCheckpoint(filepath,\n",
        "                             monitor='val_accuracy',\n",
        "                             verbose=1,\n",
        "                             save_best_only=True,\n",
        "                             mode='max')\n",
        " \n",
        "# batch size factor of 4,8,16,32\n",
        "BATCH_SIZE = 8\n",
        "epochs = 10"
      ],
      "execution_count": null,
      "outputs": []
    },
    {
      "cell_type": "code",
      "metadata": {
        "colab": {
          "base_uri": "https://localhost:8080/"
        },
        "id": "GdWRHwNMQzv5",
        "outputId": "35426262-55fa-43c4-e84a-5022d9d804f2"
      },
      "source": [
        "history = rnn_cnn_model.fit(padded_train_sequences, \n",
        "                    LABEL_VALUES, \n",
        "                    validation_split = 0.1, #0.1\n",
        "                    # validation_data=(padded_test_sequences, y_test), \n",
        "                    batch_size=BATCH_SIZE, \n",
        "                    callbacks=[checkpoint,\n",
        "                               tensorflow.keras.callbacks.EarlyStopping(\n",
        "                                   monitor='val_accuracy', patience=3)], \n",
        "                    epochs=epochs, \n",
        "                    verbose=1)"
      ],
      "execution_count": null,
      "outputs": [
        {
          "output_type": "stream",
          "name": "stdout",
          "text": [
            "Epoch 1/10\n",
            "7577/7577 [==============================] - ETA: 0s - loss: 0.2932 - accuracy: 0.8832\n",
            "Epoch 00001: val_accuracy improved from -inf to 0.92324, saving model to /content/drive/MyDrive/SST-2/model.h5\n",
            "7577/7577 [==============================] - 254s 32ms/step - loss: 0.2932 - accuracy: 0.8832 - val_loss: 0.2021 - val_accuracy: 0.9232\n",
            "Epoch 2/10\n",
            "7577/7577 [==============================] - ETA: 0s - loss: 0.1696 - accuracy: 0.9359\n",
            "Epoch 00002: val_accuracy improved from 0.92324 to 0.92799, saving model to /content/drive/MyDrive/SST-2/model.h5\n",
            "7577/7577 [==============================] - 239s 31ms/step - loss: 0.1696 - accuracy: 0.9359 - val_loss: 0.1981 - val_accuracy: 0.9280\n",
            "Epoch 3/10\n",
            "7577/7577 [==============================] - ETA: 0s - loss: 0.1331 - accuracy: 0.9507\n",
            "Epoch 00003: val_accuracy improved from 0.92799 to 0.93526, saving model to /content/drive/MyDrive/SST-2/model.h5\n",
            "7577/7577 [==============================] - 239s 32ms/step - loss: 0.1331 - accuracy: 0.9507 - val_loss: 0.1895 - val_accuracy: 0.9353\n",
            "Epoch 4/10\n",
            "7576/7577 [============================>.] - ETA: 0s - loss: 0.1100 - accuracy: 0.9589\n",
            "Epoch 00004: val_accuracy did not improve from 0.93526\n",
            "7577/7577 [==============================] - 239s 32ms/step - loss: 0.1100 - accuracy: 0.9589 - val_loss: 0.1866 - val_accuracy: 0.9351\n",
            "Epoch 5/10\n",
            "7576/7577 [============================>.] - ETA: 0s - loss: 0.0949 - accuracy: 0.9647\n",
            "Epoch 00005: val_accuracy did not improve from 0.93526\n",
            "7577/7577 [==============================] - 239s 32ms/step - loss: 0.0949 - accuracy: 0.9647 - val_loss: 0.1875 - val_accuracy: 0.9332\n",
            "Epoch 6/10\n",
            "7576/7577 [============================>.] - ETA: 0s - loss: 0.0829 - accuracy: 0.9684\n",
            "Epoch 00006: val_accuracy did not improve from 0.93526\n",
            "7577/7577 [==============================] - 240s 32ms/step - loss: 0.0829 - accuracy: 0.9684 - val_loss: 0.2148 - val_accuracy: 0.9329\n"
          ]
        }
      ]
    },
    {
      "cell_type": "markdown",
      "metadata": {
        "id": "YtMmy8Ypqn3V"
      },
      "source": [
        "### **Loading the Tokenizer and Model**"
      ]
    },
    {
      "cell_type": "code",
      "metadata": {
        "id": "3Qa5hvjvL35E"
      },
      "source": [
        "from keras.models import load_model\n",
        "from keras.preprocessing.text import text_to_word_sequence\n",
        "from keras.preprocessing.sequence import pad_sequences\n",
        "import pandas as pd\n",
        "import numpy as np\n",
        "import pickle"
      ],
      "execution_count": null,
      "outputs": []
    },
    {
      "cell_type": "code",
      "metadata": {
        "id": "3VsvdHAzWban"
      },
      "source": [
        "modelPath = '/content/drive/MyDrive/SST-2/model.h5'\n",
        "tokenPath = '/content/drive/MyDrive/SST-2/token-49.pkl'\n",
        "labelPath = '/content/drive/MyDrive/SST-2/label.pkl'"
      ],
      "execution_count": null,
      "outputs": []
    },
    {
      "cell_type": "code",
      "metadata": {
        "id": "4N0-J0WUWRKY"
      },
      "source": [
        "loadModel= load_model(modelPath)\n",
        "\n",
        "with open(tokenPath, 'rb') as handle:\n",
        "    loadToken = pickle.load(handle)\n",
        "\n",
        "with open(labelPath, 'rb') as handle:\n",
        "    loadLabel = pickle.load(handle)\n"
      ],
      "execution_count": null,
      "outputs": []
    },
    {
      "cell_type": "code",
      "metadata": {
        "id": "vxapQRJ1cid_"
      },
      "source": [
        "LABEL = loadLabel.classes_"
      ],
      "execution_count": null,
      "outputs": []
    },
    {
      "cell_type": "code",
      "metadata": {
        "colab": {
          "base_uri": "https://localhost:8080/"
        },
        "id": "zp4s9zsXziaD",
        "outputId": "2b617ea6-3b93-46ea-84d0-c390fefaf49b"
      },
      "source": [
        "LABEL"
      ],
      "execution_count": null,
      "outputs": [
        {
          "output_type": "execute_result",
          "data": {
            "text/plain": [
              "array([0, 1])"
            ]
          },
          "metadata": {},
          "execution_count": 6
        }
      ]
    },
    {
      "cell_type": "markdown",
      "metadata": {
        "id": "YOYMOFbe2qwJ"
      },
      "source": [
        "### **Testing**"
      ]
    },
    {
      "cell_type": "code",
      "metadata": {
        "colab": {
          "base_uri": "https://localhost:8080/",
          "height": 206
        },
        "id": "QOBn3p282piR",
        "outputId": "5866148d-1408-46eb-bddf-17408f5881c5"
      },
      "source": [
        "dev_df.head()"
      ],
      "execution_count": null,
      "outputs": [
        {
          "output_type": "execute_result",
          "data": {
            "text/html": [
              "<div>\n",
              "<style scoped>\n",
              "    .dataframe tbody tr th:only-of-type {\n",
              "        vertical-align: middle;\n",
              "    }\n",
              "\n",
              "    .dataframe tbody tr th {\n",
              "        vertical-align: top;\n",
              "    }\n",
              "\n",
              "    .dataframe thead th {\n",
              "        text-align: right;\n",
              "    }\n",
              "</style>\n",
              "<table border=\"1\" class=\"dataframe\">\n",
              "  <thead>\n",
              "    <tr style=\"text-align: right;\">\n",
              "      <th></th>\n",
              "      <th>sentence</th>\n",
              "      <th>label</th>\n",
              "    </tr>\n",
              "  </thead>\n",
              "  <tbody>\n",
              "    <tr>\n",
              "      <th>0</th>\n",
              "      <td>it 's a charming and often affecting journey .</td>\n",
              "      <td>1</td>\n",
              "    </tr>\n",
              "    <tr>\n",
              "      <th>1</th>\n",
              "      <td>unflinchingly bleak and desperate</td>\n",
              "      <td>0</td>\n",
              "    </tr>\n",
              "    <tr>\n",
              "      <th>2</th>\n",
              "      <td>allows us to hope that nolan is poised to emba...</td>\n",
              "      <td>1</td>\n",
              "    </tr>\n",
              "    <tr>\n",
              "      <th>3</th>\n",
              "      <td>the acting , costumes , music , cinematography...</td>\n",
              "      <td>1</td>\n",
              "    </tr>\n",
              "    <tr>\n",
              "      <th>4</th>\n",
              "      <td>it 's slow -- very , very slow .</td>\n",
              "      <td>0</td>\n",
              "    </tr>\n",
              "  </tbody>\n",
              "</table>\n",
              "</div>"
            ],
            "text/plain": [
              "                                            sentence  label\n",
              "0    it 's a charming and often affecting journey .       1\n",
              "1                 unflinchingly bleak and desperate       0\n",
              "2  allows us to hope that nolan is poised to emba...      1\n",
              "3  the acting , costumes , music , cinematography...      1\n",
              "4                  it 's slow -- very , very slow .       0"
            ]
          },
          "metadata": {},
          "execution_count": 8
        }
      ]
    },
    {
      "cell_type": "code",
      "metadata": {
        "colab": {
          "base_uri": "https://localhost:8080/"
        },
        "id": "1Kc9IxJFKL7S",
        "outputId": "6f2e9de6-f07a-4814-b1ce-2daa5e406a62"
      },
      "source": [
        "dev_df.shape"
      ],
      "execution_count": null,
      "outputs": [
        {
          "output_type": "execute_result",
          "data": {
            "text/plain": [
              "(872, 2)"
            ]
          },
          "metadata": {},
          "execution_count": 16
        }
      ]
    },
    {
      "cell_type": "code",
      "metadata": {
        "id": "Dx7WbumV6812"
      },
      "source": [
        "test_label = dev_df['label'].values"
      ],
      "execution_count": null,
      "outputs": []
    },
    {
      "cell_type": "code",
      "metadata": {
        "id": "ZdI9PgVy3ToO"
      },
      "source": [
        "sentence = dev_df['sentence'].values"
      ],
      "execution_count": null,
      "outputs": []
    },
    {
      "cell_type": "code",
      "metadata": {
        "id": "HM0gwV_W2zyx"
      },
      "source": [
        "# tokenization\n",
        "maxLength = 49\n",
        "test_sequences = loadToken.texts_to_sequences(sentence)\n",
        "padded_test_sequences = pad_sequences(test_sequences, maxlen=maxLength)"
      ],
      "execution_count": null,
      "outputs": []
    },
    {
      "cell_type": "code",
      "metadata": {
        "id": "wG3qll0935gw"
      },
      "source": [
        "# predection\n",
        "pred_ls = loadModel.predict(padded_test_sequences)\n",
        "# print(type(pred_ls))\n",
        "# category = loadLabel.inverse_transform(pred_ls)[0]\n",
        "# score = ('{:.2f}'.format(round(np.max(pred_ls), 2)*100))"
      ],
      "execution_count": null,
      "outputs": []
    },
    {
      "cell_type": "code",
      "metadata": {
        "id": "Y5YQZ8Ty3_h-"
      },
      "source": [
        "result = []\n",
        "for i in pred_ls:\n",
        "    if i > 0.5:\n",
        "        result.append(1)\n",
        "    else:\n",
        "        result.append(0)"
      ],
      "execution_count": null,
      "outputs": []
    },
    {
      "cell_type": "markdown",
      "metadata": {
        "id": "xqnOjfZgRUr9"
      },
      "source": [
        "### **Accuracy, ROC AUC, Confusion Matrix and Classification Report**"
      ]
    },
    {
      "cell_type": "code",
      "metadata": {
        "colab": {
          "base_uri": "https://localhost:8080/",
          "height": 257
        },
        "id": "Oikq3UBWRUsI",
        "outputId": "a51af2c6-6589-4f9b-cdc2-f56dde85df50"
      },
      "source": [
        "from sklearn.metrics import confusion_matrix\n",
        "from sklearn.metrics import classification_report\n",
        "from sklearn.metrics import accuracy_score, roc_auc_score\n",
        "from sklearn.metrics import matthews_corrcoef\n",
        "import seaborn as sns\n",
        "from matplotlib import pyplot as plt\n",
        "%matplotlib inline\n",
        "sns.set(rc={'figure.facecolor':'white'})\n",
        "\n",
        "# input values\n",
        "TEST_LABEL = test_label\n",
        "PREDICTED_LABEL = result\n",
        "labels = LABEL\n",
        "\n",
        "accuracy = accuracy_score(TEST_LABEL, PREDICTED_LABEL)\n",
        "conf_mat = confusion_matrix(TEST_LABEL, PREDICTED_LABEL)\n",
        "fig, ax = plt.subplots(figsize=(5,3))\n",
        "sns.heatmap(conf_mat, annot=True, fmt='d',\n",
        "            xticklabels=labels, yticklabels=labels)\n",
        "plt.ylabel('Actual Label')\n",
        "# plt.xlabel('Predicted Label\\n\\nAccuracy={:0.4f}; ROC AUC={:0.4f}'.format(accuracy, roc_score))\n",
        "plt.xlabel('Predicted Label\\n\\nAccuracy={:0.4f}'.format(accuracy))\n",
        "# plt.savefig('/content/drive/My Drive/Lafarge/Model/Hardware/HardwareModel-Confusion-v1.5.jpg')\n",
        "# plt.savefig('HardwareModel-Confusion-v1.5.jpg')\n",
        "plt.xticks(rotation=90)\n",
        "plt.show()"
      ],
      "execution_count": null,
      "outputs": [
        {
          "output_type": "display_data",
          "data": {
            "image/png": "[encoded data removed]",
            "text/plain": [
              "<Figure size 360x216 with 2 Axes>"
            ]
          },
          "metadata": {}
        }
      ]
    },
    {
      "cell_type": "code",
      "metadata": {
        "id": "SRubAp91VeAE"
      },
      "source": [
        "# with open(saveClass, 'w') as f:\n",
        "# print(classification_report(test_label, result, target_names=LABEL))\n",
        "    # f.write(cap.stdout)"
      ],
      "execution_count": null,
      "outputs": []
    }
  ]
}