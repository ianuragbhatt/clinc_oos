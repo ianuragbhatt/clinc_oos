{
  "nbformat": 4,
  "nbformat_minor": 0,
  "metadata": {
    "colab": {
      "name": "clinc_oos_RNN_CNN_Glove.ipynb",
      "provenance": []
    },
    "kernelspec": {
      "name": "python3",
      "display_name": "Python 3"
    },
    "language_info": {
      "name": "python"
    },
    "accelerator": "GPU",
    "widgets": {
      "application/vnd.jupyter.widget-state+json": {
        "09894801a75f4789b8f85197a6e87c25": {
          "model_module": "@jupyter-widgets/controls",
          "model_name": "HBoxModel",
          "model_module_version": "1.5.0",
          "state": {
            "_view_name": "HBoxView",
            "_dom_classes": [],
            "_model_name": "HBoxModel",
            "_view_module": "@jupyter-widgets/controls",
            "_model_module_version": "1.5.0",
            "_view_count": null,
            "_view_module_version": "1.5.0",
            "box_style": "",
            "layout": "IPY_MODEL_9db5051920e7406f8825cebd8a81ae46",
            "_model_module": "@jupyter-widgets/controls",
            "children": [
              "IPY_MODEL_9f10f74180e04bbeb349bb0b87fa26fe",
              "IPY_MODEL_3c076c7443c144eb94ba0297407f05c5",
              "IPY_MODEL_62cf3928c05849599158956277f2397a"
            ]
          }
        },
        "9db5051920e7406f8825cebd8a81ae46": {
          "model_module": "@jupyter-widgets/base",
          "model_name": "LayoutModel",
          "model_module_version": "1.2.0",
          "state": {
            "_view_name": "LayoutView",
            "grid_template_rows": null,
            "right": null,
            "justify_content": null,
            "_view_module": "@jupyter-widgets/base",
            "overflow": null,
            "_model_module_version": "1.2.0",
            "_view_count": null,
            "flex_flow": null,
            "width": null,
            "min_width": null,
            "border": null,
            "align_items": null,
            "bottom": null,
            "_model_module": "@jupyter-widgets/base",
            "top": null,
            "grid_column": null,
            "overflow_y": null,
            "overflow_x": null,
            "grid_auto_flow": null,
            "grid_area": null,
            "grid_template_columns": null,
            "flex": null,
            "_model_name": "LayoutModel",
            "justify_items": null,
            "grid_row": null,
            "max_height": null,
            "align_content": null,
            "visibility": null,
            "align_self": null,
            "height": null,
            "min_height": null,
            "padding": null,
            "grid_auto_rows": null,
            "grid_gap": null,
            "max_width": null,
            "order": null,
            "_view_module_version": "1.2.0",
            "grid_template_areas": null,
            "object_position": null,
            "object_fit": null,
            "grid_auto_columns": null,
            "margin": null,
            "display": null,
            "left": null
          }
        },
        "9f10f74180e04bbeb349bb0b87fa26fe": {
          "model_module": "@jupyter-widgets/controls",
          "model_name": "HTMLModel",
          "model_module_version": "1.5.0",
          "state": {
            "_view_name": "HTMLView",
            "style": "IPY_MODEL_a18615dc6bea46fe847ca8c54a5f4993",
            "_dom_classes": [],
            "description": "",
            "_model_name": "HTMLModel",
            "placeholder": "​",
            "_view_module": "@jupyter-widgets/controls",
            "_model_module_version": "1.5.0",
            "value": "",
            "_view_count": null,
            "_view_module_version": "1.5.0",
            "description_tooltip": null,
            "_model_module": "@jupyter-widgets/controls",
            "layout": "IPY_MODEL_830e7a92dcc446a999eafb3995e6f5b3"
          }
        },
        "3c076c7443c144eb94ba0297407f05c5": {
          "model_module": "@jupyter-widgets/controls",
          "model_name": "FloatProgressModel",
          "model_module_version": "1.5.0",
          "state": {
            "_view_name": "ProgressView",
            "style": "IPY_MODEL_979dbd5bd1604b90b22fc37ca2bb7c4d",
            "_dom_classes": [],
            "description": "",
            "_model_name": "FloatProgressModel",
            "bar_style": "success",
            "max": 1,
            "_view_module": "@jupyter-widgets/controls",
            "_model_module_version": "1.5.0",
            "value": 1,
            "_view_count": null,
            "_view_module_version": "1.5.0",
            "orientation": "horizontal",
            "min": 0,
            "description_tooltip": null,
            "_model_module": "@jupyter-widgets/controls",
            "layout": "IPY_MODEL_221cfed8eb714fe6a633257c5653d886"
          }
        },
        "62cf3928c05849599158956277f2397a": {
          "model_module": "@jupyter-widgets/controls",
          "model_name": "HTMLModel",
          "model_module_version": "1.5.0",
          "state": {
            "_view_name": "HTMLView",
            "style": "IPY_MODEL_ea44b241dab04ffe8d265e3d2f8d8983",
            "_dom_classes": [],
            "description": "",
            "_model_name": "HTMLModel",
            "placeholder": "​",
            "_view_module": "@jupyter-widgets/controls",
            "_model_module_version": "1.5.0",
            "value": " 2196017/? [03:29&lt;00:00, 11997.04it/s]",
            "_view_count": null,
            "_view_module_version": "1.5.0",
            "description_tooltip": null,
            "_model_module": "@jupyter-widgets/controls",
            "layout": "IPY_MODEL_b5d2d45d81db49e6a7cc02d126708fcb"
          }
        },
        "a18615dc6bea46fe847ca8c54a5f4993": {
          "model_module": "@jupyter-widgets/controls",
          "model_name": "DescriptionStyleModel",
          "model_module_version": "1.5.0",
          "state": {
            "_view_name": "StyleView",
            "_model_name": "DescriptionStyleModel",
            "description_width": "",
            "_view_module": "@jupyter-widgets/base",
            "_model_module_version": "1.5.0",
            "_view_count": null,
            "_view_module_version": "1.2.0",
            "_model_module": "@jupyter-widgets/controls"
          }
        },
        "830e7a92dcc446a999eafb3995e6f5b3": {
          "model_module": "@jupyter-widgets/base",
          "model_name": "LayoutModel",
          "model_module_version": "1.2.0",
          "state": {
            "_view_name": "LayoutView",
            "grid_template_rows": null,
            "right": null,
            "justify_content": null,
            "_view_module": "@jupyter-widgets/base",
            "overflow": null,
            "_model_module_version": "1.2.0",
            "_view_count": null,
            "flex_flow": null,
            "width": null,
            "min_width": null,
            "border": null,
            "align_items": null,
            "bottom": null,
            "_model_module": "@jupyter-widgets/base",
            "top": null,
            "grid_column": null,
            "overflow_y": null,
            "overflow_x": null,
            "grid_auto_flow": null,
            "grid_area": null,
            "grid_template_columns": null,
            "flex": null,
            "_model_name": "LayoutModel",
            "justify_items": null,
            "grid_row": null,
            "max_height": null,
            "align_content": null,
            "visibility": null,
            "align_self": null,
            "height": null,
            "min_height": null,
            "padding": null,
            "grid_auto_rows": null,
            "grid_gap": null,
            "max_width": null,
            "order": null,
            "_view_module_version": "1.2.0",
            "grid_template_areas": null,
            "object_position": null,
            "object_fit": null,
            "grid_auto_columns": null,
            "margin": null,
            "display": null,
            "left": null
          }
        },
        "979dbd5bd1604b90b22fc37ca2bb7c4d": {
          "model_module": "@jupyter-widgets/controls",
          "model_name": "ProgressStyleModel",
          "model_module_version": "1.5.0",
          "state": {
            "_view_name": "StyleView",
            "_model_name": "ProgressStyleModel",
            "description_width": "",
            "_view_module": "@jupyter-widgets/base",
            "_model_module_version": "1.5.0",
            "_view_count": null,
            "_view_module_version": "1.2.0",
            "bar_color": null,
            "_model_module": "@jupyter-widgets/controls"
          }
        },
        "221cfed8eb714fe6a633257c5653d886": {
          "model_module": "@jupyter-widgets/base",
          "model_name": "LayoutModel",
          "model_module_version": "1.2.0",
          "state": {
            "_view_name": "LayoutView",
            "grid_template_rows": null,
            "right": null,
            "justify_content": null,
            "_view_module": "@jupyter-widgets/base",
            "overflow": null,
            "_model_module_version": "1.2.0",
            "_view_count": null,
            "flex_flow": null,
            "width": "20px",
            "min_width": null,
            "border": null,
            "align_items": null,
            "bottom": null,
            "_model_module": "@jupyter-widgets/base",
            "top": null,
            "grid_column": null,
            "overflow_y": null,
            "overflow_x": null,
            "grid_auto_flow": null,
            "grid_area": null,
            "grid_template_columns": null,
            "flex": null,
            "_model_name": "LayoutModel",
            "justify_items": null,
            "grid_row": null,
            "max_height": null,
            "align_content": null,
            "visibility": null,
            "align_self": null,
            "height": null,
            "min_height": null,
            "padding": null,
            "grid_auto_rows": null,
            "grid_gap": null,
            "max_width": null,
            "order": null,
            "_view_module_version": "1.2.0",
            "grid_template_areas": null,
            "object_position": null,
            "object_fit": null,
            "grid_auto_columns": null,
            "margin": null,
            "display": null,
            "left": null
          }
        },
        "ea44b241dab04ffe8d265e3d2f8d8983": {
          "model_module": "@jupyter-widgets/controls",
          "model_name": "DescriptionStyleModel",
          "model_module_version": "1.5.0",
          "state": {
            "_view_name": "StyleView",
            "_model_name": "DescriptionStyleModel",
            "description_width": "",
            "_view_module": "@jupyter-widgets/base",
            "_model_module_version": "1.5.0",
            "_view_count": null,
            "_view_module_version": "1.2.0",
            "_model_module": "@jupyter-widgets/controls"
          }
        },
        "b5d2d45d81db49e6a7cc02d126708fcb": {
          "model_module": "@jupyter-widgets/base",
          "model_name": "LayoutModel",
          "model_module_version": "1.2.0",
          "state": {
            "_view_name": "LayoutView",
            "grid_template_rows": null,
            "right": null,
            "justify_content": null,
            "_view_module": "@jupyter-widgets/base",
            "overflow": null,
            "_model_module_version": "1.2.0",
            "_view_count": null,
            "flex_flow": null,
            "width": null,
            "min_width": null,
            "border": null,
            "align_items": null,
            "bottom": null,
            "_model_module": "@jupyter-widgets/base",
            "top": null,
            "grid_column": null,
            "overflow_y": null,
            "overflow_x": null,
            "grid_auto_flow": null,
            "grid_area": null,
            "grid_template_columns": null,
            "flex": null,
            "_model_name": "LayoutModel",
            "justify_items": null,
            "grid_row": null,
            "max_height": null,
            "align_content": null,
            "visibility": null,
            "align_self": null,
            "height": null,
            "min_height": null,
            "padding": null,
            "grid_auto_rows": null,
            "grid_gap": null,
            "max_width": null,
            "order": null,
            "_view_module_version": "1.2.0",
            "grid_template_areas": null,
            "object_position": null,
            "object_fit": null,
            "grid_auto_columns": null,
            "margin": null,
            "display": null,
            "left": null
          }
        },
        "31f6b1869e61486a83e80c0bd2607179": {
          "model_module": "@jupyter-widgets/controls",
          "model_name": "HBoxModel",
          "model_module_version": "1.5.0",
          "state": {
            "_view_name": "HBoxView",
            "_dom_classes": [],
            "_model_name": "HBoxModel",
            "_view_module": "@jupyter-widgets/controls",
            "_model_module_version": "1.5.0",
            "_view_count": null,
            "_view_module_version": "1.5.0",
            "box_style": "",
            "layout": "IPY_MODEL_a55f99fae34e460484f3ef0d3f056099",
            "_model_module": "@jupyter-widgets/controls",
            "children": [
              "IPY_MODEL_673c450a450d444b83dc4d8c8cb8207f",
              "IPY_MODEL_c978bbe4e88c42bba2a34645d213ef23",
              "IPY_MODEL_e7ad8e86f8ab45659aae8f6b07366916"
            ]
          }
        },
        "a55f99fae34e460484f3ef0d3f056099": {
          "model_module": "@jupyter-widgets/base",
          "model_name": "LayoutModel",
          "model_module_version": "1.2.0",
          "state": {
            "_view_name": "LayoutView",
            "grid_template_rows": null,
            "right": null,
            "justify_content": null,
            "_view_module": "@jupyter-widgets/base",
            "overflow": null,
            "_model_module_version": "1.2.0",
            "_view_count": null,
            "flex_flow": null,
            "width": null,
            "min_width": null,
            "border": null,
            "align_items": null,
            "bottom": null,
            "_model_module": "@jupyter-widgets/base",
            "top": null,
            "grid_column": null,
            "overflow_y": null,
            "overflow_x": null,
            "grid_auto_flow": null,
            "grid_area": null,
            "grid_template_columns": null,
            "flex": null,
            "_model_name": "LayoutModel",
            "justify_items": null,
            "grid_row": null,
            "max_height": null,
            "align_content": null,
            "visibility": null,
            "align_self": null,
            "height": null,
            "min_height": null,
            "padding": null,
            "grid_auto_rows": null,
            "grid_gap": null,
            "max_width": null,
            "order": null,
            "_view_module_version": "1.2.0",
            "grid_template_areas": null,
            "object_position": null,
            "object_fit": null,
            "grid_auto_columns": null,
            "margin": null,
            "display": null,
            "left": null
          }
        },
        "673c450a450d444b83dc4d8c8cb8207f": {
          "model_module": "@jupyter-widgets/controls",
          "model_name": "HTMLModel",
          "model_module_version": "1.5.0",
          "state": {
            "_view_name": "HTMLView",
            "style": "IPY_MODEL_189216f295a94d9faee397ac42295817",
            "_dom_classes": [],
            "description": "",
            "_model_name": "HTMLModel",
            "placeholder": "​",
            "_view_module": "@jupyter-widgets/controls",
            "_model_module_version": "1.5.0",
            "value": "100%",
            "_view_count": null,
            "_view_module_version": "1.5.0",
            "description_tooltip": null,
            "_model_module": "@jupyter-widgets/controls",
            "layout": "IPY_MODEL_e9d9e64f2ca34b2286b3b49f0ec6e98a"
          }
        },
        "c978bbe4e88c42bba2a34645d213ef23": {
          "model_module": "@jupyter-widgets/controls",
          "model_name": "FloatProgressModel",
          "model_module_version": "1.5.0",
          "state": {
            "_view_name": "ProgressView",
            "style": "IPY_MODEL_a212c75a40bd418bbf2bf0c644ad0340",
            "_dom_classes": [],
            "description": "",
            "_model_name": "FloatProgressModel",
            "bar_style": "success",
            "max": 2195885,
            "_view_module": "@jupyter-widgets/controls",
            "_model_module_version": "1.5.0",
            "value": 2195885,
            "_view_count": null,
            "_view_module_version": "1.5.0",
            "orientation": "horizontal",
            "min": 0,
            "description_tooltip": null,
            "_model_module": "@jupyter-widgets/controls",
            "layout": "IPY_MODEL_18be9693e5104d84be57bd6fcb7e9810"
          }
        },
        "e7ad8e86f8ab45659aae8f6b07366916": {
          "model_module": "@jupyter-widgets/controls",
          "model_name": "HTMLModel",
          "model_module_version": "1.5.0",
          "state": {
            "_view_name": "HTMLView",
            "style": "IPY_MODEL_26bb8d321f044c9180c01f3704428489",
            "_dom_classes": [],
            "description": "",
            "_model_name": "HTMLModel",
            "placeholder": "​",
            "_view_module": "@jupyter-widgets/controls",
            "_model_module_version": "1.5.0",
            "value": " 2195885/2195885 [00:02&lt;00:00, 885812.58it/s]",
            "_view_count": null,
            "_view_module_version": "1.5.0",
            "description_tooltip": null,
            "_model_module": "@jupyter-widgets/controls",
            "layout": "IPY_MODEL_328d3bc5ac0e4465a87d1f6d6fb06b5f"
          }
        },
        "189216f295a94d9faee397ac42295817": {
          "model_module": "@jupyter-widgets/controls",
          "model_name": "DescriptionStyleModel",
          "model_module_version": "1.5.0",
          "state": {
            "_view_name": "StyleView",
            "_model_name": "DescriptionStyleModel",
            "description_width": "",
            "_view_module": "@jupyter-widgets/base",
            "_model_module_version": "1.5.0",
            "_view_count": null,
            "_view_module_version": "1.2.0",
            "_model_module": "@jupyter-widgets/controls"
          }
        },
        "e9d9e64f2ca34b2286b3b49f0ec6e98a": {
          "model_module": "@jupyter-widgets/base",
          "model_name": "LayoutModel",
          "model_module_version": "1.2.0",
          "state": {
            "_view_name": "LayoutView",
            "grid_template_rows": null,
            "right": null,
            "justify_content": null,
            "_view_module": "@jupyter-widgets/base",
            "overflow": null,
            "_model_module_version": "1.2.0",
            "_view_count": null,
            "flex_flow": null,
            "width": null,
            "min_width": null,
            "border": null,
            "align_items": null,
            "bottom": null,
            "_model_module": "@jupyter-widgets/base",
            "top": null,
            "grid_column": null,
            "overflow_y": null,
            "overflow_x": null,
            "grid_auto_flow": null,
            "grid_area": null,
            "grid_template_columns": null,
            "flex": null,
            "_model_name": "LayoutModel",
            "justify_items": null,
            "grid_row": null,
            "max_height": null,
            "align_content": null,
            "visibility": null,
            "align_self": null,
            "height": null,
            "min_height": null,
            "padding": null,
            "grid_auto_rows": null,
            "grid_gap": null,
            "max_width": null,
            "order": null,
            "_view_module_version": "1.2.0",
            "grid_template_areas": null,
            "object_position": null,
            "object_fit": null,
            "grid_auto_columns": null,
            "margin": null,
            "display": null,
            "left": null
          }
        },
        "a212c75a40bd418bbf2bf0c644ad0340": {
          "model_module": "@jupyter-widgets/controls",
          "model_name": "ProgressStyleModel",
          "model_module_version": "1.5.0",
          "state": {
            "_view_name": "StyleView",
            "_model_name": "ProgressStyleModel",
            "description_width": "",
            "_view_module": "@jupyter-widgets/base",
            "_model_module_version": "1.5.0",
            "_view_count": null,
            "_view_module_version": "1.2.0",
            "bar_color": null,
            "_model_module": "@jupyter-widgets/controls"
          }
        },
        "18be9693e5104d84be57bd6fcb7e9810": {
          "model_module": "@jupyter-widgets/base",
          "model_name": "LayoutModel",
          "model_module_version": "1.2.0",
          "state": {
            "_view_name": "LayoutView",
            "grid_template_rows": null,
            "right": null,
            "justify_content": null,
            "_view_module": "@jupyter-widgets/base",
            "overflow": null,
            "_model_module_version": "1.2.0",
            "_view_count": null,
            "flex_flow": null,
            "width": null,
            "min_width": null,
            "border": null,
            "align_items": null,
            "bottom": null,
            "_model_module": "@jupyter-widgets/base",
            "top": null,
            "grid_column": null,
            "overflow_y": null,
            "overflow_x": null,
            "grid_auto_flow": null,
            "grid_area": null,
            "grid_template_columns": null,
            "flex": null,
            "_model_name": "LayoutModel",
            "justify_items": null,
            "grid_row": null,
            "max_height": null,
            "align_content": null,
            "visibility": null,
            "align_self": null,
            "height": null,
            "min_height": null,
            "padding": null,
            "grid_auto_rows": null,
            "grid_gap": null,
            "max_width": null,
            "order": null,
            "_view_module_version": "1.2.0",
            "grid_template_areas": null,
            "object_position": null,
            "object_fit": null,
            "grid_auto_columns": null,
            "margin": null,
            "display": null,
            "left": null
          }
        },
        "26bb8d321f044c9180c01f3704428489": {
          "model_module": "@jupyter-widgets/controls",
          "model_name": "DescriptionStyleModel",
          "model_module_version": "1.5.0",
          "state": {
            "_view_name": "StyleView",
            "_model_name": "DescriptionStyleModel",
            "description_width": "",
            "_view_module": "@jupyter-widgets/base",
            "_model_module_version": "1.5.0",
            "_view_count": null,
            "_view_module_version": "1.2.0",
            "_model_module": "@jupyter-widgets/controls"
          }
        },
        "328d3bc5ac0e4465a87d1f6d6fb06b5f": {
          "model_module": "@jupyter-widgets/base",
          "model_name": "LayoutModel",
          "model_module_version": "1.2.0",
          "state": {
            "_view_name": "LayoutView",
            "grid_template_rows": null,
            "right": null,
            "justify_content": null,
            "_view_module": "@jupyter-widgets/base",
            "overflow": null,
            "_model_module_version": "1.2.0",
            "_view_count": null,
            "flex_flow": null,
            "width": null,
            "min_width": null,
            "border": null,
            "align_items": null,
            "bottom": null,
            "_model_module": "@jupyter-widgets/base",
            "top": null,
            "grid_column": null,
            "overflow_y": null,
            "overflow_x": null,
            "grid_auto_flow": null,
            "grid_area": null,
            "grid_template_columns": null,
            "flex": null,
            "_model_name": "LayoutModel",
            "justify_items": null,
            "grid_row": null,
            "max_height": null,
            "align_content": null,
            "visibility": null,
            "align_self": null,
            "height": null,
            "min_height": null,
            "padding": null,
            "grid_auto_rows": null,
            "grid_gap": null,
            "max_width": null,
            "order": null,
            "_view_module_version": "1.2.0",
            "grid_template_areas": null,
            "object_position": null,
            "object_fit": null,
            "grid_auto_columns": null,
            "margin": null,
            "display": null,
            "left": null
          }
        },
        "30819723dc4d477c954867a62c70f77a": {
          "model_module": "@jupyter-widgets/controls",
          "model_name": "HBoxModel",
          "model_module_version": "1.5.0",
          "state": {
            "_view_name": "HBoxView",
            "_dom_classes": [],
            "_model_name": "HBoxModel",
            "_view_module": "@jupyter-widgets/controls",
            "_model_module_version": "1.5.0",
            "_view_count": null,
            "_view_module_version": "1.5.0",
            "box_style": "",
            "layout": "IPY_MODEL_000c75f9838c43c2a7af0adfebfad71a",
            "_model_module": "@jupyter-widgets/controls",
            "children": [
              "IPY_MODEL_8ac3a7919cc54fc79b01ded7ef4c4ca7",
              "IPY_MODEL_5b002db0161a488484dbc4a2d712e298",
              "IPY_MODEL_a3f40ebba6e949dcad6ffbe6c89d783d"
            ]
          }
        },
        "000c75f9838c43c2a7af0adfebfad71a": {
          "model_module": "@jupyter-widgets/base",
          "model_name": "LayoutModel",
          "model_module_version": "1.2.0",
          "state": {
            "_view_name": "LayoutView",
            "grid_template_rows": null,
            "right": null,
            "justify_content": null,
            "_view_module": "@jupyter-widgets/base",
            "overflow": null,
            "_model_module_version": "1.2.0",
            "_view_count": null,
            "flex_flow": null,
            "width": null,
            "min_width": null,
            "border": null,
            "align_items": null,
            "bottom": null,
            "_model_module": "@jupyter-widgets/base",
            "top": null,
            "grid_column": null,
            "overflow_y": null,
            "overflow_x": null,
            "grid_auto_flow": null,
            "grid_area": null,
            "grid_template_columns": null,
            "flex": null,
            "_model_name": "LayoutModel",
            "justify_items": null,
            "grid_row": null,
            "max_height": null,
            "align_content": null,
            "visibility": null,
            "align_self": null,
            "height": null,
            "min_height": null,
            "padding": null,
            "grid_auto_rows": null,
            "grid_gap": null,
            "max_width": null,
            "order": null,
            "_view_module_version": "1.2.0",
            "grid_template_areas": null,
            "object_position": null,
            "object_fit": null,
            "grid_auto_columns": null,
            "margin": null,
            "display": null,
            "left": null
          }
        },
        "8ac3a7919cc54fc79b01ded7ef4c4ca7": {
          "model_module": "@jupyter-widgets/controls",
          "model_name": "HTMLModel",
          "model_module_version": "1.5.0",
          "state": {
            "_view_name": "HTMLView",
            "style": "IPY_MODEL_5adcc2efed294c33a587075a7e8ef73e",
            "_dom_classes": [],
            "description": "",
            "_model_name": "HTMLModel",
            "placeholder": "​",
            "_view_module": "@jupyter-widgets/controls",
            "_model_module_version": "1.5.0",
            "value": "100%",
            "_view_count": null,
            "_view_module_version": "1.5.0",
            "description_tooltip": null,
            "_model_module": "@jupyter-widgets/controls",
            "layout": "IPY_MODEL_3fe85c18b92b445dba4b2e521ae7ece2"
          }
        },
        "5b002db0161a488484dbc4a2d712e298": {
          "model_module": "@jupyter-widgets/controls",
          "model_name": "FloatProgressModel",
          "model_module_version": "1.5.0",
          "state": {
            "_view_name": "ProgressView",
            "style": "IPY_MODEL_81dbce0f778944d9bb3928cc4f662da8",
            "_dom_classes": [],
            "description": "",
            "_model_name": "FloatProgressModel",
            "bar_style": "success",
            "max": 5350,
            "_view_module": "@jupyter-widgets/controls",
            "_model_module_version": "1.5.0",
            "value": 5350,
            "_view_count": null,
            "_view_module_version": "1.5.0",
            "orientation": "horizontal",
            "min": 0,
            "description_tooltip": null,
            "_model_module": "@jupyter-widgets/controls",
            "layout": "IPY_MODEL_01aa728cdea1499c965b224c022fc87d"
          }
        },
        "a3f40ebba6e949dcad6ffbe6c89d783d": {
          "model_module": "@jupyter-widgets/controls",
          "model_name": "HTMLModel",
          "model_module_version": "1.5.0",
          "state": {
            "_view_name": "HTMLView",
            "style": "IPY_MODEL_7830410d22424e8183135a05c0cfe37c",
            "_dom_classes": [],
            "description": "",
            "_model_name": "HTMLModel",
            "placeholder": "​",
            "_view_module": "@jupyter-widgets/controls",
            "_model_module_version": "1.5.0",
            "value": " 5350/5350 [00:00&lt;00:00, 85865.64it/s]",
            "_view_count": null,
            "_view_module_version": "1.5.0",
            "description_tooltip": null,
            "_model_module": "@jupyter-widgets/controls",
            "layout": "IPY_MODEL_e0fcefe2458246c5969c85f1873d6308"
          }
        },
        "5adcc2efed294c33a587075a7e8ef73e": {
          "model_module": "@jupyter-widgets/controls",
          "model_name": "DescriptionStyleModel",
          "model_module_version": "1.5.0",
          "state": {
            "_view_name": "StyleView",
            "_model_name": "DescriptionStyleModel",
            "description_width": "",
            "_view_module": "@jupyter-widgets/base",
            "_model_module_version": "1.5.0",
            "_view_count": null,
            "_view_module_version": "1.2.0",
            "_model_module": "@jupyter-widgets/controls"
          }
        },
        "3fe85c18b92b445dba4b2e521ae7ece2": {
          "model_module": "@jupyter-widgets/base",
          "model_name": "LayoutModel",
          "model_module_version": "1.2.0",
          "state": {
            "_view_name": "LayoutView",
            "grid_template_rows": null,
            "right": null,
            "justify_content": null,
            "_view_module": "@jupyter-widgets/base",
            "overflow": null,
            "_model_module_version": "1.2.0",
            "_view_count": null,
            "flex_flow": null,
            "width": null,
            "min_width": null,
            "border": null,
            "align_items": null,
            "bottom": null,
            "_model_module": "@jupyter-widgets/base",
            "top": null,
            "grid_column": null,
            "overflow_y": null,
            "overflow_x": null,
            "grid_auto_flow": null,
            "grid_area": null,
            "grid_template_columns": null,
            "flex": null,
            "_model_name": "LayoutModel",
            "justify_items": null,
            "grid_row": null,
            "max_height": null,
            "align_content": null,
            "visibility": null,
            "align_self": null,
            "height": null,
            "min_height": null,
            "padding": null,
            "grid_auto_rows": null,
            "grid_gap": null,
            "max_width": null,
            "order": null,
            "_view_module_version": "1.2.0",
            "grid_template_areas": null,
            "object_position": null,
            "object_fit": null,
            "grid_auto_columns": null,
            "margin": null,
            "display": null,
            "left": null
          }
        },
        "81dbce0f778944d9bb3928cc4f662da8": {
          "model_module": "@jupyter-widgets/controls",
          "model_name": "ProgressStyleModel",
          "model_module_version": "1.5.0",
          "state": {
            "_view_name": "StyleView",
            "_model_name": "ProgressStyleModel",
            "description_width": "",
            "_view_module": "@jupyter-widgets/base",
            "_model_module_version": "1.5.0",
            "_view_count": null,
            "_view_module_version": "1.2.0",
            "bar_color": null,
            "_model_module": "@jupyter-widgets/controls"
          }
        },
        "01aa728cdea1499c965b224c022fc87d": {
          "model_module": "@jupyter-widgets/base",
          "model_name": "LayoutModel",
          "model_module_version": "1.2.0",
          "state": {
            "_view_name": "LayoutView",
            "grid_template_rows": null,
            "right": null,
            "justify_content": null,
            "_view_module": "@jupyter-widgets/base",
            "overflow": null,
            "_model_module_version": "1.2.0",
            "_view_count": null,
            "flex_flow": null,
            "width": null,
            "min_width": null,
            "border": null,
            "align_items": null,
            "bottom": null,
            "_model_module": "@jupyter-widgets/base",
            "top": null,
            "grid_column": null,
            "overflow_y": null,
            "overflow_x": null,
            "grid_auto_flow": null,
            "grid_area": null,
            "grid_template_columns": null,
            "flex": null,
            "_model_name": "LayoutModel",
            "justify_items": null,
            "grid_row": null,
            "max_height": null,
            "align_content": null,
            "visibility": null,
            "align_self": null,
            "height": null,
            "min_height": null,
            "padding": null,
            "grid_auto_rows": null,
            "grid_gap": null,
            "max_width": null,
            "order": null,
            "_view_module_version": "1.2.0",
            "grid_template_areas": null,
            "object_position": null,
            "object_fit": null,
            "grid_auto_columns": null,
            "margin": null,
            "display": null,
            "left": null
          }
        },
        "7830410d22424e8183135a05c0cfe37c": {
          "model_module": "@jupyter-widgets/controls",
          "model_name": "DescriptionStyleModel",
          "model_module_version": "1.5.0",
          "state": {
            "_view_name": "StyleView",
            "_model_name": "DescriptionStyleModel",
            "description_width": "",
            "_view_module": "@jupyter-widgets/base",
            "_model_module_version": "1.5.0",
            "_view_count": null,
            "_view_module_version": "1.2.0",
            "_model_module": "@jupyter-widgets/controls"
          }
        },
        "e0fcefe2458246c5969c85f1873d6308": {
          "model_module": "@jupyter-widgets/base",
          "model_name": "LayoutModel",
          "model_module_version": "1.2.0",
          "state": {
            "_view_name": "LayoutView",
            "grid_template_rows": null,
            "right": null,
            "justify_content": null,
            "_view_module": "@jupyter-widgets/base",
            "overflow": null,
            "_model_module_version": "1.2.0",
            "_view_count": null,
            "flex_flow": null,
            "width": null,
            "min_width": null,
            "border": null,
            "align_items": null,
            "bottom": null,
            "_model_module": "@jupyter-widgets/base",
            "top": null,
            "grid_column": null,
            "overflow_y": null,
            "overflow_x": null,
            "grid_auto_flow": null,
            "grid_area": null,
            "grid_template_columns": null,
            "flex": null,
            "_model_name": "LayoutModel",
            "justify_items": null,
            "grid_row": null,
            "max_height": null,
            "align_content": null,
            "visibility": null,
            "align_self": null,
            "height": null,
            "min_height": null,
            "padding": null,
            "grid_auto_rows": null,
            "grid_gap": null,
            "max_width": null,
            "order": null,
            "_view_module_version": "1.2.0",
            "grid_template_areas": null,
            "object_position": null,
            "object_fit": null,
            "grid_auto_columns": null,
            "margin": null,
            "display": null,
            "left": null
          }
        }
      }
    }
  },
  "cells": [
    {
      "cell_type": "markdown",
      "source": [
        "### Loading Datasets"
      ],
      "metadata": {
        "id": "3V6XuYPvsjAO"
      }
    },
    {
      "cell_type": "code",
      "source": [
        "import re\n",
        "import numpy as np \n",
        "import pandas as pd\n",
        "pd.set_option('display.max_rows', 700)\n",
        "from sklearn.utils import shuffle"
      ],
      "metadata": {
        "id": "pbhOawrduieO"
      },
      "execution_count": 1,
      "outputs": []
    },
    {
      "cell_type": "code",
      "source": [
        "from google.colab import drive\n",
        "drive.mount('/content/drive')"
      ],
      "metadata": {
        "colab": {
          "base_uri": "https://localhost:8080/"
        },
        "id": "IxAv0ThjHbwT",
        "outputId": "2ad6380a-cc03-4f50-bdfc-fc9020599f37"
      },
      "execution_count": 25,
      "outputs": [
        {
          "output_type": "stream",
          "name": "stdout",
          "text": [
            "Mounted at /content/drive\n"
          ]
        }
      ]
    },
    {
      "cell_type": "code",
      "source": [
        "train = shuffle(pd.read_json('is_train.json'), random_state=0)\n",
        "val = shuffle(pd.read_json('is_val.json'), random_state=0)\n",
        "test = pd.read_json('is_test.json')\n",
        "oos_train = pd.read_json('oos_train.json')\n",
        "oos_val = pd.read_json('oos_val.json')\n",
        "oos_test = pd.read_json('oos_test.json')\n",
        "\n",
        "files = [\n",
        "         (train,'train'),\n",
        "         (val,'val'),\n",
        "         (test,'test'),\n",
        "         (oos_train,'oos_train'),\n",
        "         (oos_val,'oos_val'),\n",
        "         (oos_test,'oos_test')\n",
        "         ]\n",
        "         \n",
        "for file,name in files:\n",
        "    file.columns = ['text','intent']\n",
        "    print(f'{name} shape:{file.shape}, {name} has {train.isna().sum().sum()} null values')\n",
        "in_train = train.copy()"
      ],
      "metadata": {
        "colab": {
          "base_uri": "https://localhost:8080/"
        },
        "id": "6BoMQtCgtqNT",
        "outputId": "e513142d-7ad6-43ef-8fa8-00fe29f86b21"
      },
      "execution_count": 47,
      "outputs": [
        {
          "output_type": "stream",
          "name": "stdout",
          "text": [
            "train shape:(15000, 2), train has 0 null values\n",
            "val shape:(3000, 2), val has 0 null values\n",
            "test shape:(4500, 2), test has 0 null values\n",
            "oos_train shape:(100, 2), oos_train has 0 null values\n",
            "oos_val shape:(100, 2), oos_val has 0 null values\n",
            "oos_test shape:(1000, 2), oos_test has 0 null values\n"
          ]
        }
      ]
    },
    {
      "cell_type": "code",
      "source": [
        "in_train = pd.concat([in_train, oos_train], axis=0).reset_index(drop=True)\n",
        "val = pd.concat([val, oos_val], axis=0).reset_index(drop=True)\n",
        "test = pd.concat([test, oos_test], axis=0).reset_index(drop=True)"
      ],
      "metadata": {
        "id": "Az12nqjCbxYM"
      },
      "execution_count": 48,
      "outputs": []
    },
    {
      "cell_type": "code",
      "source": [
        "in_train = shuffle(in_train , random_state=0).reset_index(drop=True)\n",
        "val = shuffle(val, random_state=0).reset_index(drop=True)\n",
        "test = shuffle(test, random_state=0).reset_index(drop=True)"
      ],
      "metadata": {
        "id": "m25_zO9rcWC2"
      },
      "execution_count": 49,
      "outputs": []
    },
    {
      "cell_type": "code",
      "source": [
        "in_train.shape"
      ],
      "metadata": {
        "colab": {
          "base_uri": "https://localhost:8080/"
        },
        "id": "szuRNyRswqwF",
        "outputId": "2591573d-47db-4a5e-b039-3eb60d0761b8"
      },
      "execution_count": 50,
      "outputs": [
        {
          "output_type": "execute_result",
          "data": {
            "text/plain": [
              "(15100, 2)"
            ]
          },
          "metadata": {},
          "execution_count": 50
        }
      ]
    },
    {
      "cell_type": "code",
      "source": [
        "in_train"
      ],
      "metadata": {
        "colab": {
          "base_uri": "https://localhost:8080/",
          "height": 424
        },
        "id": "Js0XPtZ5iB7Z",
        "outputId": "ce8ecdac-95ff-494a-cf69-424910d27e7f"
      },
      "execution_count": 51,
      "outputs": [
        {
          "output_type": "execute_result",
          "data": {
            "text/html": [
              "\n",
              "  <div id=\"df-b518dc55-c31c-46af-828a-7813e12f076f\">\n",
              "    <div class=\"colab-df-container\">\n",
              "      <div>\n",
              "<style scoped>\n",
              "    .dataframe tbody tr th:only-of-type {\n",
              "        vertical-align: middle;\n",
              "    }\n",
              "\n",
              "    .dataframe tbody tr th {\n",
              "        vertical-align: top;\n",
              "    }\n",
              "\n",
              "    .dataframe thead th {\n",
              "        text-align: right;\n",
              "    }\n",
              "</style>\n",
              "<table border=\"1\" class=\"dataframe\">\n",
              "  <thead>\n",
              "    <tr style=\"text-align: right;\">\n",
              "      <th></th>\n",
              "      <th>text</th>\n",
              "      <th>intent</th>\n",
              "    </tr>\n",
              "  </thead>\n",
              "  <tbody>\n",
              "    <tr>\n",
              "      <th>0</th>\n",
              "      <td>is it possible for you to use the whisper voice</td>\n",
              "      <td>whisper_mode</td>\n",
              "    </tr>\n",
              "    <tr>\n",
              "      <th>1</th>\n",
              "      <td>search for a macaroni and cheese recipe</td>\n",
              "      <td>recipe</td>\n",
              "    </tr>\n",
              "    <tr>\n",
              "      <th>2</th>\n",
              "      <td>correct</td>\n",
              "      <td>yes</td>\n",
              "    </tr>\n",
              "    <tr>\n",
              "      <th>3</th>\n",
              "      <td>my card got scratched badly, can you tell my b...</td>\n",
              "      <td>damaged_card</td>\n",
              "    </tr>\n",
              "    <tr>\n",
              "      <th>4</th>\n",
              "      <td>i'd like to know what my credit rating is</td>\n",
              "      <td>credit_score</td>\n",
              "    </tr>\n",
              "    <tr>\n",
              "      <th>...</th>\n",
              "      <td>...</td>\n",
              "      <td>...</td>\n",
              "    </tr>\n",
              "    <tr>\n",
              "      <th>15095</th>\n",
              "      <td>please play come as you are by nirvana</td>\n",
              "      <td>play_music</td>\n",
              "    </tr>\n",
              "    <tr>\n",
              "      <th>15096</th>\n",
              "      <td>book a hotel in pa, harrisburg for the 10th to...</td>\n",
              "      <td>book_hotel</td>\n",
              "    </tr>\n",
              "    <tr>\n",
              "      <th>15097</th>\n",
              "      <td>what kind of mpg does this car get in the city</td>\n",
              "      <td>mpg</td>\n",
              "    </tr>\n",
              "    <tr>\n",
              "      <th>15098</th>\n",
              "      <td>roll dice</td>\n",
              "      <td>roll_dice</td>\n",
              "    </tr>\n",
              "    <tr>\n",
              "      <th>15099</th>\n",
              "      <td>the tasks for today, what are they</td>\n",
              "      <td>todo_list</td>\n",
              "    </tr>\n",
              "  </tbody>\n",
              "</table>\n",
              "<p>15100 rows × 2 columns</p>\n",
              "</div>\n",
              "      <button class=\"colab-df-convert\" onclick=\"convertToInteractive('df-b518dc55-c31c-46af-828a-7813e12f076f')\"\n",
              "              title=\"Convert this dataframe to an interactive table.\"\n",
              "              style=\"display:none;\">\n",
              "        \n",
              "  <svg xmlns=\"http://www.w3.org/2000/svg\" height=\"24px\"viewBox=\"0 0 24 24\"\n",
              "       width=\"24px\">\n",
              "    <path d=\"M0 0h24v24H0V0z\" fill=\"none\"/>\n",
              "    <path d=\"M18.56 5.44l.94 2.06.94-2.06 2.06-.94-2.06-.94-.94-2.06-.94 2.06-2.06.94zm-11 1L8.5 8.5l.94-2.06 2.06-.94-2.06-.94L8.5 2.5l-.94 2.06-2.06.94zm10 10l.94 2.06.94-2.06 2.06-.94-2.06-.94-.94-2.06-.94 2.06-2.06.94z\"/><path d=\"M17.41 7.96l-1.37-1.37c-.4-.4-.92-.59-1.43-.59-.52 0-1.04.2-1.43.59L10.3 9.45l-7.72 7.72c-.78.78-.78 2.05 0 2.83L4 21.41c.39.39.9.59 1.41.59.51 0 1.02-.2 1.41-.59l7.78-7.78 2.81-2.81c.8-.78.8-2.07 0-2.86zM5.41 20L4 18.59l7.72-7.72 1.47 1.35L5.41 20z\"/>\n",
              "  </svg>\n",
              "      </button>\n",
              "      \n",
              "  <style>\n",
              "    .colab-df-container {\n",
              "      display:flex;\n",
              "      flex-wrap:wrap;\n",
              "      gap: 12px;\n",
              "    }\n",
              "\n",
              "    .colab-df-convert {\n",
              "      background-color: #E8F0FE;\n",
              "      border: none;\n",
              "      border-radius: 50%;\n",
              "      cursor: pointer;\n",
              "      display: none;\n",
              "      fill: #1967D2;\n",
              "      height: 32px;\n",
              "      padding: 0 0 0 0;\n",
              "      width: 32px;\n",
              "    }\n",
              "\n",
              "    .colab-df-convert:hover {\n",
              "      background-color: #E2EBFA;\n",
              "      box-shadow: 0px 1px 2px rgba(60, 64, 67, 0.3), 0px 1px 3px 1px rgba(60, 64, 67, 0.15);\n",
              "      fill: #174EA6;\n",
              "    }\n",
              "\n",
              "    [theme=dark] .colab-df-convert {\n",
              "      background-color: #3B4455;\n",
              "      fill: #D2E3FC;\n",
              "    }\n",
              "\n",
              "    [theme=dark] .colab-df-convert:hover {\n",
              "      background-color: #434B5C;\n",
              "      box-shadow: 0px 1px 3px 1px rgba(0, 0, 0, 0.15);\n",
              "      filter: drop-shadow(0px 1px 2px rgba(0, 0, 0, 0.3));\n",
              "      fill: #FFFFFF;\n",
              "    }\n",
              "  </style>\n",
              "\n",
              "      <script>\n",
              "        const buttonEl =\n",
              "          document.querySelector('#df-b518dc55-c31c-46af-828a-7813e12f076f button.colab-df-convert');\n",
              "        buttonEl.style.display =\n",
              "          google.colab.kernel.accessAllowed ? 'block' : 'none';\n",
              "\n",
              "        async function convertToInteractive(key) {\n",
              "          const element = document.querySelector('#df-b518dc55-c31c-46af-828a-7813e12f076f');\n",
              "          const dataTable =\n",
              "            await google.colab.kernel.invokeFunction('convertToInteractive',\n",
              "                                                     [key], {});\n",
              "          if (!dataTable) return;\n",
              "\n",
              "          const docLinkHtml = 'Like what you see? Visit the ' +\n",
              "            '<a target=\"_blank\" href=https://colab.research.google.com/notebooks/data_table.ipynb>data table notebook</a>'\n",
              "            + ' to learn more about interactive tables.';\n",
              "          element.innerHTML = '';\n",
              "          dataTable['output_type'] = 'display_data';\n",
              "          await google.colab.output.renderOutput(dataTable, element);\n",
              "          const docLink = document.createElement('div');\n",
              "          docLink.innerHTML = docLinkHtml;\n",
              "          element.appendChild(docLink);\n",
              "        }\n",
              "      </script>\n",
              "    </div>\n",
              "  </div>\n",
              "  "
            ],
            "text/plain": [
              "                                                    text        intent\n",
              "0        is it possible for you to use the whisper voice  whisper_mode\n",
              "1                search for a macaroni and cheese recipe        recipe\n",
              "2                                                correct           yes\n",
              "3      my card got scratched badly, can you tell my b...  damaged_card\n",
              "4              i'd like to know what my credit rating is  credit_score\n",
              "...                                                  ...           ...\n",
              "15095             please play come as you are by nirvana    play_music\n",
              "15096  book a hotel in pa, harrisburg for the 10th to...    book_hotel\n",
              "15097     what kind of mpg does this car get in the city           mpg\n",
              "15098                                          roll dice     roll_dice\n",
              "15099                 the tasks for today, what are they     todo_list\n",
              "\n",
              "[15100 rows x 2 columns]"
            ]
          },
          "metadata": {},
          "execution_count": 51
        }
      ]
    },
    {
      "cell_type": "code",
      "source": [
        "in_train.intent.value_counts()"
      ],
      "metadata": {
        "colab": {
          "base_uri": "https://localhost:8080/"
        },
        "id": "uJzuFiLpuZZq",
        "outputId": "47767787-b6a4-40f0-a2a5-e634ef5226f3"
      },
      "execution_count": 52,
      "outputs": [
        {
          "output_type": "execute_result",
          "data": {
            "text/plain": [
              "w2                           100\n",
              "schedule_maintenance         100\n",
              "measurement_conversion       100\n",
              "vaccines                     100\n",
              "carry_on                     100\n",
              "pto_request                  100\n",
              "transactions                 100\n",
              "order                        100\n",
              "shopping_list                100\n",
              "distance                     100\n",
              "transfer                     100\n",
              "interest_rate                100\n",
              "change_user_name             100\n",
              "reminder                     100\n",
              "bill_due                     100\n",
              "what_are_your_hobbies        100\n",
              "calculator                   100\n",
              "reminder_update              100\n",
              "current_location             100\n",
              "oil_change_when              100\n",
              "order_checks                 100\n",
              "international_fees           100\n",
              "no                           100\n",
              "change_accent                100\n",
              "rollover_401k                100\n",
              "share_location               100\n",
              "income                       100\n",
              "cancel_reservation           100\n",
              "who_do_you_work_for          100\n",
              "book_hotel                   100\n",
              "meal_suggestion              100\n",
              "credit_limit                 100\n",
              "cook_time                    100\n",
              "gas                          100\n",
              "user_name                    100\n",
              "todo_list_update             100\n",
              "insurance                    100\n",
              "todo_list                    100\n",
              "next_holiday                 100\n",
              "accept_reservations          100\n",
              "meaning_of_life              100\n",
              "uber                         100\n",
              "change_volume                100\n",
              "damaged_card                 100\n",
              "what_can_i_ask_you           100\n",
              "travel_notification          100\n",
              "rewards_balance              100\n",
              "pin_change                   100\n",
              "pto_balance                  100\n",
              "flight_status                100\n",
              "timezone                     100\n",
              "ingredients_list             100\n",
              "car_rental                   100\n",
              "card_declined                100\n",
              "payday                       100\n",
              "nutrition_info               100\n",
              "min_payment                  100\n",
              "international_visa           100\n",
              "application_status           100\n",
              "travel_alert                 100\n",
              "definition                   100\n",
              "credit_limit_change          100\n",
              "exchange_rate                100\n",
              "are_you_a_bot                100\n",
              "food_last                    100\n",
              "sync_device                  100\n",
              "date                         100\n",
              "improve_credit_score         100\n",
              "account_blocked              100\n",
              "tire_change                  100\n",
              "alarm                        100\n",
              "where_are_you_from           100\n",
              "change_speed                 100\n",
              "spelling                     100\n",
              "roll_dice                    100\n",
              "calories                     100\n",
              "restaurant_suggestion        100\n",
              "traffic                      100\n",
              "directions                   100\n",
              "freeze_account               100\n",
              "time                         100\n",
              "mpg                          100\n",
              "play_music                   100\n",
              "ingredient_substitution      100\n",
              "travel_suggestion            100\n",
              "find_phone                   100\n",
              "what_is_your_name            100\n",
              "jump_start                   100\n",
              "maybe                        100\n",
              "order_status                 100\n",
              "pto_used                     100\n",
              "expiration_date              100\n",
              "pay_bill                     100\n",
              "flip_coin                    100\n",
              "text                         100\n",
              "schedule_meeting             100\n",
              "routing                      100\n",
              "what_song                    100\n",
              "restaurant_reservation       100\n",
              "timer                        100\n",
              "gas_type                     100\n",
              "taxes                        100\n",
              "report_lost_card             100\n",
              "balance                      100\n",
              "greeting                     100\n",
              "redeem_rewards               100\n",
              "translate                    100\n",
              "credit_score                 100\n",
              "make_call                    100\n",
              "spending_history             100\n",
              "fun_fact                     100\n",
              "insurance_change             100\n",
              "goodbye                      100\n",
              "cancel                       100\n",
              "calendar                     100\n",
              "smart_home                   100\n",
              "do_you_have_pets             100\n",
              "how_old_are_you              100\n",
              "change_ai_name               100\n",
              "apr                          100\n",
              "last_maintenance             100\n",
              "report_fraud                 100\n",
              "repeat                       100\n",
              "recipe                       100\n",
              "shopping_list_update         100\n",
              "reset_settings               100\n",
              "oil_change_how               100\n",
              "who_made_you                 100\n",
              "yes                          100\n",
              "bill_balance                 100\n",
              "book_flight                  100\n",
              "plug_type                    100\n",
              "meeting_schedule             100\n",
              "change_language              100\n",
              "pto_request_status           100\n",
              "whisper_mode                 100\n",
              "direct_deposit               100\n",
              "tire_pressure                100\n",
              "weather                      100\n",
              "calendar_update              100\n",
              "replacement_card_duration    100\n",
              "restaurant_reviews           100\n",
              "confirm_reservation          100\n",
              "next_song                    100\n",
              "oos                          100\n",
              "lost_luggage                 100\n",
              "tell_joke                    100\n",
              "how_busy                     100\n",
              "update_playlist              100\n",
              "new_card                     100\n",
              "thank_you                    100\n",
              "Name: intent, dtype: int64"
            ]
          },
          "metadata": {},
          "execution_count": 52
        }
      ]
    },
    {
      "cell_type": "code",
      "source": [
        "in_train['intent'].nunique(), val['intent'].nunique(), test['intent'].nunique()"
      ],
      "metadata": {
        "id": "WXJ-pC6RxeKt",
        "colab": {
          "base_uri": "https://localhost:8080/"
        },
        "outputId": "ea972a85-b4c9-4605-c900-325c0001d1a2"
      },
      "execution_count": 53,
      "outputs": [
        {
          "output_type": "execute_result",
          "data": {
            "text/plain": [
              "(151, 151, 151)"
            ]
          },
          "metadata": {},
          "execution_count": 53
        }
      ]
    },
    {
      "cell_type": "code",
      "source": [
        "# oss_plus_train = pd.concat([in_train, oos_train],axis=0).reset_index(drop=True)\n",
        "# oss_plus_val = pd.concat([val,oos_val],axis=0).reset_index(drop=True)\n",
        "# oss_plus_test = pd.concat([test,oos_test],axis=0).reset_index(drop=True)"
      ],
      "metadata": {
        "id": "2lfJ_L2rx98X"
      },
      "execution_count": 54,
      "outputs": []
    },
    {
      "cell_type": "code",
      "source": [
        "# oss_plus_train['intent'].nunique(), oss_plus_val['intent'].nunique(), oss_plus_test['intent'].nunique()"
      ],
      "metadata": {
        "id": "dSKiii4yyYX2"
      },
      "execution_count": 55,
      "outputs": []
    },
    {
      "cell_type": "code",
      "source": [
        "# def binarize(df):\n",
        "#     df.intent = np.where(df.intent!='oos',0,1)\n",
        "#     return df"
      ],
      "metadata": {
        "id": "yT2MTkXsxNGn"
      },
      "execution_count": 56,
      "outputs": []
    },
    {
      "cell_type": "code",
      "source": [
        "# oos_plus_train = binarize(pd.concat([in_train,oos_train],axis=0).reset_index(drop=True))\n",
        "# oos_plus_val = binarize(pd.concat([val,oos_val],axis=0).reset_index(drop=True))\n",
        "# oos_plus_test = binarize(pd.concat([test,oos_test],axis=0).reset_index(drop=True))"
      ],
      "metadata": {
        "id": "83wot8Wjvsde"
      },
      "execution_count": 57,
      "outputs": []
    },
    {
      "cell_type": "code",
      "source": [
        "# oos_count = oos_plus_train.intent.value_counts()\n",
        "# oos_count"
      ],
      "metadata": {
        "id": "4B_k1NCpw-N2"
      },
      "execution_count": 58,
      "outputs": []
    },
    {
      "cell_type": "code",
      "source": [
        "# oss_plus_train.head()"
      ],
      "metadata": {
        "id": "dRLfZcudyyYJ"
      },
      "execution_count": 59,
      "outputs": []
    },
    {
      "cell_type": "code",
      "source": [
        "from sklearn.preprocessing import LabelBinarizer\n",
        "labelBinary = LabelBinarizer()\n",
        " \n",
        "labels = labelBinary.fit_transform(in_train['intent'])\n",
        "text = in_train['text']\n",
        "# import numpy as np\n",
        "# val = [\n",
        "#        [0, 0, 1],\n",
        "#        [1, 0, 0]\n",
        "# ]\n",
        " \n",
        "# lb.inverse_transform(np.asarray(val))"
      ],
      "metadata": {
        "id": "sNekS6YaxPN5"
      },
      "execution_count": 60,
      "outputs": []
    },
    {
      "cell_type": "code",
      "source": [
        "labelBinary.classes_"
      ],
      "metadata": {
        "colab": {
          "base_uri": "https://localhost:8080/"
        },
        "id": "6vl_trBK0TBV",
        "outputId": "970a87b2-024b-430d-ff0e-141a9d8378a5"
      },
      "execution_count": 61,
      "outputs": [
        {
          "output_type": "execute_result",
          "data": {
            "text/plain": [
              "array(['accept_reservations', 'account_blocked', 'alarm',\n",
              "       'application_status', 'apr', 'are_you_a_bot', 'balance',\n",
              "       'bill_balance', 'bill_due', 'book_flight', 'book_hotel',\n",
              "       'calculator', 'calendar', 'calendar_update', 'calories', 'cancel',\n",
              "       'cancel_reservation', 'car_rental', 'card_declined', 'carry_on',\n",
              "       'change_accent', 'change_ai_name', 'change_language',\n",
              "       'change_speed', 'change_user_name', 'change_volume',\n",
              "       'confirm_reservation', 'cook_time', 'credit_limit',\n",
              "       'credit_limit_change', 'credit_score', 'current_location',\n",
              "       'damaged_card', 'date', 'definition', 'direct_deposit',\n",
              "       'directions', 'distance', 'do_you_have_pets', 'exchange_rate',\n",
              "       'expiration_date', 'find_phone', 'flight_status', 'flip_coin',\n",
              "       'food_last', 'freeze_account', 'fun_fact', 'gas', 'gas_type',\n",
              "       'goodbye', 'greeting', 'how_busy', 'how_old_are_you',\n",
              "       'improve_credit_score', 'income', 'ingredient_substitution',\n",
              "       'ingredients_list', 'insurance', 'insurance_change',\n",
              "       'interest_rate', 'international_fees', 'international_visa',\n",
              "       'jump_start', 'last_maintenance', 'lost_luggage', 'make_call',\n",
              "       'maybe', 'meal_suggestion', 'meaning_of_life',\n",
              "       'measurement_conversion', 'meeting_schedule', 'min_payment', 'mpg',\n",
              "       'new_card', 'next_holiday', 'next_song', 'no', 'nutrition_info',\n",
              "       'oil_change_how', 'oil_change_when', 'oos', 'order',\n",
              "       'order_checks', 'order_status', 'pay_bill', 'payday', 'pin_change',\n",
              "       'play_music', 'plug_type', 'pto_balance', 'pto_request',\n",
              "       'pto_request_status', 'pto_used', 'recipe', 'redeem_rewards',\n",
              "       'reminder', 'reminder_update', 'repeat',\n",
              "       'replacement_card_duration', 'report_fraud', 'report_lost_card',\n",
              "       'reset_settings', 'restaurant_reservation', 'restaurant_reviews',\n",
              "       'restaurant_suggestion', 'rewards_balance', 'roll_dice',\n",
              "       'rollover_401k', 'routing', 'schedule_maintenance',\n",
              "       'schedule_meeting', 'share_location', 'shopping_list',\n",
              "       'shopping_list_update', 'smart_home', 'spelling',\n",
              "       'spending_history', 'sync_device', 'taxes', 'tell_joke', 'text',\n",
              "       'thank_you', 'time', 'timer', 'timezone', 'tire_change',\n",
              "       'tire_pressure', 'todo_list', 'todo_list_update', 'traffic',\n",
              "       'transactions', 'transfer', 'translate', 'travel_alert',\n",
              "       'travel_notification', 'travel_suggestion', 'uber',\n",
              "       'update_playlist', 'user_name', 'vaccines', 'w2', 'weather',\n",
              "       'what_are_your_hobbies', 'what_can_i_ask_you', 'what_is_your_name',\n",
              "       'what_song', 'where_are_you_from', 'whisper_mode',\n",
              "       'who_do_you_work_for', 'who_made_you', 'yes'], dtype='<U25')"
            ]
          },
          "metadata": {},
          "execution_count": 61
        }
      ]
    },
    {
      "cell_type": "code",
      "source": [
        "import pickle\n",
        "\n",
        "labelpath = 'label-151.pkl'\n",
        "with open(labelpath, 'wb') as handle:\n",
        "    pickle.dump(labelBinary, handle, protocol=pickle.HIGHEST_PROTOCOL)"
      ],
      "metadata": {
        "id": "RYx3IvRe0WF6"
      },
      "execution_count": 62,
      "outputs": []
    },
    {
      "cell_type": "code",
      "source": [
        "print(labels.shape, text.shape)"
      ],
      "metadata": {
        "colab": {
          "base_uri": "https://localhost:8080/"
        },
        "id": "TRmbO9U40WAr",
        "outputId": "cd99bf7a-d519-4e1e-ac9b-67221720560e"
      },
      "execution_count": 63,
      "outputs": [
        {
          "output_type": "stream",
          "name": "stdout",
          "text": [
            "(15100, 151) (15100,)\n"
          ]
        }
      ]
    },
    {
      "cell_type": "code",
      "source": [
        "labels"
      ],
      "metadata": {
        "colab": {
          "base_uri": "https://localhost:8080/"
        },
        "id": "RtrSOrONTq4A",
        "outputId": "45386fe1-b05b-4a62-9efe-14a66a20dea4"
      },
      "execution_count": 64,
      "outputs": [
        {
          "output_type": "execute_result",
          "data": {
            "text/plain": [
              "array([[0, 0, 0, ..., 0, 0, 0],\n",
              "       [0, 0, 0, ..., 0, 0, 0],\n",
              "       [0, 0, 0, ..., 0, 0, 1],\n",
              "       ...,\n",
              "       [0, 0, 0, ..., 0, 0, 0],\n",
              "       [0, 0, 0, ..., 0, 0, 0],\n",
              "       [0, 0, 0, ..., 0, 0, 0]])"
            ]
          },
          "metadata": {},
          "execution_count": 64
        }
      ]
    },
    {
      "cell_type": "markdown",
      "source": [
        "#### Transform validation dataset"
      ],
      "metadata": {
        "id": "u-xKz0Rh4jog"
      }
    },
    {
      "cell_type": "code",
      "source": [
        "test.head()"
      ],
      "metadata": {
        "id": "iVjGWs5y4u3S",
        "colab": {
          "base_uri": "https://localhost:8080/",
          "height": 206
        },
        "outputId": "6ab614b6-a746-4be4-edf0-c3b4215578ba"
      },
      "execution_count": 65,
      "outputs": [
        {
          "output_type": "execute_result",
          "data": {
            "text/html": [
              "\n",
              "  <div id=\"df-422cc89a-baa2-4ece-9bcf-c2e28f89ff5c\">\n",
              "    <div class=\"colab-df-container\">\n",
              "      <div>\n",
              "<style scoped>\n",
              "    .dataframe tbody tr th:only-of-type {\n",
              "        vertical-align: middle;\n",
              "    }\n",
              "\n",
              "    .dataframe tbody tr th {\n",
              "        vertical-align: top;\n",
              "    }\n",
              "\n",
              "    .dataframe thead th {\n",
              "        text-align: right;\n",
              "    }\n",
              "</style>\n",
              "<table border=\"1\" class=\"dataframe\">\n",
              "  <thead>\n",
              "    <tr style=\"text-align: right;\">\n",
              "      <th></th>\n",
              "      <th>text</th>\n",
              "      <th>intent</th>\n",
              "    </tr>\n",
              "  </thead>\n",
              "  <tbody>\n",
              "    <tr>\n",
              "      <th>0</th>\n",
              "      <td>i would like to do some things in phoenix</td>\n",
              "      <td>travel_suggestion</td>\n",
              "    </tr>\n",
              "    <tr>\n",
              "      <th>1</th>\n",
              "      <td>what are the steps to rollover my 401k</td>\n",
              "      <td>rollover_401k</td>\n",
              "    </tr>\n",
              "    <tr>\n",
              "      <th>2</th>\n",
              "      <td>what films are in the running for best song at...</td>\n",
              "      <td>oos</td>\n",
              "    </tr>\n",
              "    <tr>\n",
              "      <th>3</th>\n",
              "      <td>will you tell me how the ai is doing</td>\n",
              "      <td>greeting</td>\n",
              "    </tr>\n",
              "    <tr>\n",
              "      <th>4</th>\n",
              "      <td>how would i say what is your name if i were fr...</td>\n",
              "      <td>translate</td>\n",
              "    </tr>\n",
              "  </tbody>\n",
              "</table>\n",
              "</div>\n",
              "      <button class=\"colab-df-convert\" onclick=\"convertToInteractive('df-422cc89a-baa2-4ece-9bcf-c2e28f89ff5c')\"\n",
              "              title=\"Convert this dataframe to an interactive table.\"\n",
              "              style=\"display:none;\">\n",
              "        \n",
              "  <svg xmlns=\"http://www.w3.org/2000/svg\" height=\"24px\"viewBox=\"0 0 24 24\"\n",
              "       width=\"24px\">\n",
              "    <path d=\"M0 0h24v24H0V0z\" fill=\"none\"/>\n",
              "    <path d=\"M18.56 5.44l.94 2.06.94-2.06 2.06-.94-2.06-.94-.94-2.06-.94 2.06-2.06.94zm-11 1L8.5 8.5l.94-2.06 2.06-.94-2.06-.94L8.5 2.5l-.94 2.06-2.06.94zm10 10l.94 2.06.94-2.06 2.06-.94-2.06-.94-.94-2.06-.94 2.06-2.06.94z\"/><path d=\"M17.41 7.96l-1.37-1.37c-.4-.4-.92-.59-1.43-.59-.52 0-1.04.2-1.43.59L10.3 9.45l-7.72 7.72c-.78.78-.78 2.05 0 2.83L4 21.41c.39.39.9.59 1.41.59.51 0 1.02-.2 1.41-.59l7.78-7.78 2.81-2.81c.8-.78.8-2.07 0-2.86zM5.41 20L4 18.59l7.72-7.72 1.47 1.35L5.41 20z\"/>\n",
              "  </svg>\n",
              "      </button>\n",
              "      \n",
              "  <style>\n",
              "    .colab-df-container {\n",
              "      display:flex;\n",
              "      flex-wrap:wrap;\n",
              "      gap: 12px;\n",
              "    }\n",
              "\n",
              "    .colab-df-convert {\n",
              "      background-color: #E8F0FE;\n",
              "      border: none;\n",
              "      border-radius: 50%;\n",
              "      cursor: pointer;\n",
              "      display: none;\n",
              "      fill: #1967D2;\n",
              "      height: 32px;\n",
              "      padding: 0 0 0 0;\n",
              "      width: 32px;\n",
              "    }\n",
              "\n",
              "    .colab-df-convert:hover {\n",
              "      background-color: #E2EBFA;\n",
              "      box-shadow: 0px 1px 2px rgba(60, 64, 67, 0.3), 0px 1px 3px 1px rgba(60, 64, 67, 0.15);\n",
              "      fill: #174EA6;\n",
              "    }\n",
              "\n",
              "    [theme=dark] .colab-df-convert {\n",
              "      background-color: #3B4455;\n",
              "      fill: #D2E3FC;\n",
              "    }\n",
              "\n",
              "    [theme=dark] .colab-df-convert:hover {\n",
              "      background-color: #434B5C;\n",
              "      box-shadow: 0px 1px 3px 1px rgba(0, 0, 0, 0.15);\n",
              "      filter: drop-shadow(0px 1px 2px rgba(0, 0, 0, 0.3));\n",
              "      fill: #FFFFFF;\n",
              "    }\n",
              "  </style>\n",
              "\n",
              "      <script>\n",
              "        const buttonEl =\n",
              "          document.querySelector('#df-422cc89a-baa2-4ece-9bcf-c2e28f89ff5c button.colab-df-convert');\n",
              "        buttonEl.style.display =\n",
              "          google.colab.kernel.accessAllowed ? 'block' : 'none';\n",
              "\n",
              "        async function convertToInteractive(key) {\n",
              "          const element = document.querySelector('#df-422cc89a-baa2-4ece-9bcf-c2e28f89ff5c');\n",
              "          const dataTable =\n",
              "            await google.colab.kernel.invokeFunction('convertToInteractive',\n",
              "                                                     [key], {});\n",
              "          if (!dataTable) return;\n",
              "\n",
              "          const docLinkHtml = 'Like what you see? Visit the ' +\n",
              "            '<a target=\"_blank\" href=https://colab.research.google.com/notebooks/data_table.ipynb>data table notebook</a>'\n",
              "            + ' to learn more about interactive tables.';\n",
              "          element.innerHTML = '';\n",
              "          dataTable['output_type'] = 'display_data';\n",
              "          await google.colab.output.renderOutput(dataTable, element);\n",
              "          const docLink = document.createElement('div');\n",
              "          docLink.innerHTML = docLinkHtml;\n",
              "          element.appendChild(docLink);\n",
              "        }\n",
              "      </script>\n",
              "    </div>\n",
              "  </div>\n",
              "  "
            ],
            "text/plain": [
              "                                                text             intent\n",
              "0          i would like to do some things in phoenix  travel_suggestion\n",
              "1             what are the steps to rollover my 401k      rollover_401k\n",
              "2  what films are in the running for best song at...                oos\n",
              "3               will you tell me how the ai is doing           greeting\n",
              "4  how would i say what is your name if i were fr...          translate"
            ]
          },
          "metadata": {},
          "execution_count": 65
        }
      ]
    },
    {
      "cell_type": "code",
      "source": [
        "val_labels = labelBinary.transform(test['intent'])\n",
        "val_text = test['text']"
      ],
      "metadata": {
        "id": "tpiQxFH04jBS"
      },
      "execution_count": 66,
      "outputs": []
    },
    {
      "cell_type": "code",
      "source": [
        "val_labels"
      ],
      "metadata": {
        "colab": {
          "base_uri": "https://localhost:8080/"
        },
        "id": "-oWbhHXlS9ZV",
        "outputId": "d2ec1efc-adf4-4a19-b41a-46d1f6592d22"
      },
      "execution_count": 67,
      "outputs": [
        {
          "output_type": "execute_result",
          "data": {
            "text/plain": [
              "array([[0, 0, 0, ..., 0, 0, 0],\n",
              "       [0, 0, 0, ..., 0, 0, 0],\n",
              "       [0, 0, 0, ..., 0, 0, 0],\n",
              "       ...,\n",
              "       [0, 0, 0, ..., 0, 0, 0],\n",
              "       [0, 0, 0, ..., 0, 0, 0],\n",
              "       [0, 0, 0, ..., 0, 0, 0]])"
            ]
          },
          "metadata": {},
          "execution_count": 67
        }
      ]
    },
    {
      "cell_type": "markdown",
      "metadata": {
        "id": "bWRbhw8qOljk"
      },
      "source": [
        "### **Download & Load Word Vectors for Embedding (Glove)**"
      ]
    },
    {
      "cell_type": "markdown",
      "metadata": {
        "id": "mQQh-7I_McGj"
      },
      "source": [
        "* *Download and extract word vectors Glove*"
      ]
    },
    {
      "cell_type": "code",
      "metadata": {
        "id": "-jo10NRyMTmG",
        "colab": {
          "base_uri": "https://localhost:8080/"
        },
        "outputId": "7d7a7851-f8e8-4ca6-f8cb-8a2147b0acdb"
      },
      "source": [
        "# %%time\n",
        "\n",
        "import zipfile\n",
        "!wget http://nlp.stanford.edu/data/glove.840B.300d.zip\n",
        "zip_file = zipfile.ZipFile('glove.840B.300d.zip')\n",
        "zip_file.extractall()"
      ],
      "execution_count": null,
      "outputs": [
        {
          "output_type": "stream",
          "name": "stdout",
          "text": [
            "--2022-01-05 07:49:27--  http://nlp.stanford.edu/data/glove.840B.300d.zip\n",
            "Resolving nlp.stanford.edu (nlp.stanford.edu)... 171.64.67.140\n",
            "Connecting to nlp.stanford.edu (nlp.stanford.edu)|171.64.67.140|:80... connected.\n",
            "HTTP request sent, awaiting response... 302 Found\n",
            "Location: https://nlp.stanford.edu/data/glove.840B.300d.zip [following]\n",
            "--2022-01-05 07:49:27--  https://nlp.stanford.edu/data/glove.840B.300d.zip\n",
            "Connecting to nlp.stanford.edu (nlp.stanford.edu)|171.64.67.140|:443... connected.\n",
            "HTTP request sent, awaiting response... 301 Moved Permanently\n",
            "Location: http://downloads.cs.stanford.edu/nlp/data/glove.840B.300d.zip [following]\n",
            "--2022-01-05 07:49:27--  http://downloads.cs.stanford.edu/nlp/data/glove.840B.300d.zip\n",
            "Resolving downloads.cs.stanford.edu (downloads.cs.stanford.edu)... 171.64.64.22\n",
            "Connecting to downloads.cs.stanford.edu (downloads.cs.stanford.edu)|171.64.64.22|:80... connected.\n",
            "HTTP request sent, awaiting response... 200 OK\n",
            "Length: 2176768927 (2.0G) [application/zip]\n",
            "Saving to: ‘glove.840B.300d.zip’\n",
            "\n",
            "glove.840B.300d.zip 100%[===================>]   2.03G  4.95MB/s    in 6m 53s  \n",
            "\n",
            "2022-01-05 07:56:20 (5.03 MB/s) - ‘glove.840B.300d.zip’ saved [2176768927/2176768927]\n",
            "\n"
          ]
        }
      ]
    },
    {
      "cell_type": "markdown",
      "metadata": {
        "id": "TGHB3FeGOSiG"
      },
      "source": [
        "* *Load Word vectors in memory*"
      ]
    },
    {
      "cell_type": "code",
      "metadata": {
        "colab": {
          "base_uri": "https://localhost:8080/",
          "height": 116,
          "referenced_widgets": [
            "09894801a75f4789b8f85197a6e87c25",
            "9db5051920e7406f8825cebd8a81ae46",
            "9f10f74180e04bbeb349bb0b87fa26fe",
            "3c076c7443c144eb94ba0297407f05c5",
            "62cf3928c05849599158956277f2397a",
            "a18615dc6bea46fe847ca8c54a5f4993",
            "830e7a92dcc446a999eafb3995e6f5b3",
            "979dbd5bd1604b90b22fc37ca2bb7c4d",
            "221cfed8eb714fe6a633257c5653d886",
            "ea44b241dab04ffe8d265e3d2f8d8983",
            "b5d2d45d81db49e6a7cc02d126708fcb",
            "31f6b1869e61486a83e80c0bd2607179",
            "a55f99fae34e460484f3ef0d3f056099",
            "673c450a450d444b83dc4d8c8cb8207f",
            "c978bbe4e88c42bba2a34645d213ef23",
            "e7ad8e86f8ab45659aae8f6b07366916",
            "189216f295a94d9faee397ac42295817",
            "e9d9e64f2ca34b2286b3b49f0ec6e98a",
            "a212c75a40bd418bbf2bf0c644ad0340",
            "18be9693e5104d84be57bd6fcb7e9810",
            "26bb8d321f044c9180c01f3704428489",
            "328d3bc5ac0e4465a87d1f6d6fb06b5f"
          ]
        },
        "id": "49DV0K0HMit7",
        "outputId": "0f6486b3-e421-4693-d4d5-ce6a2ff94158"
      },
      "source": [
        "%%time\n",
        "\n",
        "from tqdm.notebook import tqdm\n",
        "import numpy as np \n",
        " \n",
        "def get_coefs(word, *arr):\n",
        "    try:\n",
        "        return word, np.asarray(arr, dtype='float32')\n",
        "    except:\n",
        "        return None, None\n",
        "\n",
        "embedding_path = '/content/drive/MyDrive/data_science/embeddings/glove.840B.300d.txt'\n",
        "embeddings_index = dict(get_coefs(*o.strip().split()) for o in tqdm(open(\n",
        "    embedding_path)))\n",
        " \n",
        "embed_size=300\n",
        " \n",
        "for k in tqdm(list(embeddings_index.keys())):\n",
        "    v = embeddings_index[k]\n",
        "    try:\n",
        "        if v.shape != (embed_size, ):\n",
        "            embeddings_index.pop(k)\n",
        "    except:\n",
        "        pass\n",
        " \n",
        "if None in embeddings_index:\n",
        "  embeddings_index.pop(None)\n",
        "  \n",
        "values = list(embeddings_index.values())\n",
        "all_embs = np.stack(values)\n",
        " \n",
        "emb_mean, emb_std = all_embs.mean(), all_embs.std()"
      ],
      "execution_count": 28,
      "outputs": [
        {
          "output_type": "display_data",
          "data": {
            "application/vnd.jupyter.widget-view+json": {
              "model_id": "09894801a75f4789b8f85197a6e87c25",
              "version_minor": 0,
              "version_major": 2
            },
            "text/plain": [
              "0it [00:00, ?it/s]"
            ]
          },
          "metadata": {}
        },
        {
          "output_type": "display_data",
          "data": {
            "application/vnd.jupyter.widget-view+json": {
              "model_id": "31f6b1869e61486a83e80c0bd2607179",
              "version_minor": 0,
              "version_major": 2
            },
            "text/plain": [
              "  0%|          | 0/2195885 [00:00<?, ?it/s]"
            ]
          },
          "metadata": {}
        },
        {
          "output_type": "stream",
          "name": "stdout",
          "text": [
            "CPU times: user 3min 13s, sys: 15.1 s, total: 3min 28s\n",
            "Wall time: 3min 41s\n"
          ]
        }
      ]
    },
    {
      "cell_type": "markdown",
      "metadata": {
        "id": "3lIexLVw5klJ"
      },
      "source": [
        "### **Tokenizing the Dataset using keras**\n",
        "\n"
      ]
    },
    {
      "cell_type": "markdown",
      "metadata": {
        "id": "dtipf4Ad5ebS"
      },
      "source": [
        "* *Read the train and test file from directory and split the train dataset in train test split*"
      ]
    },
    {
      "cell_type": "code",
      "metadata": {
        "id": "uVgNOXuSr-nR"
      },
      "source": [
        "import tensorflow"
      ],
      "execution_count": 29,
      "outputs": []
    },
    {
      "cell_type": "code",
      "metadata": {
        "id": "-msqkEAe56GW"
      },
      "source": [
        "from tensorflow.keras.preprocessing.text import Tokenizer\n",
        "from tensorflow.keras.preprocessing.text import text_to_word_sequence\n",
        "from tensorflow.keras.preprocessing.sequence import pad_sequences\n",
        " \n",
        " \n",
        "from tensorflow.keras.models import Model\n",
        "from tensorflow.keras.models import Sequential\n",
        " \n",
        "from tensorflow.keras.layers import Input, Dense, Embedding, Conv1D, Conv2D, MaxPooling1D, MaxPool2D\n",
        "from tensorflow.keras.layers import Reshape, Flatten, Dropout, Concatenate\n",
        "from tensorflow.keras.layers import SpatialDropout1D, concatenate\n",
        "from tensorflow.keras.layers import GRU,LSTM,Bidirectional, GlobalAveragePooling1D, GlobalMaxPooling1D\n",
        "from tensorflow.keras.layers import TimeDistributed\n",
        " \n",
        "from tensorflow.keras.callbacks import Callback\n",
        "from tensorflow.keras.optimizers import Adam\n",
        " \n",
        "from tensorflow.keras.callbacks import ModelCheckpoint, EarlyStopping"
      ],
      "execution_count": 30,
      "outputs": []
    },
    {
      "cell_type": "markdown",
      "metadata": {
        "id": "IyhQy2whXgmK"
      },
      "source": [
        "#### **Save Keras Tokenizer**"
      ]
    },
    {
      "cell_type": "code",
      "metadata": {
        "colab": {
          "base_uri": "https://localhost:8080/"
        },
        "id": "4Fg0FozOvNms",
        "outputId": "aa8f6a8d-94ef-4a9f-c712-019c4bcaef61"
      },
      "source": [
        "text.map(len).max()"
      ],
      "execution_count": 68,
      "outputs": [
        {
          "output_type": "execute_result",
          "data": {
            "text/plain": [
              "136"
            ]
          },
          "metadata": {},
          "execution_count": 68
        }
      ]
    },
    {
      "cell_type": "code",
      "metadata": {
        "colab": {
          "base_uri": "https://localhost:8080/"
        },
        "id": "lFJhazYhtB7B",
        "outputId": "47d257c3-d425-4075-edc9-1b712b731dfd"
      },
      "source": [
        "%%time\n",
        "MAX_NB_WORDS = 10000\n",
        "# tokenizer = Tokenizer(num_words=MAX_NB_WORDS)\n",
        "tokenizer = Tokenizer(num_words=MAX_NB_WORDS)\n",
        "tokenizer.fit_on_texts(text)"
      ],
      "execution_count": 69,
      "outputs": [
        {
          "output_type": "stream",
          "name": "stdout",
          "text": [
            "CPU times: user 229 ms, sys: 1.99 ms, total: 231 ms\n",
            "Wall time: 233 ms\n"
          ]
        }
      ]
    },
    {
      "cell_type": "code",
      "metadata": {
        "colab": {
          "base_uri": "https://localhost:8080/"
        },
        "id": "CwwezOjS9A67",
        "outputId": "748c60a7-2f97-4905-e60b-669c212e5026"
      },
      "source": [
        "%%time\n",
        "train_sequences = tokenizer.texts_to_sequences(text)"
      ],
      "execution_count": 70,
      "outputs": [
        {
          "output_type": "stream",
          "name": "stdout",
          "text": [
            "CPU times: user 178 ms, sys: 743 µs, total: 179 ms\n",
            "Wall time: 183 ms\n"
          ]
        }
      ]
    },
    {
      "cell_type": "code",
      "metadata": {
        "colab": {
          "base_uri": "https://localhost:8080/"
        },
        "id": "9r4OI_naXdx1",
        "outputId": "9aa47d0c-431f-49ad-9b1b-719acc315913"
      },
      "source": [
        "train_sequences[:3]"
      ],
      "execution_count": 71,
      "outputs": [
        {
          "output_type": "execute_result",
          "data": {
            "text/plain": [
              "[[10, 24, 257, 8, 5, 2, 75, 4, 211, 188],\n",
              " [664, 8, 7, 665, 27, 584, 283],\n",
              " [536]]"
            ]
          },
          "metadata": {},
          "execution_count": 71
        }
      ]
    },
    {
      "cell_type": "code",
      "metadata": {
        "colab": {
          "base_uri": "https://localhost:8080/"
        },
        "id": "mnRau9Vzz89W",
        "outputId": "54328dd7-836a-4537-fffd-db4424712023"
      },
      "source": [
        "print(text[0], train_sequences[0])"
      ],
      "execution_count": 72,
      "outputs": [
        {
          "output_type": "stream",
          "name": "stdout",
          "text": [
            "is it possible for you to use the whisper voice [10, 24, 257, 8, 5, 2, 75, 4, 211, 188]\n"
          ]
        }
      ]
    },
    {
      "cell_type": "code",
      "metadata": {
        "id": "nOx4Up9Pi7N2"
      },
      "source": [
        "def FindMaxLength(lst): \n",
        "    maxList = max(lst, key = lambda i: len(i)) \n",
        "    maxLength = len(maxList) \n",
        "    return maxLength\n",
        "\n",
        "MAX_LENGTH = FindMaxLength(train_sequences)"
      ],
      "execution_count": 73,
      "outputs": []
    },
    {
      "cell_type": "code",
      "metadata": {
        "colab": {
          "base_uri": "https://localhost:8080/"
        },
        "id": "S4jdN62foenP",
        "outputId": "f80a2574-6c3d-4206-b583-ae550caafb2f"
      },
      "source": [
        "print(MAX_LENGTH)"
      ],
      "execution_count": 74,
      "outputs": [
        {
          "output_type": "stream",
          "name": "stdout",
          "text": [
            "28\n"
          ]
        }
      ]
    },
    {
      "cell_type": "markdown",
      "metadata": {
        "id": "R9DSBV4f9IoR"
      },
      "source": [
        "* Now the Sentences are mapped to lists of integers. However, we still cannot stack them together in a matrix since they have different lengths.\n",
        "Hopefully Keras allows to **pad** sequences with **0s** to a maximum length. We'll set this length to 425."
      ]
    },
    {
      "cell_type": "code",
      "metadata": {
        "colab": {
          "base_uri": "https://localhost:8080/"
        },
        "id": "h3EKPUNe9Ecm",
        "outputId": "342d5e04-a1a5-4a4f-fa00-9ab37d517964"
      },
      "source": [
        "%%time\n",
        "padded_train_sequences = pad_sequences(train_sequences, maxlen=MAX_LENGTH)"
      ],
      "execution_count": 75,
      "outputs": [
        {
          "output_type": "stream",
          "name": "stdout",
          "text": [
            "CPU times: user 90.3 ms, sys: 6.36 ms, total: 96.7 ms\n",
            "Wall time: 89.1 ms\n"
          ]
        }
      ]
    },
    {
      "cell_type": "code",
      "metadata": {
        "colab": {
          "base_uri": "https://localhost:8080/"
        },
        "id": "WaDSp1ZE-Jpk",
        "outputId": "0393efe6-a835-4b07-a359-85ddd28e9d73"
      },
      "source": [
        "%%time\n",
        "padded_train_sequences"
      ],
      "execution_count": 76,
      "outputs": [
        {
          "output_type": "stream",
          "name": "stdout",
          "text": [
            "CPU times: user 4 µs, sys: 1 µs, total: 5 µs\n",
            "Wall time: 8.11 µs\n"
          ]
        },
        {
          "output_type": "execute_result",
          "data": {
            "text/plain": [
              "array([[  0,   0,   0, ...,   4, 211, 188],\n",
              "       [  0,   0,   0, ...,  27, 584, 283],\n",
              "       [  0,   0,   0, ...,   0,   0, 536],\n",
              "       ...,\n",
              "       [  0,   0,   0, ...,  15,   4, 303],\n",
              "       [  0,   0,   0, ...,   0, 165, 221],\n",
              "       [  0,   0,   0, ...,   6,  22, 210]], dtype=int32)"
            ]
          },
          "metadata": {},
          "execution_count": 76
        }
      ]
    },
    {
      "cell_type": "code",
      "metadata": {
        "colab": {
          "base_uri": "https://localhost:8080/"
        },
        "id": "MR5FrUKX-R08",
        "outputId": "3d687f54-d724-4ffe-8043-11bcfe5a92be"
      },
      "source": [
        "%%time\n",
        "padded_train_sequences.shape"
      ],
      "execution_count": 77,
      "outputs": [
        {
          "output_type": "stream",
          "name": "stdout",
          "text": [
            "CPU times: user 6 µs, sys: 1e+03 ns, total: 7 µs\n",
            "Wall time: 10.5 µs\n"
          ]
        },
        {
          "output_type": "execute_result",
          "data": {
            "text/plain": [
              "(15100, 28)"
            ]
          },
          "metadata": {},
          "execution_count": 77
        }
      ]
    },
    {
      "cell_type": "code",
      "metadata": {
        "id": "4OjGiot5UdGn"
      },
      "source": [
        "import pickle\n",
        " \n",
        "with open('token-28.pkl', 'wb') as handle:\n",
        "    pickle.dump(tokenizer, handle, protocol=pickle.HIGHEST_PROTOCOL)"
      ],
      "execution_count": 78,
      "outputs": []
    },
    {
      "cell_type": "markdown",
      "metadata": {
        "id": "EtZlVLSEsxRT"
      },
      "source": [
        "#### **Use Saved keras tokenizer**"
      ]
    },
    {
      "cell_type": "code",
      "metadata": {
        "id": "bXhRRXKd3o4z"
      },
      "source": [
        "import pickle\n",
        "cat_token = 'token-28.pkl'\n",
        "with open(cat_token, 'rb') as handle:\n",
        "    load_token = pickle.load(handle)"
      ],
      "execution_count": 79,
      "outputs": []
    },
    {
      "cell_type": "code",
      "metadata": {
        "colab": {
          "base_uri": "https://localhost:8080/",
          "height": 35
        },
        "id": "rDM3udJkW2hw",
        "outputId": "91844e0c-4d4b-48d9-936a-5b92a37ccc55"
      },
      "source": [
        "text[2]"
      ],
      "execution_count": 80,
      "outputs": [
        {
          "output_type": "execute_result",
          "data": {
            "application/vnd.google.colaboratory.intrinsic+json": {
              "type": "string"
            },
            "text/plain": [
              "'correct'"
            ]
          },
          "metadata": {},
          "execution_count": 80
        }
      ]
    },
    {
      "cell_type": "code",
      "metadata": {
        "id": "SD7R7zUW5Fsw"
      },
      "source": [
        "# MAX_LENGTH = 28\n",
        "train_sequences = load_token.texts_to_sequences(text)\n",
        "padded_train_sequences = pad_sequences(train_sequences, maxlen=MAX_LENGTH)\n",
        "\n",
        "# padding val\n",
        "val_sequences = load_token.texts_to_sequences(val_text)\n",
        "padded_val_sequences = pad_sequences(val_sequences, maxlen=MAX_LENGTH)"
      ],
      "execution_count": 81,
      "outputs": []
    },
    {
      "cell_type": "code",
      "metadata": {
        "colab": {
          "base_uri": "https://localhost:8080/"
        },
        "id": "6sbk6cclMS7I",
        "outputId": "972ec0c9-0378-4d9f-e876-4533d99db9ea"
      },
      "source": [
        "padded_train_sequences.shape"
      ],
      "execution_count": 82,
      "outputs": [
        {
          "output_type": "execute_result",
          "data": {
            "text/plain": [
              "(15100, 28)"
            ]
          },
          "metadata": {},
          "execution_count": 82
        }
      ]
    },
    {
      "cell_type": "code",
      "source": [
        "padded_val_sequences.shape"
      ],
      "metadata": {
        "id": "HITN1QTyzN7O",
        "colab": {
          "base_uri": "https://localhost:8080/"
        },
        "outputId": "a08616db-f8aa-4d21-d164-fd7fe451a0a0"
      },
      "execution_count": 83,
      "outputs": [
        {
          "output_type": "execute_result",
          "data": {
            "text/plain": [
              "(5500, 28)"
            ]
          },
          "metadata": {},
          "execution_count": 83
        }
      ]
    },
    {
      "cell_type": "markdown",
      "metadata": {
        "id": "utRC5pB8_AJw"
      },
      "source": [
        "### **Training Model using Glove Embedding while using RNN & CNN**"
      ]
    },
    {
      "cell_type": "code",
      "metadata": {
        "colab": {
          "base_uri": "https://localhost:8080/",
          "height": 101,
          "referenced_widgets": [
            "30819723dc4d477c954867a62c70f77a",
            "000c75f9838c43c2a7af0adfebfad71a",
            "8ac3a7919cc54fc79b01ded7ef4c4ca7",
            "5b002db0161a488484dbc4a2d712e298",
            "a3f40ebba6e949dcad6ffbe6c89d783d",
            "5adcc2efed294c33a587075a7e8ef73e",
            "3fe85c18b92b445dba4b2e521ae7ece2",
            "81dbce0f778944d9bb3928cc4f662da8",
            "01aa728cdea1499c965b224c022fc87d",
            "7830410d22424e8183135a05c0cfe37c",
            "e0fcefe2458246c5969c85f1873d6308"
          ]
        },
        "id": "FkkFCyOX5klK",
        "outputId": "7c176f7e-4286-4805-b28a-62df9d305faf"
      },
      "source": [
        "%%time\n",
        "# MAX_NB_WORDS = 2600\n",
        "word_index = load_token.word_index\n",
        "nb_words = MAX_NB_WORDS\n",
        "embedding_matrix = np.random.normal(emb_mean, emb_std, (nb_words, embed_size))\n",
        " \n",
        "oov = 0\n",
        "for word, i in tqdm(word_index.items()):\n",
        "    if i >= MAX_NB_WORDS: continue\n",
        "    embedding_vector = embeddings_index.get(word)\n",
        "    if embedding_vector is not None:\n",
        "        embedding_matrix[i] = embedding_vector\n",
        "    else:\n",
        "        oov += 1\n",
        " \n",
        "print(oov)"
      ],
      "execution_count": 84,
      "outputs": [
        {
          "output_type": "display_data",
          "data": {
            "application/vnd.jupyter.widget-view+json": {
              "model_id": "30819723dc4d477c954867a62c70f77a",
              "version_minor": 0,
              "version_major": 2
            },
            "text/plain": [
              "  0%|          | 0/5350 [00:00<?, ?it/s]"
            ]
          },
          "metadata": {}
        },
        {
          "output_type": "stream",
          "name": "stdout",
          "text": [
            "340\n",
            "CPU times: user 186 ms, sys: 2.01 ms, total: 188 ms\n",
            "Wall time: 194 ms\n"
          ]
        }
      ]
    },
    {
      "cell_type": "markdown",
      "metadata": {
        "id": "iZVvISMGRefj"
      },
      "source": [
        "* Loading the Layers and Embedding"
      ]
    },
    {
      "cell_type": "code",
      "metadata": {
        "colab": {
          "base_uri": "https://localhost:8080/"
        },
        "id": "G5fFz2FfSKxV",
        "outputId": "2b0d7913-9cf0-4516-b304-129ce4f7b8fa"
      },
      "source": [
        "len(labels[0])"
      ],
      "execution_count": 85,
      "outputs": [
        {
          "output_type": "execute_result",
          "data": {
            "text/plain": [
              "151"
            ]
          },
          "metadata": {},
          "execution_count": 85
        }
      ]
    },
    {
      "cell_type": "code",
      "metadata": {
        "colab": {
          "base_uri": "https://localhost:8080/"
        },
        "id": "tMqOB8RSNAW2",
        "outputId": "7c2c46ac-82a7-4979-f825-7353779c63ff"
      },
      "source": [
        "labels"
      ],
      "execution_count": 86,
      "outputs": [
        {
          "output_type": "execute_result",
          "data": {
            "text/plain": [
              "array([[0, 0, 0, ..., 0, 0, 0],\n",
              "       [0, 0, 0, ..., 0, 0, 0],\n",
              "       [0, 0, 0, ..., 0, 0, 1],\n",
              "       ...,\n",
              "       [0, 0, 0, ..., 0, 0, 0],\n",
              "       [0, 0, 0, ..., 0, 0, 0],\n",
              "       [0, 0, 0, ..., 0, 0, 0]])"
            ]
          },
          "metadata": {},
          "execution_count": 86
        }
      ]
    },
    {
      "cell_type": "code",
      "source": [
        "len(val_labels[0])"
      ],
      "metadata": {
        "colab": {
          "base_uri": "https://localhost:8080/"
        },
        "id": "gY0G0Np_VS-g",
        "outputId": "a82dbcdf-e4cb-4e88-a9e9-bbe0791512e6"
      },
      "execution_count": 87,
      "outputs": [
        {
          "output_type": "execute_result",
          "data": {
            "text/plain": [
              "151"
            ]
          },
          "metadata": {},
          "execution_count": 87
        }
      ]
    },
    {
      "cell_type": "code",
      "metadata": {
        "id": "u8XYuXWtwHh0"
      },
      "source": [
        "LABEL_VALUES = labels\n",
        "LABEL_LEN = len(labels[0])\n",
        "# MAX_LENGTH = 1155\n",
        "# MAX_NB_WORDS = 1170"
      ],
      "execution_count": 88,
      "outputs": []
    },
    {
      "cell_type": "code",
      "source": [
        "LABEL_LEN"
      ],
      "metadata": {
        "colab": {
          "base_uri": "https://localhost:8080/"
        },
        "id": "eeHLhiHJfMtK",
        "outputId": "79cf6493-ab54-4a1c-9ca1-d47c3c9ab663"
      },
      "execution_count": 89,
      "outputs": [
        {
          "output_type": "execute_result",
          "data": {
            "text/plain": [
              "151"
            ]
          },
          "metadata": {},
          "execution_count": 89
        }
      ]
    },
    {
      "cell_type": "code",
      "metadata": {
        "colab": {
          "base_uri": "https://localhost:8080/"
        },
        "id": "2zDAcVPi_L-i",
        "outputId": "2f70978e-0085-41a1-ea17-109d75207877"
      },
      "source": [
        "%%time\n",
        "from tensorflow.keras.regularizers import l2\n",
        "\n",
        "def get_rnn_cnn_model():\n",
        "    embedding_dim = 300\n",
        "    inp = Input(shape=(MAX_LENGTH, ))\n",
        "    x = Embedding(MAX_NB_WORDS, embedding_dim, weights=[embedding_matrix], input_length=MAX_LENGTH, trainable=True)(inp)\n",
        "    x = SpatialDropout1D(0.3)(x)\n",
        "    x = Bidirectional(GRU(100, return_sequences=True))(x)\n",
        "    # x = Bidirectional(LSTM(100, return_sequences=True))(x)\n",
        "    # x = Conv1D(64, kernel_size = 2, padding = \"valid\", kernel_initializer = \"he_uniform\")(x)\n",
        "    x = Conv1D(64, kernel_size = 2, padding = \"valid\", kernel_regularizer=l2(0.0005))(x)\n",
        "    avg_pool = GlobalAveragePooling1D()(x)\n",
        "    max_pool = GlobalMaxPooling1D()(x)\n",
        "    conc = concatenate([avg_pool, max_pool])\n",
        "    outp = Dense(LABEL_LEN, activation=\"softmax\")(conc)\n",
        "    model = Model(inputs=inp, outputs=outp)\n",
        "    optimizer = tensorflow.keras.optimizers.Adam(learning_rate=0.001)\n",
        "    model.compile(loss='categorical_crossentropy',\n",
        "                  optimizer=optimizer,\n",
        "                  metrics=['accuracy'])\n",
        "    return model\n",
        "\n",
        "rnn_cnn_model = get_rnn_cnn_model()"
      ],
      "execution_count": 90,
      "outputs": [
        {
          "output_type": "stream",
          "name": "stdout",
          "text": [
            "CPU times: user 1.08 s, sys: 3.18 s, total: 4.26 s\n",
            "Wall time: 6.35 s\n"
          ]
        }
      ]
    },
    {
      "cell_type": "markdown",
      "metadata": {
        "id": "2xFD0l39RjPH"
      },
      "source": [
        "* **Training and Saving the Model**"
      ]
    },
    {
      "cell_type": "markdown",
      "metadata": {
        "id": "AsJBEk3_SYQs"
      },
      "source": [
        "* *change mode to min if we are going to monitor the loss*\n",
        "* *If we don't want to use validation data for whatever be the reason and implement check pointing, we have to change the ModelCheckpoint to work based on monitor='acc'*\n",
        "* We have to fit validation data like this validation_data=(X_valid, y_valid),"
      ]
    },
    {
      "cell_type": "code",
      "metadata": {
        "id": "2cAUshD_DvaW"
      },
      "source": [
        "filepath = 'oos_model.h5'\n",
        "checkpoint = ModelCheckpoint(filepath,\n",
        "                             monitor='val_accuracy',\n",
        "                             verbose=1,\n",
        "                             save_best_only=True,\n",
        "                             mode='max')\n",
        " \n",
        "# batch size factor of 4,8,16,32\n",
        "BATCH_SIZE = 256\n",
        "epochs = 100"
      ],
      "execution_count": 91,
      "outputs": []
    },
    {
      "cell_type": "code",
      "metadata": {
        "colab": {
          "base_uri": "https://localhost:8080/"
        },
        "id": "GdWRHwNMQzv5",
        "outputId": "1875b5af-ab16-4fc7-c8fa-dff34bd19978"
      },
      "source": [
        "history = rnn_cnn_model.fit(padded_train_sequences, \n",
        "                    LABEL_VALUES, \n",
        "                    # validation_split = 0.1, #0.1\n",
        "                    validation_data=(padded_val_sequences, val_labels), \n",
        "                    batch_size=BATCH_SIZE, \n",
        "                    callbacks=[checkpoint,\n",
        "                               tensorflow.keras.callbacks.EarlyStopping(\n",
        "                                   monitor='val_accuracy', patience=3)], \n",
        "                    epochs=epochs, \n",
        "                    verbose=1,\n",
        "                    shuffle=True)"
      ],
      "execution_count": 92,
      "outputs": [
        {
          "output_type": "stream",
          "name": "stdout",
          "text": [
            "Epoch 1/100\n",
            "59/59 [==============================] - ETA: 0s - loss: 4.7836 - accuracy: 0.0756\n",
            "Epoch 00001: val_accuracy improved from -inf to 0.21382, saving model to oos_model.h5\n",
            "59/59 [==============================] - 20s 71ms/step - loss: 4.7836 - accuracy: 0.0756 - val_loss: 4.1632 - val_accuracy: 0.2138\n",
            "Epoch 2/100\n",
            "58/59 [============================>.] - ETA: 0s - loss: 2.6180 - accuracy: 0.4657\n",
            "Epoch 00002: val_accuracy improved from 0.21382 to 0.53527, saving model to oos_model.h5\n",
            "59/59 [==============================] - 3s 52ms/step - loss: 2.5989 - accuracy: 0.4694 - val_loss: 2.0302 - val_accuracy: 0.5353\n",
            "Epoch 3/100\n",
            "58/59 [============================>.] - ETA: 0s - loss: 0.9393 - accuracy: 0.7952\n",
            "Epoch 00003: val_accuracy improved from 0.53527 to 0.69127, saving model to oos_model.h5\n",
            "59/59 [==============================] - 3s 52ms/step - loss: 0.9353 - accuracy: 0.7960 - val_loss: 1.3910 - val_accuracy: 0.6913\n",
            "Epoch 4/100\n",
            "58/59 [============================>.] - ETA: 0s - loss: 0.5239 - accuracy: 0.8907\n",
            "Epoch 00004: val_accuracy improved from 0.69127 to 0.74745, saving model to oos_model.h5\n",
            "59/59 [==============================] - 3s 52ms/step - loss: 0.5231 - accuracy: 0.8907 - val_loss: 1.1403 - val_accuracy: 0.7475\n",
            "Epoch 5/100\n",
            "58/59 [============================>.] - ETA: 0s - loss: 0.3683 - accuracy: 0.9316\n",
            "Epoch 00005: val_accuracy improved from 0.74745 to 0.75600, saving model to oos_model.h5\n",
            "59/59 [==============================] - 3s 54ms/step - loss: 0.3681 - accuracy: 0.9316 - val_loss: 1.1604 - val_accuracy: 0.7560\n",
            "Epoch 6/100\n",
            "59/59 [==============================] - ETA: 0s - loss: 0.2874 - accuracy: 0.9529\n",
            "Epoch 00006: val_accuracy improved from 0.75600 to 0.76455, saving model to oos_model.h5\n",
            "59/59 [==============================] - 3s 54ms/step - loss: 0.2874 - accuracy: 0.9529 - val_loss: 1.1412 - val_accuracy: 0.7645\n",
            "Epoch 7/100\n",
            "58/59 [============================>.] - ETA: 0s - loss: 0.2402 - accuracy: 0.9636\n",
            "Epoch 00007: val_accuracy improved from 0.76455 to 0.77945, saving model to oos_model.h5\n",
            "59/59 [==============================] - 3s 53ms/step - loss: 0.2398 - accuracy: 0.9638 - val_loss: 1.0581 - val_accuracy: 0.7795\n",
            "Epoch 8/100\n",
            "58/59 [============================>.] - ETA: 0s - loss: 0.2019 - accuracy: 0.9749\n",
            "Epoch 00008: val_accuracy did not improve from 0.77945\n",
            "59/59 [==============================] - 3s 49ms/step - loss: 0.2022 - accuracy: 0.9746 - val_loss: 1.2218 - val_accuracy: 0.7640\n",
            "Epoch 9/100\n",
            "59/59 [==============================] - ETA: 0s - loss: 0.1796 - accuracy: 0.9808\n",
            "Epoch 00009: val_accuracy did not improve from 0.77945\n",
            "59/59 [==============================] - 3s 49ms/step - loss: 0.1796 - accuracy: 0.9808 - val_loss: 1.1911 - val_accuracy: 0.7731\n",
            "Epoch 10/100\n",
            "59/59 [==============================] - ETA: 0s - loss: 0.1565 - accuracy: 0.9862\n",
            "Epoch 00010: val_accuracy did not improve from 0.77945\n",
            "59/59 [==============================] - 3s 51ms/step - loss: 0.1565 - accuracy: 0.9862 - val_loss: 1.1284 - val_accuracy: 0.7760\n"
          ]
        }
      ]
    },
    {
      "cell_type": "markdown",
      "metadata": {
        "id": "YtMmy8Ypqn3V"
      },
      "source": [
        "### **Loading the Tokenizer and Model**"
      ]
    },
    {
      "cell_type": "code",
      "metadata": {
        "id": "3Qa5hvjvL35E"
      },
      "source": [
        "from keras.models import load_model\n",
        "from keras.preprocessing.text import text_to_word_sequence\n",
        "from keras.preprocessing.sequence import pad_sequences\n",
        "import pandas as pd\n",
        "import numpy as np\n",
        "import pickle"
      ],
      "execution_count": 93,
      "outputs": []
    },
    {
      "cell_type": "code",
      "metadata": {
        "id": "3VsvdHAzWban"
      },
      "source": [
        "modelPath = 'oos_model.h5'\n",
        "tokenPath = 'token-28.pkl'\n",
        "labelPath = '/content/label-151.pkl'"
      ],
      "execution_count": 94,
      "outputs": []
    },
    {
      "cell_type": "code",
      "metadata": {
        "id": "4N0-J0WUWRKY"
      },
      "source": [
        "loadModel= load_model(modelPath)\n",
        "\n",
        "with open(tokenPath, 'rb') as handle:\n",
        "    loadToken = pickle.load(handle)\n",
        "\n",
        "with open(labelPath, 'rb') as handle:\n",
        "    loadLabel = pickle.load(handle)\n"
      ],
      "execution_count": 95,
      "outputs": []
    },
    {
      "cell_type": "code",
      "metadata": {
        "id": "vxapQRJ1cid_"
      },
      "source": [
        "LABEL = loadLabel.classes_"
      ],
      "execution_count": 96,
      "outputs": []
    },
    {
      "cell_type": "code",
      "metadata": {
        "colab": {
          "base_uri": "https://localhost:8080/"
        },
        "id": "zp4s9zsXziaD",
        "outputId": "cea03aba-8eed-484c-9ffe-8216675a7060"
      },
      "source": [
        "LABEL"
      ],
      "execution_count": 97,
      "outputs": [
        {
          "output_type": "execute_result",
          "data": {
            "text/plain": [
              "array(['accept_reservations', 'account_blocked', 'alarm',\n",
              "       'application_status', 'apr', 'are_you_a_bot', 'balance',\n",
              "       'bill_balance', 'bill_due', 'book_flight', 'book_hotel',\n",
              "       'calculator', 'calendar', 'calendar_update', 'calories', 'cancel',\n",
              "       'cancel_reservation', 'car_rental', 'card_declined', 'carry_on',\n",
              "       'change_accent', 'change_ai_name', 'change_language',\n",
              "       'change_speed', 'change_user_name', 'change_volume',\n",
              "       'confirm_reservation', 'cook_time', 'credit_limit',\n",
              "       'credit_limit_change', 'credit_score', 'current_location',\n",
              "       'damaged_card', 'date', 'definition', 'direct_deposit',\n",
              "       'directions', 'distance', 'do_you_have_pets', 'exchange_rate',\n",
              "       'expiration_date', 'find_phone', 'flight_status', 'flip_coin',\n",
              "       'food_last', 'freeze_account', 'fun_fact', 'gas', 'gas_type',\n",
              "       'goodbye', 'greeting', 'how_busy', 'how_old_are_you',\n",
              "       'improve_credit_score', 'income', 'ingredient_substitution',\n",
              "       'ingredients_list', 'insurance', 'insurance_change',\n",
              "       'interest_rate', 'international_fees', 'international_visa',\n",
              "       'jump_start', 'last_maintenance', 'lost_luggage', 'make_call',\n",
              "       'maybe', 'meal_suggestion', 'meaning_of_life',\n",
              "       'measurement_conversion', 'meeting_schedule', 'min_payment', 'mpg',\n",
              "       'new_card', 'next_holiday', 'next_song', 'no', 'nutrition_info',\n",
              "       'oil_change_how', 'oil_change_when', 'oos', 'order',\n",
              "       'order_checks', 'order_status', 'pay_bill', 'payday', 'pin_change',\n",
              "       'play_music', 'plug_type', 'pto_balance', 'pto_request',\n",
              "       'pto_request_status', 'pto_used', 'recipe', 'redeem_rewards',\n",
              "       'reminder', 'reminder_update', 'repeat',\n",
              "       'replacement_card_duration', 'report_fraud', 'report_lost_card',\n",
              "       'reset_settings', 'restaurant_reservation', 'restaurant_reviews',\n",
              "       'restaurant_suggestion', 'rewards_balance', 'roll_dice',\n",
              "       'rollover_401k', 'routing', 'schedule_maintenance',\n",
              "       'schedule_meeting', 'share_location', 'shopping_list',\n",
              "       'shopping_list_update', 'smart_home', 'spelling',\n",
              "       'spending_history', 'sync_device', 'taxes', 'tell_joke', 'text',\n",
              "       'thank_you', 'time', 'timer', 'timezone', 'tire_change',\n",
              "       'tire_pressure', 'todo_list', 'todo_list_update', 'traffic',\n",
              "       'transactions', 'transfer', 'translate', 'travel_alert',\n",
              "       'travel_notification', 'travel_suggestion', 'uber',\n",
              "       'update_playlist', 'user_name', 'vaccines', 'w2', 'weather',\n",
              "       'what_are_your_hobbies', 'what_can_i_ask_you', 'what_is_your_name',\n",
              "       'what_song', 'where_are_you_from', 'whisper_mode',\n",
              "       'who_do_you_work_for', 'who_made_you', 'yes'], dtype='<U25')"
            ]
          },
          "metadata": {},
          "execution_count": 97
        }
      ]
    },
    {
      "cell_type": "code",
      "source": [
        "len(LABEL)"
      ],
      "metadata": {
        "colab": {
          "base_uri": "https://localhost:8080/"
        },
        "id": "ddhDWty4gImZ",
        "outputId": "e89d87e9-d1b6-430f-83ad-de1c0dcdf72e"
      },
      "execution_count": 98,
      "outputs": [
        {
          "output_type": "execute_result",
          "data": {
            "text/plain": [
              "151"
            ]
          },
          "metadata": {},
          "execution_count": 98
        }
      ]
    },
    {
      "cell_type": "markdown",
      "metadata": {
        "id": "YOYMOFbe2qwJ"
      },
      "source": [
        "### **Testing**"
      ]
    },
    {
      "cell_type": "code",
      "metadata": {
        "id": "QOBn3p282piR"
      },
      "source": [
        "# oss_plus_val.head()"
      ],
      "execution_count": null,
      "outputs": []
    },
    {
      "cell_type": "code",
      "source": [
        "# test = pd.read_csv('/content/test.tsv', sep='\\t')"
      ],
      "metadata": {
        "id": "JRtecf0zXzD-"
      },
      "execution_count": null,
      "outputs": []
    },
    {
      "cell_type": "code",
      "metadata": {
        "colab": {
          "base_uri": "https://localhost:8080/",
          "height": 424
        },
        "id": "1Kc9IxJFKL7S",
        "outputId": "7a1ac417-1bf1-4833-ed85-1ccadbd5ed62"
      },
      "source": [
        "val"
      ],
      "execution_count": 99,
      "outputs": [
        {
          "output_type": "execute_result",
          "data": {
            "text/html": [
              "\n",
              "  <div id=\"df-dd504c9d-3a99-4999-a18c-11a798329e07\">\n",
              "    <div class=\"colab-df-container\">\n",
              "      <div>\n",
              "<style scoped>\n",
              "    .dataframe tbody tr th:only-of-type {\n",
              "        vertical-align: middle;\n",
              "    }\n",
              "\n",
              "    .dataframe tbody tr th {\n",
              "        vertical-align: top;\n",
              "    }\n",
              "\n",
              "    .dataframe thead th {\n",
              "        text-align: right;\n",
              "    }\n",
              "</style>\n",
              "<table border=\"1\" class=\"dataframe\">\n",
              "  <thead>\n",
              "    <tr style=\"text-align: right;\">\n",
              "      <th></th>\n",
              "      <th>text</th>\n",
              "      <th>intent</th>\n",
              "    </tr>\n",
              "  </thead>\n",
              "  <tbody>\n",
              "    <tr>\n",
              "      <th>0</th>\n",
              "      <td>how much do i need to pay in tax</td>\n",
              "      <td>taxes</td>\n",
              "    </tr>\n",
              "    <tr>\n",
              "      <th>1</th>\n",
              "      <td>forget reservation at longhorn for 4</td>\n",
              "      <td>cancel_reservation</td>\n",
              "    </tr>\n",
              "    <tr>\n",
              "      <th>2</th>\n",
              "      <td>is rice bad after 3 days in fridge</td>\n",
              "      <td>food_last</td>\n",
              "    </tr>\n",
              "    <tr>\n",
              "      <th>3</th>\n",
              "      <td>i want to change your name to sarah</td>\n",
              "      <td>change_ai_name</td>\n",
              "    </tr>\n",
              "    <tr>\n",
              "      <th>4</th>\n",
              "      <td>what do i get paid</td>\n",
              "      <td>income</td>\n",
              "    </tr>\n",
              "    <tr>\n",
              "      <th>...</th>\n",
              "      <td>...</td>\n",
              "      <td>...</td>\n",
              "    </tr>\n",
              "    <tr>\n",
              "      <th>3095</th>\n",
              "      <td>call aj now</td>\n",
              "      <td>make_call</td>\n",
              "    </tr>\n",
              "    <tr>\n",
              "      <th>3096</th>\n",
              "      <td>i need my earned income form for paying taxes</td>\n",
              "      <td>w2</td>\n",
              "    </tr>\n",
              "    <tr>\n",
              "      <th>3097</th>\n",
              "      <td>can i travel to france as far as safety goes</td>\n",
              "      <td>travel_alert</td>\n",
              "    </tr>\n",
              "    <tr>\n",
              "      <th>3098</th>\n",
              "      <td>read my reminder list to me please</td>\n",
              "      <td>reminder</td>\n",
              "    </tr>\n",
              "    <tr>\n",
              "      <th>3099</th>\n",
              "      <td>create a reminder</td>\n",
              "      <td>reminder_update</td>\n",
              "    </tr>\n",
              "  </tbody>\n",
              "</table>\n",
              "<p>3100 rows × 2 columns</p>\n",
              "</div>\n",
              "      <button class=\"colab-df-convert\" onclick=\"convertToInteractive('df-dd504c9d-3a99-4999-a18c-11a798329e07')\"\n",
              "              title=\"Convert this dataframe to an interactive table.\"\n",
              "              style=\"display:none;\">\n",
              "        \n",
              "  <svg xmlns=\"http://www.w3.org/2000/svg\" height=\"24px\"viewBox=\"0 0 24 24\"\n",
              "       width=\"24px\">\n",
              "    <path d=\"M0 0h24v24H0V0z\" fill=\"none\"/>\n",
              "    <path d=\"M18.56 5.44l.94 2.06.94-2.06 2.06-.94-2.06-.94-.94-2.06-.94 2.06-2.06.94zm-11 1L8.5 8.5l.94-2.06 2.06-.94-2.06-.94L8.5 2.5l-.94 2.06-2.06.94zm10 10l.94 2.06.94-2.06 2.06-.94-2.06-.94-.94-2.06-.94 2.06-2.06.94z\"/><path d=\"M17.41 7.96l-1.37-1.37c-.4-.4-.92-.59-1.43-.59-.52 0-1.04.2-1.43.59L10.3 9.45l-7.72 7.72c-.78.78-.78 2.05 0 2.83L4 21.41c.39.39.9.59 1.41.59.51 0 1.02-.2 1.41-.59l7.78-7.78 2.81-2.81c.8-.78.8-2.07 0-2.86zM5.41 20L4 18.59l7.72-7.72 1.47 1.35L5.41 20z\"/>\n",
              "  </svg>\n",
              "      </button>\n",
              "      \n",
              "  <style>\n",
              "    .colab-df-container {\n",
              "      display:flex;\n",
              "      flex-wrap:wrap;\n",
              "      gap: 12px;\n",
              "    }\n",
              "\n",
              "    .colab-df-convert {\n",
              "      background-color: #E8F0FE;\n",
              "      border: none;\n",
              "      border-radius: 50%;\n",
              "      cursor: pointer;\n",
              "      display: none;\n",
              "      fill: #1967D2;\n",
              "      height: 32px;\n",
              "      padding: 0 0 0 0;\n",
              "      width: 32px;\n",
              "    }\n",
              "\n",
              "    .colab-df-convert:hover {\n",
              "      background-color: #E2EBFA;\n",
              "      box-shadow: 0px 1px 2px rgba(60, 64, 67, 0.3), 0px 1px 3px 1px rgba(60, 64, 67, 0.15);\n",
              "      fill: #174EA6;\n",
              "    }\n",
              "\n",
              "    [theme=dark] .colab-df-convert {\n",
              "      background-color: #3B4455;\n",
              "      fill: #D2E3FC;\n",
              "    }\n",
              "\n",
              "    [theme=dark] .colab-df-convert:hover {\n",
              "      background-color: #434B5C;\n",
              "      box-shadow: 0px 1px 3px 1px rgba(0, 0, 0, 0.15);\n",
              "      filter: drop-shadow(0px 1px 2px rgba(0, 0, 0, 0.3));\n",
              "      fill: #FFFFFF;\n",
              "    }\n",
              "  </style>\n",
              "\n",
              "      <script>\n",
              "        const buttonEl =\n",
              "          document.querySelector('#df-dd504c9d-3a99-4999-a18c-11a798329e07 button.colab-df-convert');\n",
              "        buttonEl.style.display =\n",
              "          google.colab.kernel.accessAllowed ? 'block' : 'none';\n",
              "\n",
              "        async function convertToInteractive(key) {\n",
              "          const element = document.querySelector('#df-dd504c9d-3a99-4999-a18c-11a798329e07');\n",
              "          const dataTable =\n",
              "            await google.colab.kernel.invokeFunction('convertToInteractive',\n",
              "                                                     [key], {});\n",
              "          if (!dataTable) return;\n",
              "\n",
              "          const docLinkHtml = 'Like what you see? Visit the ' +\n",
              "            '<a target=\"_blank\" href=https://colab.research.google.com/notebooks/data_table.ipynb>data table notebook</a>'\n",
              "            + ' to learn more about interactive tables.';\n",
              "          element.innerHTML = '';\n",
              "          dataTable['output_type'] = 'display_data';\n",
              "          await google.colab.output.renderOutput(dataTable, element);\n",
              "          const docLink = document.createElement('div');\n",
              "          docLink.innerHTML = docLinkHtml;\n",
              "          element.appendChild(docLink);\n",
              "        }\n",
              "      </script>\n",
              "    </div>\n",
              "  </div>\n",
              "  "
            ],
            "text/plain": [
              "                                               text              intent\n",
              "0                  how much do i need to pay in tax               taxes\n",
              "1              forget reservation at longhorn for 4  cancel_reservation\n",
              "2                is rice bad after 3 days in fridge           food_last\n",
              "3               i want to change your name to sarah      change_ai_name\n",
              "4                                what do i get paid              income\n",
              "...                                             ...                 ...\n",
              "3095                                    call aj now           make_call\n",
              "3096  i need my earned income form for paying taxes                  w2\n",
              "3097   can i travel to france as far as safety goes        travel_alert\n",
              "3098             read my reminder list to me please            reminder\n",
              "3099                              create a reminder     reminder_update\n",
              "\n",
              "[3100 rows x 2 columns]"
            ]
          },
          "metadata": {},
          "execution_count": 99
        }
      ]
    },
    {
      "cell_type": "code",
      "source": [
        "val.shape"
      ],
      "metadata": {
        "colab": {
          "base_uri": "https://localhost:8080/"
        },
        "id": "eYeYg3s64Uct",
        "outputId": "45d47318-cf1c-4143-85b0-67eb2da1a89b"
      },
      "execution_count": 100,
      "outputs": [
        {
          "output_type": "execute_result",
          "data": {
            "text/plain": [
              "(3100, 2)"
            ]
          },
          "metadata": {},
          "execution_count": 100
        }
      ]
    },
    {
      "cell_type": "code",
      "metadata": {
        "id": "Dx7WbumV6812"
      },
      "source": [
        "test_label = val['intent'].values\n",
        "sentence = val['text'].values"
      ],
      "execution_count": 101,
      "outputs": []
    },
    {
      "cell_type": "code",
      "metadata": {
        "id": "HM0gwV_W2zyx"
      },
      "source": [
        "# tokenization\n",
        "maxLength = 28\n",
        "test_sequences = loadToken.texts_to_sequences(sentence)\n",
        "padded_test_sequences = pad_sequences(test_sequences, maxlen=maxLength)"
      ],
      "execution_count": 102,
      "outputs": []
    },
    {
      "cell_type": "code",
      "metadata": {
        "id": "wG3qll0935gw"
      },
      "source": [
        "# predection\n",
        "pred_ls = loadModel.predict(padded_test_sequences)\n",
        "# print(type(pred_ls))\n",
        "category = loadLabel.inverse_transform(pred_ls)\n",
        "# score = ('{:.2f}'.format(round(np.max(pred_ls), 2)*100))"
      ],
      "execution_count": 103,
      "outputs": []
    },
    {
      "cell_type": "code",
      "source": [
        "pred_ls"
      ],
      "metadata": {
        "colab": {
          "base_uri": "https://localhost:8080/"
        },
        "id": "YvwoBXJ5m2pY",
        "outputId": "fa299411-30e8-42ec-a550-7d1dd01574b7"
      },
      "execution_count": 104,
      "outputs": [
        {
          "output_type": "execute_result",
          "data": {
            "text/plain": [
              "array([[5.4298268e-09, 7.8544504e-09, 3.1149812e-11, ..., 8.4993673e-08,\n",
              "        5.7188598e-10, 1.7556124e-13],\n",
              "       [7.3705651e-02, 3.5163275e-10, 2.1715647e-05, ..., 8.3547863e-10,\n",
              "        6.2043787e-11, 5.1300483e-12],\n",
              "       [8.1172580e-08, 8.7592220e-08, 3.0545046e-08, ..., 1.5034976e-10,\n",
              "        1.6796842e-13, 2.2870384e-11],\n",
              "       ...,\n",
              "       [3.2190763e-04, 1.4926925e-07, 9.8239681e-08, ..., 1.5214505e-08,\n",
              "        2.4250883e-06, 8.2970783e-12],\n",
              "       [4.1752391e-12, 1.1860695e-06, 1.3775455e-06, ..., 1.7249565e-11,\n",
              "        4.5649383e-12, 2.8880557e-13],\n",
              "       [2.5662854e-07, 1.2240994e-08, 7.0751063e-05, ..., 1.1901884e-09,\n",
              "        1.0817330e-10, 2.6795371e-10]], dtype=float32)"
            ]
          },
          "metadata": {},
          "execution_count": 104
        }
      ]
    },
    {
      "cell_type": "code",
      "source": [
        "# score = []\n",
        "# for i in pred_ls:\n",
        "#   score.append(np.max(pred_ls)*100)"
      ],
      "metadata": {
        "id": "MzKuUXpWmCJd"
      },
      "execution_count": 105,
      "outputs": []
    },
    {
      "cell_type": "code",
      "source": [
        "category"
      ],
      "metadata": {
        "colab": {
          "base_uri": "https://localhost:8080/"
        },
        "id": "BOjmo3oA9OzC",
        "outputId": "9357120d-f53d-43a0-9b8f-17b3715aff71"
      },
      "execution_count": 106,
      "outputs": [
        {
          "output_type": "execute_result",
          "data": {
            "text/plain": [
              "array(['taxes', 'cancel_reservation', 'food_last', ..., 'vaccines',\n",
              "       'reminder', 'reminder_update'], dtype='<U25')"
            ]
          },
          "metadata": {},
          "execution_count": 106
        }
      ]
    },
    {
      "cell_type": "code",
      "source": [
        "from sklearn.metrics import accuracy_score\n",
        "from sklearn.metrics.cluster import adjusted_rand_score, normalized_mutual_info_score\n",
        "\n",
        "# DeepAlingned : NMI: 93.86, ARI: 79.75, ACC: 86.49 \n",
        "print('ACC : ', round(accuracy_score(test_label, category)*100, 2))\n",
        "print('ARI : ', round(adjusted_rand_score(test_label, category)*100, 2))\n",
        "print('NMI : ', round(normalized_mutual_info_score(test_label, category)*100, 2))"
      ],
      "metadata": {
        "colab": {
          "base_uri": "https://localhost:8080/"
        },
        "id": "rluOxJ-h9L0B",
        "outputId": "40f44d1b-ef67-4980-f801-dc5e165203da"
      },
      "execution_count": 107,
      "outputs": [
        {
          "output_type": "stream",
          "name": "stdout",
          "text": [
            "ACC :  87.97\n",
            "ARI :  73.19\n",
            "NMI :  91.39\n"
          ]
        }
      ]
    },
    {
      "cell_type": "code",
      "metadata": {
        "id": "Y5YQZ8Ty3_h-"
      },
      "source": [
        "# result = []\n",
        "# for i in pred_ls:\n",
        "#     if i > 0.5:\n",
        "#         result.append(1)\n",
        "#     else:\n",
        "#         result.append(0)"
      ],
      "execution_count": null,
      "outputs": []
    },
    {
      "cell_type": "markdown",
      "metadata": {
        "id": "xqnOjfZgRUr9"
      },
      "source": [
        "### **Accuracy, ROC AUC, Confusion Matrix and Classification Report**"
      ]
    },
    {
      "cell_type": "code",
      "metadata": {
        "id": "Oikq3UBWRUsI"
      },
      "source": [
        "from sklearn.metrics import confusion_matrix\n",
        "from sklearn.metrics import classification_report\n",
        "from sklearn.metrics import accuracy_score, roc_auc_score\n",
        "from sklearn.metrics import matthews_corrcoef\n",
        "import seaborn as sns\n",
        "from matplotlib import pyplot as plt\n",
        "%matplotlib inline\n",
        "sns.set(rc={'figure.facecolor':'white'})\n",
        "\n",
        "# input values\n",
        "TEST_LABEL = test_label\n",
        "PREDICTED_LABEL = category\n",
        "labels = LABEL\n",
        "\n",
        "# accuracy = accuracy_score(TEST_LABEL, PREDICTED_LABEL)\n",
        "# conf_mat = confusion_matrix(TEST_LABEL, PREDICTED_LABEL)\n",
        "# fig, ax = plt.subplots(figsize=(30,27))\n",
        "# sns.heatmap(conf_mat, annot=True, fmt='d',\n",
        "#             xticklabels=labels, yticklabels=labels)\n",
        "# plt.ylabel('Actual Label')\n",
        "# # plt.xlabel('Predicted Label\\n\\nAccuracy={:0.4f}; ROC AUC={:0.4f}'.format(accuracy, roc_score))\n",
        "# plt.xlabel('Predicted Label\\n\\nAccuracy={:0.4f}'.format(accuracy))\n",
        "# # plt.savefig('/content/drive/My Drive/Lafarge/Model/Hardware/HardwareModel-Confusion-v1.5.jpg')\n",
        "# # plt.savefig('HardwareModel-Confusion-v1.5.jpg')\n",
        "# plt.xticks(rotation=90)\n",
        "# plt.show()"
      ],
      "execution_count": 108,
      "outputs": []
    },
    {
      "cell_type": "code",
      "metadata": {
        "id": "SRubAp91VeAE",
        "colab": {
          "base_uri": "https://localhost:8080/"
        },
        "outputId": "ac47ef7b-2336-427b-b13c-69ee0249d705"
      },
      "source": [
        "from sklearn.metrics import classification_report\n",
        "print(classification_report(test_label, category, target_names=LABEL))"
      ],
      "execution_count": 109,
      "outputs": [
        {
          "output_type": "stream",
          "name": "stdout",
          "text": [
            "                           precision    recall  f1-score   support\n",
            "\n",
            "      accept_reservations       0.84      0.80      0.82        20\n",
            "          account_blocked       0.82      0.70      0.76        20\n",
            "                    alarm       0.95      1.00      0.98        20\n",
            "       application_status       0.90      0.90      0.90        20\n",
            "                      apr       1.00      0.95      0.97        20\n",
            "            are_you_a_bot       0.90      0.95      0.93        20\n",
            "                  balance       0.64      0.90      0.75        20\n",
            "             bill_balance       0.94      0.80      0.86        20\n",
            "                 bill_due       0.80      1.00      0.89        20\n",
            "              book_flight       1.00      1.00      1.00        20\n",
            "               book_hotel       0.87      1.00      0.93        20\n",
            "               calculator       0.73      0.95      0.83        20\n",
            "                 calendar       0.94      0.75      0.83        20\n",
            "          calendar_update       0.90      0.95      0.93        20\n",
            "                 calories       0.91      1.00      0.95        20\n",
            "                   cancel       0.89      0.80      0.84        20\n",
            "       cancel_reservation       0.83      0.95      0.88        20\n",
            "               car_rental       1.00      1.00      1.00        20\n",
            "            card_declined       0.86      0.95      0.90        20\n",
            "                 carry_on       1.00      1.00      1.00        20\n",
            "            change_accent       1.00      0.65      0.79        20\n",
            "           change_ai_name       0.87      1.00      0.93        20\n",
            "          change_language       0.95      0.95      0.95        20\n",
            "             change_speed       1.00      0.95      0.97        20\n",
            "         change_user_name       0.85      0.85      0.85        20\n",
            "            change_volume       0.95      1.00      0.98        20\n",
            "      confirm_reservation       1.00      0.75      0.86        20\n",
            "                cook_time       1.00      1.00      1.00        20\n",
            "             credit_limit       0.87      1.00      0.93        20\n",
            "      credit_limit_change       1.00      0.85      0.92        20\n",
            "             credit_score       0.95      0.95      0.95        20\n",
            "         current_location       0.77      0.85      0.81        20\n",
            "             damaged_card       0.72      0.90      0.80        20\n",
            "                     date       0.77      1.00      0.87        20\n",
            "               definition       0.59      0.80      0.68        20\n",
            "           direct_deposit       0.95      1.00      0.98        20\n",
            "               directions       0.95      0.90      0.92        20\n",
            "                 distance       0.85      0.85      0.85        20\n",
            "         do_you_have_pets       0.95      0.95      0.95        20\n",
            "            exchange_rate       1.00      0.95      0.97        20\n",
            "          expiration_date       1.00      0.65      0.79        20\n",
            "               find_phone       0.86      0.90      0.88        20\n",
            "            flight_status       1.00      1.00      1.00        20\n",
            "                flip_coin       1.00      1.00      1.00        20\n",
            "                food_last       1.00      1.00      1.00        20\n",
            "           freeze_account       0.71      0.85      0.77        20\n",
            "                 fun_fact       0.95      1.00      0.98        20\n",
            "                      gas       0.86      0.90      0.88        20\n",
            "                 gas_type       1.00      0.85      0.92        20\n",
            "                  goodbye       0.90      0.90      0.90        20\n",
            "                 greeting       0.73      0.80      0.76        20\n",
            "                 how_busy       0.83      0.95      0.88        20\n",
            "          how_old_are_you       0.90      0.90      0.90        20\n",
            "     improve_credit_score       1.00      0.90      0.95        20\n",
            "                   income       0.72      0.90      0.80        20\n",
            "  ingredient_substitution       0.73      0.80      0.76        20\n",
            "         ingredients_list       0.74      1.00      0.85        20\n",
            "                insurance       1.00      0.85      0.92        20\n",
            "         insurance_change       0.87      1.00      0.93        20\n",
            "            interest_rate       1.00      0.80      0.89        20\n",
            "       international_fees       0.90      0.95      0.93        20\n",
            "       international_visa       1.00      1.00      1.00        20\n",
            "               jump_start       0.95      1.00      0.98        20\n",
            "         last_maintenance       0.89      0.85      0.87        20\n",
            "             lost_luggage       0.95      1.00      0.98        20\n",
            "                make_call       0.90      0.90      0.90        20\n",
            "                    maybe       0.64      0.70      0.67        20\n",
            "          meal_suggestion       0.91      1.00      0.95        20\n",
            "          meaning_of_life       0.73      0.95      0.83        20\n",
            "   measurement_conversion       0.95      0.95      0.95        20\n",
            "         meeting_schedule       0.95      0.95      0.95        20\n",
            "              min_payment       0.95      0.90      0.92        20\n",
            "                      mpg       0.91      1.00      0.95        20\n",
            "                 new_card       0.86      0.90      0.88        20\n",
            "             next_holiday       0.95      1.00      0.98        20\n",
            "                next_song       0.95      1.00      0.98        20\n",
            "                       no       0.88      0.70      0.78        20\n",
            "           nutrition_info       1.00      0.60      0.75        20\n",
            "           oil_change_how       0.90      0.95      0.93        20\n",
            "          oil_change_when       0.82      0.90      0.86        20\n",
            "                      oos       0.72      0.29      0.41       100\n",
            "                    order       0.89      0.85      0.87        20\n",
            "             order_checks       1.00      0.90      0.95        20\n",
            "             order_status       0.89      0.85      0.87        20\n",
            "                 pay_bill       1.00      0.95      0.97        20\n",
            "                   payday       0.93      0.65      0.76        20\n",
            "               pin_change       1.00      0.90      0.95        20\n",
            "               play_music       0.83      0.75      0.79        20\n",
            "                plug_type       1.00      0.85      0.92        20\n",
            "              pto_balance       0.74      0.85      0.79        20\n",
            "              pto_request       0.90      0.95      0.93        20\n",
            "       pto_request_status       0.93      0.70      0.80        20\n",
            "                 pto_used       0.89      0.80      0.84        20\n",
            "                   recipe       0.79      0.75      0.77        20\n",
            "           redeem_rewards       0.83      0.95      0.88        20\n",
            "                 reminder       0.82      0.70      0.76        20\n",
            "          reminder_update       0.94      0.75      0.83        20\n",
            "                   repeat       0.85      0.85      0.85        20\n",
            "replacement_card_duration       0.71      0.85      0.77        20\n",
            "             report_fraud       1.00      0.80      0.89        20\n",
            "         report_lost_card       0.90      0.95      0.93        20\n",
            "           reset_settings       0.95      1.00      0.98        20\n",
            "   restaurant_reservation       0.76      0.65      0.70        20\n",
            "       restaurant_reviews       0.94      0.75      0.83        20\n",
            "    restaurant_suggestion       0.90      0.90      0.90        20\n",
            "          rewards_balance       0.95      1.00      0.98        20\n",
            "                roll_dice       1.00      1.00      1.00        20\n",
            "            rollover_401k       1.00      1.00      1.00        20\n",
            "                  routing       1.00      1.00      1.00        20\n",
            "     schedule_maintenance       0.90      0.95      0.93        20\n",
            "         schedule_meeting       0.95      1.00      0.98        20\n",
            "           share_location       0.90      0.90      0.90        20\n",
            "            shopping_list       0.77      1.00      0.87        20\n",
            "     shopping_list_update       1.00      0.70      0.82        20\n",
            "               smart_home       0.87      1.00      0.93        20\n",
            "                 spelling       1.00      1.00      1.00        20\n",
            "         spending_history       0.87      1.00      0.93        20\n",
            "              sync_device       0.95      1.00      0.98        20\n",
            "                    taxes       0.82      0.90      0.86        20\n",
            "                tell_joke       1.00      1.00      1.00        20\n",
            "                     text       1.00      0.80      0.89        20\n",
            "                thank_you       0.82      0.90      0.86        20\n",
            "                     time       0.70      0.95      0.81        20\n",
            "                    timer       0.91      1.00      0.95        20\n",
            "                 timezone       0.95      0.90      0.92        20\n",
            "              tire_change       0.90      0.95      0.93        20\n",
            "            tire_pressure       1.00      0.95      0.97        20\n",
            "                todo_list       0.89      0.80      0.84        20\n",
            "         todo_list_update       0.86      0.95      0.90        20\n",
            "                  traffic       1.00      0.95      0.97        20\n",
            "             transactions       0.94      0.80      0.86        20\n",
            "                 transfer       0.89      0.80      0.84        20\n",
            "                translate       0.90      0.90      0.90        20\n",
            "             travel_alert       0.78      0.90      0.84        20\n",
            "      travel_notification       1.00      0.90      0.95        20\n",
            "        travel_suggestion       0.70      0.70      0.70        20\n",
            "                     uber       1.00      0.90      0.95        20\n",
            "          update_playlist       1.00      0.85      0.92        20\n",
            "                user_name       0.95      0.90      0.92        20\n",
            "                 vaccines       0.95      0.90      0.92        20\n",
            "                       w2       1.00      0.95      0.97        20\n",
            "                  weather       1.00      0.90      0.95        20\n",
            "    what_are_your_hobbies       0.90      0.90      0.90        20\n",
            "       what_can_i_ask_you       0.53      1.00      0.69        20\n",
            "        what_is_your_name       1.00      0.95      0.97        20\n",
            "                what_song       0.83      1.00      0.91        20\n",
            "       where_are_you_from       0.86      0.90      0.88        20\n",
            "             whisper_mode       0.95      1.00      0.98        20\n",
            "      who_do_you_work_for       1.00      0.85      0.92        20\n",
            "             who_made_you       0.90      0.90      0.90        20\n",
            "                      yes       0.40      0.85      0.54        20\n",
            "\n",
            "                 accuracy                           0.88      3100\n",
            "                macro avg       0.90      0.90      0.89      3100\n",
            "             weighted avg       0.89      0.88      0.88      3100\n",
            "\n"
          ]
        }
      ]
    },
    {
      "cell_type": "code",
      "source": [
        ""
      ],
      "metadata": {
        "id": "TSdFg0MIEJ7I"
      },
      "execution_count": null,
      "outputs": []
    }
  ]
}