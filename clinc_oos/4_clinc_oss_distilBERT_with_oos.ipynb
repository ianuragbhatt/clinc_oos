{
  "cells": [
    {
      "cell_type": "code",
      "execution_count": 1,
      "metadata": {
        "id": "Z7z-XNxcC5U8"
      },
      "outputs": [],
      "source": [
        "# install hugging face transformers and datasets library\n",
        "!pip install -q transformers"
      ]
    },
    {
      "cell_type": "markdown",
      "metadata": {
        "id": "3V6XuYPvsjAO"
      },
      "source": [
        "### Loading Datasets"
      ]
    },
    {
      "cell_type": "code",
      "execution_count": 2,
      "metadata": {
        "id": "pbhOawrduieO"
      },
      "outputs": [],
      "source": [
        "import re\n",
        "import numpy as np \n",
        "import pandas as pd\n",
        "pd.set_option('display.max_rows', 700)\n",
        "from sklearn.utils import shuffle"
      ]
    },
    {
      "cell_type": "markdown",
      "metadata": {
        "id": "tOProQH2bHHG"
      },
      "source": [
        "Mount Google Drive"
      ]
    },
    {
      "cell_type": "code",
      "execution_count": 3,
      "metadata": {
        "colab": {
          "base_uri": "https://localhost:8080/"
        },
        "id": "IxAv0ThjHbwT",
        "outputId": "592bd109-d9cc-4853-b9e2-aef37759bb04"
      },
      "outputs": [
        {
          "name": "stdout",
          "output_type": "stream",
          "text": [
            "Mounted at /content/drive\n"
          ]
        }
      ],
      "source": [
        "from google.colab import drive\n",
        "drive.mount('/content/drive')"
      ]
    },
    {
      "cell_type": "markdown",
      "metadata": {
        "id": "GCPd-Jz3ZuLF"
      },
      "source": [
        "Set filepaths of the datasets"
      ]
    },
    {
      "cell_type": "code",
      "execution_count": 3,
      "metadata": {
        "id": "LNyKT0FAY0qH"
      },
      "outputs": [],
      "source": [
        "train_path = '/content/drive/MyDrive/data_science/projects/clinc_oos/dataset/is_train.json'\n",
        "val_path = '/content/drive/MyDrive/data_science/projects/clinc_oos/dataset/is_val.json'\n",
        "test_path = '/content/drive/MyDrive/data_science/projects/clinc_oos/dataset/is_test.json'\n",
        "oos_train_path = '/content/drive/MyDrive/data_science/projects/clinc_oos/dataset/oos_train.json'\n",
        "oos_val_path = '/content/drive/MyDrive/data_science/projects/clinc_oos/dataset/oos_val.json'\n",
        "oos_test_path = '/content/drive/MyDrive/data_science/projects/clinc_oos/dataset/oos_test.json'"
      ]
    },
    {
      "cell_type": "markdown",
      "metadata": {
        "id": "cFysn51AaTng"
      },
      "source": [
        "Read json objects and convert them to dataframe"
      ]
    },
    {
      "cell_type": "code",
      "execution_count": 4,
      "metadata": {
        "colab": {
          "base_uri": "https://localhost:8080/"
        },
        "id": "6BoMQtCgtqNT",
        "outputId": "9072b273-efb7-4960-9271-139c2d59a8a7"
      },
      "outputs": [
        {
          "name": "stdout",
          "output_type": "stream",
          "text": [
            "train shape:(15000, 2), train has 0 null values\n",
            "val shape:(3000, 2), val has 0 null values\n",
            "test shape:(4500, 2), test has 0 null values\n",
            "oos_train shape:(100, 2), oos_train has 0 null values\n",
            "oos_val shape:(100, 2), oos_val has 0 null values\n",
            "oos_test shape:(1000, 2), oos_test has 0 null values\n"
          ]
        }
      ],
      "source": [
        "train = pd.read_json(train_path)\n",
        "val = pd.read_json(val_path)\n",
        "test = pd.read_json(test_path)\n",
        "oos_train = pd.read_json(oos_train_path)\n",
        "oos_val = pd.read_json(oos_val_path)\n",
        "oos_test = pd.read_json(oos_test_path)\n",
        "\n",
        "files = [\n",
        "         (train,'train'),\n",
        "         (val,'val'),\n",
        "         (test,'test'),\n",
        "         (oos_train,'oos_train'),\n",
        "         (oos_val,'oos_val'),\n",
        "         (oos_test,'oos_test')\n",
        "         ]\n",
        "         \n",
        "for file,name in files:\n",
        "    file.columns = ['text','intent']\n",
        "    print(f'{name} shape:{file.shape}, {name} has {train.isna().sum().sum()} null values')"
      ]
    },
    {
      "cell_type": "markdown",
      "metadata": {
        "id": "G3-wiffjaZmD"
      },
      "source": [
        "Merge oos dataset with their counterparts"
      ]
    },
    {
      "cell_type": "code",
      "execution_count": 5,
      "metadata": {
        "id": "Az12nqjCbxYM"
      },
      "outputs": [],
      "source": [
        "train = pd.concat([train, oos_train], axis=0).reset_index(drop=True)\n",
        "val = pd.concat([val, oos_val], axis=0).reset_index(drop=True)\n",
        "test = pd.concat([test, oos_test], axis=0).reset_index(drop=True)"
      ]
    },
    {
      "cell_type": "markdown",
      "metadata": {
        "id": "17b3HqtSao35"
      },
      "source": [
        "Shuffle the datasets"
      ]
    },
    {
      "cell_type": "code",
      "execution_count": 6,
      "metadata": {
        "id": "m25_zO9rcWC2"
      },
      "outputs": [],
      "source": [
        "train = shuffle(train , random_state=0).reset_index(drop=True)\n",
        "val = shuffle(val, random_state=0).reset_index(drop=True)\n",
        "test = shuffle(test, random_state=0).reset_index(drop=True)"
      ]
    },
    {
      "cell_type": "code",
      "execution_count": 7,
      "metadata": {
        "colab": {
          "base_uri": "https://localhost:8080/"
        },
        "id": "szuRNyRswqwF",
        "outputId": "b5324d91-b04c-4ae6-f2aa-0934e34cb3ea"
      },
      "outputs": [
        {
          "data": {
            "text/plain": [
              "(15100, 2)"
            ]
          },
          "execution_count": 7,
          "metadata": {},
          "output_type": "execute_result"
        }
      ],
      "source": [
        "train.shape"
      ]
    },
    {
      "cell_type": "code",
      "execution_count": 8,
      "metadata": {
        "colab": {
          "base_uri": "https://localhost:8080/",
          "height": 206
        },
        "id": "Js0XPtZ5iB7Z",
        "outputId": "b39202be-3c4c-4312-9b2f-286db057ffc8"
      },
      "outputs": [
        {
          "data": {
            "text/html": [
              "\n",
              "  <div id=\"df-566fd104-d928-427f-8bfd-6843da8a4a99\">\n",
              "    <div class=\"colab-df-container\">\n",
              "      <div>\n",
              "<style scoped>\n",
              "    .dataframe tbody tr th:only-of-type {\n",
              "        vertical-align: middle;\n",
              "    }\n",
              "\n",
              "    .dataframe tbody tr th {\n",
              "        vertical-align: top;\n",
              "    }\n",
              "\n",
              "    .dataframe thead th {\n",
              "        text-align: right;\n",
              "    }\n",
              "</style>\n",
              "<table border=\"1\" class=\"dataframe\">\n",
              "  <thead>\n",
              "    <tr style=\"text-align: right;\">\n",
              "      <th></th>\n",
              "      <th>text</th>\n",
              "      <th>intent</th>\n",
              "    </tr>\n",
              "  </thead>\n",
              "  <tbody>\n",
              "    <tr>\n",
              "      <th>0</th>\n",
              "      <td>how old are your pets</td>\n",
              "      <td>do_you_have_pets</td>\n",
              "    </tr>\n",
              "    <tr>\n",
              "      <th>1</th>\n",
              "      <td>please find the routing number for chase bank ...</td>\n",
              "      <td>routing</td>\n",
              "    </tr>\n",
              "    <tr>\n",
              "      <th>2</th>\n",
              "      <td>i would like to switch to a different insuranc...</td>\n",
              "      <td>insurance_change</td>\n",
              "    </tr>\n",
              "    <tr>\n",
              "      <th>3</th>\n",
              "      <td>are the items on my todo list listed alphabeti...</td>\n",
              "      <td>todo_list</td>\n",
              "    </tr>\n",
              "    <tr>\n",
              "      <th>4</th>\n",
              "      <td>has my day off request been looked at yet</td>\n",
              "      <td>pto_request_status</td>\n",
              "    </tr>\n",
              "  </tbody>\n",
              "</table>\n",
              "</div>\n",
              "      <button class=\"colab-df-convert\" onclick=\"convertToInteractive('df-566fd104-d928-427f-8bfd-6843da8a4a99')\"\n",
              "              title=\"Convert this dataframe to an interactive table.\"\n",
              "              style=\"display:none;\">\n",
              "        \n",
              "  <svg xmlns=\"http://www.w3.org/2000/svg\" height=\"24px\"viewBox=\"0 0 24 24\"\n",
              "       width=\"24px\">\n",
              "    <path d=\"M0 0h24v24H0V0z\" fill=\"none\"/>\n",
              "    <path d=\"M18.56 5.44l.94 2.06.94-2.06 2.06-.94-2.06-.94-.94-2.06-.94 2.06-2.06.94zm-11 1L8.5 8.5l.94-2.06 2.06-.94-2.06-.94L8.5 2.5l-.94 2.06-2.06.94zm10 10l.94 2.06.94-2.06 2.06-.94-2.06-.94-.94-2.06-.94 2.06-2.06.94z\"/><path d=\"M17.41 7.96l-1.37-1.37c-.4-.4-.92-.59-1.43-.59-.52 0-1.04.2-1.43.59L10.3 9.45l-7.72 7.72c-.78.78-.78 2.05 0 2.83L4 21.41c.39.39.9.59 1.41.59.51 0 1.02-.2 1.41-.59l7.78-7.78 2.81-2.81c.8-.78.8-2.07 0-2.86zM5.41 20L4 18.59l7.72-7.72 1.47 1.35L5.41 20z\"/>\n",
              "  </svg>\n",
              "      </button>\n",
              "      \n",
              "  <style>\n",
              "    .colab-df-container {\n",
              "      display:flex;\n",
              "      flex-wrap:wrap;\n",
              "      gap: 12px;\n",
              "    }\n",
              "\n",
              "    .colab-df-convert {\n",
              "      background-color: #E8F0FE;\n",
              "      border: none;\n",
              "      border-radius: 50%;\n",
              "      cursor: pointer;\n",
              "      display: none;\n",
              "      fill: #1967D2;\n",
              "      height: 32px;\n",
              "      padding: 0 0 0 0;\n",
              "      width: 32px;\n",
              "    }\n",
              "\n",
              "    .colab-df-convert:hover {\n",
              "      background-color: #E2EBFA;\n",
              "      box-shadow: 0px 1px 2px rgba(60, 64, 67, 0.3), 0px 1px 3px 1px rgba(60, 64, 67, 0.15);\n",
              "      fill: #174EA6;\n",
              "    }\n",
              "\n",
              "    [theme=dark] .colab-df-convert {\n",
              "      background-color: #3B4455;\n",
              "      fill: #D2E3FC;\n",
              "    }\n",
              "\n",
              "    [theme=dark] .colab-df-convert:hover {\n",
              "      background-color: #434B5C;\n",
              "      box-shadow: 0px 1px 3px 1px rgba(0, 0, 0, 0.15);\n",
              "      filter: drop-shadow(0px 1px 2px rgba(0, 0, 0, 0.3));\n",
              "      fill: #FFFFFF;\n",
              "    }\n",
              "  </style>\n",
              "\n",
              "      <script>\n",
              "        const buttonEl =\n",
              "          document.querySelector('#df-566fd104-d928-427f-8bfd-6843da8a4a99 button.colab-df-convert');\n",
              "        buttonEl.style.display =\n",
              "          google.colab.kernel.accessAllowed ? 'block' : 'none';\n",
              "\n",
              "        async function convertToInteractive(key) {\n",
              "          const element = document.querySelector('#df-566fd104-d928-427f-8bfd-6843da8a4a99');\n",
              "          const dataTable =\n",
              "            await google.colab.kernel.invokeFunction('convertToInteractive',\n",
              "                                                     [key], {});\n",
              "          if (!dataTable) return;\n",
              "\n",
              "          const docLinkHtml = 'Like what you see? Visit the ' +\n",
              "            '<a target=\"_blank\" href=https://colab.research.google.com/notebooks/data_table.ipynb>data table notebook</a>'\n",
              "            + ' to learn more about interactive tables.';\n",
              "          element.innerHTML = '';\n",
              "          dataTable['output_type'] = 'display_data';\n",
              "          await google.colab.output.renderOutput(dataTable, element);\n",
              "          const docLink = document.createElement('div');\n",
              "          docLink.innerHTML = docLinkHtml;\n",
              "          element.appendChild(docLink);\n",
              "        }\n",
              "      </script>\n",
              "    </div>\n",
              "  </div>\n",
              "  "
            ],
            "text/plain": [
              "                                                text              intent\n",
              "0                              how old are your pets    do_you_have_pets\n",
              "1  please find the routing number for chase bank ...             routing\n",
              "2  i would like to switch to a different insuranc...    insurance_change\n",
              "3  are the items on my todo list listed alphabeti...           todo_list\n",
              "4          has my day off request been looked at yet  pto_request_status"
            ]
          },
          "execution_count": 8,
          "metadata": {},
          "output_type": "execute_result"
        }
      ],
      "source": [
        "train.head()"
      ]
    },
    {
      "cell_type": "code",
      "execution_count": 9,
      "metadata": {
        "colab": {
          "base_uri": "https://localhost:8080/"
        },
        "id": "uJzuFiLpuZZq",
        "outputId": "79e8d703-def9-4c32-fcea-ef1c0d5d50a9"
      },
      "outputs": [
        {
          "data": {
            "text/plain": [
              "report_fraud                 100\n",
              "flight_status                100\n",
              "min_payment                  100\n",
              "distance                     100\n",
              "travel_notification          100\n",
              "account_blocked              100\n",
              "vaccines                     100\n",
              "uber                         100\n",
              "calendar_update              100\n",
              "report_lost_card             100\n",
              "nutrition_info               100\n",
              "thank_you                    100\n",
              "who_made_you                 100\n",
              "bill_balance                 100\n",
              "travel_suggestion            100\n",
              "change_language              100\n",
              "transactions                 100\n",
              "cancel_reservation           100\n",
              "what_are_your_hobbies        100\n",
              "calendar                     100\n",
              "pto_balance                  100\n",
              "time                         100\n",
              "yes                          100\n",
              "w2                           100\n",
              "balance                      100\n",
              "maybe                        100\n",
              "restaurant_reviews           100\n",
              "weather                      100\n",
              "pto_request                  100\n",
              "ingredient_substitution      100\n",
              "change_volume                100\n",
              "restaurant_reservation       100\n",
              "who_do_you_work_for          100\n",
              "redeem_rewards               100\n",
              "meeting_schedule             100\n",
              "what_can_i_ask_you           100\n",
              "tell_joke                    100\n",
              "todo_list                    100\n",
              "tire_change                  100\n",
              "direct_deposit               100\n",
              "calories                     100\n",
              "shopping_list                100\n",
              "goodbye                      100\n",
              "carry_on                     100\n",
              "tire_pressure                100\n",
              "what_song                    100\n",
              "lost_luggage                 100\n",
              "next_holiday                 100\n",
              "change_speed                 100\n",
              "spelling                     100\n",
              "cook_time                    100\n",
              "what_is_your_name            100\n",
              "international_fees           100\n",
              "mpg                          100\n",
              "pto_used                     100\n",
              "todo_list_update             100\n",
              "directions                   100\n",
              "ingredients_list             100\n",
              "order_checks                 100\n",
              "measurement_conversion       100\n",
              "roll_dice                    100\n",
              "travel_alert                 100\n",
              "bill_due                     100\n",
              "sync_device                  100\n",
              "replacement_card_duration    100\n",
              "oos                          100\n",
              "reset_settings               100\n",
              "oil_change_when              100\n",
              "payday                       100\n",
              "timezone                     100\n",
              "exchange_rate                100\n",
              "confirm_reservation          100\n",
              "update_playlist              100\n",
              "rollover_401k                100\n",
              "text                         100\n",
              "fun_fact                     100\n",
              "shopping_list_update         100\n",
              "calculator                   100\n",
              "traffic                      100\n",
              "repeat                       100\n",
              "accept_reservations          100\n",
              "income                       100\n",
              "reminder_update              100\n",
              "make_call                    100\n",
              "damaged_card                 100\n",
              "whisper_mode                 100\n",
              "pto_request_status           100\n",
              "timer                        100\n",
              "share_location               100\n",
              "credit_limit                 100\n",
              "book_flight                  100\n",
              "find_phone                   100\n",
              "flip_coin                    100\n",
              "expiration_date              100\n",
              "no                           100\n",
              "insurance_change             100\n",
              "restaurant_suggestion        100\n",
              "current_location             100\n",
              "card_declined                100\n",
              "car_rental                   100\n",
              "how_old_are_you              100\n",
              "user_name                    100\n",
              "oil_change_how               100\n",
              "schedule_meeting             100\n",
              "gas_type                     100\n",
              "smart_home                   100\n",
              "transfer                     100\n",
              "international_visa           100\n",
              "recipe                       100\n",
              "translate                    100\n",
              "last_maintenance             100\n",
              "change_ai_name               100\n",
              "change_accent                100\n",
              "spending_history             100\n",
              "do_you_have_pets             100\n",
              "order_status                 100\n",
              "taxes                        100\n",
              "meaning_of_life              100\n",
              "how_busy                     100\n",
              "where_are_you_from           100\n",
              "interest_rate                100\n",
              "pin_change                   100\n",
              "next_song                    100\n",
              "pay_bill                     100\n",
              "definition                   100\n",
              "freeze_account               100\n",
              "food_last                    100\n",
              "change_user_name             100\n",
              "routing                      100\n",
              "insurance                    100\n",
              "gas                          100\n",
              "jump_start                   100\n",
              "plug_type                    100\n",
              "improve_credit_score         100\n",
              "reminder                     100\n",
              "cancel                       100\n",
              "new_card                     100\n",
              "apr                          100\n",
              "meal_suggestion              100\n",
              "credit_score                 100\n",
              "are_you_a_bot                100\n",
              "play_music                   100\n",
              "application_status           100\n",
              "order                        100\n",
              "book_hotel                   100\n",
              "greeting                     100\n",
              "credit_limit_change          100\n",
              "schedule_maintenance         100\n",
              "alarm                        100\n",
              "date                         100\n",
              "rewards_balance              100\n",
              "Name: intent, dtype: int64"
            ]
          },
          "execution_count": 9,
          "metadata": {},
          "output_type": "execute_result"
        }
      ],
      "source": [
        "train['intent'].value_counts()"
      ]
    },
    {
      "cell_type": "code",
      "execution_count": 10,
      "metadata": {
        "colab": {
          "base_uri": "https://localhost:8080/"
        },
        "id": "WXJ-pC6RxeKt",
        "outputId": "b7186fc8-49a1-4af5-ed95-23ed5335d2e3"
      },
      "outputs": [
        {
          "data": {
            "text/plain": [
              "(151, 151, 151)"
            ]
          },
          "execution_count": 10,
          "metadata": {},
          "output_type": "execute_result"
        }
      ],
      "source": [
        "train['intent'].nunique(), val['intent'].nunique(), test['intent'].nunique()"
      ]
    },
    {
      "cell_type": "markdown",
      "metadata": {
        "id": "kNgKnV_OwfFt"
      },
      "source": [
        "Use LabelEncoder to encode our labels to numeric values like `0,1,2,3,4,5, etc`."
      ]
    },
    {
      "cell_type": "code",
      "execution_count": 11,
      "metadata": {
        "id": "sNekS6YaxPN5"
      },
      "outputs": [],
      "source": [
        "from sklearn.preprocessing import LabelBinarizer, LabelEncoder\n",
        "# labelBinary = LabelBinarizer()\n",
        "labelEncoder = LabelEncoder()\n",
        "# import numpy as np\n",
        "# val = [\n",
        "#        [0, 0, 1],\n",
        "#        [1, 0, 0]\n",
        "# ]\n",
        " \n",
        "# lb.inverse_transform(np.asarray(val))"
      ]
    },
    {
      "cell_type": "code",
      "execution_count": 12,
      "metadata": {
        "id": "x_EnoAIvr-tx"
      },
      "outputs": [],
      "source": [
        "# # Function to calculate VIF\n",
        "# def calculate_vif(data):\n",
        "#     vif_df = pd.DataFrame(columns = ['Var', 'Vif'])\n",
        "#     x_var_names = data.columns\n",
        "#     for i in range(0, x_var_names.shape[0]):\n",
        "#         y = data[x_var_names[i]]\n",
        "#         x = data[x_var_names.drop([x_var_names[i]])]\n",
        "#         r_squared = sm.OLS(y,x).fit().rsquared\n",
        "#         vif = round(1/(1-r_squared),2)\n",
        "#         vif_df.loc[i] = [x_var_names[i], vif]\n",
        "#     return vif_df.sort_values(by = 'Vif', axis = 0, ascending=False, inplace=False)\n",
        "\n",
        "# X=df.drop(['Salary'],axis=1)\n",
        "# calculate_vif(X)"
      ]
    },
    {
      "cell_type": "markdown",
      "metadata": {
        "id": "vKIUNh2xuuPX"
      },
      "source": [
        "Transform train and test label to numeric values. We will use test set from our model validation during training and val set for model final evaluation"
      ]
    },
    {
      "cell_type": "code",
      "execution_count": 13,
      "metadata": {
        "id": "6vl_trBK0TBV"
      },
      "outputs": [],
      "source": [
        "train_labels = labelEncoder.fit_transform(train['intent'])\n",
        "train_text = list(train['text'])\n",
        "\n",
        "test_text = list(test['text'])\n",
        "test_labels = labelEncoder.transform(test['intent'])"
      ]
    },
    {
      "cell_type": "code",
      "execution_count": 14,
      "metadata": {
        "colab": {
          "base_uri": "https://localhost:8080/"
        },
        "id": "DWxxul0uvOYV",
        "outputId": "2b2acb6b-e6f1-440a-ae02-4afdfcf1c6e9"
      },
      "outputs": [
        {
          "name": "stdout",
          "output_type": "stream",
          "text": [
            "(15100,) 15100\n",
            "(5500,) 5500\n"
          ]
        }
      ],
      "source": [
        "print(train_labels.shape, len(train_text))\n",
        "print(test_labels.shape, len(test_text))"
      ]
    },
    {
      "cell_type": "markdown",
      "metadata": {
        "id": "iFbvNmsSu5BS"
      },
      "source": [
        "Save encoded labels to pickle file. So, that we can use it to transform our model output"
      ]
    },
    {
      "cell_type": "code",
      "execution_count": 15,
      "metadata": {
        "id": "RYx3IvRe0WF6"
      },
      "outputs": [],
      "source": [
        "import pickle\n",
        "\n",
        "labelpath = 'distilBERT_label.pkl'\n",
        "with open(labelpath, 'wb') as handle:\n",
        "    pickle.dump(labelEncoder, handle, protocol=pickle.HIGHEST_PROTOCOL)"
      ]
    },
    {
      "cell_type": "markdown",
      "metadata": {
        "id": "PudThYtEEOlE"
      },
      "source": [
        "### Tokenization annd Padding"
      ]
    },
    {
      "cell_type": "code",
      "execution_count": 16,
      "metadata": {
        "id": "G7FWtmiyf_-A"
      },
      "outputs": [],
      "source": [
        "from transformers import DistilBertTokenizer"
      ]
    },
    {
      "cell_type": "markdown",
      "metadata": {
        "id": "2ERCtgvnv4qp"
      },
      "source": [
        "Download DistilBERT tokenizer from transformers"
      ]
    },
    {
      "cell_type": "code",
      "execution_count": 17,
      "metadata": {
        "id": "lLFYeIGRDs_O"
      },
      "outputs": [],
      "source": [
        "tokenizer = DistilBertTokenizer.from_pretrained('distilbert-base-uncased')"
      ]
    },
    {
      "cell_type": "markdown",
      "metadata": {
        "id": "yXhgJtyswArf"
      },
      "source": [
        "We will set `truncation=True` and `padding='longest'` for dynamic padding"
      ]
    },
    {
      "cell_type": "code",
      "execution_count": 18,
      "metadata": {
        "colab": {
          "base_uri": "https://localhost:8080/"
        },
        "id": "Rvqk4q5BFAWf",
        "outputId": "36aa84d4-3a61-4eb7-c16b-94fe5914125e"
      },
      "outputs": [
        {
          "name": "stdout",
          "output_type": "stream",
          "text": [
            "CPU times: user 6.52 s, sys: 49.1 ms, total: 6.57 s\n",
            "Wall time: 6.57 s\n"
          ]
        }
      ],
      "source": [
        "%%time\n",
        "\n",
        "tokenized_train = tokenizer(\n",
        "    train_text,\n",
        "    truncation=True,\n",
        "    padding='longest')\n",
        "\n",
        "tokenized_test = tokenizer(\n",
        "    test_text,\n",
        "    truncation=True,\n",
        "    padding='longest')"
      ]
    },
    {
      "cell_type": "markdown",
      "metadata": {
        "id": "WbcUSeABMHtF"
      },
      "source": [
        "### Fine-tune with TensorFlow"
      ]
    },
    {
      "cell_type": "markdown",
      "metadata": {
        "id": "TtrIerkpLZW9"
      },
      "source": [
        "Next, convert our datasets to the `tf.data.Dataset` format "
      ]
    },
    {
      "cell_type": "code",
      "execution_count": 19,
      "metadata": {
        "id": "KgrbomKpcvRz"
      },
      "outputs": [],
      "source": [
        "import tensorflow as tf"
      ]
    },
    {
      "cell_type": "code",
      "execution_count": 20,
      "metadata": {
        "id": "8t6JvSGyK3hs"
      },
      "outputs": [],
      "source": [
        "train_dataset = tf.data.Dataset.from_tensor_slices((\n",
        "    dict(tokenized_train),\n",
        "    train_labels\n",
        "))\n",
        "\n",
        "test_dataset = tf.data.Dataset.from_tensor_slices((\n",
        "    dict(tokenized_test),\n",
        "    test_labels\n",
        "))"
      ]
    },
    {
      "cell_type": "markdown",
      "metadata": {
        "id": "Vm_RyruTM_TM"
      },
      "source": [
        "#### Load our model"
      ]
    },
    {
      "cell_type": "code",
      "execution_count": 21,
      "metadata": {
        "id": "PDBNjKOjNFnl"
      },
      "outputs": [],
      "source": [
        "from transformers import TFDistilBertForSequenceClassification"
      ]
    },
    {
      "cell_type": "markdown",
      "metadata": {
        "id": "wgHypiG5xBX_"
      },
      "source": [
        "We will use `distilbert-base-uncased` model for our classification and `num_labels=151` because we have `151 labels`."
      ]
    },
    {
      "cell_type": "code",
      "execution_count": 22,
      "metadata": {
        "colab": {
          "base_uri": "https://localhost:8080/"
        },
        "id": "29BRZdiCNiCT",
        "outputId": "5d3a3636-6f89-4b3e-8fb0-de0074dcec2b"
      },
      "outputs": [
        {
          "name": "stderr",
          "output_type": "stream",
          "text": [
            "Some layers from the model checkpoint at distilbert-base-uncased were not used when initializing TFDistilBertForSequenceClassification: ['vocab_transform', 'vocab_layer_norm', 'vocab_projector', 'activation_13']\n",
            "- This IS expected if you are initializing TFDistilBertForSequenceClassification from the checkpoint of a model trained on another task or with another architecture (e.g. initializing a BertForSequenceClassification model from a BertForPreTraining model).\n",
            "- This IS NOT expected if you are initializing TFDistilBertForSequenceClassification from the checkpoint of a model that you expect to be exactly identical (initializing a BertForSequenceClassification model from a BertForSequenceClassification model).\n",
            "Some layers of TFDistilBertForSequenceClassification were not initialized from the model checkpoint at distilbert-base-uncased and are newly initialized: ['classifier', 'dropout_19', 'pre_classifier']\n",
            "You should probably TRAIN this model on a down-stream task to be able to use it for predictions and inference.\n"
          ]
        }
      ],
      "source": [
        "model = TFDistilBertForSequenceClassification.from_pretrained(\n",
        "    'distilbert-base-uncased', num_labels=151)"
      ]
    },
    {
      "cell_type": "markdown",
      "metadata": {
        "id": "wblZgmIoNsen"
      },
      "source": [
        "#### Complile our model"
      ]
    },
    {
      "cell_type": "code",
      "execution_count": 23,
      "metadata": {
        "id": "6v4g9XwTq5sJ"
      },
      "outputs": [],
      "source": [
        "learning_rate = 2e-05\n",
        "batch_size = 264\n",
        "batch_size = 264\n",
        "seed = 42 # shuffling\n",
        "num_epochs = 50"
      ]
    },
    {
      "cell_type": "markdown",
      "metadata": {
        "id": "0VAOMay9xnyp"
      },
      "source": [
        "We will use `loss='categorical_crossentropy'` because we have categorical labels"
      ]
    },
    {
      "cell_type": "code",
      "execution_count": 24,
      "metadata": {
        "id": "aVHI7RcTNkIj"
      },
      "outputs": [],
      "source": [
        "optimizer = tf.keras.optimizers.Adam(\n",
        "    learning_rate=learning_rate,\n",
        "    beta_1=0.9,\n",
        "    beta_2=0.999,\n",
        "    epsilon=1e-08)\n",
        "model.compile(optimizer=optimizer, loss=model.compute_loss, metrics=['accuracy'])"
      ]
    },
    {
      "cell_type": "markdown",
      "metadata": {
        "id": "8MOWjYTo6kRp"
      },
      "source": [
        "We will also use `tf.keras.callbacks.EarlyStopping`, we will monitor `val_loss` with `mode='min'` and `patience=3`"
      ]
    },
    {
      "cell_type": "code",
      "execution_count": 25,
      "metadata": {
        "id": "lO3qOiR36jyb"
      },
      "outputs": [],
      "source": [
        "early_stopper = tf.keras.callbacks.EarlyStopping(\n",
        "    monitor='val_loss',\n",
        "    min_delta=0,\n",
        "    patience=3,\n",
        "    verbose=0,\n",
        "    mode='min',\n",
        "    baseline=None,\n",
        "    restore_best_weights=True\n",
        ")"
      ]
    },
    {
      "cell_type": "markdown",
      "metadata": {
        "id": "_38zIVDLOCit"
      },
      "source": [
        "#### Finally, fine-tune the model by calling model.fit:"
      ]
    },
    {
      "cell_type": "code",
      "execution_count": 27,
      "metadata": {
        "colab": {
          "base_uri": "https://localhost:8080/"
        },
        "id": "xcvl329JNwbp",
        "outputId": "82022181-8924-489d-bb53-5d23838a8882"
      },
      "outputs": [
        {
          "name": "stdout",
          "output_type": "stream",
          "text": [
            "Epoch 1/50\n",
            "58/58 [==============================] - 106s 2s/step - loss: 4.8859 - accuracy: 0.1191 - val_loss: 4.6559 - val_accuracy: 0.3896\n",
            "Epoch 2/50\n",
            "58/58 [==============================] - 92s 2s/step - loss: 4.2849 - accuracy: 0.5696 - val_loss: 4.0037 - val_accuracy: 0.6004\n",
            "Epoch 3/50\n",
            "58/58 [==============================] - 91s 2s/step - loss: 3.5330 - accuracy: 0.7566 - val_loss: 3.3144 - val_accuracy: 0.6736\n",
            "Epoch 4/50\n",
            "58/58 [==============================] - 92s 2s/step - loss: 2.7569 - accuracy: 0.8373 - val_loss: 2.6619 - val_accuracy: 0.7162\n",
            "Epoch 5/50\n",
            "58/58 [==============================] - 91s 2s/step - loss: 2.0397 - accuracy: 0.8917 - val_loss: 2.0962 - val_accuracy: 0.7453\n",
            "Epoch 6/50\n",
            "58/58 [==============================] - 91s 2s/step - loss: 1.4463 - accuracy: 0.9285 - val_loss: 1.6596 - val_accuracy: 0.7705\n",
            "Epoch 7/50\n",
            "58/58 [==============================] - 91s 2s/step - loss: 1.0081 - accuracy: 0.9536 - val_loss: 1.3514 - val_accuracy: 0.7882\n",
            "Epoch 8/50\n",
            "58/58 [==============================] - 92s 2s/step - loss: 0.7045 - accuracy: 0.9704 - val_loss: 1.1290 - val_accuracy: 0.8111\n",
            "Epoch 9/50\n",
            "58/58 [==============================] - 91s 2s/step - loss: 0.5013 - accuracy: 0.9810 - val_loss: 0.9860 - val_accuracy: 0.8205\n",
            "Epoch 10/50\n",
            "58/58 [==============================] - 92s 2s/step - loss: 0.3690 - accuracy: 0.9862 - val_loss: 0.9119 - val_accuracy: 0.8284\n",
            "Epoch 11/50\n",
            "58/58 [==============================] - 92s 2s/step - loss: 0.2761 - accuracy: 0.9923 - val_loss: 0.8576 - val_accuracy: 0.8320\n",
            "Epoch 12/50\n",
            "58/58 [==============================] - 92s 2s/step - loss: 0.2141 - accuracy: 0.9939 - val_loss: 0.8173 - val_accuracy: 0.8356\n",
            "Epoch 13/50\n",
            "58/58 [==============================] - 92s 2s/step - loss: 0.1684 - accuracy: 0.9959 - val_loss: 0.7922 - val_accuracy: 0.8398\n",
            "Epoch 14/50\n",
            "58/58 [==============================] - 92s 2s/step - loss: 0.1369 - accuracy: 0.9970 - val_loss: 0.7738 - val_accuracy: 0.8418\n",
            "Epoch 15/50\n",
            "58/58 [==============================] - 92s 2s/step - loss: 0.1120 - accuracy: 0.9978 - val_loss: 0.7575 - val_accuracy: 0.8444\n",
            "Epoch 16/50\n",
            "58/58 [==============================] - 91s 2s/step - loss: 0.0945 - accuracy: 0.9982 - val_loss: 0.7572 - val_accuracy: 0.8458\n",
            "Epoch 17/50\n",
            "58/58 [==============================] - 92s 2s/step - loss: 0.0810 - accuracy: 0.9985 - val_loss: 0.7664 - val_accuracy: 0.8425\n",
            "Epoch 18/50\n",
            "58/58 [==============================] - 91s 2s/step - loss: 0.0696 - accuracy: 0.9987 - val_loss: 0.7576 - val_accuracy: 0.8456\n",
            "Epoch 19/50\n",
            "58/58 [==============================] - 91s 2s/step - loss: 0.0603 - accuracy: 0.9990 - val_loss: 0.7717 - val_accuracy: 0.8429\n"
          ]
        },
        {
          "data": {
            "text/plain": [
              "<keras.callbacks.History at 0x7fdfaf211610>"
            ]
          },
          "execution_count": 27,
          "metadata": {},
          "output_type": "execute_result"
        }
      ],
      "source": [
        "model.fit(\n",
        "    train_dataset.shuffle(seed).batch(batch_size),\n",
        "    epochs=num_epochs,\n",
        "    callbacks=[early_stopper],\n",
        "    # batch_size=256,\n",
        "    validation_data=test_dataset.shuffle(seed).batch(batch_size))"
      ]
    },
    {
      "cell_type": "markdown",
      "metadata": {
        "id": "Y4dZgKVcuUcw"
      },
      "source": [
        "#### Evaluation on Testing set"
      ]
    },
    {
      "cell_type": "code",
      "execution_count": null,
      "metadata": {
        "colab": {
          "base_uri": "https://localhost:8080/"
        },
        "id": "CM0k9jDAmNne",
        "outputId": "a5e70cfd-87e1-4733-9c98-1c0c6fa42829"
      },
      "outputs": [
        {
          "name": "stdout",
          "output_type": "stream",
          "text": [
            "12/12 [==============================] - 7s 423ms/step - loss: 0.3852 - accuracy: 0.9397\n",
            "{'loss': 0.3852382004261017, 'accuracy': 0.9396774172782898}\n"
          ]
        }
      ],
      "source": [
        "# evaluation = model.evaluate(validation_dataset.batch(eval_batch_size), return_dict=True)\n",
        "# print(evaluation)"
      ]
    },
    {
      "cell_type": "markdown",
      "metadata": {
        "id": "r9_y5kuzjXWa"
      },
      "source": [
        "####Saving Model and Tokenizers "
      ]
    },
    {
      "cell_type": "code",
      "execution_count": 28,
      "metadata": {
        "colab": {
          "base_uri": "https://localhost:8080/"
        },
        "id": "zDg_h3cwOh2Y",
        "outputId": "374085d9-f1d4-42f5-d7bb-7f0b8d2eb776"
      },
      "outputs": [
        {
          "data": {
            "text/plain": [
              "('/content/drive/MyDrive/data_science/projects/clinc_oos/model/4_clinc_oss_distilBERT_with_oos/v2/tokenizer_config.json',\n",
              " '/content/drive/MyDrive/data_science/projects/clinc_oos/model/4_clinc_oss_distilBERT_with_oos/v2/special_tokens_map.json',\n",
              " '/content/drive/MyDrive/data_science/projects/clinc_oos/model/4_clinc_oss_distilBERT_with_oos/v2/vocab.txt',\n",
              " '/content/drive/MyDrive/data_science/projects/clinc_oos/model/4_clinc_oss_distilBERT_with_oos/v2/added_tokens.json')"
            ]
          },
          "execution_count": 28,
          "metadata": {},
          "output_type": "execute_result"
        }
      ],
      "source": [
        "save_model_path = '/content/drive/MyDrive/data_science/projects/clinc_oos/model/4_clinc_oss_distilBERT_with_oos/v2'\n",
        "model.save_pretrained(save_model_path)\n",
        "tokenizer.save_pretrained(save_model_path)"
      ]
    },
    {
      "cell_type": "markdown",
      "metadata": {
        "id": "mzTcRUIujq9L"
      },
      "source": [
        "#### Load model and tokenizer of transformersbook/distilbert-base-uncased-distilled-clinc\n",
        "* This model is in pytorch"
      ]
    },
    {
      "cell_type": "code",
      "execution_count": null,
      "metadata": {
        "id": "7qq0E0cAvVeq"
      },
      "outputs": [],
      "source": [
        "from transformers import AutoTokenizer, AutoModelForSequenceClassification\n",
        "import torch"
      ]
    },
    {
      "cell_type": "code",
      "execution_count": null,
      "metadata": {
        "id": "i-OXpYSHFM3F"
      },
      "outputs": [],
      "source": [
        "loaded_tokenizer = AutoTokenizer.from_pretrained(\"transformersbook/distilbert-base-uncased-distilled-clinc\")\n",
        "loaded_model = AutoModelForSequenceClassification.from_pretrained(\"transformersbook/distilbert-base-uncased-distilled-clinc\")"
      ]
    },
    {
      "cell_type": "code",
      "execution_count": null,
      "metadata": {
        "colab": {
          "base_uri": "https://localhost:8080/"
        },
        "id": "Y6YsSmAkDtry",
        "outputId": "48bc02d4-400a-4ef2-eb37-36619a7def75"
      },
      "outputs": [
        {
          "name": "stderr",
          "output_type": "stream",
          "text": [
            "Some weights of the model checkpoint at distilbert-base-uncased were not used when initializing DistilBertForSequenceClassification: ['vocab_layer_norm.weight', 'vocab_transform.bias', 'vocab_projector.weight', 'vocab_projector.bias', 'vocab_layer_norm.bias', 'vocab_transform.weight']\n",
            "- This IS expected if you are initializing DistilBertForSequenceClassification from the checkpoint of a model trained on another task or with another architecture (e.g. initializing a BertForSequenceClassification model from a BertForPreTraining model).\n",
            "- This IS NOT expected if you are initializing DistilBertForSequenceClassification from the checkpoint of a model that you expect to be exactly identical (initializing a BertForSequenceClassification model from a BertForSequenceClassification model).\n",
            "Some weights of DistilBertForSequenceClassification were not initialized from the model checkpoint at distilbert-base-uncased and are newly initialized: ['classifier.weight', 'classifier.bias', 'pre_classifier.bias', 'pre_classifier.weight']\n",
            "You should probably TRAIN this model on a down-stream task to be able to use it for predictions and inference.\n"
          ]
        }
      ],
      "source": [
        "def predict(text, loaded_tokenizer, loaded_model):\n",
        "    inputs = loaded_tokenizer(\n",
        "        text,\n",
        "        # truncation=True,\n",
        "        # padding=True,\n",
        "        return_tensors=\"pt\"\n",
        "        )\n",
        "    outputs = loaded_model(**inputs)\n",
        "    loss = outputs.loss\n",
        "    logits = outputs.logits\n",
        "    predicted_arr = logits.softmax(dim=-1).tolist()\n",
        "    index_val = predicted_arr[0].index(max(predicted_arr[0]))\n",
        "    return index_val"
      ]
    },
    {
      "cell_type": "code",
      "execution_count": null,
      "metadata": {
        "id": "GCCxfwxem2hk"
      },
      "outputs": [],
      "source": [
        "from tqdm.notebook import tqdm\n",
        "\n",
        "predicted_values = []\n",
        "\n",
        "for text in tqdm(validation_text, desc='Prediction Progress'):\n",
        "    predicted_values.append(predict(text, loaded_tokenizer, loaded_model))"
      ]
    },
    {
      "cell_type": "code",
      "execution_count": null,
      "metadata": {
        "id": "6OR65cGam6hC"
      },
      "outputs": [],
      "source": [
        "from sklearn.metrics import accuracy_score\n",
        "from sklearn.metrics.cluster import adjusted_rand_score, normalized_mutual_info_score\n",
        "\n",
        "# DeepAlingned : NMI: 93.86, ARI: 79.75, ACC: 86.49 \n",
        "print('ACC : ', round(accuracy_score(predicted_values, validation_labels)*100, 2))\n",
        "print('ARI : ', round(adjusted_rand_score(predicted_values, validation_labels)*100, 2))\n",
        "print('NMI : ', round(normalized_mutual_info_score(predicted_values, validation_labels)*100, 2))"
      ]
    },
    {
      "cell_type": "markdown",
      "metadata": {
        "id": "rqln2osCj5nS"
      },
      "source": [
        "#### Testing using Saved model and tokenizer"
      ]
    },
    {
      "cell_type": "code",
      "execution_count": 29,
      "metadata": {
        "id": "lI5VmwbOlfBM"
      },
      "outputs": [],
      "source": [
        "from transformers import DistilBertTokenizer\n",
        "from transformers import TFDistilBertForSequenceClassification\n",
        "from tqdm.notebook import tqdm"
      ]
    },
    {
      "cell_type": "markdown",
      "metadata": {
        "id": "8SmNpUoBI0nV"
      },
      "source": [
        "Download the save model and tokenizer"
      ]
    },
    {
      "cell_type": "code",
      "execution_count": 30,
      "metadata": {
        "colab": {
          "base_uri": "https://localhost:8080/"
        },
        "id": "M_qTcx3sltfE",
        "outputId": "3eb5cc0a-dffb-4050-b583-75fa9c958ee6"
      },
      "outputs": [
        {
          "name": "stderr",
          "output_type": "stream",
          "text": [
            "Some layers from the model checkpoint at /content/drive/MyDrive/data_science/projects/clinc_oos/model/4_clinc_oss_distilBERT_with_oos/v2 were not used when initializing TFDistilBertForSequenceClassification: ['dropout_19']\n",
            "- This IS expected if you are initializing TFDistilBertForSequenceClassification from the checkpoint of a model trained on another task or with another architecture (e.g. initializing a BertForSequenceClassification model from a BertForPreTraining model).\n",
            "- This IS NOT expected if you are initializing TFDistilBertForSequenceClassification from the checkpoint of a model that you expect to be exactly identical (initializing a BertForSequenceClassification model from a BertForSequenceClassification model).\n",
            "Some layers of TFDistilBertForSequenceClassification were not initialized from the model checkpoint at /content/drive/MyDrive/data_science/projects/clinc_oos/model/4_clinc_oss_distilBERT_with_oos/v2 and are newly initialized: ['dropout_39']\n",
            "You should probably TRAIN this model on a down-stream task to be able to use it for predictions and inference.\n"
          ]
        }
      ],
      "source": [
        "loaded_tokenizer = DistilBertTokenizer.from_pretrained(save_model_path)\n",
        "loaded_model = TFDistilBertForSequenceClassification.from_pretrained(save_model_path)"
      ]
    },
    {
      "cell_type": "markdown",
      "metadata": {
        "id": "6OVu-bTYI4dE"
      },
      "source": [
        "Download the save labels encodings"
      ]
    },
    {
      "cell_type": "code",
      "execution_count": 36,
      "metadata": {
        "id": "eSb-ok_bG72w"
      },
      "outputs": [],
      "source": [
        "labelPath = '/content/drive/MyDrive/data_science/projects/clinc_oos/model/4_clinc_oss_distilBERT_with_oos/distilBERT_label.pkl'\n",
        "with open(labelPath, 'rb') as handle:\n",
        "    load_labels = pickle.load(handle)"
      ]
    },
    {
      "cell_type": "code",
      "execution_count": 33,
      "metadata": {
        "colab": {
          "base_uri": "https://localhost:8080/"
        },
        "id": "XL8vJe44lIWk",
        "outputId": "c38333d6-15c9-43c2-fe1e-e9be2a5127bb"
      },
      "outputs": [
        {
          "data": {
            "text/plain": [
              "(3100, 3100)"
            ]
          },
          "execution_count": 33,
          "metadata": {},
          "output_type": "execute_result"
        }
      ],
      "source": [
        "val_text = list(val['text'])\n",
        "val_labels = list(val['intent'])\n",
        "len(val_text), len(val_labels)"
      ]
    },
    {
      "cell_type": "markdown",
      "metadata": {
        "id": "lYYzLxunI7y-"
      },
      "source": [
        "Create a function to get the predictions from validation set"
      ]
    },
    {
      "cell_type": "code",
      "execution_count": 47,
      "metadata": {
        "id": "foN5MbRUGz_-"
      },
      "outputs": [],
      "source": [
        "def tf_predict(text, loaded_tokenizer, loaded_model):\n",
        "    predict_input = loaded_tokenizer.encode(text,\n",
        "                                    truncation=True,\n",
        "                                    padding='longest',\n",
        "                                    return_tensors=\"tf\")\n",
        "    output = loaded_model(predict_input)[0]\n",
        "    prediction_value = tf.argmax(output, axis=1).numpy()\n",
        "    predicted_intent = load_labels.inverse_transform(prediction_value)[0]\n",
        "    return predicted_intent"
      ]
    },
    {
      "cell_type": "code",
      "execution_count": 50,
      "metadata": {
        "colab": {
          "base_uri": "https://localhost:8080/",
          "height": 49,
          "referenced_widgets": [
            "1421a768b6ed4bb192c02e6fa1408d74",
            "f719bfea823f4791b4fa45eb45bcddc9",
            "de89ba20a737478699146a0700556d7d",
            "6d24e808e10941d7b94ec6383df57828",
            "26c7dafc78e241dd8105f7a5b2fd2384",
            "9575fc336c4f4450ace13578e769699e",
            "e529cf06184b4dc09bf7deaf5dcc559b",
            "9f66fb2883464eae81096ec905fcfb43",
            "4c64baa5b77344d08b8eccbd46649cbc",
            "a9eea4352d184900ad6f145bfa229dda",
            "24b72ec2148a4ff2b13647048b64abf8"
          ]
        },
        "id": "_9arS-eur4HN",
        "outputId": "7e62c138-700a-4c50-c25a-764e248e85a9"
      },
      "outputs": [
        {
          "data": {
            "application/vnd.jupyter.widget-view+json": {
              "model_id": "1421a768b6ed4bb192c02e6fa1408d74",
              "version_major": 2,
              "version_minor": 0
            },
            "text/plain": [
              "Prediction Progress:   0%|          | 0/3100 [00:00<?, ?it/s]"
            ]
          },
          "metadata": {},
          "output_type": "display_data"
        }
      ],
      "source": [
        "predicted_intents = []\n",
        "for text in tqdm(val_text, desc='Prediction Progress'):\n",
        "    predicted_intents.append(tf_predict(text, loaded_tokenizer, loaded_model))"
      ]
    },
    {
      "cell_type": "markdown",
      "metadata": {
        "id": "1eREY8KbJDDA"
      },
      "source": [
        "Testing Metrics are `accuracy_score`, `adjusted_rand_score`, `normalized_mutual_info_score` and `classification_report`"
      ]
    },
    {
      "cell_type": "code",
      "execution_count": 51,
      "metadata": {
        "id": "p3QLugmeLJ5M"
      },
      "outputs": [],
      "source": [
        "from sklearn.metrics import accuracy_score, classification_report\n",
        "from sklearn.metrics.cluster import adjusted_rand_score, normalized_mutual_info_score"
      ]
    },
    {
      "cell_type": "code",
      "execution_count": 57,
      "metadata": {
        "colab": {
          "base_uri": "https://localhost:8080/"
        },
        "id": "Wz5UcsBQkxJ3",
        "outputId": "22031125-59ac-44f8-e169-e50a12c16dc9"
      },
      "outputs": [
        {
          "name": "stdout",
          "output_type": "stream",
          "text": [
            "ACC :  94.0\n",
            "ARI :  84.6\n",
            "NMI :  95.51\n"
          ]
        }
      ],
      "source": [
        "print('ACC : ', round(accuracy_score(predicted_intents, val_labels)*100, 2))\n",
        "print('ARI : ', round(adjusted_rand_score(predicted_intents, val_labels)*100, 2))\n",
        "print('NMI : ', round(normalized_mutual_info_score(predicted_intents, val_labels)*100, 2))"
      ]
    },
    {
      "cell_type": "code",
      "execution_count": 58,
      "metadata": {
        "colab": {
          "base_uri": "https://localhost:8080/"
        },
        "id": "aYQGjNizKN1C",
        "outputId": "94e4efd9-5c78-4462-9a7d-a4d20cce0f41"
      },
      "outputs": [
        {
          "name": "stdout",
          "output_type": "stream",
          "text": [
            "                           precision    recall  f1-score   support\n",
            "\n",
            "      accept_reservations       0.90      0.90      0.90        20\n",
            "          account_blocked       0.90      0.90      0.90        20\n",
            "                    alarm       1.00      1.00      1.00        20\n",
            "       application_status       1.00      0.95      0.98        21\n",
            "                      apr       1.00      1.00      1.00        20\n",
            "            are_you_a_bot       0.90      0.95      0.92        19\n",
            "                  balance       0.90      1.00      0.95        18\n",
            "             bill_balance       0.95      0.95      0.95        20\n",
            "                 bill_due       1.00      0.87      0.93        23\n",
            "              book_flight       1.00      1.00      1.00        20\n",
            "               book_hotel       1.00      1.00      1.00        20\n",
            "               calculator       1.00      0.95      0.98        21\n",
            "                 calendar       0.95      0.95      0.95        20\n",
            "          calendar_update       1.00      0.95      0.98        21\n",
            "                 calories       1.00      1.00      1.00        20\n",
            "                   cancel       1.00      0.95      0.98        21\n",
            "       cancel_reservation       1.00      1.00      1.00        20\n",
            "               car_rental       1.00      1.00      1.00        20\n",
            "            card_declined       1.00      0.87      0.93        23\n",
            "                 carry_on       1.00      0.91      0.95        22\n",
            "            change_accent       0.80      1.00      0.89        16\n",
            "           change_ai_name       1.00      0.95      0.98        21\n",
            "          change_language       1.00      1.00      1.00        20\n",
            "             change_speed       1.00      1.00      1.00        20\n",
            "         change_user_name       1.00      0.83      0.91        24\n",
            "            change_volume       1.00      0.95      0.98        21\n",
            "      confirm_reservation       0.90      0.90      0.90        20\n",
            "                cook_time       1.00      0.95      0.98        21\n",
            "             credit_limit       1.00      0.91      0.95        22\n",
            "      credit_limit_change       0.95      1.00      0.97        19\n",
            "             credit_score       0.95      0.86      0.90        22\n",
            "         current_location       0.95      1.00      0.97        19\n",
            "             damaged_card       0.85      0.89      0.87        19\n",
            "                     date       1.00      0.91      0.95        22\n",
            "               definition       0.95      0.83      0.88        23\n",
            "           direct_deposit       1.00      1.00      1.00        20\n",
            "               directions       1.00      0.95      0.98        21\n",
            "                 distance       0.95      1.00      0.97        19\n",
            "         do_you_have_pets       1.00      0.95      0.98        21\n",
            "            exchange_rate       1.00      0.95      0.98        21\n",
            "          expiration_date       0.65      0.93      0.76        14\n",
            "               find_phone       1.00      1.00      1.00        20\n",
            "            flight_status       1.00      1.00      1.00        20\n",
            "                flip_coin       1.00      1.00      1.00        20\n",
            "                food_last       0.95      1.00      0.97        19\n",
            "           freeze_account       1.00      0.80      0.89        25\n",
            "                 fun_fact       1.00      0.95      0.98        21\n",
            "                      gas       0.90      0.95      0.92        19\n",
            "                 gas_type       1.00      0.95      0.98        21\n",
            "                  goodbye       0.95      0.90      0.93        21\n",
            "                 greeting       0.95      0.95      0.95        20\n",
            "                 how_busy       1.00      0.83      0.91        24\n",
            "          how_old_are_you       0.95      0.95      0.95        20\n",
            "     improve_credit_score       0.95      0.95      0.95        20\n",
            "                   income       0.95      0.79      0.86        24\n",
            "  ingredient_substitution       0.95      0.90      0.93        21\n",
            "         ingredients_list       1.00      0.74      0.85        27\n",
            "                insurance       0.95      0.95      0.95        20\n",
            "         insurance_change       1.00      1.00      1.00        20\n",
            "            interest_rate       1.00      1.00      1.00        20\n",
            "       international_fees       1.00      0.95      0.98        21\n",
            "       international_visa       1.00      1.00      1.00        20\n",
            "               jump_start       1.00      0.95      0.98        21\n",
            "         last_maintenance       0.80      1.00      0.89        16\n",
            "             lost_luggage       1.00      1.00      1.00        20\n",
            "                make_call       1.00      0.95      0.98        21\n",
            "                    maybe       0.95      1.00      0.97        19\n",
            "          meal_suggestion       1.00      0.95      0.98        21\n",
            "          meaning_of_life       0.95      0.90      0.93        21\n",
            "   measurement_conversion       0.95      0.95      0.95        20\n",
            "         meeting_schedule       0.95      0.95      0.95        20\n",
            "              min_payment       1.00      0.95      0.98        21\n",
            "                      mpg       1.00      1.00      1.00        20\n",
            "                 new_card       0.90      0.95      0.92        19\n",
            "             next_holiday       1.00      0.91      0.95        22\n",
            "                next_song       1.00      0.95      0.98        21\n",
            "                       no       0.90      0.90      0.90        20\n",
            "           nutrition_info       0.65      0.81      0.72        16\n",
            "           oil_change_how       1.00      0.91      0.95        22\n",
            "          oil_change_when       0.95      0.79      0.86        24\n",
            "                      oos       0.51      0.93      0.66        55\n",
            "                    order       0.95      0.90      0.93        21\n",
            "             order_checks       1.00      0.91      0.95        22\n",
            "             order_status       0.85      1.00      0.92        17\n",
            "                 pay_bill       0.95      1.00      0.97        19\n",
            "                   payday       0.70      1.00      0.82        14\n",
            "               pin_change       1.00      1.00      1.00        20\n",
            "               play_music       0.95      0.83      0.88        23\n",
            "                plug_type       1.00      0.95      0.98        21\n",
            "              pto_balance       0.95      0.95      0.95        20\n",
            "              pto_request       1.00      0.91      0.95        22\n",
            "       pto_request_status       0.90      1.00      0.95        18\n",
            "                 pto_used       1.00      0.95      0.98        21\n",
            "                   recipe       1.00      0.91      0.95        22\n",
            "           redeem_rewards       0.85      1.00      0.92        17\n",
            "                 reminder       0.75      0.94      0.83        16\n",
            "          reminder_update       1.00      1.00      1.00        20\n",
            "                   repeat       0.85      0.94      0.89        18\n",
            "replacement_card_duration       0.90      0.69      0.78        26\n",
            "             report_fraud       0.85      1.00      0.92        17\n",
            "         report_lost_card       0.95      1.00      0.97        19\n",
            "           reset_settings       1.00      1.00      1.00        20\n",
            "   restaurant_reservation       0.70      1.00      0.82        14\n",
            "       restaurant_reviews       1.00      0.91      0.95        22\n",
            "    restaurant_suggestion       0.95      0.95      0.95        20\n",
            "          rewards_balance       1.00      0.83      0.91        24\n",
            "                roll_dice       1.00      0.91      0.95        22\n",
            "            rollover_401k       0.90      1.00      0.95        18\n",
            "                  routing       1.00      1.00      1.00        20\n",
            "     schedule_maintenance       0.90      0.95      0.92        19\n",
            "         schedule_meeting       0.95      0.95      0.95        20\n",
            "           share_location       1.00      1.00      1.00        20\n",
            "            shopping_list       1.00      0.95      0.98        21\n",
            "     shopping_list_update       0.95      1.00      0.97        19\n",
            "               smart_home       1.00      0.80      0.89        25\n",
            "                 spelling       1.00      1.00      1.00        20\n",
            "         spending_history       0.95      0.90      0.93        21\n",
            "              sync_device       1.00      1.00      1.00        20\n",
            "                    taxes       1.00      0.87      0.93        23\n",
            "                tell_joke       1.00      0.83      0.91        24\n",
            "                     text       0.85      1.00      0.92        17\n",
            "                thank_you       1.00      0.91      0.95        22\n",
            "                     time       0.90      0.95      0.92        19\n",
            "                    timer       0.95      1.00      0.97        19\n",
            "                 timezone       1.00      1.00      1.00        20\n",
            "              tire_change       1.00      0.95      0.98        21\n",
            "            tire_pressure       1.00      0.95      0.98        21\n",
            "                todo_list       0.95      0.86      0.90        22\n",
            "         todo_list_update       0.95      0.95      0.95        20\n",
            "                  traffic       0.95      1.00      0.97        19\n",
            "             transactions       0.80      1.00      0.89        16\n",
            "                 transfer       1.00      0.95      0.98        21\n",
            "                translate       0.95      1.00      0.97        19\n",
            "             travel_alert       1.00      0.95      0.98        21\n",
            "      travel_notification       0.95      0.95      0.95        20\n",
            "        travel_suggestion       0.95      0.95      0.95        20\n",
            "                     uber       1.00      1.00      1.00        20\n",
            "          update_playlist       0.85      1.00      0.92        17\n",
            "                user_name       0.90      1.00      0.95        18\n",
            "                 vaccines       1.00      1.00      1.00        20\n",
            "                       w2       0.95      0.95      0.95        20\n",
            "                  weather       1.00      0.87      0.93        23\n",
            "    what_are_your_hobbies       0.95      1.00      0.97        19\n",
            "       what_can_i_ask_you       1.00      0.71      0.83        28\n",
            "        what_is_your_name       1.00      1.00      1.00        20\n",
            "                what_song       1.00      0.95      0.98        21\n",
            "       where_are_you_from       0.90      0.90      0.90        20\n",
            "             whisper_mode       1.00      1.00      1.00        20\n",
            "      who_do_you_work_for       1.00      1.00      1.00        20\n",
            "             who_made_you       0.95      0.95      0.95        20\n",
            "                      yes       0.80      1.00      0.89        16\n",
            "\n",
            "                 accuracy                           0.94      3100\n",
            "                macro avg       0.95      0.94      0.95      3100\n",
            "             weighted avg       0.95      0.94      0.94      3100\n",
            "\n"
          ]
        }
      ],
      "source": [
        "print(classification_report(predicted_intents, val_labels))"
      ]
    }
  ],
  "metadata": {
    "accelerator": "GPU",
    "colab": {
      "collapsed_sections": [
        "rqln2osCj5nS"
      ],
      "name": "4_clinc_oss_distilBERT_with_oos.ipynb",
      "provenance": []
    },
    "kernelspec": {
      "display_name": "Python 3",
      "name": "python3"
    },
    "language_info": {
      "name": "python"
    },
    "widgets": {
      "application/vnd.jupyter.widget-state+json": {
        "1421a768b6ed4bb192c02e6fa1408d74": {
          "model_module": "@jupyter-widgets/controls",
          "model_module_version": "1.5.0",
          "model_name": "HBoxModel",
          "state": {
            "_dom_classes": [],
            "_model_module": "@jupyter-widgets/controls",
            "_model_module_version": "1.5.0",
            "_model_name": "HBoxModel",
            "_view_count": null,
            "_view_module": "@jupyter-widgets/controls",
            "_view_module_version": "1.5.0",
            "_view_name": "HBoxView",
            "box_style": "",
            "children": [
              "IPY_MODEL_de89ba20a737478699146a0700556d7d",
              "IPY_MODEL_6d24e808e10941d7b94ec6383df57828",
              "IPY_MODEL_26c7dafc78e241dd8105f7a5b2fd2384"
            ],
            "layout": "IPY_MODEL_f719bfea823f4791b4fa45eb45bcddc9"
          }
        },
        "24b72ec2148a4ff2b13647048b64abf8": {
          "model_module": "@jupyter-widgets/base",
          "model_module_version": "1.2.0",
          "model_name": "LayoutModel",
          "state": {
            "_model_module": "@jupyter-widgets/base",
            "_model_module_version": "1.2.0",
            "_model_name": "LayoutModel",
            "_view_count": null,
            "_view_module": "@jupyter-widgets/base",
            "_view_module_version": "1.2.0",
            "_view_name": "LayoutView",
            "align_content": null,
            "align_items": null,
            "align_self": null,
            "border": null,
            "bottom": null,
            "display": null,
            "flex": null,
            "flex_flow": null,
            "grid_area": null,
            "grid_auto_columns": null,
            "grid_auto_flow": null,
            "grid_auto_rows": null,
            "grid_column": null,
            "grid_gap": null,
            "grid_row": null,
            "grid_template_areas": null,
            "grid_template_columns": null,
            "grid_template_rows": null,
            "height": null,
            "justify_content": null,
            "justify_items": null,
            "left": null,
            "margin": null,
            "max_height": null,
            "max_width": null,
            "min_height": null,
            "min_width": null,
            "object_fit": null,
            "object_position": null,
            "order": null,
            "overflow": null,
            "overflow_x": null,
            "overflow_y": null,
            "padding": null,
            "right": null,
            "top": null,
            "visibility": null,
            "width": null
          }
        },
        "26c7dafc78e241dd8105f7a5b2fd2384": {
          "model_module": "@jupyter-widgets/controls",
          "model_module_version": "1.5.0",
          "model_name": "HTMLModel",
          "state": {
            "_dom_classes": [],
            "_model_module": "@jupyter-widgets/controls",
            "_model_module_version": "1.5.0",
            "_model_name": "HTMLModel",
            "_view_count": null,
            "_view_module": "@jupyter-widgets/controls",
            "_view_module_version": "1.5.0",
            "_view_name": "HTMLView",
            "description": "",
            "description_tooltip": null,
            "layout": "IPY_MODEL_24b72ec2148a4ff2b13647048b64abf8",
            "placeholder": "​",
            "style": "IPY_MODEL_a9eea4352d184900ad6f145bfa229dda",
            "value": " 3100/3100 [05:57&lt;00:00,  8.52it/s]"
          }
        },
        "4c64baa5b77344d08b8eccbd46649cbc": {
          "model_module": "@jupyter-widgets/base",
          "model_module_version": "1.2.0",
          "model_name": "LayoutModel",
          "state": {
            "_model_module": "@jupyter-widgets/base",
            "_model_module_version": "1.2.0",
            "_model_name": "LayoutModel",
            "_view_count": null,
            "_view_module": "@jupyter-widgets/base",
            "_view_module_version": "1.2.0",
            "_view_name": "LayoutView",
            "align_content": null,
            "align_items": null,
            "align_self": null,
            "border": null,
            "bottom": null,
            "display": null,
            "flex": null,
            "flex_flow": null,
            "grid_area": null,
            "grid_auto_columns": null,
            "grid_auto_flow": null,
            "grid_auto_rows": null,
            "grid_column": null,
            "grid_gap": null,
            "grid_row": null,
            "grid_template_areas": null,
            "grid_template_columns": null,
            "grid_template_rows": null,
            "height": null,
            "justify_content": null,
            "justify_items": null,
            "left": null,
            "margin": null,
            "max_height": null,
            "max_width": null,
            "min_height": null,
            "min_width": null,
            "object_fit": null,
            "object_position": null,
            "order": null,
            "overflow": null,
            "overflow_x": null,
            "overflow_y": null,
            "padding": null,
            "right": null,
            "top": null,
            "visibility": null,
            "width": null
          }
        },
        "6d24e808e10941d7b94ec6383df57828": {
          "model_module": "@jupyter-widgets/controls",
          "model_module_version": "1.5.0",
          "model_name": "FloatProgressModel",
          "state": {
            "_dom_classes": [],
            "_model_module": "@jupyter-widgets/controls",
            "_model_module_version": "1.5.0",
            "_model_name": "FloatProgressModel",
            "_view_count": null,
            "_view_module": "@jupyter-widgets/controls",
            "_view_module_version": "1.5.0",
            "_view_name": "ProgressView",
            "bar_style": "success",
            "description": "",
            "description_tooltip": null,
            "layout": "IPY_MODEL_4c64baa5b77344d08b8eccbd46649cbc",
            "max": 3100,
            "min": 0,
            "orientation": "horizontal",
            "style": "IPY_MODEL_9f66fb2883464eae81096ec905fcfb43",
            "value": 3100
          }
        },
        "9575fc336c4f4450ace13578e769699e": {
          "model_module": "@jupyter-widgets/controls",
          "model_module_version": "1.5.0",
          "model_name": "DescriptionStyleModel",
          "state": {
            "_model_module": "@jupyter-widgets/controls",
            "_model_module_version": "1.5.0",
            "_model_name": "DescriptionStyleModel",
            "_view_count": null,
            "_view_module": "@jupyter-widgets/base",
            "_view_module_version": "1.2.0",
            "_view_name": "StyleView",
            "description_width": ""
          }
        },
        "9f66fb2883464eae81096ec905fcfb43": {
          "model_module": "@jupyter-widgets/controls",
          "model_module_version": "1.5.0",
          "model_name": "ProgressStyleModel",
          "state": {
            "_model_module": "@jupyter-widgets/controls",
            "_model_module_version": "1.5.0",
            "_model_name": "ProgressStyleModel",
            "_view_count": null,
            "_view_module": "@jupyter-widgets/base",
            "_view_module_version": "1.2.0",
            "_view_name": "StyleView",
            "bar_color": null,
            "description_width": ""
          }
        },
        "a9eea4352d184900ad6f145bfa229dda": {
          "model_module": "@jupyter-widgets/controls",
          "model_module_version": "1.5.0",
          "model_name": "DescriptionStyleModel",
          "state": {
            "_model_module": "@jupyter-widgets/controls",
            "_model_module_version": "1.5.0",
            "_model_name": "DescriptionStyleModel",
            "_view_count": null,
            "_view_module": "@jupyter-widgets/base",
            "_view_module_version": "1.2.0",
            "_view_name": "StyleView",
            "description_width": ""
          }
        },
        "de89ba20a737478699146a0700556d7d": {
          "model_module": "@jupyter-widgets/controls",
          "model_module_version": "1.5.0",
          "model_name": "HTMLModel",
          "state": {
            "_dom_classes": [],
            "_model_module": "@jupyter-widgets/controls",
            "_model_module_version": "1.5.0",
            "_model_name": "HTMLModel",
            "_view_count": null,
            "_view_module": "@jupyter-widgets/controls",
            "_view_module_version": "1.5.0",
            "_view_name": "HTMLView",
            "description": "",
            "description_tooltip": null,
            "layout": "IPY_MODEL_e529cf06184b4dc09bf7deaf5dcc559b",
            "placeholder": "​",
            "style": "IPY_MODEL_9575fc336c4f4450ace13578e769699e",
            "value": "Prediction Progress: 100%"
          }
        },
        "e529cf06184b4dc09bf7deaf5dcc559b": {
          "model_module": "@jupyter-widgets/base",
          "model_module_version": "1.2.0",
          "model_name": "LayoutModel",
          "state": {
            "_model_module": "@jupyter-widgets/base",
            "_model_module_version": "1.2.0",
            "_model_name": "LayoutModel",
            "_view_count": null,
            "_view_module": "@jupyter-widgets/base",
            "_view_module_version": "1.2.0",
            "_view_name": "LayoutView",
            "align_content": null,
            "align_items": null,
            "align_self": null,
            "border": null,
            "bottom": null,
            "display": null,
            "flex": null,
            "flex_flow": null,
            "grid_area": null,
            "grid_auto_columns": null,
            "grid_auto_flow": null,
            "grid_auto_rows": null,
            "grid_column": null,
            "grid_gap": null,
            "grid_row": null,
            "grid_template_areas": null,
            "grid_template_columns": null,
            "grid_template_rows": null,
            "height": null,
            "justify_content": null,
            "justify_items": null,
            "left": null,
            "margin": null,
            "max_height": null,
            "max_width": null,
            "min_height": null,
            "min_width": null,
            "object_fit": null,
            "object_position": null,
            "order": null,
            "overflow": null,
            "overflow_x": null,
            "overflow_y": null,
            "padding": null,
            "right": null,
            "top": null,
            "visibility": null,
            "width": null
          }
        },
        "f719bfea823f4791b4fa45eb45bcddc9": {
          "model_module": "@jupyter-widgets/base",
          "model_module_version": "1.2.0",
          "model_name": "LayoutModel",
          "state": {
            "_model_module": "@jupyter-widgets/base",
            "_model_module_version": "1.2.0",
            "_model_name": "LayoutModel",
            "_view_count": null,
            "_view_module": "@jupyter-widgets/base",
            "_view_module_version": "1.2.0",
            "_view_name": "LayoutView",
            "align_content": null,
            "align_items": null,
            "align_self": null,
            "border": null,
            "bottom": null,
            "display": null,
            "flex": null,
            "flex_flow": null,
            "grid_area": null,
            "grid_auto_columns": null,
            "grid_auto_flow": null,
            "grid_auto_rows": null,
            "grid_column": null,
            "grid_gap": null,
            "grid_row": null,
            "grid_template_areas": null,
            "grid_template_columns": null,
            "grid_template_rows": null,
            "height": null,
            "justify_content": null,
            "justify_items": null,
            "left": null,
            "margin": null,
            "max_height": null,
            "max_width": null,
            "min_height": null,
            "min_width": null,
            "object_fit": null,
            "object_position": null,
            "order": null,
            "overflow": null,
            "overflow_x": null,
            "overflow_y": null,
            "padding": null,
            "right": null,
            "top": null,
            "visibility": null,
            "width": null
          }
        }
      }
    }
  },
  "nbformat": 4,
  "nbformat_minor": 0
}
