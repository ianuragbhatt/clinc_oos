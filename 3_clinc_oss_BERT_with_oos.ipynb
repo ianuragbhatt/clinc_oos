{
 "cells": [
  {
   "cell_type": "markdown",
   "metadata": {
    "id": "3V6XuYPvsjAO"
   },
   "source": [
    "### Loading Datasets"
   ]
  },
  {
   "cell_type": "code",
   "execution_count": 2,
   "metadata": {
    "id": "pbhOawrduieO"
   },
   "outputs": [],
   "source": [
    "import re\n",
    "import numpy as np \n",
    "import pandas as pd\n",
    "pd.set_option('display.max_rows', 700)\n",
    "from sklearn.utils import shuffle"
   ]
  },
  {
   "cell_type": "code",
   "execution_count": 3,
   "metadata": {
    "id": "Ha78n0Aobtyr"
   },
   "outputs": [],
   "source": [
    "import matplotlib.pyplot as plt"
   ]
  },
  {
   "cell_type": "code",
   "execution_count": 4,
   "metadata": {
    "colab": {
     "base_uri": "https://localhost:8080/"
    },
    "id": "IxAv0ThjHbwT",
    "outputId": "82163fc9-2d6e-4aab-840c-e515e2e76bca"
   },
   "outputs": [],
   "source": [
    "# from google.colab import drive\n",
    "# drive.mount('/content/drive')"
   ]
  },
  {
   "cell_type": "code",
   "execution_count": 5,
   "metadata": {
    "colab": {
     "base_uri": "https://localhost:8080/"
    },
    "id": "6BoMQtCgtqNT",
    "outputId": "c31ffc8d-2f7a-48cc-d81f-cf56ab721da5"
   },
   "outputs": [
    {
     "name": "stdout",
     "output_type": "stream",
     "text": [
      "train shape:(15000, 2), train has 0 null values\n",
      "val shape:(3000, 2), val has 0 null values\n",
      "test shape:(4500, 2), test has 0 null values\n",
      "oos_train shape:(100, 2), oos_train has 0 null values\n",
      "oos_val shape:(100, 2), oos_val has 0 null values\n",
      "oos_test shape:(1000, 2), oos_test has 0 null values\n"
     ]
    }
   ],
   "source": [
    "train = shuffle(pd.read_json('data/is_train.json'), random_state=0)\n",
    "val = shuffle(pd.read_json('data/is_val.json'), random_state=0)\n",
    "test = pd.read_json('data/is_test.json')\n",
    "oos_train = pd.read_json('data/oos_train.json')\n",
    "oos_val = pd.read_json('data/oos_val.json')\n",
    "oos_test = pd.read_json('data/oos_test.json')\n",
    "\n",
    "files = [\n",
    "         (train,'train'),\n",
    "         (val,'val'),\n",
    "         (test,'test'),\n",
    "         (oos_train,'oos_train'),\n",
    "         (oos_val,'oos_val'),\n",
    "         (oos_test,'oos_test')\n",
    "         ]\n",
    "         \n",
    "for file,name in files:\n",
    "    file.columns = ['text','intent']\n",
    "    print(f'{name} shape:{file.shape}, {name} has {train.isna().sum().sum()} null values')\n",
    "in_train = train.copy()"
   ]
  },
  {
   "cell_type": "markdown",
   "metadata": {},
   "source": [
    "#### Merging oos intent to train, val and test"
   ]
  },
  {
   "cell_type": "code",
   "execution_count": 6,
   "metadata": {},
   "outputs": [],
   "source": [
    "in_train = pd.concat([in_train, oos_train], axis=0).reset_index(drop=True)\n",
    "val = pd.concat([val, oos_val], axis=0).reset_index(drop=True)\n",
    "test = pd.concat([test, oos_test], axis=0).reset_index(drop=True)"
   ]
  },
  {
   "cell_type": "code",
   "execution_count": 7,
   "metadata": {},
   "outputs": [],
   "source": [
    "# shuffling the datasets\n",
    "in_train = shuffle(in_train , random_state=0).reset_index(drop=True)\n",
    "val = shuffle(val, random_state=0).reset_index(drop=True)\n",
    "test = shuffle(test, random_state=0).reset_index(drop=True)"
   ]
  },
  {
   "cell_type": "code",
   "execution_count": 8,
   "metadata": {
    "colab": {
     "base_uri": "https://localhost:8080/"
    },
    "id": "szuRNyRswqwF",
    "outputId": "5beaa490-48bd-48d1-dae1-5cc6bf4a61cb"
   },
   "outputs": [
    {
     "data": {
      "text/plain": [
       "(15100, 2)"
      ]
     },
     "execution_count": 8,
     "metadata": {},
     "output_type": "execute_result"
    }
   ],
   "source": [
    "in_train.shape"
   ]
  },
  {
   "cell_type": "code",
   "execution_count": 9,
   "metadata": {
    "colab": {
     "base_uri": "https://localhost:8080/"
    },
    "id": "uJzuFiLpuZZq",
    "outputId": "d6b562c2-bf67-4d47-e8dc-2942982d504d"
   },
   "outputs": [
    {
     "data": {
      "text/plain": [
       "redeem_rewards               100\n",
       "who_made_you                 100\n",
       "spending_history             100\n",
       "pay_bill                     100\n",
       "time                         100\n",
       "goodbye                      100\n",
       "rollover_401k                100\n",
       "order_status                 100\n",
       "pto_request                  100\n",
       "calculator                   100\n",
       "tire_change                  100\n",
       "measurement_conversion       100\n",
       "pto_request_status           100\n",
       "rewards_balance              100\n",
       "vaccines                     100\n",
       "calendar                     100\n",
       "what_is_your_name            100\n",
       "reminder                     100\n",
       "bill_balance                 100\n",
       "account_blocked              100\n",
       "spelling                     100\n",
       "timezone                     100\n",
       "freeze_account               100\n",
       "last_maintenance             100\n",
       "do_you_have_pets             100\n",
       "gas_type                     100\n",
       "jump_start                   100\n",
       "w2                           100\n",
       "oil_change_how               100\n",
       "calories                     100\n",
       "thank_you                    100\n",
       "transfer                     100\n",
       "order_checks                 100\n",
       "restaurant_reviews           100\n",
       "fun_fact                     100\n",
       "exchange_rate                100\n",
       "roll_dice                    100\n",
       "where_are_you_from           100\n",
       "ingredients_list             100\n",
       "travel_alert                 100\n",
       "what_are_your_hobbies        100\n",
       "alarm                        100\n",
       "meeting_schedule             100\n",
       "change_speed                 100\n",
       "calendar_update              100\n",
       "report_lost_card             100\n",
       "user_name                    100\n",
       "mpg                          100\n",
       "pto_used                     100\n",
       "date                         100\n",
       "flip_coin                    100\n",
       "next_holiday                 100\n",
       "how_busy                     100\n",
       "income                       100\n",
       "ingredient_substitution      100\n",
       "directions                   100\n",
       "yes                          100\n",
       "book_flight                  100\n",
       "tire_pressure                100\n",
       "todo_list                    100\n",
       "car_rental                   100\n",
       "uber                         100\n",
       "replacement_card_duration    100\n",
       "application_status           100\n",
       "plug_type                    100\n",
       "make_call                    100\n",
       "cook_time                    100\n",
       "international_visa           100\n",
       "smart_home                   100\n",
       "bill_due                     100\n",
       "tell_joke                    100\n",
       "shopping_list                100\n",
       "transactions                 100\n",
       "reminder_update              100\n",
       "flight_status                100\n",
       "change_volume                100\n",
       "pto_balance                  100\n",
       "routing                      100\n",
       "greeting                     100\n",
       "min_payment                  100\n",
       "sync_device                  100\n",
       "credit_limit_change          100\n",
       "nutrition_info               100\n",
       "next_song                    100\n",
       "interest_rate                100\n",
       "maybe                        100\n",
       "accept_reservations          100\n",
       "change_language              100\n",
       "definition                   100\n",
       "timer                        100\n",
       "credit_limit                 100\n",
       "pin_change                   100\n",
       "schedule_meeting             100\n",
       "gas                          100\n",
       "meaning_of_life              100\n",
       "reset_settings               100\n",
       "distance                     100\n",
       "schedule_maintenance         100\n",
       "international_fees           100\n",
       "insurance                    100\n",
       "oil_change_when              100\n",
       "confirm_reservation          100\n",
       "food_last                    100\n",
       "oos                          100\n",
       "change_ai_name               100\n",
       "change_accent                100\n",
       "card_declined                100\n",
       "carry_on                     100\n",
       "repeat                       100\n",
       "restaurant_suggestion        100\n",
       "payday                       100\n",
       "cancel_reservation           100\n",
       "share_location               100\n",
       "whisper_mode                 100\n",
       "shopping_list_update         100\n",
       "update_playlist              100\n",
       "balance                      100\n",
       "travel_suggestion            100\n",
       "new_card                     100\n",
       "translate                    100\n",
       "find_phone                   100\n",
       "what_song                    100\n",
       "meal_suggestion              100\n",
       "travel_notification          100\n",
       "no                           100\n",
       "report_fraud                 100\n",
       "play_music                   100\n",
       "who_do_you_work_for          100\n",
       "are_you_a_bot                100\n",
       "recipe                       100\n",
       "improve_credit_score         100\n",
       "lost_luggage                 100\n",
       "insurance_change             100\n",
       "weather                      100\n",
       "traffic                      100\n",
       "damaged_card                 100\n",
       "how_old_are_you              100\n",
       "current_location             100\n",
       "taxes                        100\n",
       "restaurant_reservation       100\n",
       "order                        100\n",
       "apr                          100\n",
       "book_hotel                   100\n",
       "credit_score                 100\n",
       "text                         100\n",
       "direct_deposit               100\n",
       "change_user_name             100\n",
       "todo_list_update             100\n",
       "expiration_date              100\n",
       "what_can_i_ask_you           100\n",
       "cancel                       100\n",
       "Name: intent, dtype: int64"
      ]
     },
     "execution_count": 9,
     "metadata": {},
     "output_type": "execute_result"
    }
   ],
   "source": [
    "in_train.intent.value_counts()"
   ]
  },
  {
   "cell_type": "code",
   "execution_count": 10,
   "metadata": {
    "colab": {
     "base_uri": "https://localhost:8080/"
    },
    "id": "WXJ-pC6RxeKt",
    "outputId": "99930dff-ee06-4776-8d48-0c0b61b6044d"
   },
   "outputs": [
    {
     "data": {
      "text/plain": [
       "(151, 151, 151)"
      ]
     },
     "execution_count": 10,
     "metadata": {},
     "output_type": "execute_result"
    }
   ],
   "source": [
    "in_train['intent'].nunique(), val['intent'].nunique(), test['intent'].nunique()"
   ]
  },
  {
   "cell_type": "code",
   "execution_count": 11,
   "metadata": {
    "id": "2lfJ_L2rx98X"
   },
   "outputs": [],
   "source": [
    "# oss_plus_train = pd.concat([in_train, oos_train],axis=0).reset_index(drop=True)\n",
    "# oss_plus_val = pd.concat([val,oos_val],axis=0).reset_index(drop=True)\n",
    "# oss_plus_test = pd.concat([test,oos_test],axis=0).reset_index(drop=True)"
   ]
  },
  {
   "cell_type": "code",
   "execution_count": 12,
   "metadata": {
    "id": "dSKiii4yyYX2"
   },
   "outputs": [],
   "source": [
    "# oss_plus_train['intent'].nunique(), oss_plus_val['intent'].nunique(), oss_plus_test['intent'].nunique()"
   ]
  },
  {
   "cell_type": "code",
   "execution_count": 13,
   "metadata": {
    "id": "yT2MTkXsxNGn"
   },
   "outputs": [],
   "source": [
    "# def binarize(df):\n",
    "#     df.intent = np.where(df.intent!='oos',0,1)\n",
    "#     return df"
   ]
  },
  {
   "cell_type": "code",
   "execution_count": 14,
   "metadata": {
    "id": "83wot8Wjvsde"
   },
   "outputs": [],
   "source": [
    "# oos_plus_train = binarize(pd.concat([in_train,oos_train],axis=0).reset_index(drop=True))\n",
    "# oos_plus_val = binarize(pd.concat([val,oos_val],axis=0).reset_index(drop=True))\n",
    "# oos_plus_test = binarize(pd.concat([test,oos_test],axis=0).reset_index(drop=True))"
   ]
  },
  {
   "cell_type": "code",
   "execution_count": 15,
   "metadata": {
    "id": "4B_k1NCpw-N2"
   },
   "outputs": [],
   "source": [
    "# oos_count = oos_plus_train.intent.value_counts()\n",
    "# oos_count"
   ]
  },
  {
   "cell_type": "code",
   "execution_count": 16,
   "metadata": {
    "id": "dRLfZcudyyYJ"
   },
   "outputs": [],
   "source": [
    "# oss_plus_train.head()"
   ]
  },
  {
   "cell_type": "markdown",
   "metadata": {},
   "source": [
    "#### Loading LabelBinarizer for One Hot Encoding"
   ]
  },
  {
   "cell_type": "code",
   "execution_count": 17,
   "metadata": {
    "id": "sNekS6YaxPN5"
   },
   "outputs": [],
   "source": [
    "from sklearn.preprocessing import LabelBinarizer\n",
    "labelBinary = LabelBinarizer()\n",
    " \n",
    "train_labels = labelBinary.fit_transform(in_train['intent'])\n",
    "train_sentences = in_train['text'].values\n",
    "# import numpy as np\n",
    "# val = [\n",
    "#        [0, 0, 1],\n",
    "#        [1, 0, 0]\n",
    "# ]\n",
    " \n",
    "# lb.inverse_transform(np.asarray(val))"
   ]
  },
  {
   "cell_type": "code",
   "execution_count": 18,
   "metadata": {
    "colab": {
     "base_uri": "https://localhost:8080/"
    },
    "id": "6vl_trBK0TBV",
    "outputId": "7605cc47-cff9-43f3-d150-ef1603863e84"
   },
   "outputs": [
    {
     "data": {
      "text/plain": [
       "array(['accept_reservations', 'account_blocked', 'alarm',\n",
       "       'application_status', 'apr', 'are_you_a_bot', 'balance',\n",
       "       'bill_balance', 'bill_due', 'book_flight', 'book_hotel',\n",
       "       'calculator', 'calendar', 'calendar_update', 'calories', 'cancel',\n",
       "       'cancel_reservation', 'car_rental', 'card_declined', 'carry_on',\n",
       "       'change_accent', 'change_ai_name', 'change_language',\n",
       "       'change_speed', 'change_user_name', 'change_volume',\n",
       "       'confirm_reservation', 'cook_time', 'credit_limit',\n",
       "       'credit_limit_change', 'credit_score', 'current_location',\n",
       "       'damaged_card', 'date', 'definition', 'direct_deposit',\n",
       "       'directions', 'distance', 'do_you_have_pets', 'exchange_rate',\n",
       "       'expiration_date', 'find_phone', 'flight_status', 'flip_coin',\n",
       "       'food_last', 'freeze_account', 'fun_fact', 'gas', 'gas_type',\n",
       "       'goodbye', 'greeting', 'how_busy', 'how_old_are_you',\n",
       "       'improve_credit_score', 'income', 'ingredient_substitution',\n",
       "       'ingredients_list', 'insurance', 'insurance_change',\n",
       "       'interest_rate', 'international_fees', 'international_visa',\n",
       "       'jump_start', 'last_maintenance', 'lost_luggage', 'make_call',\n",
       "       'maybe', 'meal_suggestion', 'meaning_of_life',\n",
       "       'measurement_conversion', 'meeting_schedule', 'min_payment', 'mpg',\n",
       "       'new_card', 'next_holiday', 'next_song', 'no', 'nutrition_info',\n",
       "       'oil_change_how', 'oil_change_when', 'oos', 'order',\n",
       "       'order_checks', 'order_status', 'pay_bill', 'payday', 'pin_change',\n",
       "       'play_music', 'plug_type', 'pto_balance', 'pto_request',\n",
       "       'pto_request_status', 'pto_used', 'recipe', 'redeem_rewards',\n",
       "       'reminder', 'reminder_update', 'repeat',\n",
       "       'replacement_card_duration', 'report_fraud', 'report_lost_card',\n",
       "       'reset_settings', 'restaurant_reservation', 'restaurant_reviews',\n",
       "       'restaurant_suggestion', 'rewards_balance', 'roll_dice',\n",
       "       'rollover_401k', 'routing', 'schedule_maintenance',\n",
       "       'schedule_meeting', 'share_location', 'shopping_list',\n",
       "       'shopping_list_update', 'smart_home', 'spelling',\n",
       "       'spending_history', 'sync_device', 'taxes', 'tell_joke', 'text',\n",
       "       'thank_you', 'time', 'timer', 'timezone', 'tire_change',\n",
       "       'tire_pressure', 'todo_list', 'todo_list_update', 'traffic',\n",
       "       'transactions', 'transfer', 'translate', 'travel_alert',\n",
       "       'travel_notification', 'travel_suggestion', 'uber',\n",
       "       'update_playlist', 'user_name', 'vaccines', 'w2', 'weather',\n",
       "       'what_are_your_hobbies', 'what_can_i_ask_you', 'what_is_your_name',\n",
       "       'what_song', 'where_are_you_from', 'whisper_mode',\n",
       "       'who_do_you_work_for', 'who_made_you', 'yes'], dtype='<U25')"
      ]
     },
     "execution_count": 18,
     "metadata": {},
     "output_type": "execute_result"
    }
   ],
   "source": [
    "labelBinary.classes_"
   ]
  },
  {
   "cell_type": "code",
   "execution_count": 19,
   "metadata": {
    "id": "RYx3IvRe0WF6"
   },
   "outputs": [],
   "source": [
    "import pickle\n",
    "\n",
    "labelpath = 'model/3_clinc_oss_BERT_with_oos/label.pkl'\n",
    "with open(labelpath, 'wb') as handle:\n",
    "    pickle.dump(labelBinary, handle, protocol=pickle.HIGHEST_PROTOCOL)"
   ]
  },
  {
   "cell_type": "code",
   "execution_count": 20,
   "metadata": {
    "colab": {
     "base_uri": "https://localhost:8080/"
    },
    "id": "TRmbO9U40WAr",
    "outputId": "e09040cf-20e0-48fd-c11d-b5965e227d86"
   },
   "outputs": [
    {
     "name": "stdout",
     "output_type": "stream",
     "text": [
      "(15100, 151) (15100,)\n"
     ]
    }
   ],
   "source": [
    "print(train_labels.shape, train_sentences.shape)\n",
    "# train_labels.shape"
   ]
  },
  {
   "cell_type": "code",
   "execution_count": 21,
   "metadata": {
    "colab": {
     "base_uri": "https://localhost:8080/"
    },
    "id": "mzhyNBW_BXhV",
    "outputId": "36787625-a3e1-463b-934e-78bb14be4d36"
   },
   "outputs": [
    {
     "data": {
      "text/plain": [
       "array(['is it possible for you to use the whisper voice',\n",
       "       'search for a macaroni and cheese recipe', 'correct', ...,\n",
       "       'what kind of mpg does this car get in the city', 'roll dice',\n",
       "       'the tasks for today, what are they'], dtype=object)"
      ]
     },
     "execution_count": 21,
     "metadata": {},
     "output_type": "execute_result"
    }
   ],
   "source": [
    "train_sentences"
   ]
  },
  {
   "cell_type": "code",
   "execution_count": 22,
   "metadata": {
    "colab": {
     "base_uri": "https://localhost:8080/"
    },
    "id": "RtrSOrONTq4A",
    "outputId": "172c1fc1-8418-4ecf-a6ba-716fc6aa2fa5"
   },
   "outputs": [
    {
     "data": {
      "text/plain": [
       "array([[0, 0, 0, ..., 0, 0, 0],\n",
       "       [0, 0, 0, ..., 0, 0, 0],\n",
       "       [0, 0, 0, ..., 0, 0, 1],\n",
       "       ...,\n",
       "       [0, 0, 0, ..., 0, 0, 0],\n",
       "       [0, 0, 0, ..., 0, 0, 0],\n",
       "       [0, 0, 0, ..., 0, 0, 0]])"
      ]
     },
     "execution_count": 22,
     "metadata": {},
     "output_type": "execute_result"
    }
   ],
   "source": [
    "train_labels"
   ]
  },
  {
   "cell_type": "markdown",
   "metadata": {
    "id": "u-xKz0Rh4jog"
   },
   "source": [
    "#### Transform validation dataset"
   ]
  },
  {
   "cell_type": "code",
   "execution_count": 23,
   "metadata": {
    "colab": {
     "base_uri": "https://localhost:8080/",
     "height": 206
    },
    "id": "iVjGWs5y4u3S",
    "outputId": "7d2b6d50-7fc4-4f09-82d1-ff2252af4ff6"
   },
   "outputs": [
    {
     "data": {
      "text/html": [
       "<div>\n",
       "<style scoped>\n",
       "    .dataframe tbody tr th:only-of-type {\n",
       "        vertical-align: middle;\n",
       "    }\n",
       "\n",
       "    .dataframe tbody tr th {\n",
       "        vertical-align: top;\n",
       "    }\n",
       "\n",
       "    .dataframe thead th {\n",
       "        text-align: right;\n",
       "    }\n",
       "</style>\n",
       "<table border=\"1\" class=\"dataframe\">\n",
       "  <thead>\n",
       "    <tr style=\"text-align: right;\">\n",
       "      <th></th>\n",
       "      <th>text</th>\n",
       "      <th>intent</th>\n",
       "    </tr>\n",
       "  </thead>\n",
       "  <tbody>\n",
       "    <tr>\n",
       "      <th>0</th>\n",
       "      <td>how much do i need to pay in tax</td>\n",
       "      <td>taxes</td>\n",
       "    </tr>\n",
       "    <tr>\n",
       "      <th>1</th>\n",
       "      <td>forget reservation at longhorn for 4</td>\n",
       "      <td>cancel_reservation</td>\n",
       "    </tr>\n",
       "    <tr>\n",
       "      <th>2</th>\n",
       "      <td>is rice bad after 3 days in fridge</td>\n",
       "      <td>food_last</td>\n",
       "    </tr>\n",
       "    <tr>\n",
       "      <th>3</th>\n",
       "      <td>i want to change your name to sarah</td>\n",
       "      <td>change_ai_name</td>\n",
       "    </tr>\n",
       "    <tr>\n",
       "      <th>4</th>\n",
       "      <td>what do i get paid</td>\n",
       "      <td>income</td>\n",
       "    </tr>\n",
       "  </tbody>\n",
       "</table>\n",
       "</div>"
      ],
      "text/plain": [
       "                                   text              intent\n",
       "0      how much do i need to pay in tax               taxes\n",
       "1  forget reservation at longhorn for 4  cancel_reservation\n",
       "2    is rice bad after 3 days in fridge           food_last\n",
       "3   i want to change your name to sarah      change_ai_name\n",
       "4                    what do i get paid              income"
      ]
     },
     "execution_count": 23,
     "metadata": {},
     "output_type": "execute_result"
    }
   ],
   "source": [
    "val.head()"
   ]
  },
  {
   "cell_type": "code",
   "execution_count": 24,
   "metadata": {
    "id": "tpiQxFH04jBS"
   },
   "outputs": [],
   "source": [
    "val_labels = labelBinary.transform(val['intent'])\n",
    "val_sentences = val['text'].values"
   ]
  },
  {
   "cell_type": "code",
   "execution_count": 25,
   "metadata": {
    "colab": {
     "base_uri": "https://localhost:8080/"
    },
    "id": "xMoJQoJIAriv",
    "outputId": "e498ed57-f65e-4999-dfb4-b28fb2f5536e"
   },
   "outputs": [
    {
     "data": {
      "text/plain": [
       "array(['how much do i need to pay in tax',\n",
       "       'forget reservation at longhorn for 4',\n",
       "       'is rice bad after 3 days in fridge', ...,\n",
       "       'can i travel to france as far as safety goes',\n",
       "       'read my reminder list to me please', 'create a reminder'],\n",
       "      dtype=object)"
      ]
     },
     "execution_count": 25,
     "metadata": {},
     "output_type": "execute_result"
    }
   ],
   "source": [
    "val_sentences"
   ]
  },
  {
   "cell_type": "code",
   "execution_count": 26,
   "metadata": {
    "colab": {
     "base_uri": "https://localhost:8080/"
    },
    "id": "-oWbhHXlS9ZV",
    "outputId": "65e7989d-16d2-47bb-a673-ff7853339a80"
   },
   "outputs": [
    {
     "data": {
      "text/plain": [
       "array([[0, 0, 0, ..., 0, 0, 0],\n",
       "       [0, 0, 0, ..., 0, 0, 0],\n",
       "       [0, 0, 0, ..., 0, 0, 0],\n",
       "       ...,\n",
       "       [0, 0, 0, ..., 0, 0, 0],\n",
       "       [0, 0, 0, ..., 0, 0, 0],\n",
       "       [0, 0, 0, ..., 0, 0, 0]])"
      ]
     },
     "execution_count": 26,
     "metadata": {},
     "output_type": "execute_result"
    }
   ],
   "source": [
    "val_labels"
   ]
  },
  {
   "cell_type": "markdown",
   "metadata": {
    "id": "2e6TQCuG4lKI"
   },
   "source": [
    "### BERT"
   ]
  },
  {
   "cell_type": "code",
   "execution_count": 27,
   "metadata": {},
   "outputs": [
    {
     "name": "stdout",
     "output_type": "stream",
     "text": [
      "Requirement already satisfied: tensorflow in /home/ec2-user/anaconda3/envs/tensorflow2_p36/lib/python3.6/site-packages (2.6.2)\n",
      "Requirement already satisfied: numpy~=1.19.2 in /home/ec2-user/anaconda3/envs/tensorflow2_p36/lib/python3.6/site-packages (from tensorflow) (1.19.5)\n",
      "Requirement already satisfied: clang~=5.0 in /home/ec2-user/anaconda3/envs/tensorflow2_p36/lib/python3.6/site-packages (from tensorflow) (5.0)\n",
      "Requirement already satisfied: astunparse~=1.6.3 in /home/ec2-user/anaconda3/envs/tensorflow2_p36/lib/python3.6/site-packages (from tensorflow) (1.6.3)\n",
      "Requirement already satisfied: google-pasta~=0.2 in /home/ec2-user/anaconda3/envs/tensorflow2_p36/lib/python3.6/site-packages (from tensorflow) (0.2.0)\n",
      "Requirement already satisfied: keras-preprocessing~=1.1.2 in /home/ec2-user/anaconda3/envs/tensorflow2_p36/lib/python3.6/site-packages (from tensorflow) (1.1.2)\n",
      "Requirement already satisfied: termcolor~=1.1.0 in /home/ec2-user/anaconda3/envs/tensorflow2_p36/lib/python3.6/site-packages (from tensorflow) (1.1.0)\n",
      "Requirement already satisfied: typing-extensions~=3.7.4 in /home/ec2-user/anaconda3/envs/tensorflow2_p36/lib/python3.6/site-packages (from tensorflow) (3.7.4.3)\n",
      "Requirement already satisfied: tensorboard<2.7,>=2.6.0 in /home/ec2-user/anaconda3/envs/tensorflow2_p36/lib/python3.6/site-packages (from tensorflow) (2.6.0)\n",
      "Requirement already satisfied: absl-py~=0.10 in /home/ec2-user/anaconda3/envs/tensorflow2_p36/lib/python3.6/site-packages (from tensorflow) (0.15.0)\n",
      "Requirement already satisfied: tensorflow-estimator<2.7,>=2.6.0 in /home/ec2-user/anaconda3/envs/tensorflow2_p36/lib/python3.6/site-packages (from tensorflow) (2.6.0)\n",
      "Requirement already satisfied: grpcio<2.0,>=1.37.0 in /home/ec2-user/anaconda3/envs/tensorflow2_p36/lib/python3.6/site-packages (from tensorflow) (1.42.0)\n",
      "Requirement already satisfied: keras<2.7,>=2.6.0 in /home/ec2-user/anaconda3/envs/tensorflow2_p36/lib/python3.6/site-packages (from tensorflow) (2.6.0)\n",
      "Requirement already satisfied: wheel~=0.35 in /home/ec2-user/anaconda3/envs/tensorflow2_p36/lib/python3.6/site-packages (from tensorflow) (0.36.2)\n",
      "Requirement already satisfied: wrapt~=1.12.1 in /home/ec2-user/anaconda3/envs/tensorflow2_p36/lib/python3.6/site-packages (from tensorflow) (1.12.1)\n",
      "Requirement already satisfied: protobuf>=3.9.2 in /home/ec2-user/anaconda3/envs/tensorflow2_p36/lib/python3.6/site-packages (from tensorflow) (3.15.2)\n",
      "Requirement already satisfied: gast==0.4.0 in /home/ec2-user/anaconda3/envs/tensorflow2_p36/lib/python3.6/site-packages (from tensorflow) (0.4.0)\n",
      "Requirement already satisfied: h5py~=3.1.0 in /home/ec2-user/anaconda3/envs/tensorflow2_p36/lib/python3.6/site-packages (from tensorflow) (3.1.0)\n",
      "Requirement already satisfied: six~=1.15.0 in /home/ec2-user/anaconda3/envs/tensorflow2_p36/lib/python3.6/site-packages (from tensorflow) (1.15.0)\n",
      "Requirement already satisfied: flatbuffers~=1.12.0 in /home/ec2-user/anaconda3/envs/tensorflow2_p36/lib/python3.6/site-packages (from tensorflow) (1.12)\n",
      "Requirement already satisfied: opt-einsum~=3.3.0 in /home/ec2-user/anaconda3/envs/tensorflow2_p36/lib/python3.6/site-packages (from tensorflow) (3.3.0)\n",
      "Requirement already satisfied: cached-property in /home/ec2-user/anaconda3/envs/tensorflow2_p36/lib/python3.6/site-packages (from h5py~=3.1.0->tensorflow) (1.5.1)\n",
      "Requirement already satisfied: setuptools>=41.0.0 in /home/ec2-user/anaconda3/envs/tensorflow2_p36/lib/python3.6/site-packages (from tensorboard<2.7,>=2.6.0->tensorflow) (49.6.0.post20210108)\n",
      "Requirement already satisfied: tensorboard-data-server<0.7.0,>=0.6.0 in /home/ec2-user/anaconda3/envs/tensorflow2_p36/lib/python3.6/site-packages (from tensorboard<2.7,>=2.6.0->tensorflow) (0.6.1)\n",
      "Requirement already satisfied: google-auth<2,>=1.6.3 in /home/ec2-user/anaconda3/envs/tensorflow2_p36/lib/python3.6/site-packages (from tensorboard<2.7,>=2.6.0->tensorflow) (1.35.0)\n",
      "Requirement already satisfied: tensorboard-plugin-wit>=1.6.0 in /home/ec2-user/anaconda3/envs/tensorflow2_p36/lib/python3.6/site-packages (from tensorboard<2.7,>=2.6.0->tensorflow) (1.8.1)\n",
      "Requirement already satisfied: werkzeug>=0.11.15 in /home/ec2-user/anaconda3/envs/tensorflow2_p36/lib/python3.6/site-packages (from tensorboard<2.7,>=2.6.0->tensorflow) (2.0.2)\n",
      "Requirement already satisfied: google-auth-oauthlib<0.5,>=0.4.1 in /home/ec2-user/anaconda3/envs/tensorflow2_p36/lib/python3.6/site-packages (from tensorboard<2.7,>=2.6.0->tensorflow) (0.4.6)\n",
      "Requirement already satisfied: markdown>=2.6.8 in /home/ec2-user/anaconda3/envs/tensorflow2_p36/lib/python3.6/site-packages (from tensorboard<2.7,>=2.6.0->tensorflow) (3.3.6)\n",
      "Requirement already satisfied: requests<3,>=2.21.0 in /home/ec2-user/anaconda3/envs/tensorflow2_p36/lib/python3.6/site-packages (from tensorboard<2.7,>=2.6.0->tensorflow) (2.26.0)\n",
      "Requirement already satisfied: rsa<5,>=3.1.4 in /home/ec2-user/anaconda3/envs/tensorflow2_p36/lib/python3.6/site-packages (from google-auth<2,>=1.6.3->tensorboard<2.7,>=2.6.0->tensorflow) (4.7.2)\n",
      "Requirement already satisfied: pyasn1-modules>=0.2.1 in /home/ec2-user/anaconda3/envs/tensorflow2_p36/lib/python3.6/site-packages (from google-auth<2,>=1.6.3->tensorboard<2.7,>=2.6.0->tensorflow) (0.2.8)\n",
      "Requirement already satisfied: cachetools<5.0,>=2.0.0 in /home/ec2-user/anaconda3/envs/tensorflow2_p36/lib/python3.6/site-packages (from google-auth<2,>=1.6.3->tensorboard<2.7,>=2.6.0->tensorflow) (4.2.4)\n",
      "Requirement already satisfied: requests-oauthlib>=0.7.0 in /home/ec2-user/anaconda3/envs/tensorflow2_p36/lib/python3.6/site-packages (from google-auth-oauthlib<0.5,>=0.4.1->tensorboard<2.7,>=2.6.0->tensorflow) (1.3.0)\n",
      "Requirement already satisfied: importlib-metadata>=4.4 in /home/ec2-user/anaconda3/envs/tensorflow2_p36/lib/python3.6/site-packages (from markdown>=2.6.8->tensorboard<2.7,>=2.6.0->tensorflow) (4.8.2)\n",
      "Requirement already satisfied: urllib3<1.27,>=1.21.1 in /home/ec2-user/anaconda3/envs/tensorflow2_p36/lib/python3.6/site-packages (from requests<3,>=2.21.0->tensorboard<2.7,>=2.6.0->tensorflow) (1.26.7)\n",
      "Requirement already satisfied: certifi>=2017.4.17 in /home/ec2-user/anaconda3/envs/tensorflow2_p36/lib/python3.6/site-packages (from requests<3,>=2.21.0->tensorboard<2.7,>=2.6.0->tensorflow) (2021.5.30)\n",
      "Requirement already satisfied: charset-normalizer~=2.0.0 in /home/ec2-user/anaconda3/envs/tensorflow2_p36/lib/python3.6/site-packages (from requests<3,>=2.21.0->tensorboard<2.7,>=2.6.0->tensorflow) (2.0.9)\n",
      "Requirement already satisfied: idna<4,>=2.5 in /home/ec2-user/anaconda3/envs/tensorflow2_p36/lib/python3.6/site-packages (from requests<3,>=2.21.0->tensorboard<2.7,>=2.6.0->tensorflow) (3.1)\n",
      "Requirement already satisfied: dataclasses in /home/ec2-user/anaconda3/envs/tensorflow2_p36/lib/python3.6/site-packages (from werkzeug>=0.11.15->tensorboard<2.7,>=2.6.0->tensorflow) (0.8)\n",
      "Requirement already satisfied: zipp>=0.5 in /home/ec2-user/anaconda3/envs/tensorflow2_p36/lib/python3.6/site-packages (from importlib-metadata>=4.4->markdown>=2.6.8->tensorboard<2.7,>=2.6.0->tensorflow) (3.4.0)\n",
      "Requirement already satisfied: pyasn1<0.5.0,>=0.4.6 in /home/ec2-user/anaconda3/envs/tensorflow2_p36/lib/python3.6/site-packages (from pyasn1-modules>=0.2.1->google-auth<2,>=1.6.3->tensorboard<2.7,>=2.6.0->tensorflow) (0.4.8)\n",
      "Requirement already satisfied: oauthlib>=3.0.0 in /home/ec2-user/anaconda3/envs/tensorflow2_p36/lib/python3.6/site-packages (from requests-oauthlib>=0.7.0->google-auth-oauthlib<0.5,>=0.4.1->tensorboard<2.7,>=2.6.0->tensorflow) (3.1.1)\n",
      "Requirement already satisfied: tensorflow_hub in /home/ec2-user/anaconda3/envs/tensorflow2_p36/lib/python3.6/site-packages (0.12.0)\n",
      "Requirement already satisfied: numpy>=1.12.0 in /home/ec2-user/anaconda3/envs/tensorflow2_p36/lib/python3.6/site-packages (from tensorflow_hub) (1.19.5)\n",
      "Requirement already satisfied: protobuf>=3.8.0 in /home/ec2-user/anaconda3/envs/tensorflow2_p36/lib/python3.6/site-packages (from tensorflow_hub) (3.15.2)\n",
      "Requirement already satisfied: six>=1.9 in /home/ec2-user/anaconda3/envs/tensorflow2_p36/lib/python3.6/site-packages (from protobuf>=3.8.0->tensorflow_hub) (1.15.0)\n"
     ]
    }
   ],
   "source": [
    "!pip install -U tensorflow\n",
    "!pip install -U tensorflow_hub\n",
    "!pip -q install tensorflow_text"
   ]
  },
  {
   "cell_type": "code",
   "execution_count": 28,
   "metadata": {
    "id": "XG1BTIQD54iz"
   },
   "outputs": [],
   "source": [
    "import tensorflow as tf\n",
    "import tensorflow_hub as hub\n",
    "import tensorflow_text as text"
   ]
  },
  {
   "cell_type": "markdown",
   "metadata": {},
   "source": [
    "#### Loading BERT preprocessor and encoder"
   ]
  },
  {
   "cell_type": "code",
   "execution_count": 28,
   "metadata": {
    "id": "nI1b-shB6H3H"
   },
   "outputs": [],
   "source": [
    "# loading BERT preprocessor and encoder\n",
    "BERT_PREPROCESSOR = hub.KerasLayer('https://tfhub.dev/tensorflow/bert_en_uncased_preprocess/3')\n",
    "BERT_ENCODER = hub.KerasLayer('https://tfhub.dev/tensorflow/bert_en_uncased_L-12_H-768_A-12/4')"
   ]
  },
  {
   "cell_type": "code",
   "execution_count": 106,
   "metadata": {
    "id": "An7WQuVn_PiM"
   },
   "outputs": [],
   "source": [
    "# Use BERT on a batch of raw text inputs.\n",
    "text_1 = 'agra is a bank of yamuna'\n",
    "text_2 = 'I went to the bank for withdrawal'\n",
    "text_3 = 'the state bank of india is closed'\n",
    "# text_4 = 'jupyter is a notebook'\n",
    "# text_5 = 'anaconda is a big snake'\n",
    "# text_6 = 'python is a oop language'"
   ]
  },
  {
   "cell_type": "code",
   "execution_count": 107,
   "metadata": {
    "id": "9vWc-v9d6Ju6"
   },
   "outputs": [],
   "source": [
    "pre = BERT_PREPROCESSOR([text_1, text_2, text_3])\n",
    "encoded = BERT_ENCODER(pre)"
   ]
  },
  {
   "cell_type": "code",
   "execution_count": 108,
   "metadata": {
    "colab": {
     "base_uri": "https://localhost:8080/"
    },
    "id": "fx3pb8xY9jBx",
    "outputId": "b34ffa54-650f-499e-9a61-54acb85f6f30"
   },
   "outputs": [
    {
     "data": {
      "text/plain": [
       "dict_keys(['sequence_output', 'encoder_outputs', 'default', 'pooled_output'])"
      ]
     },
     "execution_count": 108,
     "metadata": {},
     "output_type": "execute_result"
    }
   ],
   "source": [
    "encoded.keys()"
   ]
  },
  {
   "cell_type": "code",
   "execution_count": 110,
   "metadata": {
    "id": "ahMyYSja8rTI"
   },
   "outputs": [],
   "source": [
    "seq = encoded['sequence_output']\n",
    "pool = encoded['pooled_output']"
   ]
  },
  {
   "cell_type": "code",
   "execution_count": 111,
   "metadata": {
    "id": "8Z4YkFU4_6nn"
   },
   "outputs": [],
   "source": [
    "out = seq[:, 0, :]"
   ]
  },
  {
   "cell_type": "code",
   "execution_count": 112,
   "metadata": {
    "colab": {
     "base_uri": "https://localhost:8080/"
    },
    "id": "7zz8SeaaBkMq",
    "outputId": "7eb11806-cb33-4e30-b3b8-bae05936e0ce"
   },
   "outputs": [
    {
     "data": {
      "text/plain": [
       "TensorShape([3, 768])"
      ]
     },
     "execution_count": 112,
     "metadata": {},
     "output_type": "execute_result"
    }
   ],
   "source": [
    "out.shape"
   ]
  },
  {
   "cell_type": "code",
   "execution_count": 113,
   "metadata": {
    "colab": {
     "base_uri": "https://localhost:8080/"
    },
    "id": "O8piq0dJBnhx",
    "outputId": "d94de429-b1f2-474c-d1cb-5c8abe235bd8"
   },
   "outputs": [
    {
     "data": {
      "text/plain": [
       "TensorShape([768])"
      ]
     },
     "execution_count": 113,
     "metadata": {},
     "output_type": "execute_result"
    }
   ],
   "source": [
    "out[0].shape"
   ]
  },
  {
   "cell_type": "code",
   "execution_count": 114,
   "metadata": {
    "colab": {
     "base_uri": "https://localhost:8080/"
    },
    "id": "l5jUUHHFBtM-",
    "outputId": "d3e90ccf-be8e-4166-8dfa-fd7b4e6f3cfb"
   },
   "outputs": [
    {
     "data": {
      "text/plain": [
       "TensorShape([3, 768])"
      ]
     },
     "execution_count": 114,
     "metadata": {},
     "output_type": "execute_result"
    }
   ],
   "source": [
    "pool.shape"
   ]
  },
  {
   "cell_type": "code",
   "execution_count": 115,
   "metadata": {
    "colab": {
     "base_uri": "https://localhost:8080/"
    },
    "id": "RtL5J62R668n",
    "outputId": "94f78807-7d64-4264-cd7d-1716f909b903"
   },
   "outputs": [
    {
     "name": "stdout",
     "output_type": "stream",
     "text": [
      "[[0.8796952]]\n",
      "[[0.89130044]]\n",
      "[[0.7762632]]\n",
      "[[0.6262022]]\n",
      "[[0.817188]]\n",
      "[[0.86584616]]\n"
     ]
    }
   ],
   "source": [
    "# checking cosine similarity between text\n",
    "# Use BERT on a batch of raw text inputs.\n",
    "# text_1 = 'agra is a bank of yamuna'\n",
    "# text_2 = 'I went to the bank for withdrawal'\n",
    "# text_3 = 'the state bank of india is closed'\n",
    "\n",
    "from sklearn.metrics.pairwise import cosine_similarity\n",
    "# print(cosine_similarity([out[0]], [out[1]]))\n",
    "print(cosine_similarity([out[0]], [out[1]]))\n",
    "print(cosine_similarity([pool[0]], [pool[1]]))\n",
    "\n",
    "print(cosine_similarity([out[1]], [out[2]]))\n",
    "print(cosine_similarity([pool[1]], [pool[2]]))\n",
    "\n",
    "print(cosine_similarity([out[0]], [out[2]]))\n",
    "print(cosine_similarity([pool[0]], [pool[2]]))\n"
   ]
  },
  {
   "cell_type": "markdown",
   "metadata": {},
   "source": [
    "#### Architecture"
   ]
  },
  {
   "cell_type": "code",
   "execution_count": null,
   "metadata": {},
   "outputs": [],
   "source": [
    "\n",
    "# def get_rnn_cnn_model():\n",
    "#     embedding_dim = 300\n",
    "#     inp = Input(shape=(MAX_LENGTH, ))\n",
    "#     x = Embedding(MAX_NB_WORDS, embedding_dim, weights=[embedding_matrix], input_length=MAX_LENGTH, trainable=True)(inp)\n",
    "#     x = SpatialDropout1D(0.3)(x)\n",
    "#     x = Bidirectional(GRU(100, return_sequences=True))(x)\n",
    "#     # x = Bidirectional(LSTM(100, return_sequences=True))(x)\n",
    "#     # x = Conv1D(64, kernel_size = 2, padding = \"valid\", kernel_initializer = \"he_uniform\")(x)\n",
    "#     x = Conv1D(64, kernel_size = 2, padding = \"valid\", kernel_regularizer=l2(0.0005))(x)\n",
    "#     avg_pool = GlobalAveragePooling1D()(x)\n",
    "#     max_pool = GlobalMaxPooling1D()(x)\n",
    "#     conc = concatenate([avg_pool, max_pool])\n",
    "#     outp = Dense(LABEL_LEN, activation=\"softmax\")(conc)\n",
    "#     model = Model(inputs=inp, outputs=outp)\n",
    "#     optimizer = tensorflow.keras.optimizers.Adam(learning_rate=0.001)\n",
    "#     model.compile(loss='categorical_crossentropy',\n",
    "#                   optimizer=optimizer,\n",
    "#                   metrics=['accuracy'])\n",
    "#     return model"
   ]
  },
  {
   "cell_type": "code",
   "execution_count": 29,
   "metadata": {
    "id": "j-X9meDs4k5O"
   },
   "outputs": [],
   "source": [
    "def arch(num_classes):\n",
    "    # BERT layers\n",
    "    text_input = tf.keras.layers.Input(shape=(), dtype=tf.string,\n",
    "                                       name='input_text')\n",
    "    preprocessed_text = BERT_PREPROCESSOR(text_input)\n",
    "    encoded_text = BERT_ENCODER(preprocessed_text)\n",
    "\n",
    "    # neural layers\n",
    "    reshape_output = tf.keras.layers.Reshape(\n",
    "        [128, 768])(encoded_text['sequence_output'])\n",
    "    x = tf.keras.layers.SpatialDropout1D(0.3)(reshape_output)\n",
    "    x = tf.keras.layers.Bidirectional(tf.keras.layers.GRU(\n",
    "        100,\n",
    "        return_sequences=True))(x)\n",
    "    x = tf.keras.layers.Conv1D(\n",
    "        64,\n",
    "        kernel_size = 3,\n",
    "        padding = \"valid\",\n",
    "        kernel_regularizer=tf.keras.regularizers.l2(0.0005))(x)\n",
    "    avg_pool = tf.keras.layers.GlobalAveragePooling1D()(x)\n",
    "    max_pool = tf.keras.layers.GlobalMaxPooling1D()(x)\n",
    "    conc = tf.keras.layers.concatenate([avg_pool, max_pool])\n",
    "    output = tf.keras.layers.Dense(num_classes, activation=\"softmax\")(conc)\n",
    "\n",
    "    # construct final model and compiling it\n",
    "    model = tf.keras.Model(inputs = [text_input], outputs=[output])\n",
    "    model.compile(loss='categorical_crossentropy',\n",
    "                  optimizer='adam',\n",
    "                  metrics=['accuracy'])\n",
    "    model.summary()\n",
    "    return model"
   ]
  },
  {
   "cell_type": "code",
   "execution_count": 30,
   "metadata": {
    "colab": {
     "base_uri": "https://localhost:8080/"
    },
    "id": "H9uqOeAH8Oxo",
    "outputId": "d6ce9313-e843-4a38-dbb8-8d1b7cd71851"
   },
   "outputs": [
    {
     "data": {
      "text/plain": [
       "151"
      ]
     },
     "execution_count": 30,
     "metadata": {},
     "output_type": "execute_result"
    }
   ],
   "source": [
    "num_classes = len(labelBinary.classes_)\n",
    "num_classes"
   ]
  },
  {
   "cell_type": "code",
   "execution_count": 31,
   "metadata": {
    "colab": {
     "base_uri": "https://localhost:8080/"
    },
    "id": "f6fZXPlH8OlI",
    "outputId": "4fc3b8de-b146-4a38-a8da-38b147b7335a"
   },
   "outputs": [
    {
     "name": "stdout",
     "output_type": "stream",
     "text": [
      "Model: \"model\"\n",
      "__________________________________________________________________________________________________\n",
      "Layer (type)                    Output Shape         Param #     Connected to                     \n",
      "==================================================================================================\n",
      "input_text (InputLayer)         [(None,)]            0                                            \n",
      "__________________________________________________________________________________________________\n",
      "keras_layer (KerasLayer)        {'input_word_ids': ( 0           input_text[0][0]                 \n",
      "__________________________________________________________________________________________________\n",
      "keras_layer_1 (KerasLayer)      {'sequence_output':  109482241   keras_layer[0][0]                \n",
      "                                                                 keras_layer[0][1]                \n",
      "                                                                 keras_layer[0][2]                \n",
      "__________________________________________________________________________________________________\n",
      "reshape (Reshape)               (None, 128, 768)     0           keras_layer_1[0][14]             \n",
      "__________________________________________________________________________________________________\n",
      "spatial_dropout1d (SpatialDropo (None, 128, 768)     0           reshape[0][0]                    \n",
      "__________________________________________________________________________________________________\n",
      "bidirectional (Bidirectional)   (None, 128, 200)     522000      spatial_dropout1d[0][0]          \n",
      "__________________________________________________________________________________________________\n",
      "conv1d (Conv1D)                 (None, 126, 64)      38464       bidirectional[0][0]              \n",
      "__________________________________________________________________________________________________\n",
      "global_average_pooling1d (Globa (None, 64)           0           conv1d[0][0]                     \n",
      "__________________________________________________________________________________________________\n",
      "global_max_pooling1d (GlobalMax (None, 64)           0           conv1d[0][0]                     \n",
      "__________________________________________________________________________________________________\n",
      "concatenate (Concatenate)       (None, 128)          0           global_average_pooling1d[0][0]   \n",
      "                                                                 global_max_pooling1d[0][0]       \n",
      "__________________________________________________________________________________________________\n",
      "dense (Dense)                   (None, 151)          19479       concatenate[0][0]                \n",
      "==================================================================================================\n",
      "Total params: 110,062,184\n",
      "Trainable params: 579,943\n",
      "Non-trainable params: 109,482,241\n",
      "__________________________________________________________________________________________________\n"
     ]
    }
   ],
   "source": [
    "bert_model = arch(num_classes)"
   ]
  },
  {
   "cell_type": "code",
   "execution_count": 32,
   "metadata": {
    "id": "6W4rXXfl8kbA"
   },
   "outputs": [],
   "source": [
    "# tf.keras.utils.plot_model(bert_model)"
   ]
  },
  {
   "cell_type": "code",
   "execution_count": 28,
   "metadata": {
    "id": "i9SwcT0a88Wd"
   },
   "outputs": [],
   "source": [
    "# declare checkpoint \n",
    "filepath = 'model/3_clinc_oss_BERT_with_oos/v2'\n",
    "checkpoint = tf.keras.callbacks.ModelCheckpoint(filepath,\n",
    "                             monitor='val_accuracy',\n",
    "                             verbose=1,\n",
    "                             save_best_only=True,\n",
    "                             mode='max')\n",
    "batch_size = 264\n",
    "epochs = 10"
   ]
  },
  {
   "cell_type": "code",
   "execution_count": null,
   "metadata": {
    "colab": {
     "base_uri": "https://localhost:8080/"
    },
    "id": "mz9tn1II9Wzj",
    "outputId": "d0658f0e-4f81-485c-f88e-c6f3ab102a30"
   },
   "outputs": [],
   "source": [
    "history = bert_model.fit(\n",
    "    train_sentences,\n",
    "    train_labels,\n",
    "    #  validation_split = 0.1, #0.1\n",
    "    validation_data=(val_sentences, val_labels), \n",
    "    batch_size=batch_size, \n",
    "    callbacks=[checkpoint,\n",
    "               tf.keras.callbacks.EarlyStopping(monitor='val_accuracy', patience=3)], \n",
    "    epochs=epochs, \n",
    "    verbose=1)"
   ]
  },
  {
   "cell_type": "code",
   "execution_count": null,
   "metadata": {
    "id": "aXNOfIQavXgR"
   },
   "outputs": [],
   "source": [
    "# save the model\n",
    "# bert_model.save('model/3_clinc_oss_BERT_with_oos/v1')"
   ]
  },
  {
   "cell_type": "markdown",
   "metadata": {},
   "source": [
    "### Retraining"
   ]
  },
  {
   "cell_type": "code",
   "execution_count": null,
   "metadata": {},
   "outputs": [],
   "source": [
    "v2_model = tf.keras.models.load_model('model/3_clinc_oss_BERT_with_oos/v2')"
   ]
  },
  {
   "cell_type": "code",
   "execution_count": null,
   "metadata": {},
   "outputs": [],
   "source": [
    "v2_model.summary()"
   ]
  },
  {
   "cell_type": "code",
   "execution_count": null,
   "metadata": {},
   "outputs": [],
   "source": [
    "# declare checkpoint \n",
    "filepath = 'model/3_clinc_oss_BERT_with_oos/v2'\n",
    "checkpoint = tf.keras.callbacks.ModelCheckpoint(filepath,\n",
    "                             monitor='val_accuracy',\n",
    "                             verbose=1,\n",
    "                             save_best_only=True,\n",
    "                             mode='max')\n",
    "batch_size = 264\n",
    "epochs = 10"
   ]
  },
  {
   "cell_type": "code",
   "execution_count": null,
   "metadata": {},
   "outputs": [],
   "source": [
    "history = v1_model.fit(\n",
    "    train_sentences,\n",
    "    train_labels,\n",
    "    #  validation_split = 0.1, #0.1\n",
    "    validation_data=(val_sentences, val_labels), \n",
    "    batch_size=batch_size, \n",
    "    callbacks=[checkpoint,\n",
    "               tf.keras.callbacks.EarlyStopping(monitor='val_accuracy', patience=3)], \n",
    "    epochs=epochs, \n",
    "    verbose=1)"
   ]
  },
  {
   "cell_type": "markdown",
   "metadata": {
    "id": "YOYMOFbe2qwJ"
   },
   "source": [
    "### **Testing**"
   ]
  },
  {
   "cell_type": "code",
   "execution_count": 39,
   "metadata": {
    "colab": {
     "base_uri": "https://localhost:8080/",
     "height": 0
    },
    "id": "1Kc9IxJFKL7S",
    "outputId": "47a00947-ea2d-4324-de24-c2da57eb0e70"
   },
   "outputs": [
    {
     "data": {
      "text/html": [
       "<div>\n",
       "<style scoped>\n",
       "    .dataframe tbody tr th:only-of-type {\n",
       "        vertical-align: middle;\n",
       "    }\n",
       "\n",
       "    .dataframe tbody tr th {\n",
       "        vertical-align: top;\n",
       "    }\n",
       "\n",
       "    .dataframe thead th {\n",
       "        text-align: right;\n",
       "    }\n",
       "</style>\n",
       "<table border=\"1\" class=\"dataframe\">\n",
       "  <thead>\n",
       "    <tr style=\"text-align: right;\">\n",
       "      <th></th>\n",
       "      <th>text</th>\n",
       "      <th>intent</th>\n",
       "    </tr>\n",
       "  </thead>\n",
       "  <tbody>\n",
       "    <tr>\n",
       "      <th>0</th>\n",
       "      <td>i would like to do some things in phoenix</td>\n",
       "      <td>travel_suggestion</td>\n",
       "    </tr>\n",
       "    <tr>\n",
       "      <th>1</th>\n",
       "      <td>what are the steps to rollover my 401k</td>\n",
       "      <td>rollover_401k</td>\n",
       "    </tr>\n",
       "    <tr>\n",
       "      <th>2</th>\n",
       "      <td>what films are in the running for best song at...</td>\n",
       "      <td>oos</td>\n",
       "    </tr>\n",
       "    <tr>\n",
       "      <th>3</th>\n",
       "      <td>will you tell me how the ai is doing</td>\n",
       "      <td>greeting</td>\n",
       "    </tr>\n",
       "    <tr>\n",
       "      <th>4</th>\n",
       "      <td>how would i say what is your name if i were fr...</td>\n",
       "      <td>translate</td>\n",
       "    </tr>\n",
       "  </tbody>\n",
       "</table>\n",
       "</div>"
      ],
      "text/plain": [
       "                                                text             intent\n",
       "0          i would like to do some things in phoenix  travel_suggestion\n",
       "1             what are the steps to rollover my 401k      rollover_401k\n",
       "2  what films are in the running for best song at...                oos\n",
       "3               will you tell me how the ai is doing           greeting\n",
       "4  how would i say what is your name if i were fr...          translate"
      ]
     },
     "execution_count": 39,
     "metadata": {},
     "output_type": "execute_result"
    }
   ],
   "source": [
    "test.head()"
   ]
  },
  {
   "cell_type": "code",
   "execution_count": 40,
   "metadata": {
    "colab": {
     "base_uri": "https://localhost:8080/"
    },
    "id": "eYeYg3s64Uct",
    "outputId": "06f7deab-3445-4f35-e275-b3a4ce2d3339"
   },
   "outputs": [
    {
     "data": {
      "text/plain": [
       "(5500, 2)"
      ]
     },
     "execution_count": 40,
     "metadata": {},
     "output_type": "execute_result"
    }
   ],
   "source": [
    "test.shape"
   ]
  },
  {
   "cell_type": "code",
   "execution_count": 41,
   "metadata": {
    "id": "tjp1k-62PZ_Q"
   },
   "outputs": [],
   "source": [
    "test_label = test['intent'].values"
   ]
  },
  {
   "cell_type": "code",
   "execution_count": 42,
   "metadata": {
    "colab": {
     "base_uri": "https://localhost:8080/"
    },
    "id": "VOv5GgibPjZd",
    "outputId": "fe996f51-9f3d-4518-ce2b-5f6920d3e4df"
   },
   "outputs": [
    {
     "data": {
      "text/plain": [
       "array(['travel_suggestion', 'rollover_401k', 'oos', ..., 'nutrition_info',\n",
       "       'tire_change', 'credit_limit'], dtype=object)"
      ]
     },
     "execution_count": 42,
     "metadata": {},
     "output_type": "execute_result"
    }
   ],
   "source": [
    "test_label"
   ]
  },
  {
   "cell_type": "code",
   "execution_count": 45,
   "metadata": {
    "id": "zq6rUAW3N0eo"
   },
   "outputs": [],
   "source": [
    "prediction = bert_model.predict(test['text'].values)"
   ]
  },
  {
   "cell_type": "code",
   "execution_count": 46,
   "metadata": {
    "id": "XgHGLPFVl0YW"
   },
   "outputs": [],
   "source": [
    "# prediction.flatten()"
   ]
  },
  {
   "cell_type": "code",
   "execution_count": 47,
   "metadata": {
    "colab": {
     "base_uri": "https://localhost:8080/"
    },
    "id": "BY9vfnfTONL3",
    "outputId": "3ff88f00-bc94-4b54-e503-fad6d2a9b523"
   },
   "outputs": [
    {
     "data": {
      "text/plain": [
       "(5500, 151)"
      ]
     },
     "execution_count": 47,
     "metadata": {},
     "output_type": "execute_result"
    }
   ],
   "source": [
    "prediction.shape"
   ]
  },
  {
   "cell_type": "code",
   "execution_count": 48,
   "metadata": {
    "id": "iH9YXOBTOvth"
   },
   "outputs": [],
   "source": [
    "predicted_results = labelBinary.inverse_transform(prediction)"
   ]
  },
  {
   "cell_type": "code",
   "execution_count": 49,
   "metadata": {
    "colab": {
     "base_uri": "https://localhost:8080/"
    },
    "id": "gBBi2xamPDw7",
    "outputId": "abf47251-b7fe-4ac8-ebd8-1d6a1a8a5aff"
   },
   "outputs": [
    {
     "name": "stdout",
     "output_type": "stream",
     "text": [
      "ACC :  78.6\n",
      "ARI :  23.94\n",
      "NMI :  82.85\n"
     ]
    }
   ],
   "source": [
    "from sklearn.metrics import accuracy_score\n",
    "from sklearn.metrics.cluster import adjusted_rand_score, normalized_mutual_info_score\n",
    "\n",
    "# DeepAlingned : NMI: 93.86, ARI: 79.75, ACC: 86.49 \n",
    "print('ACC : ', round(accuracy_score(test_label, predicted_results)*100, 2))\n",
    "print('ARI : ', round(adjusted_rand_score(test_label, predicted_results)*100, 2))\n",
    "print('NMI : ', round(normalized_mutual_info_score(test_label, predicted_results)*100, 2))"
   ]
  },
  {
   "cell_type": "code",
   "execution_count": 50,
   "metadata": {
    "id": "viUKDsXHQ3Dz"
   },
   "outputs": [
    {
     "name": "stdout",
     "output_type": "stream",
     "text": [
      "                           precision    recall  f1-score   support\n",
      "\n",
      "      accept_reservations       0.70      0.93      0.80        30\n",
      "          account_blocked       0.84      0.90      0.87        30\n",
      "                    alarm       0.97      0.97      0.97        30\n",
      "       application_status       0.94      1.00      0.97        30\n",
      "                      apr       0.85      0.97      0.91        30\n",
      "            are_you_a_bot       1.00      1.00      1.00        30\n",
      "                  balance       0.85      0.93      0.89        30\n",
      "             bill_balance       0.67      0.80      0.73        30\n",
      "                 bill_due       0.64      0.93      0.76        30\n",
      "              book_flight       0.85      0.97      0.91        30\n",
      "               book_hotel       0.94      1.00      0.97        30\n",
      "               calculator       0.57      0.93      0.71        30\n",
      "                 calendar       0.88      0.77      0.82        30\n",
      "          calendar_update       0.87      0.87      0.87        30\n",
      "                 calories       0.83      1.00      0.91        30\n",
      "                   cancel       0.81      0.73      0.77        30\n",
      "       cancel_reservation       0.68      1.00      0.81        30\n",
      "               car_rental       0.76      0.93      0.84        30\n",
      "            card_declined       0.93      0.83      0.88        30\n",
      "                 carry_on       0.90      0.87      0.88        30\n",
      "            change_accent       1.00      1.00      1.00        30\n",
      "           change_ai_name       0.81      0.97      0.88        30\n",
      "          change_language       0.90      0.93      0.92        30\n",
      "             change_speed       0.78      0.93      0.85        30\n",
      "         change_user_name       0.93      0.93      0.93        30\n",
      "            change_volume       0.77      0.77      0.77        30\n",
      "      confirm_reservation       1.00      0.90      0.95        30\n",
      "                cook_time       0.79      0.90      0.84        30\n",
      "             credit_limit       0.88      0.77      0.82        30\n",
      "      credit_limit_change       0.73      1.00      0.85        30\n",
      "             credit_score       0.86      1.00      0.92        30\n",
      "         current_location       0.65      1.00      0.79        30\n",
      "             damaged_card       0.84      0.90      0.87        30\n",
      "                     date       0.86      1.00      0.92        30\n",
      "               definition       0.55      0.80      0.65        30\n",
      "           direct_deposit       0.84      0.90      0.87        30\n",
      "               directions       0.43      0.93      0.59        30\n",
      "                 distance       0.59      0.87      0.70        30\n",
      "         do_you_have_pets       0.71      1.00      0.83        30\n",
      "            exchange_rate       0.91      0.97      0.94        30\n",
      "          expiration_date       0.93      0.87      0.90        30\n",
      "               find_phone       0.90      0.90      0.90        30\n",
      "            flight_status       0.83      1.00      0.91        30\n",
      "                flip_coin       0.94      1.00      0.97        30\n",
      "                food_last       0.79      0.73      0.76        30\n",
      "           freeze_account       0.81      0.97      0.88        30\n",
      "                 fun_fact       0.44      0.93      0.60        30\n",
      "                      gas       0.82      0.90      0.86        30\n",
      "                 gas_type       0.70      0.93      0.80        30\n",
      "                  goodbye       0.96      0.77      0.85        30\n",
      "                 greeting       0.82      0.93      0.87        30\n",
      "                 how_busy       0.80      0.93      0.86        30\n",
      "          how_old_are_you       0.83      0.97      0.89        30\n",
      "     improve_credit_score       0.86      0.83      0.85        30\n",
      "                   income       0.69      0.90      0.78        30\n",
      "  ingredient_substitution       0.97      1.00      0.98        30\n",
      "         ingredients_list       0.54      0.67      0.60        30\n",
      "                insurance       0.77      1.00      0.87        30\n",
      "         insurance_change       0.74      0.87      0.80        30\n",
      "            interest_rate       0.72      0.87      0.79        30\n",
      "       international_fees       0.93      0.93      0.93        30\n",
      "       international_visa       1.00      0.97      0.98        30\n",
      "               jump_start       0.52      1.00      0.68        30\n",
      "         last_maintenance       0.77      1.00      0.87        30\n",
      "             lost_luggage       0.94      1.00      0.97        30\n",
      "                make_call       0.78      0.97      0.87        30\n",
      "                    maybe       0.93      0.90      0.92        30\n",
      "          meal_suggestion       0.85      0.73      0.79        30\n",
      "          meaning_of_life       0.83      1.00      0.91        30\n",
      "   measurement_conversion       0.80      0.93      0.86        30\n",
      "         meeting_schedule       0.86      0.80      0.83        30\n",
      "              min_payment       0.76      0.93      0.84        30\n",
      "                      mpg       0.67      1.00      0.80        30\n",
      "                 new_card       0.88      0.97      0.92        30\n",
      "             next_holiday       0.90      0.93      0.92        30\n",
      "                next_song       0.79      0.90      0.84        30\n",
      "                       no       0.87      0.90      0.89        30\n",
      "           nutrition_info       0.78      0.93      0.85        30\n",
      "           oil_change_how       0.56      0.90      0.69        30\n",
      "          oil_change_when       0.66      0.83      0.74        30\n",
      "                      oos       0.95      0.23      0.37      1000\n",
      "                    order       0.42      0.87      0.57        30\n",
      "             order_checks       0.74      0.97      0.84        30\n",
      "             order_status       0.82      0.90      0.86        30\n",
      "                 pay_bill       0.79      0.90      0.84        30\n",
      "                   payday       0.96      0.83      0.89        30\n",
      "               pin_change       0.72      0.97      0.83        30\n",
      "               play_music       0.62      0.93      0.75        30\n",
      "                plug_type       0.85      0.93      0.89        30\n",
      "              pto_balance       0.80      0.80      0.80        30\n",
      "              pto_request       0.86      0.80      0.83        30\n",
      "       pto_request_status       0.96      0.83      0.89        30\n",
      "                 pto_used       0.71      1.00      0.83        30\n",
      "                   recipe       0.52      0.83      0.64        30\n",
      "           redeem_rewards       0.57      0.80      0.67        30\n",
      "                 reminder       0.84      0.87      0.85        30\n",
      "          reminder_update       0.90      0.87      0.88        30\n",
      "                   repeat       0.84      0.90      0.87        30\n",
      "replacement_card_duration       0.73      0.73      0.73        30\n",
      "             report_fraud       0.79      0.77      0.78        30\n",
      "         report_lost_card       0.86      0.80      0.83        30\n",
      "           reset_settings       0.94      0.97      0.95        30\n",
      "   restaurant_reservation       0.82      0.90      0.86        30\n",
      "       restaurant_reviews       0.79      0.73      0.76        30\n",
      "    restaurant_suggestion       0.75      0.90      0.82        30\n",
      "          rewards_balance       0.78      0.60      0.68        30\n",
      "                roll_dice       0.91      1.00      0.95        30\n",
      "            rollover_401k       0.97      0.93      0.95        30\n",
      "                  routing       0.81      0.97      0.88        30\n",
      "     schedule_maintenance       0.67      0.80      0.73        30\n",
      "         schedule_meeting       0.75      1.00      0.86        30\n",
      "           share_location       0.85      0.93      0.89        30\n",
      "            shopping_list       0.69      0.83      0.76        30\n",
      "     shopping_list_update       0.77      0.90      0.83        30\n",
      "               smart_home       0.46      0.87      0.60        30\n",
      "                 spelling       0.78      0.83      0.81        30\n",
      "         spending_history       0.81      0.83      0.82        30\n",
      "              sync_device       0.79      1.00      0.88        30\n",
      "                    taxes       0.97      1.00      0.98        30\n",
      "                tell_joke       0.78      0.83      0.81        30\n",
      "                     text       0.78      0.83      0.81        30\n",
      "                thank_you       0.82      0.90      0.86        30\n",
      "                     time       0.87      0.90      0.89        30\n",
      "                    timer       0.82      0.93      0.87        30\n",
      "                 timezone       0.97      0.93      0.95        30\n",
      "              tire_change       0.96      0.87      0.91        30\n",
      "            tire_pressure       0.91      1.00      0.95        30\n",
      "                todo_list       0.75      0.90      0.82        30\n",
      "         todo_list_update       0.73      1.00      0.85        30\n",
      "                  traffic       0.65      0.93      0.77        30\n",
      "             transactions       0.69      0.73      0.71        30\n",
      "                 transfer       0.85      0.93      0.89        30\n",
      "                translate       0.63      0.97      0.76        30\n",
      "             travel_alert       0.81      1.00      0.90        30\n",
      "      travel_notification       0.97      1.00      0.98        30\n",
      "        travel_suggestion       0.51      0.93      0.66        30\n",
      "                     uber       0.77      1.00      0.87        30\n",
      "          update_playlist       0.91      1.00      0.95        30\n",
      "                user_name       1.00      0.77      0.87        30\n",
      "                 vaccines       0.88      0.97      0.92        30\n",
      "                       w2       0.97      1.00      0.98        30\n",
      "                  weather       0.58      0.97      0.72        30\n",
      "    what_are_your_hobbies       0.88      1.00      0.94        30\n",
      "       what_can_i_ask_you       0.87      0.90      0.89        30\n",
      "        what_is_your_name       0.82      0.90      0.86        30\n",
      "                what_song       0.85      0.97      0.91        30\n",
      "       where_are_you_from       0.97      0.97      0.97        30\n",
      "             whisper_mode       0.85      0.97      0.91        30\n",
      "      who_do_you_work_for       0.90      0.87      0.88        30\n",
      "             who_made_you       0.88      0.97      0.92        30\n",
      "                      yes       0.73      0.90      0.81        30\n",
      "\n",
      "                 accuracy                           0.79      5500\n",
      "                macro avg       0.80      0.90      0.84      5500\n",
      "             weighted avg       0.83      0.79      0.76      5500\n",
      "\n"
     ]
    }
   ],
   "source": [
    "from sklearn.metrics import classification_report\n",
    "print(classification_report(test_label, predicted_results, target_names=labelBinary.classes_))"
   ]
  },
  {
   "cell_type": "code",
   "execution_count": null,
   "metadata": {},
   "outputs": [],
   "source": []
  }
 ],
 "metadata": {
  "accelerator": "GPU",
  "colab": {
   "name": "clinc_oss_BERT",
   "provenance": [],
   "toc_visible": true
  },
  "kernelspec": {
   "display_name": "conda_tensorflow2_p36",
   "language": "python",
   "name": "conda_tensorflow2_p36"
  },
  "language_info": {
   "codemirror_mode": {
    "name": "ipython",
    "version": 3
   },
   "file_extension": ".py",
   "mimetype": "text/x-python",
   "name": "python",
   "nbconvert_exporter": "python",
   "pygments_lexer": "ipython3",
   "version": "3.6.13"
  }
 },
 "nbformat": 4,
 "nbformat_minor": 4
}
