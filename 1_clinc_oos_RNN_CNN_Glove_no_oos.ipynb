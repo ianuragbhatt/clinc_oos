{
  "nbformat": 4,
  "nbformat_minor": 0,
  "metadata": {
    "colab": {
      "name": "Main clinc_oos_RNN_CNN_Glove.ipynb",
      "provenance": []
    },
    "kernelspec": {
      "name": "python3",
      "display_name": "Python 3"
    },
    "language_info": {
      "name": "python"
    },
    "accelerator": "GPU",
    "widgets": {
      "application/vnd.jupyter.widget-state+json": {
        "3e2cc963734a46c0a4f95fb83dde651e": {
          "model_module": "@jupyter-widgets/controls",
          "model_name": "HBoxModel",
          "model_module_version": "1.5.0",
          "state": {
            "_view_name": "HBoxView",
            "_dom_classes": [],
            "_model_name": "HBoxModel",
            "_view_module": "@jupyter-widgets/controls",
            "_model_module_version": "1.5.0",
            "_view_count": null,
            "_view_module_version": "1.5.0",
            "box_style": "",
            "layout": "IPY_MODEL_0dc392afb0254511be8b557c6b0ab607",
            "_model_module": "@jupyter-widgets/controls",
            "children": [
              "IPY_MODEL_f9926f752c984237b4cb2c534f22dee0",
              "IPY_MODEL_bb37e2bd3f6140869d5c246768f5ee69",
              "IPY_MODEL_49ef4979a5a3492186181a7beedd1687"
            ]
          }
        },
        "0dc392afb0254511be8b557c6b0ab607": {
          "model_module": "@jupyter-widgets/base",
          "model_name": "LayoutModel",
          "model_module_version": "1.2.0",
          "state": {
            "_view_name": "LayoutView",
            "grid_template_rows": null,
            "right": null,
            "justify_content": null,
            "_view_module": "@jupyter-widgets/base",
            "overflow": null,
            "_model_module_version": "1.2.0",
            "_view_count": null,
            "flex_flow": null,
            "width": null,
            "min_width": null,
            "border": null,
            "align_items": null,
            "bottom": null,
            "_model_module": "@jupyter-widgets/base",
            "top": null,
            "grid_column": null,
            "overflow_y": null,
            "overflow_x": null,
            "grid_auto_flow": null,
            "grid_area": null,
            "grid_template_columns": null,
            "flex": null,
            "_model_name": "LayoutModel",
            "justify_items": null,
            "grid_row": null,
            "max_height": null,
            "align_content": null,
            "visibility": null,
            "align_self": null,
            "height": null,
            "min_height": null,
            "padding": null,
            "grid_auto_rows": null,
            "grid_gap": null,
            "max_width": null,
            "order": null,
            "_view_module_version": "1.2.0",
            "grid_template_areas": null,
            "object_position": null,
            "object_fit": null,
            "grid_auto_columns": null,
            "margin": null,
            "display": null,
            "left": null
          }
        },
        "f9926f752c984237b4cb2c534f22dee0": {
          "model_module": "@jupyter-widgets/controls",
          "model_name": "HTMLModel",
          "model_module_version": "1.5.0",
          "state": {
            "_view_name": "HTMLView",
            "style": "IPY_MODEL_f598c725869f4e008f3ed0b49e9331ef",
            "_dom_classes": [],
            "description": "",
            "_model_name": "HTMLModel",
            "placeholder": "​",
            "_view_module": "@jupyter-widgets/controls",
            "_model_module_version": "1.5.0",
            "value": "",
            "_view_count": null,
            "_view_module_version": "1.5.0",
            "description_tooltip": null,
            "_model_module": "@jupyter-widgets/controls",
            "layout": "IPY_MODEL_0d622d692dcf44a6a40936b4284934d6"
          }
        },
        "bb37e2bd3f6140869d5c246768f5ee69": {
          "model_module": "@jupyter-widgets/controls",
          "model_name": "FloatProgressModel",
          "model_module_version": "1.5.0",
          "state": {
            "_view_name": "ProgressView",
            "style": "IPY_MODEL_0a2fe11920a142439548d586a1fdacfa",
            "_dom_classes": [],
            "description": "",
            "_model_name": "FloatProgressModel",
            "bar_style": "success",
            "max": 1,
            "_view_module": "@jupyter-widgets/controls",
            "_model_module_version": "1.5.0",
            "value": 1,
            "_view_count": null,
            "_view_module_version": "1.5.0",
            "orientation": "horizontal",
            "min": 0,
            "description_tooltip": null,
            "_model_module": "@jupyter-widgets/controls",
            "layout": "IPY_MODEL_9994029c79f9415db9c8d5e923a22cf5"
          }
        },
        "49ef4979a5a3492186181a7beedd1687": {
          "model_module": "@jupyter-widgets/controls",
          "model_name": "HTMLModel",
          "model_module_version": "1.5.0",
          "state": {
            "_view_name": "HTMLView",
            "style": "IPY_MODEL_6c78e9c7b8064adab2218b03d830b88f",
            "_dom_classes": [],
            "description": "",
            "_model_name": "HTMLModel",
            "placeholder": "​",
            "_view_module": "@jupyter-widgets/controls",
            "_model_module_version": "1.5.0",
            "value": " 2196017/? [03:39&lt;00:00, 11826.53it/s]",
            "_view_count": null,
            "_view_module_version": "1.5.0",
            "description_tooltip": null,
            "_model_module": "@jupyter-widgets/controls",
            "layout": "IPY_MODEL_5f21027609794db08c4ce1b428b39476"
          }
        },
        "f598c725869f4e008f3ed0b49e9331ef": {
          "model_module": "@jupyter-widgets/controls",
          "model_name": "DescriptionStyleModel",
          "model_module_version": "1.5.0",
          "state": {
            "_view_name": "StyleView",
            "_model_name": "DescriptionStyleModel",
            "description_width": "",
            "_view_module": "@jupyter-widgets/base",
            "_model_module_version": "1.5.0",
            "_view_count": null,
            "_view_module_version": "1.2.0",
            "_model_module": "@jupyter-widgets/controls"
          }
        },
        "0d622d692dcf44a6a40936b4284934d6": {
          "model_module": "@jupyter-widgets/base",
          "model_name": "LayoutModel",
          "model_module_version": "1.2.0",
          "state": {
            "_view_name": "LayoutView",
            "grid_template_rows": null,
            "right": null,
            "justify_content": null,
            "_view_module": "@jupyter-widgets/base",
            "overflow": null,
            "_model_module_version": "1.2.0",
            "_view_count": null,
            "flex_flow": null,
            "width": null,
            "min_width": null,
            "border": null,
            "align_items": null,
            "bottom": null,
            "_model_module": "@jupyter-widgets/base",
            "top": null,
            "grid_column": null,
            "overflow_y": null,
            "overflow_x": null,
            "grid_auto_flow": null,
            "grid_area": null,
            "grid_template_columns": null,
            "flex": null,
            "_model_name": "LayoutModel",
            "justify_items": null,
            "grid_row": null,
            "max_height": null,
            "align_content": null,
            "visibility": null,
            "align_self": null,
            "height": null,
            "min_height": null,
            "padding": null,
            "grid_auto_rows": null,
            "grid_gap": null,
            "max_width": null,
            "order": null,
            "_view_module_version": "1.2.0",
            "grid_template_areas": null,
            "object_position": null,
            "object_fit": null,
            "grid_auto_columns": null,
            "margin": null,
            "display": null,
            "left": null
          }
        },
        "0a2fe11920a142439548d586a1fdacfa": {
          "model_module": "@jupyter-widgets/controls",
          "model_name": "ProgressStyleModel",
          "model_module_version": "1.5.0",
          "state": {
            "_view_name": "StyleView",
            "_model_name": "ProgressStyleModel",
            "description_width": "",
            "_view_module": "@jupyter-widgets/base",
            "_model_module_version": "1.5.0",
            "_view_count": null,
            "_view_module_version": "1.2.0",
            "bar_color": null,
            "_model_module": "@jupyter-widgets/controls"
          }
        },
        "9994029c79f9415db9c8d5e923a22cf5": {
          "model_module": "@jupyter-widgets/base",
          "model_name": "LayoutModel",
          "model_module_version": "1.2.0",
          "state": {
            "_view_name": "LayoutView",
            "grid_template_rows": null,
            "right": null,
            "justify_content": null,
            "_view_module": "@jupyter-widgets/base",
            "overflow": null,
            "_model_module_version": "1.2.0",
            "_view_count": null,
            "flex_flow": null,
            "width": "20px",
            "min_width": null,
            "border": null,
            "align_items": null,
            "bottom": null,
            "_model_module": "@jupyter-widgets/base",
            "top": null,
            "grid_column": null,
            "overflow_y": null,
            "overflow_x": null,
            "grid_auto_flow": null,
            "grid_area": null,
            "grid_template_columns": null,
            "flex": null,
            "_model_name": "LayoutModel",
            "justify_items": null,
            "grid_row": null,
            "max_height": null,
            "align_content": null,
            "visibility": null,
            "align_self": null,
            "height": null,
            "min_height": null,
            "padding": null,
            "grid_auto_rows": null,
            "grid_gap": null,
            "max_width": null,
            "order": null,
            "_view_module_version": "1.2.0",
            "grid_template_areas": null,
            "object_position": null,
            "object_fit": null,
            "grid_auto_columns": null,
            "margin": null,
            "display": null,
            "left": null
          }
        },
        "6c78e9c7b8064adab2218b03d830b88f": {
          "model_module": "@jupyter-widgets/controls",
          "model_name": "DescriptionStyleModel",
          "model_module_version": "1.5.0",
          "state": {
            "_view_name": "StyleView",
            "_model_name": "DescriptionStyleModel",
            "description_width": "",
            "_view_module": "@jupyter-widgets/base",
            "_model_module_version": "1.5.0",
            "_view_count": null,
            "_view_module_version": "1.2.0",
            "_model_module": "@jupyter-widgets/controls"
          }
        },
        "5f21027609794db08c4ce1b428b39476": {
          "model_module": "@jupyter-widgets/base",
          "model_name": "LayoutModel",
          "model_module_version": "1.2.0",
          "state": {
            "_view_name": "LayoutView",
            "grid_template_rows": null,
            "right": null,
            "justify_content": null,
            "_view_module": "@jupyter-widgets/base",
            "overflow": null,
            "_model_module_version": "1.2.0",
            "_view_count": null,
            "flex_flow": null,
            "width": null,
            "min_width": null,
            "border": null,
            "align_items": null,
            "bottom": null,
            "_model_module": "@jupyter-widgets/base",
            "top": null,
            "grid_column": null,
            "overflow_y": null,
            "overflow_x": null,
            "grid_auto_flow": null,
            "grid_area": null,
            "grid_template_columns": null,
            "flex": null,
            "_model_name": "LayoutModel",
            "justify_items": null,
            "grid_row": null,
            "max_height": null,
            "align_content": null,
            "visibility": null,
            "align_self": null,
            "height": null,
            "min_height": null,
            "padding": null,
            "grid_auto_rows": null,
            "grid_gap": null,
            "max_width": null,
            "order": null,
            "_view_module_version": "1.2.0",
            "grid_template_areas": null,
            "object_position": null,
            "object_fit": null,
            "grid_auto_columns": null,
            "margin": null,
            "display": null,
            "left": null
          }
        },
        "03786b2999e64362946bfca41f0a86b7": {
          "model_module": "@jupyter-widgets/controls",
          "model_name": "HBoxModel",
          "model_module_version": "1.5.0",
          "state": {
            "_view_name": "HBoxView",
            "_dom_classes": [],
            "_model_name": "HBoxModel",
            "_view_module": "@jupyter-widgets/controls",
            "_model_module_version": "1.5.0",
            "_view_count": null,
            "_view_module_version": "1.5.0",
            "box_style": "",
            "layout": "IPY_MODEL_4a87b33b90744fbf9de4a3112d319cc9",
            "_model_module": "@jupyter-widgets/controls",
            "children": [
              "IPY_MODEL_52c2254daf9c44289b8feaa462974444",
              "IPY_MODEL_6383067895ed4292b313a1897bb34ca7",
              "IPY_MODEL_f7d44d18a5e044c7bc8055b22f5af119"
            ]
          }
        },
        "4a87b33b90744fbf9de4a3112d319cc9": {
          "model_module": "@jupyter-widgets/base",
          "model_name": "LayoutModel",
          "model_module_version": "1.2.0",
          "state": {
            "_view_name": "LayoutView",
            "grid_template_rows": null,
            "right": null,
            "justify_content": null,
            "_view_module": "@jupyter-widgets/base",
            "overflow": null,
            "_model_module_version": "1.2.0",
            "_view_count": null,
            "flex_flow": null,
            "width": null,
            "min_width": null,
            "border": null,
            "align_items": null,
            "bottom": null,
            "_model_module": "@jupyter-widgets/base",
            "top": null,
            "grid_column": null,
            "overflow_y": null,
            "overflow_x": null,
            "grid_auto_flow": null,
            "grid_area": null,
            "grid_template_columns": null,
            "flex": null,
            "_model_name": "LayoutModel",
            "justify_items": null,
            "grid_row": null,
            "max_height": null,
            "align_content": null,
            "visibility": null,
            "align_self": null,
            "height": null,
            "min_height": null,
            "padding": null,
            "grid_auto_rows": null,
            "grid_gap": null,
            "max_width": null,
            "order": null,
            "_view_module_version": "1.2.0",
            "grid_template_areas": null,
            "object_position": null,
            "object_fit": null,
            "grid_auto_columns": null,
            "margin": null,
            "display": null,
            "left": null
          }
        },
        "52c2254daf9c44289b8feaa462974444": {
          "model_module": "@jupyter-widgets/controls",
          "model_name": "HTMLModel",
          "model_module_version": "1.5.0",
          "state": {
            "_view_name": "HTMLView",
            "style": "IPY_MODEL_1a6aefbad3e94283b6243cc214a3effe",
            "_dom_classes": [],
            "description": "",
            "_model_name": "HTMLModel",
            "placeholder": "​",
            "_view_module": "@jupyter-widgets/controls",
            "_model_module_version": "1.5.0",
            "value": "100%",
            "_view_count": null,
            "_view_module_version": "1.5.0",
            "description_tooltip": null,
            "_model_module": "@jupyter-widgets/controls",
            "layout": "IPY_MODEL_d38c5974eb3347a58326bad56257c5d5"
          }
        },
        "6383067895ed4292b313a1897bb34ca7": {
          "model_module": "@jupyter-widgets/controls",
          "model_name": "FloatProgressModel",
          "model_module_version": "1.5.0",
          "state": {
            "_view_name": "ProgressView",
            "style": "IPY_MODEL_9562034d419a46249c1e7918dacf40f3",
            "_dom_classes": [],
            "description": "",
            "_model_name": "FloatProgressModel",
            "bar_style": "success",
            "max": 2195885,
            "_view_module": "@jupyter-widgets/controls",
            "_model_module_version": "1.5.0",
            "value": 2195885,
            "_view_count": null,
            "_view_module_version": "1.5.0",
            "orientation": "horizontal",
            "min": 0,
            "description_tooltip": null,
            "_model_module": "@jupyter-widgets/controls",
            "layout": "IPY_MODEL_97ba96efae944ca7a0baf713e230f79c"
          }
        },
        "f7d44d18a5e044c7bc8055b22f5af119": {
          "model_module": "@jupyter-widgets/controls",
          "model_name": "HTMLModel",
          "model_module_version": "1.5.0",
          "state": {
            "_view_name": "HTMLView",
            "style": "IPY_MODEL_ca341bd4520449e68ff2735bf892928f",
            "_dom_classes": [],
            "description": "",
            "_model_name": "HTMLModel",
            "placeholder": "​",
            "_view_module": "@jupyter-widgets/controls",
            "_model_module_version": "1.5.0",
            "value": " 2195885/2195885 [00:02&lt;00:00, 871225.05it/s]",
            "_view_count": null,
            "_view_module_version": "1.5.0",
            "description_tooltip": null,
            "_model_module": "@jupyter-widgets/controls",
            "layout": "IPY_MODEL_99b70489efb84fd091dcde01b4c15f01"
          }
        },
        "1a6aefbad3e94283b6243cc214a3effe": {
          "model_module": "@jupyter-widgets/controls",
          "model_name": "DescriptionStyleModel",
          "model_module_version": "1.5.0",
          "state": {
            "_view_name": "StyleView",
            "_model_name": "DescriptionStyleModel",
            "description_width": "",
            "_view_module": "@jupyter-widgets/base",
            "_model_module_version": "1.5.0",
            "_view_count": null,
            "_view_module_version": "1.2.0",
            "_model_module": "@jupyter-widgets/controls"
          }
        },
        "d38c5974eb3347a58326bad56257c5d5": {
          "model_module": "@jupyter-widgets/base",
          "model_name": "LayoutModel",
          "model_module_version": "1.2.0",
          "state": {
            "_view_name": "LayoutView",
            "grid_template_rows": null,
            "right": null,
            "justify_content": null,
            "_view_module": "@jupyter-widgets/base",
            "overflow": null,
            "_model_module_version": "1.2.0",
            "_view_count": null,
            "flex_flow": null,
            "width": null,
            "min_width": null,
            "border": null,
            "align_items": null,
            "bottom": null,
            "_model_module": "@jupyter-widgets/base",
            "top": null,
            "grid_column": null,
            "overflow_y": null,
            "overflow_x": null,
            "grid_auto_flow": null,
            "grid_area": null,
            "grid_template_columns": null,
            "flex": null,
            "_model_name": "LayoutModel",
            "justify_items": null,
            "grid_row": null,
            "max_height": null,
            "align_content": null,
            "visibility": null,
            "align_self": null,
            "height": null,
            "min_height": null,
            "padding": null,
            "grid_auto_rows": null,
            "grid_gap": null,
            "max_width": null,
            "order": null,
            "_view_module_version": "1.2.0",
            "grid_template_areas": null,
            "object_position": null,
            "object_fit": null,
            "grid_auto_columns": null,
            "margin": null,
            "display": null,
            "left": null
          }
        },
        "9562034d419a46249c1e7918dacf40f3": {
          "model_module": "@jupyter-widgets/controls",
          "model_name": "ProgressStyleModel",
          "model_module_version": "1.5.0",
          "state": {
            "_view_name": "StyleView",
            "_model_name": "ProgressStyleModel",
            "description_width": "",
            "_view_module": "@jupyter-widgets/base",
            "_model_module_version": "1.5.0",
            "_view_count": null,
            "_view_module_version": "1.2.0",
            "bar_color": null,
            "_model_module": "@jupyter-widgets/controls"
          }
        },
        "97ba96efae944ca7a0baf713e230f79c": {
          "model_module": "@jupyter-widgets/base",
          "model_name": "LayoutModel",
          "model_module_version": "1.2.0",
          "state": {
            "_view_name": "LayoutView",
            "grid_template_rows": null,
            "right": null,
            "justify_content": null,
            "_view_module": "@jupyter-widgets/base",
            "overflow": null,
            "_model_module_version": "1.2.0",
            "_view_count": null,
            "flex_flow": null,
            "width": null,
            "min_width": null,
            "border": null,
            "align_items": null,
            "bottom": null,
            "_model_module": "@jupyter-widgets/base",
            "top": null,
            "grid_column": null,
            "overflow_y": null,
            "overflow_x": null,
            "grid_auto_flow": null,
            "grid_area": null,
            "grid_template_columns": null,
            "flex": null,
            "_model_name": "LayoutModel",
            "justify_items": null,
            "grid_row": null,
            "max_height": null,
            "align_content": null,
            "visibility": null,
            "align_self": null,
            "height": null,
            "min_height": null,
            "padding": null,
            "grid_auto_rows": null,
            "grid_gap": null,
            "max_width": null,
            "order": null,
            "_view_module_version": "1.2.0",
            "grid_template_areas": null,
            "object_position": null,
            "object_fit": null,
            "grid_auto_columns": null,
            "margin": null,
            "display": null,
            "left": null
          }
        },
        "ca341bd4520449e68ff2735bf892928f": {
          "model_module": "@jupyter-widgets/controls",
          "model_name": "DescriptionStyleModel",
          "model_module_version": "1.5.0",
          "state": {
            "_view_name": "StyleView",
            "_model_name": "DescriptionStyleModel",
            "description_width": "",
            "_view_module": "@jupyter-widgets/base",
            "_model_module_version": "1.5.0",
            "_view_count": null,
            "_view_module_version": "1.2.0",
            "_model_module": "@jupyter-widgets/controls"
          }
        },
        "99b70489efb84fd091dcde01b4c15f01": {
          "model_module": "@jupyter-widgets/base",
          "model_name": "LayoutModel",
          "model_module_version": "1.2.0",
          "state": {
            "_view_name": "LayoutView",
            "grid_template_rows": null,
            "right": null,
            "justify_content": null,
            "_view_module": "@jupyter-widgets/base",
            "overflow": null,
            "_model_module_version": "1.2.0",
            "_view_count": null,
            "flex_flow": null,
            "width": null,
            "min_width": null,
            "border": null,
            "align_items": null,
            "bottom": null,
            "_model_module": "@jupyter-widgets/base",
            "top": null,
            "grid_column": null,
            "overflow_y": null,
            "overflow_x": null,
            "grid_auto_flow": null,
            "grid_area": null,
            "grid_template_columns": null,
            "flex": null,
            "_model_name": "LayoutModel",
            "justify_items": null,
            "grid_row": null,
            "max_height": null,
            "align_content": null,
            "visibility": null,
            "align_self": null,
            "height": null,
            "min_height": null,
            "padding": null,
            "grid_auto_rows": null,
            "grid_gap": null,
            "max_width": null,
            "order": null,
            "_view_module_version": "1.2.0",
            "grid_template_areas": null,
            "object_position": null,
            "object_fit": null,
            "grid_auto_columns": null,
            "margin": null,
            "display": null,
            "left": null
          }
        },
        "f82a0571984d4d49a968b27ff4fcb89e": {
          "model_module": "@jupyter-widgets/controls",
          "model_name": "HBoxModel",
          "model_module_version": "1.5.0",
          "state": {
            "_view_name": "HBoxView",
            "_dom_classes": [],
            "_model_name": "HBoxModel",
            "_view_module": "@jupyter-widgets/controls",
            "_model_module_version": "1.5.0",
            "_view_count": null,
            "_view_module_version": "1.5.0",
            "box_style": "",
            "layout": "IPY_MODEL_d02b699d41dc4d698b8f21713bcb95a7",
            "_model_module": "@jupyter-widgets/controls",
            "children": [
              "IPY_MODEL_d4a1e0968c114c56a626365fd9396ac9",
              "IPY_MODEL_53e8177b4b934f3f8b4afa5ef108f19d",
              "IPY_MODEL_1789dcb9592046eca4268591715f80a5"
            ]
          }
        },
        "d02b699d41dc4d698b8f21713bcb95a7": {
          "model_module": "@jupyter-widgets/base",
          "model_name": "LayoutModel",
          "model_module_version": "1.2.0",
          "state": {
            "_view_name": "LayoutView",
            "grid_template_rows": null,
            "right": null,
            "justify_content": null,
            "_view_module": "@jupyter-widgets/base",
            "overflow": null,
            "_model_module_version": "1.2.0",
            "_view_count": null,
            "flex_flow": null,
            "width": null,
            "min_width": null,
            "border": null,
            "align_items": null,
            "bottom": null,
            "_model_module": "@jupyter-widgets/base",
            "top": null,
            "grid_column": null,
            "overflow_y": null,
            "overflow_x": null,
            "grid_auto_flow": null,
            "grid_area": null,
            "grid_template_columns": null,
            "flex": null,
            "_model_name": "LayoutModel",
            "justify_items": null,
            "grid_row": null,
            "max_height": null,
            "align_content": null,
            "visibility": null,
            "align_self": null,
            "height": null,
            "min_height": null,
            "padding": null,
            "grid_auto_rows": null,
            "grid_gap": null,
            "max_width": null,
            "order": null,
            "_view_module_version": "1.2.0",
            "grid_template_areas": null,
            "object_position": null,
            "object_fit": null,
            "grid_auto_columns": null,
            "margin": null,
            "display": null,
            "left": null
          }
        },
        "d4a1e0968c114c56a626365fd9396ac9": {
          "model_module": "@jupyter-widgets/controls",
          "model_name": "HTMLModel",
          "model_module_version": "1.5.0",
          "state": {
            "_view_name": "HTMLView",
            "style": "IPY_MODEL_bb81cc59671342c18617a041e6d4374d",
            "_dom_classes": [],
            "description": "",
            "_model_name": "HTMLModel",
            "placeholder": "​",
            "_view_module": "@jupyter-widgets/controls",
            "_model_module_version": "1.5.0",
            "value": "100%",
            "_view_count": null,
            "_view_module_version": "1.5.0",
            "description_tooltip": null,
            "_model_module": "@jupyter-widgets/controls",
            "layout": "IPY_MODEL_cce8e4eb9cc142108a525dc9b64f80ec"
          }
        },
        "53e8177b4b934f3f8b4afa5ef108f19d": {
          "model_module": "@jupyter-widgets/controls",
          "model_name": "FloatProgressModel",
          "model_module_version": "1.5.0",
          "state": {
            "_view_name": "ProgressView",
            "style": "IPY_MODEL_adf719e281cd4572a831766277de4309",
            "_dom_classes": [],
            "description": "",
            "_model_name": "FloatProgressModel",
            "bar_style": "success",
            "max": 5229,
            "_view_module": "@jupyter-widgets/controls",
            "_model_module_version": "1.5.0",
            "value": 5229,
            "_view_count": null,
            "_view_module_version": "1.5.0",
            "orientation": "horizontal",
            "min": 0,
            "description_tooltip": null,
            "_model_module": "@jupyter-widgets/controls",
            "layout": "IPY_MODEL_88a33118f9b44babbb0417976c7cdbc5"
          }
        },
        "1789dcb9592046eca4268591715f80a5": {
          "model_module": "@jupyter-widgets/controls",
          "model_name": "HTMLModel",
          "model_module_version": "1.5.0",
          "state": {
            "_view_name": "HTMLView",
            "style": "IPY_MODEL_1a3aedadec6d48e58628d986983feb60",
            "_dom_classes": [],
            "description": "",
            "_model_name": "HTMLModel",
            "placeholder": "​",
            "_view_module": "@jupyter-widgets/controls",
            "_model_module_version": "1.5.0",
            "value": " 5229/5229 [00:00&lt;00:00, 90693.37it/s]",
            "_view_count": null,
            "_view_module_version": "1.5.0",
            "description_tooltip": null,
            "_model_module": "@jupyter-widgets/controls",
            "layout": "IPY_MODEL_4b62405627e64978bb7237844405c7ff"
          }
        },
        "bb81cc59671342c18617a041e6d4374d": {
          "model_module": "@jupyter-widgets/controls",
          "model_name": "DescriptionStyleModel",
          "model_module_version": "1.5.0",
          "state": {
            "_view_name": "StyleView",
            "_model_name": "DescriptionStyleModel",
            "description_width": "",
            "_view_module": "@jupyter-widgets/base",
            "_model_module_version": "1.5.0",
            "_view_count": null,
            "_view_module_version": "1.2.0",
            "_model_module": "@jupyter-widgets/controls"
          }
        },
        "cce8e4eb9cc142108a525dc9b64f80ec": {
          "model_module": "@jupyter-widgets/base",
          "model_name": "LayoutModel",
          "model_module_version": "1.2.0",
          "state": {
            "_view_name": "LayoutView",
            "grid_template_rows": null,
            "right": null,
            "justify_content": null,
            "_view_module": "@jupyter-widgets/base",
            "overflow": null,
            "_model_module_version": "1.2.0",
            "_view_count": null,
            "flex_flow": null,
            "width": null,
            "min_width": null,
            "border": null,
            "align_items": null,
            "bottom": null,
            "_model_module": "@jupyter-widgets/base",
            "top": null,
            "grid_column": null,
            "overflow_y": null,
            "overflow_x": null,
            "grid_auto_flow": null,
            "grid_area": null,
            "grid_template_columns": null,
            "flex": null,
            "_model_name": "LayoutModel",
            "justify_items": null,
            "grid_row": null,
            "max_height": null,
            "align_content": null,
            "visibility": null,
            "align_self": null,
            "height": null,
            "min_height": null,
            "padding": null,
            "grid_auto_rows": null,
            "grid_gap": null,
            "max_width": null,
            "order": null,
            "_view_module_version": "1.2.0",
            "grid_template_areas": null,
            "object_position": null,
            "object_fit": null,
            "grid_auto_columns": null,
            "margin": null,
            "display": null,
            "left": null
          }
        },
        "adf719e281cd4572a831766277de4309": {
          "model_module": "@jupyter-widgets/controls",
          "model_name": "ProgressStyleModel",
          "model_module_version": "1.5.0",
          "state": {
            "_view_name": "StyleView",
            "_model_name": "ProgressStyleModel",
            "description_width": "",
            "_view_module": "@jupyter-widgets/base",
            "_model_module_version": "1.5.0",
            "_view_count": null,
            "_view_module_version": "1.2.0",
            "bar_color": null,
            "_model_module": "@jupyter-widgets/controls"
          }
        },
        "88a33118f9b44babbb0417976c7cdbc5": {
          "model_module": "@jupyter-widgets/base",
          "model_name": "LayoutModel",
          "model_module_version": "1.2.0",
          "state": {
            "_view_name": "LayoutView",
            "grid_template_rows": null,
            "right": null,
            "justify_content": null,
            "_view_module": "@jupyter-widgets/base",
            "overflow": null,
            "_model_module_version": "1.2.0",
            "_view_count": null,
            "flex_flow": null,
            "width": null,
            "min_width": null,
            "border": null,
            "align_items": null,
            "bottom": null,
            "_model_module": "@jupyter-widgets/base",
            "top": null,
            "grid_column": null,
            "overflow_y": null,
            "overflow_x": null,
            "grid_auto_flow": null,
            "grid_area": null,
            "grid_template_columns": null,
            "flex": null,
            "_model_name": "LayoutModel",
            "justify_items": null,
            "grid_row": null,
            "max_height": null,
            "align_content": null,
            "visibility": null,
            "align_self": null,
            "height": null,
            "min_height": null,
            "padding": null,
            "grid_auto_rows": null,
            "grid_gap": null,
            "max_width": null,
            "order": null,
            "_view_module_version": "1.2.0",
            "grid_template_areas": null,
            "object_position": null,
            "object_fit": null,
            "grid_auto_columns": null,
            "margin": null,
            "display": null,
            "left": null
          }
        },
        "1a3aedadec6d48e58628d986983feb60": {
          "model_module": "@jupyter-widgets/controls",
          "model_name": "DescriptionStyleModel",
          "model_module_version": "1.5.0",
          "state": {
            "_view_name": "StyleView",
            "_model_name": "DescriptionStyleModel",
            "description_width": "",
            "_view_module": "@jupyter-widgets/base",
            "_model_module_version": "1.5.0",
            "_view_count": null,
            "_view_module_version": "1.2.0",
            "_model_module": "@jupyter-widgets/controls"
          }
        },
        "4b62405627e64978bb7237844405c7ff": {
          "model_module": "@jupyter-widgets/base",
          "model_name": "LayoutModel",
          "model_module_version": "1.2.0",
          "state": {
            "_view_name": "LayoutView",
            "grid_template_rows": null,
            "right": null,
            "justify_content": null,
            "_view_module": "@jupyter-widgets/base",
            "overflow": null,
            "_model_module_version": "1.2.0",
            "_view_count": null,
            "flex_flow": null,
            "width": null,
            "min_width": null,
            "border": null,
            "align_items": null,
            "bottom": null,
            "_model_module": "@jupyter-widgets/base",
            "top": null,
            "grid_column": null,
            "overflow_y": null,
            "overflow_x": null,
            "grid_auto_flow": null,
            "grid_area": null,
            "grid_template_columns": null,
            "flex": null,
            "_model_name": "LayoutModel",
            "justify_items": null,
            "grid_row": null,
            "max_height": null,
            "align_content": null,
            "visibility": null,
            "align_self": null,
            "height": null,
            "min_height": null,
            "padding": null,
            "grid_auto_rows": null,
            "grid_gap": null,
            "max_width": null,
            "order": null,
            "_view_module_version": "1.2.0",
            "grid_template_areas": null,
            "object_position": null,
            "object_fit": null,
            "grid_auto_columns": null,
            "margin": null,
            "display": null,
            "left": null
          }
        }
      }
    }
  },
  "cells": [
    {
      "cell_type": "markdown",
      "source": [
        "### Loading Datasets"
      ],
      "metadata": {
        "id": "3V6XuYPvsjAO"
      }
    },
    {
      "cell_type": "code",
      "source": [
        "import re\n",
        "import numpy as np \n",
        "import pandas as pd\n",
        "pd.set_option('display.max_rows', 700)\n",
        "from sklearn.utils import shuffle"
      ],
      "metadata": {
        "id": "pbhOawrduieO"
      },
      "execution_count": 1,
      "outputs": []
    },
    {
      "cell_type": "code",
      "source": [
        "from google.colab import drive\n",
        "drive.mount('/content/drive')"
      ],
      "metadata": {
        "colab": {
          "base_uri": "https://localhost:8080/"
        },
        "id": "IxAv0ThjHbwT",
        "outputId": "850f6549-ed05-43ea-a23f-f59915984c06"
      },
      "execution_count": 2,
      "outputs": [
        {
          "output_type": "stream",
          "name": "stdout",
          "text": [
            "Mounted at /content/drive\n"
          ]
        }
      ]
    },
    {
      "cell_type": "code",
      "source": [
        "train = shuffle(pd.read_json('is_train.json'), random_state=0)\n",
        "val = shuffle(pd.read_json('is_val.json'), random_state=0)\n",
        "test = pd.read_json('is_test.json')\n",
        "oos_train = pd.read_json('oos_train.json')\n",
        "oos_val = pd.read_json('oos_val.json')\n",
        "oos_test = pd.read_json('oos_test.json')\n",
        "\n",
        "files = [\n",
        "         (train,'train'),\n",
        "         (val,'val'),\n",
        "         (test,'test'),\n",
        "         (oos_train,'oos_train'),\n",
        "         (oos_val,'oos_val'),\n",
        "         (oos_test,'oos_test')\n",
        "         ]\n",
        "         \n",
        "for file,name in files:\n",
        "    file.columns = ['text','intent']\n",
        "    print(f'{name} shape:{file.shape}, {name} has {train.isna().sum().sum()} null values')\n",
        "in_train = train.copy()"
      ],
      "metadata": {
        "colab": {
          "base_uri": "https://localhost:8080/"
        },
        "id": "6BoMQtCgtqNT",
        "outputId": "eb64ea55-41b1-46db-a519-98ffc60f62d6"
      },
      "execution_count": 3,
      "outputs": [
        {
          "output_type": "stream",
          "name": "stdout",
          "text": [
            "train shape:(15000, 2), train has 0 null values\n",
            "val shape:(3000, 2), val has 0 null values\n",
            "test shape:(4500, 2), test has 0 null values\n",
            "oos_train shape:(100, 2), oos_train has 0 null values\n",
            "oos_val shape:(100, 2), oos_val has 0 null values\n",
            "oos_test shape:(1000, 2), oos_test has 0 null values\n"
          ]
        }
      ]
    },
    {
      "cell_type": "code",
      "source": [
        "in_train.shape"
      ],
      "metadata": {
        "colab": {
          "base_uri": "https://localhost:8080/"
        },
        "id": "szuRNyRswqwF",
        "outputId": "01bdd9c4-04e9-4f8c-9b4a-7e4b613da7b6"
      },
      "execution_count": 4,
      "outputs": [
        {
          "output_type": "execute_result",
          "data": {
            "text/plain": [
              "(15000, 2)"
            ]
          },
          "metadata": {},
          "execution_count": 4
        }
      ]
    },
    {
      "cell_type": "code",
      "source": [
        "in_train.intent.value_counts()"
      ],
      "metadata": {
        "colab": {
          "base_uri": "https://localhost:8080/"
        },
        "id": "uJzuFiLpuZZq",
        "outputId": "aaf239a5-0cab-42d7-efe6-495dd59b1e82"
      },
      "execution_count": 5,
      "outputs": [
        {
          "output_type": "execute_result",
          "data": {
            "text/plain": [
              "flight_status                100\n",
              "text                         100\n",
              "change_accent                100\n",
              "card_declined                100\n",
              "account_blocked              100\n",
              "todo_list                    100\n",
              "mpg                          100\n",
              "make_call                    100\n",
              "timezone                     100\n",
              "uber                         100\n",
              "application_status           100\n",
              "pto_used                     100\n",
              "min_payment                  100\n",
              "change_language              100\n",
              "time                         100\n",
              "reminder_update              100\n",
              "gas                          100\n",
              "restaurant_reservation       100\n",
              "pto_request                  100\n",
              "nutrition_info               100\n",
              "rewards_balance              100\n",
              "change_volume                100\n",
              "thank_you                    100\n",
              "do_you_have_pets             100\n",
              "expiration_date              100\n",
              "next_holiday                 100\n",
              "replacement_card_duration    100\n",
              "where_are_you_from           100\n",
              "oil_change_when              100\n",
              "food_last                    100\n",
              "play_music                   100\n",
              "tire_change                  100\n",
              "date                         100\n",
              "user_name                    100\n",
              "transactions                 100\n",
              "recipe                       100\n",
              "order_status                 100\n",
              "schedule_meeting             100\n",
              "definition                   100\n",
              "w2                           100\n",
              "international_fees           100\n",
              "spelling                     100\n",
              "order_checks                 100\n",
              "last_maintenance             100\n",
              "meal_suggestion              100\n",
              "exchange_rate                100\n",
              "smart_home                   100\n",
              "calories                     100\n",
              "current_location             100\n",
              "spending_history             100\n",
              "rollover_401k                100\n",
              "calculator                   100\n",
              "cancel                       100\n",
              "accept_reservations          100\n",
              "interest_rate                100\n",
              "apr                          100\n",
              "find_phone                   100\n",
              "what_song                    100\n",
              "credit_score                 100\n",
              "whisper_mode                 100\n",
              "fun_fact                     100\n",
              "redeem_rewards               100\n",
              "what_can_i_ask_you           100\n",
              "international_visa           100\n",
              "credit_limit_change          100\n",
              "who_made_you                 100\n",
              "distance                     100\n",
              "what_is_your_name            100\n",
              "ingredients_list             100\n",
              "bill_balance                 100\n",
              "book_hotel                   100\n",
              "reminder                     100\n",
              "transfer                     100\n",
              "pto_request_status           100\n",
              "car_rental                   100\n",
              "goodbye                      100\n",
              "change_ai_name               100\n",
              "pay_bill                     100\n",
              "routing                      100\n",
              "cancel_reservation           100\n",
              "income                       100\n",
              "maybe                        100\n",
              "how_busy                     100\n",
              "gas_type                     100\n",
              "calendar                     100\n",
              "repeat                       100\n",
              "book_flight                  100\n",
              "translate                    100\n",
              "pin_change                   100\n",
              "balance                      100\n",
              "insurance                    100\n",
              "plug_type                    100\n",
              "lost_luggage                 100\n",
              "carry_on                     100\n",
              "how_old_are_you              100\n",
              "new_card                     100\n",
              "credit_limit                 100\n",
              "shopping_list_update         100\n",
              "what_are_your_hobbies        100\n",
              "weather                      100\n",
              "change_speed                 100\n",
              "meeting_schedule             100\n",
              "who_do_you_work_for          100\n",
              "yes                          100\n",
              "greeting                     100\n",
              "todo_list_update             100\n",
              "vaccines                     100\n",
              "alarm                        100\n",
              "directions                   100\n",
              "confirm_reservation          100\n",
              "order                        100\n",
              "report_lost_card             100\n",
              "bill_due                     100\n",
              "change_user_name             100\n",
              "travel_notification          100\n",
              "are_you_a_bot                100\n",
              "calendar_update              100\n",
              "reset_settings               100\n",
              "cook_time                    100\n",
              "roll_dice                    100\n",
              "travel_alert                 100\n",
              "pto_balance                  100\n",
              "insurance_change             100\n",
              "freeze_account               100\n",
              "direct_deposit               100\n",
              "travel_suggestion            100\n",
              "no                           100\n",
              "measurement_conversion       100\n",
              "taxes                        100\n",
              "ingredient_substitution      100\n",
              "report_fraud                 100\n",
              "jump_start                   100\n",
              "sync_device                  100\n",
              "oil_change_how               100\n",
              "improve_credit_score         100\n",
              "traffic                      100\n",
              "tell_joke                    100\n",
              "restaurant_suggestion        100\n",
              "schedule_maintenance         100\n",
              "tire_pressure                100\n",
              "timer                        100\n",
              "flip_coin                    100\n",
              "share_location               100\n",
              "shopping_list                100\n",
              "meaning_of_life              100\n",
              "payday                       100\n",
              "update_playlist              100\n",
              "damaged_card                 100\n",
              "restaurant_reviews           100\n",
              "next_song                    100\n",
              "Name: intent, dtype: int64"
            ]
          },
          "metadata": {},
          "execution_count": 5
        }
      ]
    },
    {
      "cell_type": "code",
      "source": [
        "in_train['intent'].nunique(), val['intent'].nunique(), test['intent'].nunique()"
      ],
      "metadata": {
        "id": "WXJ-pC6RxeKt",
        "colab": {
          "base_uri": "https://localhost:8080/"
        },
        "outputId": "bf35bf9a-bc57-4f61-c463-23cfe08f0957"
      },
      "execution_count": 6,
      "outputs": [
        {
          "output_type": "execute_result",
          "data": {
            "text/plain": [
              "(150, 150, 150)"
            ]
          },
          "metadata": {},
          "execution_count": 6
        }
      ]
    },
    {
      "cell_type": "code",
      "source": [
        "# oss_plus_train = pd.concat([in_train, oos_train],axis=0).reset_index(drop=True)\n",
        "# oss_plus_val = pd.concat([val,oos_val],axis=0).reset_index(drop=True)\n",
        "# oss_plus_test = pd.concat([test,oos_test],axis=0).reset_index(drop=True)"
      ],
      "metadata": {
        "id": "2lfJ_L2rx98X"
      },
      "execution_count": 7,
      "outputs": []
    },
    {
      "cell_type": "code",
      "source": [
        "# oss_plus_train['intent'].nunique(), oss_plus_val['intent'].nunique(), oss_plus_test['intent'].nunique()"
      ],
      "metadata": {
        "id": "dSKiii4yyYX2"
      },
      "execution_count": 8,
      "outputs": []
    },
    {
      "cell_type": "code",
      "source": [
        "# def binarize(df):\n",
        "#     df.intent = np.where(df.intent!='oos',0,1)\n",
        "#     return df"
      ],
      "metadata": {
        "id": "yT2MTkXsxNGn"
      },
      "execution_count": 9,
      "outputs": []
    },
    {
      "cell_type": "code",
      "source": [
        "# oos_plus_train = binarize(pd.concat([in_train,oos_train],axis=0).reset_index(drop=True))\n",
        "# oos_plus_val = binarize(pd.concat([val,oos_val],axis=0).reset_index(drop=True))\n",
        "# oos_plus_test = binarize(pd.concat([test,oos_test],axis=0).reset_index(drop=True))"
      ],
      "metadata": {
        "id": "83wot8Wjvsde"
      },
      "execution_count": 10,
      "outputs": []
    },
    {
      "cell_type": "code",
      "source": [
        "# oos_count = oos_plus_train.intent.value_counts()\n",
        "# oos_count"
      ],
      "metadata": {
        "id": "4B_k1NCpw-N2"
      },
      "execution_count": 11,
      "outputs": []
    },
    {
      "cell_type": "code",
      "source": [
        "# oss_plus_train.head()"
      ],
      "metadata": {
        "id": "dRLfZcudyyYJ"
      },
      "execution_count": 12,
      "outputs": []
    },
    {
      "cell_type": "code",
      "source": [
        "from sklearn.preprocessing import LabelBinarizer\n",
        "labelBinary = LabelBinarizer()\n",
        " \n",
        "labels = labelBinary.fit_transform(in_train['intent'])\n",
        "text = in_train['text']\n",
        "# import numpy as np\n",
        "# val = [\n",
        "#        [0, 0, 1],\n",
        "#        [1, 0, 0]\n",
        "# ]\n",
        " \n",
        "# lb.inverse_transform(np.asarray(val))"
      ],
      "metadata": {
        "id": "sNekS6YaxPN5"
      },
      "execution_count": 13,
      "outputs": []
    },
    {
      "cell_type": "code",
      "source": [
        "labelBinary.classes_"
      ],
      "metadata": {
        "colab": {
          "base_uri": "https://localhost:8080/"
        },
        "id": "6vl_trBK0TBV",
        "outputId": "40289880-568b-4afe-b571-efc4213e9bc5"
      },
      "execution_count": 14,
      "outputs": [
        {
          "output_type": "execute_result",
          "data": {
            "text/plain": [
              "array(['accept_reservations', 'account_blocked', 'alarm',\n",
              "       'application_status', 'apr', 'are_you_a_bot', 'balance',\n",
              "       'bill_balance', 'bill_due', 'book_flight', 'book_hotel',\n",
              "       'calculator', 'calendar', 'calendar_update', 'calories', 'cancel',\n",
              "       'cancel_reservation', 'car_rental', 'card_declined', 'carry_on',\n",
              "       'change_accent', 'change_ai_name', 'change_language',\n",
              "       'change_speed', 'change_user_name', 'change_volume',\n",
              "       'confirm_reservation', 'cook_time', 'credit_limit',\n",
              "       'credit_limit_change', 'credit_score', 'current_location',\n",
              "       'damaged_card', 'date', 'definition', 'direct_deposit',\n",
              "       'directions', 'distance', 'do_you_have_pets', 'exchange_rate',\n",
              "       'expiration_date', 'find_phone', 'flight_status', 'flip_coin',\n",
              "       'food_last', 'freeze_account', 'fun_fact', 'gas', 'gas_type',\n",
              "       'goodbye', 'greeting', 'how_busy', 'how_old_are_you',\n",
              "       'improve_credit_score', 'income', 'ingredient_substitution',\n",
              "       'ingredients_list', 'insurance', 'insurance_change',\n",
              "       'interest_rate', 'international_fees', 'international_visa',\n",
              "       'jump_start', 'last_maintenance', 'lost_luggage', 'make_call',\n",
              "       'maybe', 'meal_suggestion', 'meaning_of_life',\n",
              "       'measurement_conversion', 'meeting_schedule', 'min_payment', 'mpg',\n",
              "       'new_card', 'next_holiday', 'next_song', 'no', 'nutrition_info',\n",
              "       'oil_change_how', 'oil_change_when', 'order', 'order_checks',\n",
              "       'order_status', 'pay_bill', 'payday', 'pin_change', 'play_music',\n",
              "       'plug_type', 'pto_balance', 'pto_request', 'pto_request_status',\n",
              "       'pto_used', 'recipe', 'redeem_rewards', 'reminder',\n",
              "       'reminder_update', 'repeat', 'replacement_card_duration',\n",
              "       'report_fraud', 'report_lost_card', 'reset_settings',\n",
              "       'restaurant_reservation', 'restaurant_reviews',\n",
              "       'restaurant_suggestion', 'rewards_balance', 'roll_dice',\n",
              "       'rollover_401k', 'routing', 'schedule_maintenance',\n",
              "       'schedule_meeting', 'share_location', 'shopping_list',\n",
              "       'shopping_list_update', 'smart_home', 'spelling',\n",
              "       'spending_history', 'sync_device', 'taxes', 'tell_joke', 'text',\n",
              "       'thank_you', 'time', 'timer', 'timezone', 'tire_change',\n",
              "       'tire_pressure', 'todo_list', 'todo_list_update', 'traffic',\n",
              "       'transactions', 'transfer', 'translate', 'travel_alert',\n",
              "       'travel_notification', 'travel_suggestion', 'uber',\n",
              "       'update_playlist', 'user_name', 'vaccines', 'w2', 'weather',\n",
              "       'what_are_your_hobbies', 'what_can_i_ask_you', 'what_is_your_name',\n",
              "       'what_song', 'where_are_you_from', 'whisper_mode',\n",
              "       'who_do_you_work_for', 'who_made_you', 'yes'], dtype='<U25')"
            ]
          },
          "metadata": {},
          "execution_count": 14
        }
      ]
    },
    {
      "cell_type": "code",
      "source": [
        "import pickle\n",
        "\n",
        "labelpath = 'label.pkl'\n",
        "with open(labelpath, 'wb') as handle:\n",
        "    pickle.dump(labelBinary, handle, protocol=pickle.HIGHEST_PROTOCOL)"
      ],
      "metadata": {
        "id": "RYx3IvRe0WF6"
      },
      "execution_count": 15,
      "outputs": []
    },
    {
      "cell_type": "code",
      "source": [
        "print(labels.shape, text.shape)"
      ],
      "metadata": {
        "colab": {
          "base_uri": "https://localhost:8080/"
        },
        "id": "TRmbO9U40WAr",
        "outputId": "5761eb19-3661-48f9-e293-0edb0e3149ce"
      },
      "execution_count": 16,
      "outputs": [
        {
          "output_type": "stream",
          "name": "stdout",
          "text": [
            "(15000, 150) (15000,)\n"
          ]
        }
      ]
    },
    {
      "cell_type": "code",
      "source": [
        "labels"
      ],
      "metadata": {
        "colab": {
          "base_uri": "https://localhost:8080/"
        },
        "id": "RtrSOrONTq4A",
        "outputId": "b0f82f09-79ce-4a69-f902-440fe00636cb"
      },
      "execution_count": null,
      "outputs": [
        {
          "output_type": "execute_result",
          "data": {
            "text/plain": [
              "array([[0, 0, 0, ..., 0, 0, 0],\n",
              "       [0, 0, 0, ..., 0, 0, 0],\n",
              "       [0, 0, 0, ..., 0, 0, 0],\n",
              "       ...,\n",
              "       [0, 0, 0, ..., 0, 0, 0],\n",
              "       [0, 0, 0, ..., 0, 0, 0],\n",
              "       [0, 0, 0, ..., 0, 0, 0]])"
            ]
          },
          "metadata": {},
          "execution_count": 16
        }
      ]
    },
    {
      "cell_type": "markdown",
      "source": [
        "#### Transform validation dataset"
      ],
      "metadata": {
        "id": "u-xKz0Rh4jog"
      }
    },
    {
      "cell_type": "code",
      "source": [
        "test.head()"
      ],
      "metadata": {
        "id": "iVjGWs5y4u3S",
        "colab": {
          "base_uri": "https://localhost:8080/",
          "height": 206
        },
        "outputId": "9541898c-7cba-4092-891a-e725fbf6db68"
      },
      "execution_count": 17,
      "outputs": [
        {
          "output_type": "execute_result",
          "data": {
            "text/html": [
              "\n",
              "  <div id=\"df-859c3d67-ae6e-4595-adba-9ec0cbddabb5\">\n",
              "    <div class=\"colab-df-container\">\n",
              "      <div>\n",
              "<style scoped>\n",
              "    .dataframe tbody tr th:only-of-type {\n",
              "        vertical-align: middle;\n",
              "    }\n",
              "\n",
              "    .dataframe tbody tr th {\n",
              "        vertical-align: top;\n",
              "    }\n",
              "\n",
              "    .dataframe thead th {\n",
              "        text-align: right;\n",
              "    }\n",
              "</style>\n",
              "<table border=\"1\" class=\"dataframe\">\n",
              "  <thead>\n",
              "    <tr style=\"text-align: right;\">\n",
              "      <th></th>\n",
              "      <th>text</th>\n",
              "      <th>intent</th>\n",
              "    </tr>\n",
              "  </thead>\n",
              "  <tbody>\n",
              "    <tr>\n",
              "      <th>0</th>\n",
              "      <td>how would you say fly in italian</td>\n",
              "      <td>translate</td>\n",
              "    </tr>\n",
              "    <tr>\n",
              "      <th>1</th>\n",
              "      <td>what's the spanish word for pasta</td>\n",
              "      <td>translate</td>\n",
              "    </tr>\n",
              "    <tr>\n",
              "      <th>2</th>\n",
              "      <td>how would they say butter in zambia</td>\n",
              "      <td>translate</td>\n",
              "    </tr>\n",
              "    <tr>\n",
              "      <th>3</th>\n",
              "      <td>how do you say fast in spanish</td>\n",
              "      <td>translate</td>\n",
              "    </tr>\n",
              "    <tr>\n",
              "      <th>4</th>\n",
              "      <td>what's the word for trees in norway</td>\n",
              "      <td>translate</td>\n",
              "    </tr>\n",
              "  </tbody>\n",
              "</table>\n",
              "</div>\n",
              "      <button class=\"colab-df-convert\" onclick=\"convertToInteractive('df-859c3d67-ae6e-4595-adba-9ec0cbddabb5')\"\n",
              "              title=\"Convert this dataframe to an interactive table.\"\n",
              "              style=\"display:none;\">\n",
              "        \n",
              "  <svg xmlns=\"http://www.w3.org/2000/svg\" height=\"24px\"viewBox=\"0 0 24 24\"\n",
              "       width=\"24px\">\n",
              "    <path d=\"M0 0h24v24H0V0z\" fill=\"none\"/>\n",
              "    <path d=\"M18.56 5.44l.94 2.06.94-2.06 2.06-.94-2.06-.94-.94-2.06-.94 2.06-2.06.94zm-11 1L8.5 8.5l.94-2.06 2.06-.94-2.06-.94L8.5 2.5l-.94 2.06-2.06.94zm10 10l.94 2.06.94-2.06 2.06-.94-2.06-.94-.94-2.06-.94 2.06-2.06.94z\"/><path d=\"M17.41 7.96l-1.37-1.37c-.4-.4-.92-.59-1.43-.59-.52 0-1.04.2-1.43.59L10.3 9.45l-7.72 7.72c-.78.78-.78 2.05 0 2.83L4 21.41c.39.39.9.59 1.41.59.51 0 1.02-.2 1.41-.59l7.78-7.78 2.81-2.81c.8-.78.8-2.07 0-2.86zM5.41 20L4 18.59l7.72-7.72 1.47 1.35L5.41 20z\"/>\n",
              "  </svg>\n",
              "      </button>\n",
              "      \n",
              "  <style>\n",
              "    .colab-df-container {\n",
              "      display:flex;\n",
              "      flex-wrap:wrap;\n",
              "      gap: 12px;\n",
              "    }\n",
              "\n",
              "    .colab-df-convert {\n",
              "      background-color: #E8F0FE;\n",
              "      border: none;\n",
              "      border-radius: 50%;\n",
              "      cursor: pointer;\n",
              "      display: none;\n",
              "      fill: #1967D2;\n",
              "      height: 32px;\n",
              "      padding: 0 0 0 0;\n",
              "      width: 32px;\n",
              "    }\n",
              "\n",
              "    .colab-df-convert:hover {\n",
              "      background-color: #E2EBFA;\n",
              "      box-shadow: 0px 1px 2px rgba(60, 64, 67, 0.3), 0px 1px 3px 1px rgba(60, 64, 67, 0.15);\n",
              "      fill: #174EA6;\n",
              "    }\n",
              "\n",
              "    [theme=dark] .colab-df-convert {\n",
              "      background-color: #3B4455;\n",
              "      fill: #D2E3FC;\n",
              "    }\n",
              "\n",
              "    [theme=dark] .colab-df-convert:hover {\n",
              "      background-color: #434B5C;\n",
              "      box-shadow: 0px 1px 3px 1px rgba(0, 0, 0, 0.15);\n",
              "      filter: drop-shadow(0px 1px 2px rgba(0, 0, 0, 0.3));\n",
              "      fill: #FFFFFF;\n",
              "    }\n",
              "  </style>\n",
              "\n",
              "      <script>\n",
              "        const buttonEl =\n",
              "          document.querySelector('#df-859c3d67-ae6e-4595-adba-9ec0cbddabb5 button.colab-df-convert');\n",
              "        buttonEl.style.display =\n",
              "          google.colab.kernel.accessAllowed ? 'block' : 'none';\n",
              "\n",
              "        async function convertToInteractive(key) {\n",
              "          const element = document.querySelector('#df-859c3d67-ae6e-4595-adba-9ec0cbddabb5');\n",
              "          const dataTable =\n",
              "            await google.colab.kernel.invokeFunction('convertToInteractive',\n",
              "                                                     [key], {});\n",
              "          if (!dataTable) return;\n",
              "\n",
              "          const docLinkHtml = 'Like what you see? Visit the ' +\n",
              "            '<a target=\"_blank\" href=https://colab.research.google.com/notebooks/data_table.ipynb>data table notebook</a>'\n",
              "            + ' to learn more about interactive tables.';\n",
              "          element.innerHTML = '';\n",
              "          dataTable['output_type'] = 'display_data';\n",
              "          await google.colab.output.renderOutput(dataTable, element);\n",
              "          const docLink = document.createElement('div');\n",
              "          docLink.innerHTML = docLinkHtml;\n",
              "          element.appendChild(docLink);\n",
              "        }\n",
              "      </script>\n",
              "    </div>\n",
              "  </div>\n",
              "  "
            ],
            "text/plain": [
              "                                  text     intent\n",
              "0     how would you say fly in italian  translate\n",
              "1    what's the spanish word for pasta  translate\n",
              "2  how would they say butter in zambia  translate\n",
              "3       how do you say fast in spanish  translate\n",
              "4  what's the word for trees in norway  translate"
            ]
          },
          "metadata": {},
          "execution_count": 17
        }
      ]
    },
    {
      "cell_type": "code",
      "source": [
        "val_labels = labelBinary.transform(test['intent'])\n",
        "val_text = test['text']"
      ],
      "metadata": {
        "id": "tpiQxFH04jBS"
      },
      "execution_count": 18,
      "outputs": []
    },
    {
      "cell_type": "code",
      "source": [
        "val_labels"
      ],
      "metadata": {
        "colab": {
          "base_uri": "https://localhost:8080/"
        },
        "id": "-oWbhHXlS9ZV",
        "outputId": "ca8c1076-3976-4f44-a874-526b6661cdfa"
      },
      "execution_count": 19,
      "outputs": [
        {
          "output_type": "execute_result",
          "data": {
            "text/plain": [
              "array([[0, 0, 0, ..., 0, 0, 0],\n",
              "       [0, 0, 0, ..., 0, 0, 0],\n",
              "       [0, 0, 0, ..., 0, 0, 0],\n",
              "       ...,\n",
              "       [0, 0, 0, ..., 0, 0, 0],\n",
              "       [0, 0, 0, ..., 0, 0, 0],\n",
              "       [0, 0, 0, ..., 0, 0, 0]])"
            ]
          },
          "metadata": {},
          "execution_count": 19
        }
      ]
    },
    {
      "cell_type": "markdown",
      "metadata": {
        "id": "bWRbhw8qOljk"
      },
      "source": [
        "### **Download & Load Word Vectors for Embedding (Glove)**"
      ]
    },
    {
      "cell_type": "markdown",
      "metadata": {
        "id": "mQQh-7I_McGj"
      },
      "source": [
        "* *Download and extract word vectors Glove*"
      ]
    },
    {
      "cell_type": "code",
      "metadata": {
        "id": "-jo10NRyMTmG",
        "colab": {
          "base_uri": "https://localhost:8080/"
        },
        "outputId": "7d7a7851-f8e8-4ca6-f8cb-8a2147b0acdb"
      },
      "source": [
        "# %%time\n",
        "\n",
        "import zipfile\n",
        "!wget http://nlp.stanford.edu/data/glove.840B.300d.zip\n",
        "zip_file = zipfile.ZipFile('glove.840B.300d.zip')\n",
        "zip_file.extractall()"
      ],
      "execution_count": null,
      "outputs": [
        {
          "output_type": "stream",
          "name": "stdout",
          "text": [
            "--2022-01-05 07:49:27--  http://nlp.stanford.edu/data/glove.840B.300d.zip\n",
            "Resolving nlp.stanford.edu (nlp.stanford.edu)... 171.64.67.140\n",
            "Connecting to nlp.stanford.edu (nlp.stanford.edu)|171.64.67.140|:80... connected.\n",
            "HTTP request sent, awaiting response... 302 Found\n",
            "Location: https://nlp.stanford.edu/data/glove.840B.300d.zip [following]\n",
            "--2022-01-05 07:49:27--  https://nlp.stanford.edu/data/glove.840B.300d.zip\n",
            "Connecting to nlp.stanford.edu (nlp.stanford.edu)|171.64.67.140|:443... connected.\n",
            "HTTP request sent, awaiting response... 301 Moved Permanently\n",
            "Location: http://downloads.cs.stanford.edu/nlp/data/glove.840B.300d.zip [following]\n",
            "--2022-01-05 07:49:27--  http://downloads.cs.stanford.edu/nlp/data/glove.840B.300d.zip\n",
            "Resolving downloads.cs.stanford.edu (downloads.cs.stanford.edu)... 171.64.64.22\n",
            "Connecting to downloads.cs.stanford.edu (downloads.cs.stanford.edu)|171.64.64.22|:80... connected.\n",
            "HTTP request sent, awaiting response... 200 OK\n",
            "Length: 2176768927 (2.0G) [application/zip]\n",
            "Saving to: ‘glove.840B.300d.zip’\n",
            "\n",
            "glove.840B.300d.zip 100%[===================>]   2.03G  4.95MB/s    in 6m 53s  \n",
            "\n",
            "2022-01-05 07:56:20 (5.03 MB/s) - ‘glove.840B.300d.zip’ saved [2176768927/2176768927]\n",
            "\n"
          ]
        }
      ]
    },
    {
      "cell_type": "markdown",
      "metadata": {
        "id": "TGHB3FeGOSiG"
      },
      "source": [
        "* *Load Word vectors in memory*"
      ]
    },
    {
      "cell_type": "code",
      "metadata": {
        "colab": {
          "base_uri": "https://localhost:8080/",
          "height": 116,
          "referenced_widgets": [
            "3e2cc963734a46c0a4f95fb83dde651e",
            "0dc392afb0254511be8b557c6b0ab607",
            "f9926f752c984237b4cb2c534f22dee0",
            "bb37e2bd3f6140869d5c246768f5ee69",
            "49ef4979a5a3492186181a7beedd1687",
            "f598c725869f4e008f3ed0b49e9331ef",
            "0d622d692dcf44a6a40936b4284934d6",
            "0a2fe11920a142439548d586a1fdacfa",
            "9994029c79f9415db9c8d5e923a22cf5",
            "6c78e9c7b8064adab2218b03d830b88f",
            "5f21027609794db08c4ce1b428b39476",
            "03786b2999e64362946bfca41f0a86b7",
            "4a87b33b90744fbf9de4a3112d319cc9",
            "52c2254daf9c44289b8feaa462974444",
            "6383067895ed4292b313a1897bb34ca7",
            "f7d44d18a5e044c7bc8055b22f5af119",
            "1a6aefbad3e94283b6243cc214a3effe",
            "d38c5974eb3347a58326bad56257c5d5",
            "9562034d419a46249c1e7918dacf40f3",
            "97ba96efae944ca7a0baf713e230f79c",
            "ca341bd4520449e68ff2735bf892928f",
            "99b70489efb84fd091dcde01b4c15f01"
          ]
        },
        "id": "49DV0K0HMit7",
        "outputId": "d55ef6bb-71b6-4308-d161-23b1a9e4d23d"
      },
      "source": [
        "%%time\n",
        "\n",
        "from tqdm.notebook import tqdm\n",
        "import numpy as np \n",
        " \n",
        "def get_coefs(word, *arr):\n",
        "    try:\n",
        "        return word, np.asarray(arr, dtype='float32')\n",
        "    except:\n",
        "        return None, None\n",
        "\n",
        "embedding_path = '/content/drive/MyDrive/data_science/embeddings/glove.840B.300d.txt'\n",
        "embeddings_index = dict(get_coefs(*o.strip().split()) for o in tqdm(open(\n",
        "    embedding_path)))\n",
        " \n",
        "embed_size=300\n",
        " \n",
        "for k in tqdm(list(embeddings_index.keys())):\n",
        "    v = embeddings_index[k]\n",
        "    try:\n",
        "        if v.shape != (embed_size, ):\n",
        "            embeddings_index.pop(k)\n",
        "    except:\n",
        "        pass\n",
        " \n",
        "if None in embeddings_index:\n",
        "  embeddings_index.pop(None)\n",
        "  \n",
        "values = list(embeddings_index.values())\n",
        "all_embs = np.stack(values)\n",
        " \n",
        "emb_mean, emb_std = all_embs.mean(), all_embs.std()"
      ],
      "execution_count": 20,
      "outputs": [
        {
          "output_type": "display_data",
          "data": {
            "application/vnd.jupyter.widget-view+json": {
              "model_id": "3e2cc963734a46c0a4f95fb83dde651e",
              "version_minor": 0,
              "version_major": 2
            },
            "text/plain": [
              "0it [00:00, ?it/s]"
            ]
          },
          "metadata": {}
        },
        {
          "output_type": "display_data",
          "data": {
            "application/vnd.jupyter.widget-view+json": {
              "model_id": "03786b2999e64362946bfca41f0a86b7",
              "version_minor": 0,
              "version_major": 2
            },
            "text/plain": [
              "  0%|          | 0/2195885 [00:00<?, ?it/s]"
            ]
          },
          "metadata": {}
        },
        {
          "output_type": "stream",
          "name": "stdout",
          "text": [
            "CPU times: user 3min 19s, sys: 17.2 s, total: 3min 36s\n",
            "Wall time: 3min 50s\n"
          ]
        }
      ]
    },
    {
      "cell_type": "markdown",
      "metadata": {
        "id": "3lIexLVw5klJ"
      },
      "source": [
        "### **Tokenizing the Dataset using keras**\n",
        "\n"
      ]
    },
    {
      "cell_type": "markdown",
      "metadata": {
        "id": "dtipf4Ad5ebS"
      },
      "source": [
        "* *Read the train and test file from directory and split the train dataset in train test split*"
      ]
    },
    {
      "cell_type": "code",
      "metadata": {
        "id": "uVgNOXuSr-nR"
      },
      "source": [
        "import tensorflow"
      ],
      "execution_count": 21,
      "outputs": []
    },
    {
      "cell_type": "code",
      "metadata": {
        "id": "-msqkEAe56GW"
      },
      "source": [
        "from tensorflow.keras.preprocessing.text import Tokenizer\n",
        "from tensorflow.keras.preprocessing.text import text_to_word_sequence\n",
        "from tensorflow.keras.preprocessing.sequence import pad_sequences\n",
        " \n",
        " \n",
        "from tensorflow.keras.models import Model\n",
        "from tensorflow.keras.models import Sequential\n",
        " \n",
        "from tensorflow.keras.layers import Input, Dense, Embedding, Conv1D, Conv2D, MaxPooling1D, MaxPool2D\n",
        "from tensorflow.keras.layers import Reshape, Flatten, Dropout, Concatenate\n",
        "from tensorflow.keras.layers import SpatialDropout1D, concatenate\n",
        "from tensorflow.keras.layers import GRU,LSTM,Bidirectional, GlobalAveragePooling1D, GlobalMaxPooling1D\n",
        "from tensorflow.keras.layers import TimeDistributed\n",
        " \n",
        "from tensorflow.keras.callbacks import Callback\n",
        "from tensorflow.keras.optimizers import Adam\n",
        " \n",
        "from tensorflow.keras.callbacks import ModelCheckpoint, EarlyStopping"
      ],
      "execution_count": 22,
      "outputs": []
    },
    {
      "cell_type": "markdown",
      "metadata": {
        "id": "IyhQy2whXgmK"
      },
      "source": [
        "#### **Save Keras Tokenizer**"
      ]
    },
    {
      "cell_type": "code",
      "metadata": {
        "colab": {
          "base_uri": "https://localhost:8080/"
        },
        "id": "4Fg0FozOvNms",
        "outputId": "e4e1323b-3b42-4224-f077-e4a4fc5b881b"
      },
      "source": [
        "text.map(len).max()"
      ],
      "execution_count": 23,
      "outputs": [
        {
          "output_type": "execute_result",
          "data": {
            "text/plain": [
              "136"
            ]
          },
          "metadata": {},
          "execution_count": 23
        }
      ]
    },
    {
      "cell_type": "code",
      "metadata": {
        "colab": {
          "base_uri": "https://localhost:8080/"
        },
        "id": "lFJhazYhtB7B",
        "outputId": "dbfd090b-fe0e-4ffd-b391-f5302d38812d"
      },
      "source": [
        "%%time\n",
        "MAX_NB_WORDS = 10000\n",
        "# tokenizer = Tokenizer(num_words=MAX_NB_WORDS)\n",
        "tokenizer = Tokenizer(num_words=MAX_NB_WORDS)\n",
        "tokenizer.fit_on_texts(text)"
      ],
      "execution_count": 24,
      "outputs": [
        {
          "output_type": "stream",
          "name": "stdout",
          "text": [
            "CPU times: user 226 ms, sys: 3.82 ms, total: 230 ms\n",
            "Wall time: 236 ms\n"
          ]
        }
      ]
    },
    {
      "cell_type": "code",
      "metadata": {
        "colab": {
          "base_uri": "https://localhost:8080/"
        },
        "id": "CwwezOjS9A67",
        "outputId": "121a3afe-8fa8-409b-b759-792adb40e8a9"
      },
      "source": [
        "%%time\n",
        "train_sequences = tokenizer.texts_to_sequences(text)"
      ],
      "execution_count": 25,
      "outputs": [
        {
          "output_type": "stream",
          "name": "stdout",
          "text": [
            "CPU times: user 163 ms, sys: 1.87 ms, total: 165 ms\n",
            "Wall time: 166 ms\n"
          ]
        }
      ]
    },
    {
      "cell_type": "code",
      "metadata": {
        "colab": {
          "base_uri": "https://localhost:8080/"
        },
        "id": "9r4OI_naXdx1",
        "outputId": "101d4a13-8b59-4e47-a181-d0ec8a320eec"
      },
      "source": [
        "train_sequences[:3]"
      ],
      "execution_count": 26,
      "outputs": [
        {
          "output_type": "execute_result",
          "data": {
            "text/plain": [
              "[[66, 795, 58, 83, 691, 10, 130, 73],\n",
              " [10, 55, 6, 155, 2, 20, 42, 5, 22, 401, 114, 48, 127],\n",
              " [8, 22, 4, 264, 15, 1426]]"
            ]
          },
          "metadata": {},
          "execution_count": 26
        }
      ]
    },
    {
      "cell_type": "code",
      "metadata": {
        "colab": {
          "base_uri": "https://localhost:8080/"
        },
        "id": "mnRau9Vzz89W",
        "outputId": "927ce28b-8bcb-4506-8323-0112118fd5fa"
      },
      "source": [
        "print(text[0], train_sequences[0])"
      ],
      "execution_count": 27,
      "outputs": [
        {
          "output_type": "stream",
          "name": "stdout",
          "text": [
            "what expression would i use to say i love you if i were an italian [66, 795, 58, 83, 691, 10, 130, 73]\n"
          ]
        }
      ]
    },
    {
      "cell_type": "code",
      "metadata": {
        "id": "nOx4Up9Pi7N2"
      },
      "source": [
        "def FindMaxLength(lst): \n",
        "    maxList = max(lst, key = lambda i: len(i)) \n",
        "    maxLength = len(maxList) \n",
        "    return maxLength\n",
        "\n",
        "MAX_LENGTH = FindMaxLength(train_sequences)"
      ],
      "execution_count": 28,
      "outputs": []
    },
    {
      "cell_type": "code",
      "metadata": {
        "colab": {
          "base_uri": "https://localhost:8080/"
        },
        "id": "S4jdN62foenP",
        "outputId": "1e0929c4-dea3-4bb9-8abb-76326081a602"
      },
      "source": [
        "print(MAX_LENGTH)"
      ],
      "execution_count": 29,
      "outputs": [
        {
          "output_type": "stream",
          "name": "stdout",
          "text": [
            "28\n"
          ]
        }
      ]
    },
    {
      "cell_type": "markdown",
      "metadata": {
        "id": "R9DSBV4f9IoR"
      },
      "source": [
        "* Now the Sentences are mapped to lists of integers. However, we still cannot stack them together in a matrix since they have different lengths.\n",
        "Hopefully Keras allows to **pad** sequences with **0s** to a maximum length. We'll set this length to 425."
      ]
    },
    {
      "cell_type": "code",
      "metadata": {
        "colab": {
          "base_uri": "https://localhost:8080/"
        },
        "id": "h3EKPUNe9Ecm",
        "outputId": "400b280d-d09e-41fe-d571-4866f7a96311"
      },
      "source": [
        "%%time\n",
        "padded_train_sequences = pad_sequences(train_sequences, maxlen=MAX_LENGTH)"
      ],
      "execution_count": 30,
      "outputs": [
        {
          "output_type": "stream",
          "name": "stdout",
          "text": [
            "CPU times: user 79.6 ms, sys: 2 ms, total: 81.6 ms\n",
            "Wall time: 94.3 ms\n"
          ]
        }
      ]
    },
    {
      "cell_type": "code",
      "metadata": {
        "colab": {
          "base_uri": "https://localhost:8080/"
        },
        "id": "WaDSp1ZE-Jpk",
        "outputId": "1520a9ca-3800-420a-bfa1-99a6201ae397"
      },
      "source": [
        "%%time\n",
        "padded_train_sequences"
      ],
      "execution_count": 31,
      "outputs": [
        {
          "output_type": "stream",
          "name": "stdout",
          "text": [
            "CPU times: user 3 µs, sys: 1 µs, total: 4 µs\n",
            "Wall time: 6.44 µs\n"
          ]
        },
        {
          "output_type": "execute_result",
          "data": {
            "text/plain": [
              "array([[   0,    0,    0, ...,   10,  130,   73],\n",
              "       [   0,    0,    0, ...,  114,   48,  127],\n",
              "       [   0,    0,    0, ...,  264,   15, 1426],\n",
              "       ...,\n",
              "       [   0,    0,    0, ...,   41,   85,   18],\n",
              "       [   0,    0,    0, ...,   13,    4,  600],\n",
              "       [   0,    0,    0, ...,  526,    1,   30]], dtype=int32)"
            ]
          },
          "metadata": {},
          "execution_count": 31
        }
      ]
    },
    {
      "cell_type": "code",
      "metadata": {
        "colab": {
          "base_uri": "https://localhost:8080/"
        },
        "id": "MR5FrUKX-R08",
        "outputId": "939c1363-5f4b-481e-8753-3089d726252a"
      },
      "source": [
        "%%time\n",
        "padded_train_sequences.shape"
      ],
      "execution_count": 32,
      "outputs": [
        {
          "output_type": "stream",
          "name": "stdout",
          "text": [
            "CPU times: user 5 µs, sys: 1 µs, total: 6 µs\n",
            "Wall time: 10.5 µs\n"
          ]
        },
        {
          "output_type": "execute_result",
          "data": {
            "text/plain": [
              "(15000, 28)"
            ]
          },
          "metadata": {},
          "execution_count": 32
        }
      ]
    },
    {
      "cell_type": "code",
      "metadata": {
        "id": "4OjGiot5UdGn"
      },
      "source": [
        "import pickle\n",
        " \n",
        "with open('token-28.pkl', 'wb') as handle:\n",
        "    pickle.dump(tokenizer, handle, protocol=pickle.HIGHEST_PROTOCOL)"
      ],
      "execution_count": 33,
      "outputs": []
    },
    {
      "cell_type": "markdown",
      "metadata": {
        "id": "EtZlVLSEsxRT"
      },
      "source": [
        "#### **Use Saved keras tokenizer**"
      ]
    },
    {
      "cell_type": "code",
      "metadata": {
        "id": "bXhRRXKd3o4z"
      },
      "source": [
        "import pickle\n",
        "cat_token = 'token-28.pkl'\n",
        "with open(cat_token, 'rb') as handle:\n",
        "    load_token = pickle.load(handle)"
      ],
      "execution_count": 34,
      "outputs": []
    },
    {
      "cell_type": "code",
      "metadata": {
        "colab": {
          "base_uri": "https://localhost:8080/",
          "height": 35
        },
        "id": "rDM3udJkW2hw",
        "outputId": "e7020f06-af43-46a0-a2fb-9d508da9a5aa"
      },
      "source": [
        "text[2]"
      ],
      "execution_count": 35,
      "outputs": [
        {
          "output_type": "execute_result",
          "data": {
            "application/vnd.google.colaboratory.intrinsic+json": {
              "type": "string"
            },
            "text/plain": [
              "\"what is the equivalent of, 'life is good' in french\""
            ]
          },
          "metadata": {},
          "execution_count": 35
        }
      ]
    },
    {
      "cell_type": "code",
      "metadata": {
        "id": "SD7R7zUW5Fsw"
      },
      "source": [
        "MAX_LENGTH = 28\n",
        "train_sequences = load_token.texts_to_sequences(text)\n",
        "padded_train_sequences = pad_sequences(train_sequences, maxlen=MAX_LENGTH)\n",
        "\n",
        "# padding val\n",
        "val_sequences = load_token.texts_to_sequences(val_text)\n",
        "padded_val_sequences = pad_sequences(val_sequences, maxlen=MAX_LENGTH)"
      ],
      "execution_count": 36,
      "outputs": []
    },
    {
      "cell_type": "code",
      "metadata": {
        "colab": {
          "base_uri": "https://localhost:8080/"
        },
        "id": "6sbk6cclMS7I",
        "outputId": "57af78d7-492e-46fa-e9c3-6338361e6d22"
      },
      "source": [
        "padded_train_sequences.shape"
      ],
      "execution_count": 37,
      "outputs": [
        {
          "output_type": "execute_result",
          "data": {
            "text/plain": [
              "(15000, 28)"
            ]
          },
          "metadata": {},
          "execution_count": 37
        }
      ]
    },
    {
      "cell_type": "code",
      "source": [
        "padded_val_sequences.shape"
      ],
      "metadata": {
        "id": "HITN1QTyzN7O",
        "colab": {
          "base_uri": "https://localhost:8080/"
        },
        "outputId": "49327b01-b35e-4a20-d27b-dd8efcdfefbd"
      },
      "execution_count": 38,
      "outputs": [
        {
          "output_type": "execute_result",
          "data": {
            "text/plain": [
              "(4500, 28)"
            ]
          },
          "metadata": {},
          "execution_count": 38
        }
      ]
    },
    {
      "cell_type": "markdown",
      "metadata": {
        "id": "utRC5pB8_AJw"
      },
      "source": [
        "### **Training Model using Glove Embedding while using RNN & CNN**"
      ]
    },
    {
      "cell_type": "code",
      "metadata": {
        "colab": {
          "base_uri": "https://localhost:8080/",
          "height": 101,
          "referenced_widgets": [
            "f82a0571984d4d49a968b27ff4fcb89e",
            "d02b699d41dc4d698b8f21713bcb95a7",
            "d4a1e0968c114c56a626365fd9396ac9",
            "53e8177b4b934f3f8b4afa5ef108f19d",
            "1789dcb9592046eca4268591715f80a5",
            "bb81cc59671342c18617a041e6d4374d",
            "cce8e4eb9cc142108a525dc9b64f80ec",
            "adf719e281cd4572a831766277de4309",
            "88a33118f9b44babbb0417976c7cdbc5",
            "1a3aedadec6d48e58628d986983feb60",
            "4b62405627e64978bb7237844405c7ff"
          ]
        },
        "id": "FkkFCyOX5klK",
        "outputId": "297a26cc-c585-4620-a3b0-35c8252f7666"
      },
      "source": [
        "%%time\n",
        "# MAX_NB_WORDS = 2600\n",
        "word_index = load_token.word_index\n",
        "nb_words = MAX_NB_WORDS\n",
        "embedding_matrix = np.random.normal(emb_mean, emb_std, (nb_words, embed_size))\n",
        " \n",
        "oov = 0\n",
        "for word, i in tqdm(word_index.items()):\n",
        "    if i >= MAX_NB_WORDS: continue\n",
        "    embedding_vector = embeddings_index.get(word)\n",
        "    if embedding_vector is not None:\n",
        "        embedding_matrix[i] = embedding_vector\n",
        "    else:\n",
        "        oov += 1\n",
        " \n",
        "print(oov)"
      ],
      "execution_count": 39,
      "outputs": [
        {
          "output_type": "display_data",
          "data": {
            "application/vnd.jupyter.widget-view+json": {
              "model_id": "f82a0571984d4d49a968b27ff4fcb89e",
              "version_minor": 0,
              "version_major": 2
            },
            "text/plain": [
              "  0%|          | 0/5229 [00:00<?, ?it/s]"
            ]
          },
          "metadata": {}
        },
        {
          "output_type": "stream",
          "name": "stdout",
          "text": [
            "332\n",
            "CPU times: user 193 ms, sys: 2.08 ms, total: 195 ms\n",
            "Wall time: 201 ms\n"
          ]
        }
      ]
    },
    {
      "cell_type": "markdown",
      "metadata": {
        "id": "iZVvISMGRefj"
      },
      "source": [
        "* Loading the Layers and Embedding"
      ]
    },
    {
      "cell_type": "code",
      "metadata": {
        "colab": {
          "base_uri": "https://localhost:8080/"
        },
        "id": "G5fFz2FfSKxV",
        "outputId": "4bc77dff-a38d-420d-91f0-a2a032893908"
      },
      "source": [
        "len(labels[0])"
      ],
      "execution_count": 40,
      "outputs": [
        {
          "output_type": "execute_result",
          "data": {
            "text/plain": [
              "150"
            ]
          },
          "metadata": {},
          "execution_count": 40
        }
      ]
    },
    {
      "cell_type": "code",
      "metadata": {
        "colab": {
          "base_uri": "https://localhost:8080/"
        },
        "id": "tMqOB8RSNAW2",
        "outputId": "2e0c5f62-08d9-4f74-c1fa-2c8827217e80"
      },
      "source": [
        "labels"
      ],
      "execution_count": 41,
      "outputs": [
        {
          "output_type": "execute_result",
          "data": {
            "text/plain": [
              "array([[0, 0, 0, ..., 0, 0, 0],\n",
              "       [0, 0, 0, ..., 0, 0, 0],\n",
              "       [0, 0, 0, ..., 0, 0, 0],\n",
              "       ...,\n",
              "       [0, 0, 0, ..., 0, 0, 0],\n",
              "       [0, 0, 0, ..., 0, 0, 0],\n",
              "       [0, 0, 0, ..., 0, 0, 0]])"
            ]
          },
          "metadata": {},
          "execution_count": 41
        }
      ]
    },
    {
      "cell_type": "code",
      "source": [
        "len(val_labels[0])"
      ],
      "metadata": {
        "colab": {
          "base_uri": "https://localhost:8080/"
        },
        "id": "gY0G0Np_VS-g",
        "outputId": "206a94ab-77e4-4ded-e4bb-8f8b5d3d2681"
      },
      "execution_count": 42,
      "outputs": [
        {
          "output_type": "execute_result",
          "data": {
            "text/plain": [
              "150"
            ]
          },
          "metadata": {},
          "execution_count": 42
        }
      ]
    },
    {
      "cell_type": "code",
      "metadata": {
        "id": "u8XYuXWtwHh0"
      },
      "source": [
        "LABEL_VALUES = labels\n",
        "LABEL_LEN = len(labels[0])\n",
        "# MAX_LENGTH = 1155\n",
        "# MAX_NB_WORDS = 1170"
      ],
      "execution_count": 43,
      "outputs": []
    },
    {
      "cell_type": "code",
      "metadata": {
        "colab": {
          "base_uri": "https://localhost:8080/"
        },
        "id": "2zDAcVPi_L-i",
        "outputId": "a941ded2-fff7-4451-e75d-39823d497347"
      },
      "source": [
        "%%time\n",
        "from tensorflow.keras.regularizers import l2\n",
        "\n",
        "def get_rnn_cnn_model():\n",
        "    embedding_dim = 300\n",
        "    inp = Input(shape=(MAX_LENGTH, ))\n",
        "    x = Embedding(MAX_NB_WORDS, embedding_dim, weights=[embedding_matrix], input_length=MAX_LENGTH, trainable=True)(inp)\n",
        "    x = SpatialDropout1D(0.3)(x)\n",
        "    x = Bidirectional(GRU(100, return_sequences=True))(x)\n",
        "    # x = Bidirectional(LSTM(100, return_sequences=True))(x)\n",
        "    # x = Conv1D(64, kernel_size = 2, padding = \"valid\", kernel_initializer = \"he_uniform\")(x)\n",
        "    x = Conv1D(64, kernel_size = 2, padding = \"valid\", kernel_regularizer=l2(0.0005))(x)\n",
        "    avg_pool = GlobalAveragePooling1D()(x)\n",
        "    max_pool = GlobalMaxPooling1D()(x)\n",
        "    conc = concatenate([avg_pool, max_pool])\n",
        "    outp = Dense(LABEL_LEN, activation=\"softmax\")(conc)\n",
        "    model = Model(inputs=inp, outputs=outp)\n",
        "    optimizer = tensorflow.keras.optimizers.Adam(learning_rate=0.001)\n",
        "    model.compile(loss='categorical_crossentropy',\n",
        "                  optimizer=optimizer,\n",
        "                  metrics=['accuracy'])\n",
        "    return model\n",
        "\n",
        "rnn_cnn_model = get_rnn_cnn_model()"
      ],
      "execution_count": 44,
      "outputs": [
        {
          "output_type": "stream",
          "name": "stdout",
          "text": [
            "CPU times: user 1.15 s, sys: 2.95 s, total: 4.1 s\n",
            "Wall time: 6.83 s\n"
          ]
        }
      ]
    },
    {
      "cell_type": "markdown",
      "metadata": {
        "id": "2xFD0l39RjPH"
      },
      "source": [
        "* **Training and Saving the Model**"
      ]
    },
    {
      "cell_type": "markdown",
      "metadata": {
        "id": "AsJBEk3_SYQs"
      },
      "source": [
        "* *change mode to min if we are going to monitor the loss*\n",
        "* *If we don't want to use validation data for whatever be the reason and implement check pointing, we have to change the ModelCheckpoint to work based on monitor='acc'*\n",
        "* We have to fit validation data like this validation_data=(X_valid, y_valid),"
      ]
    },
    {
      "cell_type": "code",
      "metadata": {
        "id": "2cAUshD_DvaW"
      },
      "source": [
        "filepath = 'model.h5'\n",
        "checkpoint = ModelCheckpoint(filepath,\n",
        "                             monitor='val_accuracy',\n",
        "                             verbose=1,\n",
        "                             save_best_only=True,\n",
        "                             mode='max')\n",
        " \n",
        "# batch size factor of 4,8,16,32\n",
        "BATCH_SIZE = 256\n",
        "epochs = 100"
      ],
      "execution_count": 45,
      "outputs": []
    },
    {
      "cell_type": "code",
      "metadata": {
        "colab": {
          "base_uri": "https://localhost:8080/"
        },
        "id": "GdWRHwNMQzv5",
        "outputId": "104f0e17-214a-4725-bf55-3ee6e752c3a3"
      },
      "source": [
        "history = rnn_cnn_model.fit(padded_train_sequences, \n",
        "                    LABEL_VALUES, \n",
        "                    # validation_split = 0.1, #0.1\n",
        "                    validation_data=(padded_val_sequences, val_labels), \n",
        "                    batch_size=BATCH_SIZE, \n",
        "                    callbacks=[checkpoint,\n",
        "                               tensorflow.keras.callbacks.EarlyStopping(\n",
        "                                   monitor='val_accuracy', patience=3)], \n",
        "                    epochs=epochs, \n",
        "                    verbose=1,\n",
        "                    shuffle=True)"
      ],
      "execution_count": 46,
      "outputs": [
        {
          "output_type": "stream",
          "name": "stdout",
          "text": [
            "Epoch 1/100\n",
            "59/59 [==============================] - ETA: 0s - loss: 4.7471 - accuracy: 0.0667\n",
            "Epoch 00001: val_accuracy improved from -inf to 0.23533, saving model to model.h5\n",
            "59/59 [==============================] - 21s 62ms/step - loss: 4.7471 - accuracy: 0.0667 - val_loss: 3.8590 - val_accuracy: 0.2353\n",
            "Epoch 2/100\n",
            "59/59 [==============================] - ETA: 0s - loss: 2.4793 - accuracy: 0.4903\n",
            "Epoch 00002: val_accuracy improved from 0.23533 to 0.67178, saving model to model.h5\n",
            "59/59 [==============================] - 2s 39ms/step - loss: 2.4793 - accuracy: 0.4903 - val_loss: 1.3878 - val_accuracy: 0.6718\n",
            "Epoch 3/100\n",
            "59/59 [==============================] - ETA: 0s - loss: 0.9041 - accuracy: 0.7974\n",
            "Epoch 00003: val_accuracy improved from 0.67178 to 0.81467, saving model to model.h5\n",
            "59/59 [==============================] - 2s 40ms/step - loss: 0.9041 - accuracy: 0.7974 - val_loss: 0.7722 - val_accuracy: 0.8147\n",
            "Epoch 4/100\n",
            "59/59 [==============================] - ETA: 0s - loss: 0.5008 - accuracy: 0.8952\n",
            "Epoch 00004: val_accuracy improved from 0.81467 to 0.86578, saving model to model.h5\n",
            "59/59 [==============================] - 2s 42ms/step - loss: 0.5008 - accuracy: 0.8952 - val_loss: 0.5898 - val_accuracy: 0.8658\n",
            "Epoch 5/100\n",
            "59/59 [==============================] - ETA: 0s - loss: 0.3475 - accuracy: 0.9363\n",
            "Epoch 00005: val_accuracy improved from 0.86578 to 0.88244, saving model to model.h5\n",
            "59/59 [==============================] - 2s 41ms/step - loss: 0.3475 - accuracy: 0.9363 - val_loss: 0.5256 - val_accuracy: 0.8824\n",
            "Epoch 6/100\n",
            "58/59 [============================>.] - ETA: 0s - loss: 0.2728 - accuracy: 0.9558\n",
            "Epoch 00006: val_accuracy improved from 0.88244 to 0.89000, saving model to model.h5\n",
            "59/59 [==============================] - 2s 41ms/step - loss: 0.2730 - accuracy: 0.9559 - val_loss: 0.4976 - val_accuracy: 0.8900\n",
            "Epoch 7/100\n",
            "59/59 [==============================] - ETA: 0s - loss: 0.2269 - accuracy: 0.9659\n",
            "Epoch 00007: val_accuracy improved from 0.89000 to 0.90022, saving model to model.h5\n",
            "59/59 [==============================] - 2s 39ms/step - loss: 0.2269 - accuracy: 0.9659 - val_loss: 0.4723 - val_accuracy: 0.9002\n",
            "Epoch 8/100\n",
            "59/59 [==============================] - ETA: 0s - loss: 0.1978 - accuracy: 0.9757\n",
            "Epoch 00008: val_accuracy improved from 0.90022 to 0.90200, saving model to model.h5\n",
            "59/59 [==============================] - 2s 41ms/step - loss: 0.1978 - accuracy: 0.9757 - val_loss: 0.4626 - val_accuracy: 0.9020\n",
            "Epoch 9/100\n",
            "59/59 [==============================] - ETA: 0s - loss: 0.1761 - accuracy: 0.9803\n",
            "Epoch 00009: val_accuracy improved from 0.90200 to 0.90311, saving model to model.h5\n",
            "59/59 [==============================] - 2s 41ms/step - loss: 0.1761 - accuracy: 0.9803 - val_loss: 0.4452 - val_accuracy: 0.9031\n",
            "Epoch 10/100\n",
            "58/59 [============================>.] - ETA: 0s - loss: 0.1547 - accuracy: 0.9852\n",
            "Epoch 00010: val_accuracy improved from 0.90311 to 0.90978, saving model to model.h5\n",
            "59/59 [==============================] - 2s 40ms/step - loss: 0.1544 - accuracy: 0.9853 - val_loss: 0.4356 - val_accuracy: 0.9098\n",
            "Epoch 11/100\n",
            "59/59 [==============================] - ETA: 0s - loss: 0.1404 - accuracy: 0.9890\n",
            "Epoch 00011: val_accuracy improved from 0.90978 to 0.91000, saving model to model.h5\n",
            "59/59 [==============================] - 2s 40ms/step - loss: 0.1404 - accuracy: 0.9890 - val_loss: 0.4334 - val_accuracy: 0.9100\n",
            "Epoch 12/100\n",
            "59/59 [==============================] - ETA: 0s - loss: 0.1287 - accuracy: 0.9911\n",
            "Epoch 00012: val_accuracy improved from 0.91000 to 0.91044, saving model to model.h5\n",
            "59/59 [==============================] - 2s 39ms/step - loss: 0.1287 - accuracy: 0.9911 - val_loss: 0.4277 - val_accuracy: 0.9104\n",
            "Epoch 13/100\n",
            "59/59 [==============================] - ETA: 0s - loss: 0.1185 - accuracy: 0.9928\n",
            "Epoch 00013: val_accuracy improved from 0.91044 to 0.91067, saving model to model.h5\n",
            "59/59 [==============================] - 2s 39ms/step - loss: 0.1185 - accuracy: 0.9928 - val_loss: 0.4236 - val_accuracy: 0.9107\n",
            "Epoch 14/100\n",
            "59/59 [==============================] - ETA: 0s - loss: 0.1111 - accuracy: 0.9946\n",
            "Epoch 00014: val_accuracy improved from 0.91067 to 0.91089, saving model to model.h5\n",
            "59/59 [==============================] - 2s 39ms/step - loss: 0.1111 - accuracy: 0.9946 - val_loss: 0.4264 - val_accuracy: 0.9109\n",
            "Epoch 15/100\n",
            "59/59 [==============================] - ETA: 0s - loss: 0.1054 - accuracy: 0.9949\n",
            "Epoch 00015: val_accuracy did not improve from 0.91089\n",
            "59/59 [==============================] - 2s 35ms/step - loss: 0.1054 - accuracy: 0.9949 - val_loss: 0.4232 - val_accuracy: 0.9104\n",
            "Epoch 16/100\n",
            "59/59 [==============================] - ETA: 0s - loss: 0.0985 - accuracy: 0.9957\n",
            "Epoch 00016: val_accuracy improved from 0.91089 to 0.91467, saving model to model.h5\n",
            "59/59 [==============================] - 2s 41ms/step - loss: 0.0985 - accuracy: 0.9957 - val_loss: 0.4100 - val_accuracy: 0.9147\n",
            "Epoch 17/100\n",
            "59/59 [==============================] - ETA: 0s - loss: 0.0924 - accuracy: 0.9961\n",
            "Epoch 00017: val_accuracy did not improve from 0.91467\n",
            "59/59 [==============================] - 2s 36ms/step - loss: 0.0924 - accuracy: 0.9961 - val_loss: 0.4164 - val_accuracy: 0.9111\n",
            "Epoch 18/100\n",
            "59/59 [==============================] - ETA: 0s - loss: 0.0872 - accuracy: 0.9968\n",
            "Epoch 00018: val_accuracy did not improve from 0.91467\n",
            "59/59 [==============================] - 2s 35ms/step - loss: 0.0872 - accuracy: 0.9968 - val_loss: 0.4126 - val_accuracy: 0.9140\n",
            "Epoch 19/100\n",
            "59/59 [==============================] - ETA: 0s - loss: 0.0830 - accuracy: 0.9972\n",
            "Epoch 00019: val_accuracy did not improve from 0.91467\n",
            "59/59 [==============================] - 2s 36ms/step - loss: 0.0830 - accuracy: 0.9972 - val_loss: 0.4072 - val_accuracy: 0.9136\n"
          ]
        }
      ]
    },
    {
      "cell_type": "markdown",
      "metadata": {
        "id": "YtMmy8Ypqn3V"
      },
      "source": [
        "### **Loading the Tokenizer and Model**"
      ]
    },
    {
      "cell_type": "code",
      "metadata": {
        "id": "3Qa5hvjvL35E"
      },
      "source": [
        "from keras.models import load_model\n",
        "from keras.preprocessing.text import text_to_word_sequence\n",
        "from keras.preprocessing.sequence import pad_sequences\n",
        "import pandas as pd\n",
        "import numpy as np\n",
        "import pickle"
      ],
      "execution_count": 47,
      "outputs": []
    },
    {
      "cell_type": "code",
      "metadata": {
        "id": "3VsvdHAzWban"
      },
      "source": [
        "modelPath = 'model.h5'\n",
        "tokenPath = 'token-28.pkl'\n",
        "labelPath = 'label.pkl'"
      ],
      "execution_count": 48,
      "outputs": []
    },
    {
      "cell_type": "code",
      "metadata": {
        "id": "4N0-J0WUWRKY"
      },
      "source": [
        "loadModel= load_model(modelPath)\n",
        "\n",
        "with open(tokenPath, 'rb') as handle:\n",
        "    loadToken = pickle.load(handle)\n",
        "\n",
        "with open(labelPath, 'rb') as handle:\n",
        "    loadLabel = pickle.load(handle)\n"
      ],
      "execution_count": 49,
      "outputs": []
    },
    {
      "cell_type": "code",
      "metadata": {
        "id": "vxapQRJ1cid_"
      },
      "source": [
        "LABEL = loadLabel.classes_"
      ],
      "execution_count": 50,
      "outputs": []
    },
    {
      "cell_type": "code",
      "metadata": {
        "colab": {
          "base_uri": "https://localhost:8080/"
        },
        "id": "zp4s9zsXziaD",
        "outputId": "32ef4ce3-d439-4faf-b7f3-dd3b88b9fc75"
      },
      "source": [
        "LABEL"
      ],
      "execution_count": 51,
      "outputs": [
        {
          "output_type": "execute_result",
          "data": {
            "text/plain": [
              "array(['accept_reservations', 'account_blocked', 'alarm',\n",
              "       'application_status', 'apr', 'are_you_a_bot', 'balance',\n",
              "       'bill_balance', 'bill_due', 'book_flight', 'book_hotel',\n",
              "       'calculator', 'calendar', 'calendar_update', 'calories', 'cancel',\n",
              "       'cancel_reservation', 'car_rental', 'card_declined', 'carry_on',\n",
              "       'change_accent', 'change_ai_name', 'change_language',\n",
              "       'change_speed', 'change_user_name', 'change_volume',\n",
              "       'confirm_reservation', 'cook_time', 'credit_limit',\n",
              "       'credit_limit_change', 'credit_score', 'current_location',\n",
              "       'damaged_card', 'date', 'definition', 'direct_deposit',\n",
              "       'directions', 'distance', 'do_you_have_pets', 'exchange_rate',\n",
              "       'expiration_date', 'find_phone', 'flight_status', 'flip_coin',\n",
              "       'food_last', 'freeze_account', 'fun_fact', 'gas', 'gas_type',\n",
              "       'goodbye', 'greeting', 'how_busy', 'how_old_are_you',\n",
              "       'improve_credit_score', 'income', 'ingredient_substitution',\n",
              "       'ingredients_list', 'insurance', 'insurance_change',\n",
              "       'interest_rate', 'international_fees', 'international_visa',\n",
              "       'jump_start', 'last_maintenance', 'lost_luggage', 'make_call',\n",
              "       'maybe', 'meal_suggestion', 'meaning_of_life',\n",
              "       'measurement_conversion', 'meeting_schedule', 'min_payment', 'mpg',\n",
              "       'new_card', 'next_holiday', 'next_song', 'no', 'nutrition_info',\n",
              "       'oil_change_how', 'oil_change_when', 'order', 'order_checks',\n",
              "       'order_status', 'pay_bill', 'payday', 'pin_change', 'play_music',\n",
              "       'plug_type', 'pto_balance', 'pto_request', 'pto_request_status',\n",
              "       'pto_used', 'recipe', 'redeem_rewards', 'reminder',\n",
              "       'reminder_update', 'repeat', 'replacement_card_duration',\n",
              "       'report_fraud', 'report_lost_card', 'reset_settings',\n",
              "       'restaurant_reservation', 'restaurant_reviews',\n",
              "       'restaurant_suggestion', 'rewards_balance', 'roll_dice',\n",
              "       'rollover_401k', 'routing', 'schedule_maintenance',\n",
              "       'schedule_meeting', 'share_location', 'shopping_list',\n",
              "       'shopping_list_update', 'smart_home', 'spelling',\n",
              "       'spending_history', 'sync_device', 'taxes', 'tell_joke', 'text',\n",
              "       'thank_you', 'time', 'timer', 'timezone', 'tire_change',\n",
              "       'tire_pressure', 'todo_list', 'todo_list_update', 'traffic',\n",
              "       'transactions', 'transfer', 'translate', 'travel_alert',\n",
              "       'travel_notification', 'travel_suggestion', 'uber',\n",
              "       'update_playlist', 'user_name', 'vaccines', 'w2', 'weather',\n",
              "       'what_are_your_hobbies', 'what_can_i_ask_you', 'what_is_your_name',\n",
              "       'what_song', 'where_are_you_from', 'whisper_mode',\n",
              "       'who_do_you_work_for', 'who_made_you', 'yes'], dtype='<U25')"
            ]
          },
          "metadata": {},
          "execution_count": 51
        }
      ]
    },
    {
      "cell_type": "markdown",
      "metadata": {
        "id": "YOYMOFbe2qwJ"
      },
      "source": [
        "### **Testing**"
      ]
    },
    {
      "cell_type": "code",
      "metadata": {
        "id": "QOBn3p282piR"
      },
      "source": [
        "# oss_plus_val.head()"
      ],
      "execution_count": null,
      "outputs": []
    },
    {
      "cell_type": "code",
      "metadata": {
        "colab": {
          "base_uri": "https://localhost:8080/",
          "height": 206
        },
        "id": "1Kc9IxJFKL7S",
        "outputId": "e2c69d54-482f-4daf-8270-99636e07be8c"
      },
      "source": [
        "val.head()"
      ],
      "execution_count": 52,
      "outputs": [
        {
          "output_type": "execute_result",
          "data": {
            "text/html": [
              "\n",
              "  <div id=\"df-91d77449-46e9-4315-bedf-25c227d7388f\">\n",
              "    <div class=\"colab-df-container\">\n",
              "      <div>\n",
              "<style scoped>\n",
              "    .dataframe tbody tr th:only-of-type {\n",
              "        vertical-align: middle;\n",
              "    }\n",
              "\n",
              "    .dataframe tbody tr th {\n",
              "        vertical-align: top;\n",
              "    }\n",
              "\n",
              "    .dataframe thead th {\n",
              "        text-align: right;\n",
              "    }\n",
              "</style>\n",
              "<table border=\"1\" class=\"dataframe\">\n",
              "  <thead>\n",
              "    <tr style=\"text-align: right;\">\n",
              "      <th></th>\n",
              "      <th>text</th>\n",
              "      <th>intent</th>\n",
              "    </tr>\n",
              "  </thead>\n",
              "  <tbody>\n",
              "    <tr>\n",
              "      <th>311</th>\n",
              "      <td>can you check on the status of my credit card ...</td>\n",
              "      <td>application_status</td>\n",
              "    </tr>\n",
              "    <tr>\n",
              "      <th>1025</th>\n",
              "      <td>can you slow down the rate at which you talk</td>\n",
              "      <td>change_speed</td>\n",
              "    </tr>\n",
              "    <tr>\n",
              "      <th>1587</th>\n",
              "      <td>my card is impaired and i can't use it</td>\n",
              "      <td>damaged_card</td>\n",
              "    </tr>\n",
              "    <tr>\n",
              "      <th>2941</th>\n",
              "      <td>what's the traffic like right now for my route...</td>\n",
              "      <td>traffic</td>\n",
              "    </tr>\n",
              "    <tr>\n",
              "      <th>2980</th>\n",
              "      <td>is there a reason my card was declined</td>\n",
              "      <td>card_declined</td>\n",
              "    </tr>\n",
              "  </tbody>\n",
              "</table>\n",
              "</div>\n",
              "      <button class=\"colab-df-convert\" onclick=\"convertToInteractive('df-91d77449-46e9-4315-bedf-25c227d7388f')\"\n",
              "              title=\"Convert this dataframe to an interactive table.\"\n",
              "              style=\"display:none;\">\n",
              "        \n",
              "  <svg xmlns=\"http://www.w3.org/2000/svg\" height=\"24px\"viewBox=\"0 0 24 24\"\n",
              "       width=\"24px\">\n",
              "    <path d=\"M0 0h24v24H0V0z\" fill=\"none\"/>\n",
              "    <path d=\"M18.56 5.44l.94 2.06.94-2.06 2.06-.94-2.06-.94-.94-2.06-.94 2.06-2.06.94zm-11 1L8.5 8.5l.94-2.06 2.06-.94-2.06-.94L8.5 2.5l-.94 2.06-2.06.94zm10 10l.94 2.06.94-2.06 2.06-.94-2.06-.94-.94-2.06-.94 2.06-2.06.94z\"/><path d=\"M17.41 7.96l-1.37-1.37c-.4-.4-.92-.59-1.43-.59-.52 0-1.04.2-1.43.59L10.3 9.45l-7.72 7.72c-.78.78-.78 2.05 0 2.83L4 21.41c.39.39.9.59 1.41.59.51 0 1.02-.2 1.41-.59l7.78-7.78 2.81-2.81c.8-.78.8-2.07 0-2.86zM5.41 20L4 18.59l7.72-7.72 1.47 1.35L5.41 20z\"/>\n",
              "  </svg>\n",
              "      </button>\n",
              "      \n",
              "  <style>\n",
              "    .colab-df-container {\n",
              "      display:flex;\n",
              "      flex-wrap:wrap;\n",
              "      gap: 12px;\n",
              "    }\n",
              "\n",
              "    .colab-df-convert {\n",
              "      background-color: #E8F0FE;\n",
              "      border: none;\n",
              "      border-radius: 50%;\n",
              "      cursor: pointer;\n",
              "      display: none;\n",
              "      fill: #1967D2;\n",
              "      height: 32px;\n",
              "      padding: 0 0 0 0;\n",
              "      width: 32px;\n",
              "    }\n",
              "\n",
              "    .colab-df-convert:hover {\n",
              "      background-color: #E2EBFA;\n",
              "      box-shadow: 0px 1px 2px rgba(60, 64, 67, 0.3), 0px 1px 3px 1px rgba(60, 64, 67, 0.15);\n",
              "      fill: #174EA6;\n",
              "    }\n",
              "\n",
              "    [theme=dark] .colab-df-convert {\n",
              "      background-color: #3B4455;\n",
              "      fill: #D2E3FC;\n",
              "    }\n",
              "\n",
              "    [theme=dark] .colab-df-convert:hover {\n",
              "      background-color: #434B5C;\n",
              "      box-shadow: 0px 1px 3px 1px rgba(0, 0, 0, 0.15);\n",
              "      filter: drop-shadow(0px 1px 2px rgba(0, 0, 0, 0.3));\n",
              "      fill: #FFFFFF;\n",
              "    }\n",
              "  </style>\n",
              "\n",
              "      <script>\n",
              "        const buttonEl =\n",
              "          document.querySelector('#df-91d77449-46e9-4315-bedf-25c227d7388f button.colab-df-convert');\n",
              "        buttonEl.style.display =\n",
              "          google.colab.kernel.accessAllowed ? 'block' : 'none';\n",
              "\n",
              "        async function convertToInteractive(key) {\n",
              "          const element = document.querySelector('#df-91d77449-46e9-4315-bedf-25c227d7388f');\n",
              "          const dataTable =\n",
              "            await google.colab.kernel.invokeFunction('convertToInteractive',\n",
              "                                                     [key], {});\n",
              "          if (!dataTable) return;\n",
              "\n",
              "          const docLinkHtml = 'Like what you see? Visit the ' +\n",
              "            '<a target=\"_blank\" href=https://colab.research.google.com/notebooks/data_table.ipynb>data table notebook</a>'\n",
              "            + ' to learn more about interactive tables.';\n",
              "          element.innerHTML = '';\n",
              "          dataTable['output_type'] = 'display_data';\n",
              "          await google.colab.output.renderOutput(dataTable, element);\n",
              "          const docLink = document.createElement('div');\n",
              "          docLink.innerHTML = docLinkHtml;\n",
              "          element.appendChild(docLink);\n",
              "        }\n",
              "      </script>\n",
              "    </div>\n",
              "  </div>\n",
              "  "
            ],
            "text/plain": [
              "                                                   text              intent\n",
              "311   can you check on the status of my credit card ...  application_status\n",
              "1025       can you slow down the rate at which you talk        change_speed\n",
              "1587             my card is impaired and i can't use it        damaged_card\n",
              "2941  what's the traffic like right now for my route...             traffic\n",
              "2980             is there a reason my card was declined       card_declined"
            ]
          },
          "metadata": {},
          "execution_count": 52
        }
      ]
    },
    {
      "cell_type": "code",
      "source": [
        "val.shape"
      ],
      "metadata": {
        "colab": {
          "base_uri": "https://localhost:8080/"
        },
        "id": "eYeYg3s64Uct",
        "outputId": "0cae9241-54da-4285-bc50-0e9e44f13fcc"
      },
      "execution_count": 53,
      "outputs": [
        {
          "output_type": "execute_result",
          "data": {
            "text/plain": [
              "(3000, 2)"
            ]
          },
          "metadata": {},
          "execution_count": 53
        }
      ]
    },
    {
      "cell_type": "code",
      "metadata": {
        "id": "Dx7WbumV6812"
      },
      "source": [
        "test_label = val['intent'].values\n",
        "sentence = val['text'].values"
      ],
      "execution_count": 54,
      "outputs": []
    },
    {
      "cell_type": "code",
      "metadata": {
        "id": "HM0gwV_W2zyx"
      },
      "source": [
        "# tokenization\n",
        "maxLength = 28\n",
        "test_sequences = loadToken.texts_to_sequences(sentence)\n",
        "padded_test_sequences = pad_sequences(test_sequences, maxlen=maxLength)"
      ],
      "execution_count": 55,
      "outputs": []
    },
    {
      "cell_type": "code",
      "metadata": {
        "id": "wG3qll0935gw"
      },
      "source": [
        "# predection\n",
        "pred_ls = loadModel.predict(padded_test_sequences)\n",
        "# print(type(pred_ls))\n",
        "category = loadLabel.inverse_transform(pred_ls)\n",
        "# score = ('{:.2f}'.format(round(np.max(pred_ls), 2)*100))"
      ],
      "execution_count": 56,
      "outputs": []
    },
    {
      "cell_type": "code",
      "source": [
        "category"
      ],
      "metadata": {
        "colab": {
          "base_uri": "https://localhost:8080/"
        },
        "id": "BOjmo3oA9OzC",
        "outputId": "2c52f05b-50b3-49e7-beb4-60cfa8ac5b1e"
      },
      "execution_count": 57,
      "outputs": [
        {
          "output_type": "execute_result",
          "data": {
            "text/plain": [
              "array(['application_status', 'change_speed', 'damaged_card', ...,\n",
              "       'do_you_have_pets', 'redeem_rewards', 'update_playlist'],\n",
              "      dtype='<U25')"
            ]
          },
          "metadata": {},
          "execution_count": 57
        }
      ]
    },
    {
      "cell_type": "code",
      "source": [
        "from sklearn.metrics import accuracy_score\n",
        "from sklearn.metrics.cluster import adjusted_rand_score, normalized_mutual_info_score\n",
        "\n",
        "# DeepAlingned : NMI: 93.86, ARI: 79.75, ACC: 86.49 \n",
        "print('ACC : ', round(accuracy_score(test_label, category)*100, 2))\n",
        "print('ARI : ', round(adjusted_rand_score(test_label, category)*100, 2))\n",
        "print('NMI : ', round(normalized_mutual_info_score(test_label, category)*100, 2))"
      ],
      "metadata": {
        "colab": {
          "base_uri": "https://localhost:8080/"
        },
        "id": "rluOxJ-h9L0B",
        "outputId": "2bd1fd87-f910-4e03-edef-70e0690e0ea5"
      },
      "execution_count": 58,
      "outputs": [
        {
          "output_type": "stream",
          "name": "stdout",
          "text": [
            "ACC :  91.53\n",
            "ARI :  83.58\n",
            "NMI :  93.85\n"
          ]
        }
      ]
    },
    {
      "cell_type": "code",
      "metadata": {
        "id": "Y5YQZ8Ty3_h-"
      },
      "source": [
        "# result = []\n",
        "# for i in pred_ls:\n",
        "#     if i > 0.5:\n",
        "#         result.append(1)\n",
        "#     else:\n",
        "#         result.append(0)"
      ],
      "execution_count": null,
      "outputs": []
    },
    {
      "cell_type": "markdown",
      "metadata": {
        "id": "xqnOjfZgRUr9"
      },
      "source": [
        "### **Accuracy, ROC AUC, Confusion Matrix and Classification Report**"
      ]
    },
    {
      "cell_type": "code",
      "metadata": {
        "id": "Oikq3UBWRUsI"
      },
      "source": [
        "from sklearn.metrics import confusion_matrix\n",
        "from sklearn.metrics import classification_report\n",
        "from sklearn.metrics import accuracy_score, roc_auc_score\n",
        "from sklearn.metrics import matthews_corrcoef\n",
        "import seaborn as sns\n",
        "from matplotlib import pyplot as plt\n",
        "%matplotlib inline\n",
        "sns.set(rc={'figure.facecolor':'white'})\n",
        "\n",
        "# input values\n",
        "TEST_LABEL = test_label\n",
        "PREDICTED_LABEL = category\n",
        "labels = LABEL\n",
        "\n",
        "# accuracy = accuracy_score(TEST_LABEL, PREDICTED_LABEL)\n",
        "# conf_mat = confusion_matrix(TEST_LABEL, PREDICTED_LABEL)\n",
        "# fig, ax = plt.subplots(figsize=(30,27))\n",
        "# sns.heatmap(conf_mat, annot=True, fmt='d',\n",
        "#             xticklabels=labels, yticklabels=labels)\n",
        "# plt.ylabel('Actual Label')\n",
        "# # plt.xlabel('Predicted Label\\n\\nAccuracy={:0.4f}; ROC AUC={:0.4f}'.format(accuracy, roc_score))\n",
        "# plt.xlabel('Predicted Label\\n\\nAccuracy={:0.4f}'.format(accuracy))\n",
        "# # plt.savefig('/content/drive/My Drive/Lafarge/Model/Hardware/HardwareModel-Confusion-v1.5.jpg')\n",
        "# # plt.savefig('HardwareModel-Confusion-v1.5.jpg')\n",
        "# plt.xticks(rotation=90)\n",
        "# plt.show()"
      ],
      "execution_count": 59,
      "outputs": []
    },
    {
      "cell_type": "code",
      "metadata": {
        "id": "SRubAp91VeAE",
        "colab": {
          "base_uri": "https://localhost:8080/"
        },
        "outputId": "e310d3e3-76b5-441b-8a3c-7934c8dc4435"
      },
      "source": [
        "print(classification_report(test_label, category, target_names=LABEL))"
      ],
      "execution_count": 60,
      "outputs": [
        {
          "output_type": "stream",
          "name": "stdout",
          "text": [
            "                           precision    recall  f1-score   support\n",
            "\n",
            "      accept_reservations       1.00      0.75      0.86        20\n",
            "          account_blocked       0.89      0.80      0.84        20\n",
            "                    alarm       0.91      1.00      0.95        20\n",
            "       application_status       0.95      0.90      0.92        20\n",
            "                      apr       1.00      1.00      1.00        20\n",
            "            are_you_a_bot       0.95      0.95      0.95        20\n",
            "                  balance       0.89      0.80      0.84        20\n",
            "             bill_balance       0.88      0.75      0.81        20\n",
            "                 bill_due       0.86      0.95      0.90        20\n",
            "              book_flight       1.00      1.00      1.00        20\n",
            "               book_hotel       1.00      0.90      0.95        20\n",
            "               calculator       0.87      1.00      0.93        20\n",
            "                 calendar       0.86      0.90      0.88        20\n",
            "          calendar_update       1.00      0.90      0.95        20\n",
            "                 calories       1.00      1.00      1.00        20\n",
            "                   cancel       0.94      0.85      0.89        20\n",
            "       cancel_reservation       0.73      0.80      0.76        20\n",
            "               car_rental       0.95      1.00      0.98        20\n",
            "            card_declined       0.83      1.00      0.91        20\n",
            "                 carry_on       1.00      1.00      1.00        20\n",
            "            change_accent       1.00      0.80      0.89        20\n",
            "           change_ai_name       0.94      0.85      0.89        20\n",
            "          change_language       1.00      0.95      0.97        20\n",
            "             change_speed       1.00      0.95      0.97        20\n",
            "         change_user_name       0.84      0.80      0.82        20\n",
            "            change_volume       0.95      1.00      0.98        20\n",
            "      confirm_reservation       0.76      0.95      0.84        20\n",
            "                cook_time       0.95      0.95      0.95        20\n",
            "             credit_limit       0.91      1.00      0.95        20\n",
            "      credit_limit_change       1.00      0.90      0.95        20\n",
            "             credit_score       0.90      0.95      0.93        20\n",
            "         current_location       0.78      0.90      0.84        20\n",
            "             damaged_card       0.83      0.95      0.88        20\n",
            "                     date       0.80      1.00      0.89        20\n",
            "               definition       0.95      0.90      0.92        20\n",
            "           direct_deposit       0.91      1.00      0.95        20\n",
            "               directions       1.00      0.90      0.95        20\n",
            "                 distance       0.85      0.85      0.85        20\n",
            "         do_you_have_pets       1.00      0.90      0.95        20\n",
            "            exchange_rate       1.00      0.95      0.97        20\n",
            "          expiration_date       0.94      0.80      0.86        20\n",
            "               find_phone       0.95      0.90      0.92        20\n",
            "            flight_status       1.00      1.00      1.00        20\n",
            "                flip_coin       0.91      1.00      0.95        20\n",
            "                food_last       0.95      1.00      0.98        20\n",
            "           freeze_account       0.87      1.00      0.93        20\n",
            "                 fun_fact       0.95      0.90      0.92        20\n",
            "                      gas       0.90      0.90      0.90        20\n",
            "                 gas_type       1.00      1.00      1.00        20\n",
            "                  goodbye       0.86      0.95      0.90        20\n",
            "                 greeting       0.84      0.80      0.82        20\n",
            "                 how_busy       0.95      1.00      0.98        20\n",
            "          how_old_are_you       0.90      0.95      0.93        20\n",
            "     improve_credit_score       1.00      0.85      0.92        20\n",
            "                   income       0.83      0.95      0.88        20\n",
            "  ingredient_substitution       0.91      1.00      0.95        20\n",
            "         ingredients_list       0.83      1.00      0.91        20\n",
            "                insurance       0.95      1.00      0.98        20\n",
            "         insurance_change       0.95      1.00      0.98        20\n",
            "            interest_rate       1.00      1.00      1.00        20\n",
            "       international_fees       1.00      0.85      0.92        20\n",
            "       international_visa       0.80      1.00      0.89        20\n",
            "               jump_start       1.00      0.95      0.97        20\n",
            "         last_maintenance       0.95      0.90      0.92        20\n",
            "             lost_luggage       1.00      1.00      1.00        20\n",
            "                make_call       0.86      0.95      0.90        20\n",
            "                    maybe       0.83      0.75      0.79        20\n",
            "          meal_suggestion       1.00      1.00      1.00        20\n",
            "          meaning_of_life       0.95      0.95      0.95        20\n",
            "   measurement_conversion       0.95      1.00      0.98        20\n",
            "         meeting_schedule       1.00      1.00      1.00        20\n",
            "              min_payment       0.95      0.95      0.95        20\n",
            "                      mpg       1.00      1.00      1.00        20\n",
            "                 new_card       0.90      0.90      0.90        20\n",
            "             next_holiday       0.91      1.00      0.95        20\n",
            "                next_song       0.90      0.95      0.93        20\n",
            "                       no       0.94      0.85      0.89        20\n",
            "           nutrition_info       1.00      0.55      0.71        20\n",
            "           oil_change_how       1.00      0.95      0.97        20\n",
            "          oil_change_when       0.91      1.00      0.95        20\n",
            "                    order       0.88      0.75      0.81        20\n",
            "             order_checks       1.00      0.90      0.95        20\n",
            "             order_status       0.94      0.80      0.86        20\n",
            "                 pay_bill       0.95      1.00      0.98        20\n",
            "                   payday       1.00      0.65      0.79        20\n",
            "               pin_change       1.00      1.00      1.00        20\n",
            "               play_music       0.88      0.75      0.81        20\n",
            "                plug_type       1.00      0.80      0.89        20\n",
            "              pto_balance       0.87      1.00      0.93        20\n",
            "              pto_request       0.90      0.95      0.93        20\n",
            "       pto_request_status       0.94      0.80      0.86        20\n",
            "                 pto_used       0.95      0.90      0.92        20\n",
            "                   recipe       0.84      0.80      0.82        20\n",
            "           redeem_rewards       0.89      0.85      0.87        20\n",
            "                 reminder       1.00      0.65      0.79        20\n",
            "          reminder_update       0.95      0.90      0.92        20\n",
            "                   repeat       0.86      0.95      0.90        20\n",
            "replacement_card_duration       0.83      0.75      0.79        20\n",
            "             report_fraud       1.00      0.85      0.92        20\n",
            "         report_lost_card       0.82      0.90      0.86        20\n",
            "           reset_settings       1.00      1.00      1.00        20\n",
            "   restaurant_reservation       0.72      0.65      0.68        20\n",
            "       restaurant_reviews       0.89      0.85      0.87        20\n",
            "    restaurant_suggestion       0.85      0.85      0.85        20\n",
            "          rewards_balance       0.80      1.00      0.89        20\n",
            "                roll_dice       0.95      1.00      0.98        20\n",
            "            rollover_401k       1.00      1.00      1.00        20\n",
            "                  routing       1.00      1.00      1.00        20\n",
            "     schedule_maintenance       0.90      0.95      0.93        20\n",
            "         schedule_meeting       1.00      1.00      1.00        20\n",
            "           share_location       0.94      0.85      0.89        20\n",
            "            shopping_list       0.87      1.00      0.93        20\n",
            "     shopping_list_update       1.00      0.80      0.89        20\n",
            "               smart_home       0.91      1.00      0.95        20\n",
            "                 spelling       1.00      1.00      1.00        20\n",
            "         spending_history       0.91      1.00      0.95        20\n",
            "              sync_device       1.00      1.00      1.00        20\n",
            "                    taxes       0.87      1.00      0.93        20\n",
            "                tell_joke       1.00      1.00      1.00        20\n",
            "                     text       0.94      0.85      0.89        20\n",
            "                thank_you       1.00      0.90      0.95        20\n",
            "                     time       0.91      1.00      0.95        20\n",
            "                    timer       1.00      1.00      1.00        20\n",
            "                 timezone       1.00      0.90      0.95        20\n",
            "              tire_change       0.95      1.00      0.98        20\n",
            "            tire_pressure       1.00      0.95      0.97        20\n",
            "                todo_list       0.72      0.90      0.80        20\n",
            "         todo_list_update       0.90      0.95      0.93        20\n",
            "                  traffic       1.00      0.95      0.97        20\n",
            "             transactions       0.95      0.90      0.92        20\n",
            "                 transfer       0.95      0.95      0.95        20\n",
            "                translate       1.00      0.95      0.97        20\n",
            "             travel_alert       0.90      0.90      0.90        20\n",
            "      travel_notification       1.00      0.95      0.97        20\n",
            "        travel_suggestion       0.78      0.70      0.74        20\n",
            "                     uber       0.95      0.95      0.95        20\n",
            "          update_playlist       1.00      0.80      0.89        20\n",
            "                user_name       0.75      0.90      0.82        20\n",
            "                 vaccines       0.94      0.80      0.86        20\n",
            "                       w2       1.00      0.95      0.97        20\n",
            "                  weather       0.95      0.90      0.92        20\n",
            "    what_are_your_hobbies       0.95      0.90      0.92        20\n",
            "       what_can_i_ask_you       0.61      1.00      0.75        20\n",
            "        what_is_your_name       0.81      0.85      0.83        20\n",
            "                what_song       0.91      1.00      0.95        20\n",
            "       where_are_you_from       0.84      0.80      0.82        20\n",
            "             whisper_mode       1.00      1.00      1.00        20\n",
            "      who_do_you_work_for       0.94      0.85      0.89        20\n",
            "             who_made_you       0.78      0.90      0.84        20\n",
            "                      yes       0.55      0.85      0.67        20\n",
            "\n",
            "                 accuracy                           0.92      3000\n",
            "                macro avg       0.92      0.92      0.92      3000\n",
            "             weighted avg       0.92      0.92      0.92      3000\n",
            "\n"
          ]
        }
      ]
    },
    {
      "cell_type": "code",
      "source": [
        ""
      ],
      "metadata": {
        "id": "TSdFg0MIEJ7I"
      },
      "execution_count": null,
      "outputs": []
    }
  ]
}