{
  "nbformat": 4,
  "nbformat_minor": 0,
  "metadata": {
    "colab": {
      "name": "clinc_oos_RNN_CNN_Glove.ipynb",
      "provenance": []
    },
    "kernelspec": {
      "name": "python3",
      "display_name": "Python 3"
    },
    "language_info": {
      "name": "python"
    },
    "accelerator": "GPU",
    "widgets": {
      "application/vnd.jupyter.widget-state+json": {
        "0f584dc46c19442bbe501c1c4f6848f5": {
          "model_module": "@jupyter-widgets/controls",
          "model_name": "HBoxModel",
          "model_module_version": "1.5.0",
          "state": {
            "_view_name": "HBoxView",
            "_dom_classes": [],
            "_model_name": "HBoxModel",
            "_view_module": "@jupyter-widgets/controls",
            "_model_module_version": "1.5.0",
            "_view_count": null,
            "_view_module_version": "1.5.0",
            "box_style": "",
            "layout": "IPY_MODEL_f3bc1aebd4144063aecb635c4c2a1786",
            "_model_module": "@jupyter-widgets/controls",
            "children": [
              "IPY_MODEL_a670a28fab6e4588a76014a02b20daac",
              "IPY_MODEL_f4459b6ec4ff490e987aa8ea65361534",
              "IPY_MODEL_50c260a645784b34ae78d6a20de22cc1"
            ]
          }
        },
        "f3bc1aebd4144063aecb635c4c2a1786": {
          "model_module": "@jupyter-widgets/base",
          "model_name": "LayoutModel",
          "model_module_version": "1.2.0",
          "state": {
            "_view_name": "LayoutView",
            "grid_template_rows": null,
            "right": null,
            "justify_content": null,
            "_view_module": "@jupyter-widgets/base",
            "overflow": null,
            "_model_module_version": "1.2.0",
            "_view_count": null,
            "flex_flow": null,
            "width": null,
            "min_width": null,
            "border": null,
            "align_items": null,
            "bottom": null,
            "_model_module": "@jupyter-widgets/base",
            "top": null,
            "grid_column": null,
            "overflow_y": null,
            "overflow_x": null,
            "grid_auto_flow": null,
            "grid_area": null,
            "grid_template_columns": null,
            "flex": null,
            "_model_name": "LayoutModel",
            "justify_items": null,
            "grid_row": null,
            "max_height": null,
            "align_content": null,
            "visibility": null,
            "align_self": null,
            "height": null,
            "min_height": null,
            "padding": null,
            "grid_auto_rows": null,
            "grid_gap": null,
            "max_width": null,
            "order": null,
            "_view_module_version": "1.2.0",
            "grid_template_areas": null,
            "object_position": null,
            "object_fit": null,
            "grid_auto_columns": null,
            "margin": null,
            "display": null,
            "left": null
          }
        },
        "a670a28fab6e4588a76014a02b20daac": {
          "model_module": "@jupyter-widgets/controls",
          "model_name": "HTMLModel",
          "model_module_version": "1.5.0",
          "state": {
            "_view_name": "HTMLView",
            "style": "IPY_MODEL_5a0b9b69b0414bff96a27c77f46945b7",
            "_dom_classes": [],
            "description": "",
            "_model_name": "HTMLModel",
            "placeholder": "​",
            "_view_module": "@jupyter-widgets/controls",
            "_model_module_version": "1.5.0",
            "value": "",
            "_view_count": null,
            "_view_module_version": "1.5.0",
            "description_tooltip": null,
            "_model_module": "@jupyter-widgets/controls",
            "layout": "IPY_MODEL_4c3581feba6e430f907be837d32a332e"
          }
        },
        "f4459b6ec4ff490e987aa8ea65361534": {
          "model_module": "@jupyter-widgets/controls",
          "model_name": "FloatProgressModel",
          "model_module_version": "1.5.0",
          "state": {
            "_view_name": "ProgressView",
            "style": "IPY_MODEL_837f42f83a1f4e1e9bc3b0d6c35742f2",
            "_dom_classes": [],
            "description": "",
            "_model_name": "FloatProgressModel",
            "bar_style": "success",
            "max": 1,
            "_view_module": "@jupyter-widgets/controls",
            "_model_module_version": "1.5.0",
            "value": 1,
            "_view_count": null,
            "_view_module_version": "1.5.0",
            "orientation": "horizontal",
            "min": 0,
            "description_tooltip": null,
            "_model_module": "@jupyter-widgets/controls",
            "layout": "IPY_MODEL_dc7fdf04fe0847659fb015318ee2579e"
          }
        },
        "50c260a645784b34ae78d6a20de22cc1": {
          "model_module": "@jupyter-widgets/controls",
          "model_name": "HTMLModel",
          "model_module_version": "1.5.0",
          "state": {
            "_view_name": "HTMLView",
            "style": "IPY_MODEL_4ebcfbda5121407b9ea48a041715d7b2",
            "_dom_classes": [],
            "description": "",
            "_model_name": "HTMLModel",
            "placeholder": "​",
            "_view_module": "@jupyter-widgets/controls",
            "_model_module_version": "1.5.0",
            "value": " 2196017/? [03:06&lt;00:00, 11658.99it/s]",
            "_view_count": null,
            "_view_module_version": "1.5.0",
            "description_tooltip": null,
            "_model_module": "@jupyter-widgets/controls",
            "layout": "IPY_MODEL_c7e12203836d4b41a04da9ad4fb86ea1"
          }
        },
        "5a0b9b69b0414bff96a27c77f46945b7": {
          "model_module": "@jupyter-widgets/controls",
          "model_name": "DescriptionStyleModel",
          "model_module_version": "1.5.0",
          "state": {
            "_view_name": "StyleView",
            "_model_name": "DescriptionStyleModel",
            "description_width": "",
            "_view_module": "@jupyter-widgets/base",
            "_model_module_version": "1.5.0",
            "_view_count": null,
            "_view_module_version": "1.2.0",
            "_model_module": "@jupyter-widgets/controls"
          }
        },
        "4c3581feba6e430f907be837d32a332e": {
          "model_module": "@jupyter-widgets/base",
          "model_name": "LayoutModel",
          "model_module_version": "1.2.0",
          "state": {
            "_view_name": "LayoutView",
            "grid_template_rows": null,
            "right": null,
            "justify_content": null,
            "_view_module": "@jupyter-widgets/base",
            "overflow": null,
            "_model_module_version": "1.2.0",
            "_view_count": null,
            "flex_flow": null,
            "width": null,
            "min_width": null,
            "border": null,
            "align_items": null,
            "bottom": null,
            "_model_module": "@jupyter-widgets/base",
            "top": null,
            "grid_column": null,
            "overflow_y": null,
            "overflow_x": null,
            "grid_auto_flow": null,
            "grid_area": null,
            "grid_template_columns": null,
            "flex": null,
            "_model_name": "LayoutModel",
            "justify_items": null,
            "grid_row": null,
            "max_height": null,
            "align_content": null,
            "visibility": null,
            "align_self": null,
            "height": null,
            "min_height": null,
            "padding": null,
            "grid_auto_rows": null,
            "grid_gap": null,
            "max_width": null,
            "order": null,
            "_view_module_version": "1.2.0",
            "grid_template_areas": null,
            "object_position": null,
            "object_fit": null,
            "grid_auto_columns": null,
            "margin": null,
            "display": null,
            "left": null
          }
        },
        "837f42f83a1f4e1e9bc3b0d6c35742f2": {
          "model_module": "@jupyter-widgets/controls",
          "model_name": "ProgressStyleModel",
          "model_module_version": "1.5.0",
          "state": {
            "_view_name": "StyleView",
            "_model_name": "ProgressStyleModel",
            "description_width": "",
            "_view_module": "@jupyter-widgets/base",
            "_model_module_version": "1.5.0",
            "_view_count": null,
            "_view_module_version": "1.2.0",
            "bar_color": null,
            "_model_module": "@jupyter-widgets/controls"
          }
        },
        "dc7fdf04fe0847659fb015318ee2579e": {
          "model_module": "@jupyter-widgets/base",
          "model_name": "LayoutModel",
          "model_module_version": "1.2.0",
          "state": {
            "_view_name": "LayoutView",
            "grid_template_rows": null,
            "right": null,
            "justify_content": null,
            "_view_module": "@jupyter-widgets/base",
            "overflow": null,
            "_model_module_version": "1.2.0",
            "_view_count": null,
            "flex_flow": null,
            "width": "20px",
            "min_width": null,
            "border": null,
            "align_items": null,
            "bottom": null,
            "_model_module": "@jupyter-widgets/base",
            "top": null,
            "grid_column": null,
            "overflow_y": null,
            "overflow_x": null,
            "grid_auto_flow": null,
            "grid_area": null,
            "grid_template_columns": null,
            "flex": null,
            "_model_name": "LayoutModel",
            "justify_items": null,
            "grid_row": null,
            "max_height": null,
            "align_content": null,
            "visibility": null,
            "align_self": null,
            "height": null,
            "min_height": null,
            "padding": null,
            "grid_auto_rows": null,
            "grid_gap": null,
            "max_width": null,
            "order": null,
            "_view_module_version": "1.2.0",
            "grid_template_areas": null,
            "object_position": null,
            "object_fit": null,
            "grid_auto_columns": null,
            "margin": null,
            "display": null,
            "left": null
          }
        },
        "4ebcfbda5121407b9ea48a041715d7b2": {
          "model_module": "@jupyter-widgets/controls",
          "model_name": "DescriptionStyleModel",
          "model_module_version": "1.5.0",
          "state": {
            "_view_name": "StyleView",
            "_model_name": "DescriptionStyleModel",
            "description_width": "",
            "_view_module": "@jupyter-widgets/base",
            "_model_module_version": "1.5.0",
            "_view_count": null,
            "_view_module_version": "1.2.0",
            "_model_module": "@jupyter-widgets/controls"
          }
        },
        "c7e12203836d4b41a04da9ad4fb86ea1": {
          "model_module": "@jupyter-widgets/base",
          "model_name": "LayoutModel",
          "model_module_version": "1.2.0",
          "state": {
            "_view_name": "LayoutView",
            "grid_template_rows": null,
            "right": null,
            "justify_content": null,
            "_view_module": "@jupyter-widgets/base",
            "overflow": null,
            "_model_module_version": "1.2.0",
            "_view_count": null,
            "flex_flow": null,
            "width": null,
            "min_width": null,
            "border": null,
            "align_items": null,
            "bottom": null,
            "_model_module": "@jupyter-widgets/base",
            "top": null,
            "grid_column": null,
            "overflow_y": null,
            "overflow_x": null,
            "grid_auto_flow": null,
            "grid_area": null,
            "grid_template_columns": null,
            "flex": null,
            "_model_name": "LayoutModel",
            "justify_items": null,
            "grid_row": null,
            "max_height": null,
            "align_content": null,
            "visibility": null,
            "align_self": null,
            "height": null,
            "min_height": null,
            "padding": null,
            "grid_auto_rows": null,
            "grid_gap": null,
            "max_width": null,
            "order": null,
            "_view_module_version": "1.2.0",
            "grid_template_areas": null,
            "object_position": null,
            "object_fit": null,
            "grid_auto_columns": null,
            "margin": null,
            "display": null,
            "left": null
          }
        },
        "015248f089054a8ab25e520eb8c75678": {
          "model_module": "@jupyter-widgets/controls",
          "model_name": "HBoxModel",
          "model_module_version": "1.5.0",
          "state": {
            "_view_name": "HBoxView",
            "_dom_classes": [],
            "_model_name": "HBoxModel",
            "_view_module": "@jupyter-widgets/controls",
            "_model_module_version": "1.5.0",
            "_view_count": null,
            "_view_module_version": "1.5.0",
            "box_style": "",
            "layout": "IPY_MODEL_c6cd05364e0c4ba68e8d06cc6f4efe1b",
            "_model_module": "@jupyter-widgets/controls",
            "children": [
              "IPY_MODEL_9241f2e3722642cc972527fe9f75e700",
              "IPY_MODEL_a384e88c968d4f6ea884c817a56cd7eb",
              "IPY_MODEL_022f12e8b67f40248bb4a7b46a7b7da3"
            ]
          }
        },
        "c6cd05364e0c4ba68e8d06cc6f4efe1b": {
          "model_module": "@jupyter-widgets/base",
          "model_name": "LayoutModel",
          "model_module_version": "1.2.0",
          "state": {
            "_view_name": "LayoutView",
            "grid_template_rows": null,
            "right": null,
            "justify_content": null,
            "_view_module": "@jupyter-widgets/base",
            "overflow": null,
            "_model_module_version": "1.2.0",
            "_view_count": null,
            "flex_flow": null,
            "width": null,
            "min_width": null,
            "border": null,
            "align_items": null,
            "bottom": null,
            "_model_module": "@jupyter-widgets/base",
            "top": null,
            "grid_column": null,
            "overflow_y": null,
            "overflow_x": null,
            "grid_auto_flow": null,
            "grid_area": null,
            "grid_template_columns": null,
            "flex": null,
            "_model_name": "LayoutModel",
            "justify_items": null,
            "grid_row": null,
            "max_height": null,
            "align_content": null,
            "visibility": null,
            "align_self": null,
            "height": null,
            "min_height": null,
            "padding": null,
            "grid_auto_rows": null,
            "grid_gap": null,
            "max_width": null,
            "order": null,
            "_view_module_version": "1.2.0",
            "grid_template_areas": null,
            "object_position": null,
            "object_fit": null,
            "grid_auto_columns": null,
            "margin": null,
            "display": null,
            "left": null
          }
        },
        "9241f2e3722642cc972527fe9f75e700": {
          "model_module": "@jupyter-widgets/controls",
          "model_name": "HTMLModel",
          "model_module_version": "1.5.0",
          "state": {
            "_view_name": "HTMLView",
            "style": "IPY_MODEL_35bc90ba8fa041e381bf24d65789b996",
            "_dom_classes": [],
            "description": "",
            "_model_name": "HTMLModel",
            "placeholder": "​",
            "_view_module": "@jupyter-widgets/controls",
            "_model_module_version": "1.5.0",
            "value": "100%",
            "_view_count": null,
            "_view_module_version": "1.5.0",
            "description_tooltip": null,
            "_model_module": "@jupyter-widgets/controls",
            "layout": "IPY_MODEL_b0a78281a4424233b273cf823227b86b"
          }
        },
        "a384e88c968d4f6ea884c817a56cd7eb": {
          "model_module": "@jupyter-widgets/controls",
          "model_name": "FloatProgressModel",
          "model_module_version": "1.5.0",
          "state": {
            "_view_name": "ProgressView",
            "style": "IPY_MODEL_bc2b86142a4b45b9932da7ec91d20358",
            "_dom_classes": [],
            "description": "",
            "_model_name": "FloatProgressModel",
            "bar_style": "success",
            "max": 2195885,
            "_view_module": "@jupyter-widgets/controls",
            "_model_module_version": "1.5.0",
            "value": 2195885,
            "_view_count": null,
            "_view_module_version": "1.5.0",
            "orientation": "horizontal",
            "min": 0,
            "description_tooltip": null,
            "_model_module": "@jupyter-widgets/controls",
            "layout": "IPY_MODEL_296422643ac44ca7b789884e21548ce3"
          }
        },
        "022f12e8b67f40248bb4a7b46a7b7da3": {
          "model_module": "@jupyter-widgets/controls",
          "model_name": "HTMLModel",
          "model_module_version": "1.5.0",
          "state": {
            "_view_name": "HTMLView",
            "style": "IPY_MODEL_3ab1d3dbd4ab4466b04f04223a93de07",
            "_dom_classes": [],
            "description": "",
            "_model_name": "HTMLModel",
            "placeholder": "​",
            "_view_module": "@jupyter-widgets/controls",
            "_model_module_version": "1.5.0",
            "value": " 2195885/2195885 [00:02&lt;00:00, 800199.68it/s]",
            "_view_count": null,
            "_view_module_version": "1.5.0",
            "description_tooltip": null,
            "_model_module": "@jupyter-widgets/controls",
            "layout": "IPY_MODEL_edf4c29549664f6aa2fd7b90a50cf099"
          }
        },
        "35bc90ba8fa041e381bf24d65789b996": {
          "model_module": "@jupyter-widgets/controls",
          "model_name": "DescriptionStyleModel",
          "model_module_version": "1.5.0",
          "state": {
            "_view_name": "StyleView",
            "_model_name": "DescriptionStyleModel",
            "description_width": "",
            "_view_module": "@jupyter-widgets/base",
            "_model_module_version": "1.5.0",
            "_view_count": null,
            "_view_module_version": "1.2.0",
            "_model_module": "@jupyter-widgets/controls"
          }
        },
        "b0a78281a4424233b273cf823227b86b": {
          "model_module": "@jupyter-widgets/base",
          "model_name": "LayoutModel",
          "model_module_version": "1.2.0",
          "state": {
            "_view_name": "LayoutView",
            "grid_template_rows": null,
            "right": null,
            "justify_content": null,
            "_view_module": "@jupyter-widgets/base",
            "overflow": null,
            "_model_module_version": "1.2.0",
            "_view_count": null,
            "flex_flow": null,
            "width": null,
            "min_width": null,
            "border": null,
            "align_items": null,
            "bottom": null,
            "_model_module": "@jupyter-widgets/base",
            "top": null,
            "grid_column": null,
            "overflow_y": null,
            "overflow_x": null,
            "grid_auto_flow": null,
            "grid_area": null,
            "grid_template_columns": null,
            "flex": null,
            "_model_name": "LayoutModel",
            "justify_items": null,
            "grid_row": null,
            "max_height": null,
            "align_content": null,
            "visibility": null,
            "align_self": null,
            "height": null,
            "min_height": null,
            "padding": null,
            "grid_auto_rows": null,
            "grid_gap": null,
            "max_width": null,
            "order": null,
            "_view_module_version": "1.2.0",
            "grid_template_areas": null,
            "object_position": null,
            "object_fit": null,
            "grid_auto_columns": null,
            "margin": null,
            "display": null,
            "left": null
          }
        },
        "bc2b86142a4b45b9932da7ec91d20358": {
          "model_module": "@jupyter-widgets/controls",
          "model_name": "ProgressStyleModel",
          "model_module_version": "1.5.0",
          "state": {
            "_view_name": "StyleView",
            "_model_name": "ProgressStyleModel",
            "description_width": "",
            "_view_module": "@jupyter-widgets/base",
            "_model_module_version": "1.5.0",
            "_view_count": null,
            "_view_module_version": "1.2.0",
            "bar_color": null,
            "_model_module": "@jupyter-widgets/controls"
          }
        },
        "296422643ac44ca7b789884e21548ce3": {
          "model_module": "@jupyter-widgets/base",
          "model_name": "LayoutModel",
          "model_module_version": "1.2.0",
          "state": {
            "_view_name": "LayoutView",
            "grid_template_rows": null,
            "right": null,
            "justify_content": null,
            "_view_module": "@jupyter-widgets/base",
            "overflow": null,
            "_model_module_version": "1.2.0",
            "_view_count": null,
            "flex_flow": null,
            "width": null,
            "min_width": null,
            "border": null,
            "align_items": null,
            "bottom": null,
            "_model_module": "@jupyter-widgets/base",
            "top": null,
            "grid_column": null,
            "overflow_y": null,
            "overflow_x": null,
            "grid_auto_flow": null,
            "grid_area": null,
            "grid_template_columns": null,
            "flex": null,
            "_model_name": "LayoutModel",
            "justify_items": null,
            "grid_row": null,
            "max_height": null,
            "align_content": null,
            "visibility": null,
            "align_self": null,
            "height": null,
            "min_height": null,
            "padding": null,
            "grid_auto_rows": null,
            "grid_gap": null,
            "max_width": null,
            "order": null,
            "_view_module_version": "1.2.0",
            "grid_template_areas": null,
            "object_position": null,
            "object_fit": null,
            "grid_auto_columns": null,
            "margin": null,
            "display": null,
            "left": null
          }
        },
        "3ab1d3dbd4ab4466b04f04223a93de07": {
          "model_module": "@jupyter-widgets/controls",
          "model_name": "DescriptionStyleModel",
          "model_module_version": "1.5.0",
          "state": {
            "_view_name": "StyleView",
            "_model_name": "DescriptionStyleModel",
            "description_width": "",
            "_view_module": "@jupyter-widgets/base",
            "_model_module_version": "1.5.0",
            "_view_count": null,
            "_view_module_version": "1.2.0",
            "_model_module": "@jupyter-widgets/controls"
          }
        },
        "edf4c29549664f6aa2fd7b90a50cf099": {
          "model_module": "@jupyter-widgets/base",
          "model_name": "LayoutModel",
          "model_module_version": "1.2.0",
          "state": {
            "_view_name": "LayoutView",
            "grid_template_rows": null,
            "right": null,
            "justify_content": null,
            "_view_module": "@jupyter-widgets/base",
            "overflow": null,
            "_model_module_version": "1.2.0",
            "_view_count": null,
            "flex_flow": null,
            "width": null,
            "min_width": null,
            "border": null,
            "align_items": null,
            "bottom": null,
            "_model_module": "@jupyter-widgets/base",
            "top": null,
            "grid_column": null,
            "overflow_y": null,
            "overflow_x": null,
            "grid_auto_flow": null,
            "grid_area": null,
            "grid_template_columns": null,
            "flex": null,
            "_model_name": "LayoutModel",
            "justify_items": null,
            "grid_row": null,
            "max_height": null,
            "align_content": null,
            "visibility": null,
            "align_self": null,
            "height": null,
            "min_height": null,
            "padding": null,
            "grid_auto_rows": null,
            "grid_gap": null,
            "max_width": null,
            "order": null,
            "_view_module_version": "1.2.0",
            "grid_template_areas": null,
            "object_position": null,
            "object_fit": null,
            "grid_auto_columns": null,
            "margin": null,
            "display": null,
            "left": null
          }
        },
        "c2368dee050243abbc3855bff1ce8648": {
          "model_module": "@jupyter-widgets/controls",
          "model_name": "HBoxModel",
          "model_module_version": "1.5.0",
          "state": {
            "_view_name": "HBoxView",
            "_dom_classes": [],
            "_model_name": "HBoxModel",
            "_view_module": "@jupyter-widgets/controls",
            "_model_module_version": "1.5.0",
            "_view_count": null,
            "_view_module_version": "1.5.0",
            "box_style": "",
            "layout": "IPY_MODEL_513839706afb46ffa68215f52c804e41",
            "_model_module": "@jupyter-widgets/controls",
            "children": [
              "IPY_MODEL_923d88c3863847558842c3f91e67132d",
              "IPY_MODEL_6bfe4465e2074188b8960129c21f0459",
              "IPY_MODEL_cb843e4713014310ac9e745b63a5b6d0"
            ]
          }
        },
        "513839706afb46ffa68215f52c804e41": {
          "model_module": "@jupyter-widgets/base",
          "model_name": "LayoutModel",
          "model_module_version": "1.2.0",
          "state": {
            "_view_name": "LayoutView",
            "grid_template_rows": null,
            "right": null,
            "justify_content": null,
            "_view_module": "@jupyter-widgets/base",
            "overflow": null,
            "_model_module_version": "1.2.0",
            "_view_count": null,
            "flex_flow": null,
            "width": null,
            "min_width": null,
            "border": null,
            "align_items": null,
            "bottom": null,
            "_model_module": "@jupyter-widgets/base",
            "top": null,
            "grid_column": null,
            "overflow_y": null,
            "overflow_x": null,
            "grid_auto_flow": null,
            "grid_area": null,
            "grid_template_columns": null,
            "flex": null,
            "_model_name": "LayoutModel",
            "justify_items": null,
            "grid_row": null,
            "max_height": null,
            "align_content": null,
            "visibility": null,
            "align_self": null,
            "height": null,
            "min_height": null,
            "padding": null,
            "grid_auto_rows": null,
            "grid_gap": null,
            "max_width": null,
            "order": null,
            "_view_module_version": "1.2.0",
            "grid_template_areas": null,
            "object_position": null,
            "object_fit": null,
            "grid_auto_columns": null,
            "margin": null,
            "display": null,
            "left": null
          }
        },
        "923d88c3863847558842c3f91e67132d": {
          "model_module": "@jupyter-widgets/controls",
          "model_name": "HTMLModel",
          "model_module_version": "1.5.0",
          "state": {
            "_view_name": "HTMLView",
            "style": "IPY_MODEL_b415b4dcbc0c4c00855bc2820fe29305",
            "_dom_classes": [],
            "description": "",
            "_model_name": "HTMLModel",
            "placeholder": "​",
            "_view_module": "@jupyter-widgets/controls",
            "_model_module_version": "1.5.0",
            "value": "100%",
            "_view_count": null,
            "_view_module_version": "1.5.0",
            "description_tooltip": null,
            "_model_module": "@jupyter-widgets/controls",
            "layout": "IPY_MODEL_9589df644e4f4e3da7f6019a04851454"
          }
        },
        "6bfe4465e2074188b8960129c21f0459": {
          "model_module": "@jupyter-widgets/controls",
          "model_name": "FloatProgressModel",
          "model_module_version": "1.5.0",
          "state": {
            "_view_name": "ProgressView",
            "style": "IPY_MODEL_591792d69b0a4bf99eb4985a3cc2ddbd",
            "_dom_classes": [],
            "description": "",
            "_model_name": "FloatProgressModel",
            "bar_style": "success",
            "max": 5350,
            "_view_module": "@jupyter-widgets/controls",
            "_model_module_version": "1.5.0",
            "value": 5350,
            "_view_count": null,
            "_view_module_version": "1.5.0",
            "orientation": "horizontal",
            "min": 0,
            "description_tooltip": null,
            "_model_module": "@jupyter-widgets/controls",
            "layout": "IPY_MODEL_38d0f683f042423ca4759cf776099348"
          }
        },
        "cb843e4713014310ac9e745b63a5b6d0": {
          "model_module": "@jupyter-widgets/controls",
          "model_name": "HTMLModel",
          "model_module_version": "1.5.0",
          "state": {
            "_view_name": "HTMLView",
            "style": "IPY_MODEL_355784fd8fde4a4a9e73e93ffa59b196",
            "_dom_classes": [],
            "description": "",
            "_model_name": "HTMLModel",
            "placeholder": "​",
            "_view_module": "@jupyter-widgets/controls",
            "_model_module_version": "1.5.0",
            "value": " 5350/5350 [00:00&lt;00:00, 64187.94it/s]",
            "_view_count": null,
            "_view_module_version": "1.5.0",
            "description_tooltip": null,
            "_model_module": "@jupyter-widgets/controls",
            "layout": "IPY_MODEL_30ab69d3bec04be79db29e902597e0b6"
          }
        },
        "b415b4dcbc0c4c00855bc2820fe29305": {
          "model_module": "@jupyter-widgets/controls",
          "model_name": "DescriptionStyleModel",
          "model_module_version": "1.5.0",
          "state": {
            "_view_name": "StyleView",
            "_model_name": "DescriptionStyleModel",
            "description_width": "",
            "_view_module": "@jupyter-widgets/base",
            "_model_module_version": "1.5.0",
            "_view_count": null,
            "_view_module_version": "1.2.0",
            "_model_module": "@jupyter-widgets/controls"
          }
        },
        "9589df644e4f4e3da7f6019a04851454": {
          "model_module": "@jupyter-widgets/base",
          "model_name": "LayoutModel",
          "model_module_version": "1.2.0",
          "state": {
            "_view_name": "LayoutView",
            "grid_template_rows": null,
            "right": null,
            "justify_content": null,
            "_view_module": "@jupyter-widgets/base",
            "overflow": null,
            "_model_module_version": "1.2.0",
            "_view_count": null,
            "flex_flow": null,
            "width": null,
            "min_width": null,
            "border": null,
            "align_items": null,
            "bottom": null,
            "_model_module": "@jupyter-widgets/base",
            "top": null,
            "grid_column": null,
            "overflow_y": null,
            "overflow_x": null,
            "grid_auto_flow": null,
            "grid_area": null,
            "grid_template_columns": null,
            "flex": null,
            "_model_name": "LayoutModel",
            "justify_items": null,
            "grid_row": null,
            "max_height": null,
            "align_content": null,
            "visibility": null,
            "align_self": null,
            "height": null,
            "min_height": null,
            "padding": null,
            "grid_auto_rows": null,
            "grid_gap": null,
            "max_width": null,
            "order": null,
            "_view_module_version": "1.2.0",
            "grid_template_areas": null,
            "object_position": null,
            "object_fit": null,
            "grid_auto_columns": null,
            "margin": null,
            "display": null,
            "left": null
          }
        },
        "591792d69b0a4bf99eb4985a3cc2ddbd": {
          "model_module": "@jupyter-widgets/controls",
          "model_name": "ProgressStyleModel",
          "model_module_version": "1.5.0",
          "state": {
            "_view_name": "StyleView",
            "_model_name": "ProgressStyleModel",
            "description_width": "",
            "_view_module": "@jupyter-widgets/base",
            "_model_module_version": "1.5.0",
            "_view_count": null,
            "_view_module_version": "1.2.0",
            "bar_color": null,
            "_model_module": "@jupyter-widgets/controls"
          }
        },
        "38d0f683f042423ca4759cf776099348": {
          "model_module": "@jupyter-widgets/base",
          "model_name": "LayoutModel",
          "model_module_version": "1.2.0",
          "state": {
            "_view_name": "LayoutView",
            "grid_template_rows": null,
            "right": null,
            "justify_content": null,
            "_view_module": "@jupyter-widgets/base",
            "overflow": null,
            "_model_module_version": "1.2.0",
            "_view_count": null,
            "flex_flow": null,
            "width": null,
            "min_width": null,
            "border": null,
            "align_items": null,
            "bottom": null,
            "_model_module": "@jupyter-widgets/base",
            "top": null,
            "grid_column": null,
            "overflow_y": null,
            "overflow_x": null,
            "grid_auto_flow": null,
            "grid_area": null,
            "grid_template_columns": null,
            "flex": null,
            "_model_name": "LayoutModel",
            "justify_items": null,
            "grid_row": null,
            "max_height": null,
            "align_content": null,
            "visibility": null,
            "align_self": null,
            "height": null,
            "min_height": null,
            "padding": null,
            "grid_auto_rows": null,
            "grid_gap": null,
            "max_width": null,
            "order": null,
            "_view_module_version": "1.2.0",
            "grid_template_areas": null,
            "object_position": null,
            "object_fit": null,
            "grid_auto_columns": null,
            "margin": null,
            "display": null,
            "left": null
          }
        },
        "355784fd8fde4a4a9e73e93ffa59b196": {
          "model_module": "@jupyter-widgets/controls",
          "model_name": "DescriptionStyleModel",
          "model_module_version": "1.5.0",
          "state": {
            "_view_name": "StyleView",
            "_model_name": "DescriptionStyleModel",
            "description_width": "",
            "_view_module": "@jupyter-widgets/base",
            "_model_module_version": "1.5.0",
            "_view_count": null,
            "_view_module_version": "1.2.0",
            "_model_module": "@jupyter-widgets/controls"
          }
        },
        "30ab69d3bec04be79db29e902597e0b6": {
          "model_module": "@jupyter-widgets/base",
          "model_name": "LayoutModel",
          "model_module_version": "1.2.0",
          "state": {
            "_view_name": "LayoutView",
            "grid_template_rows": null,
            "right": null,
            "justify_content": null,
            "_view_module": "@jupyter-widgets/base",
            "overflow": null,
            "_model_module_version": "1.2.0",
            "_view_count": null,
            "flex_flow": null,
            "width": null,
            "min_width": null,
            "border": null,
            "align_items": null,
            "bottom": null,
            "_model_module": "@jupyter-widgets/base",
            "top": null,
            "grid_column": null,
            "overflow_y": null,
            "overflow_x": null,
            "grid_auto_flow": null,
            "grid_area": null,
            "grid_template_columns": null,
            "flex": null,
            "_model_name": "LayoutModel",
            "justify_items": null,
            "grid_row": null,
            "max_height": null,
            "align_content": null,
            "visibility": null,
            "align_self": null,
            "height": null,
            "min_height": null,
            "padding": null,
            "grid_auto_rows": null,
            "grid_gap": null,
            "max_width": null,
            "order": null,
            "_view_module_version": "1.2.0",
            "grid_template_areas": null,
            "object_position": null,
            "object_fit": null,
            "grid_auto_columns": null,
            "margin": null,
            "display": null,
            "left": null
          }
        }
      }
    }
  },
  "cells": [
    {
      "cell_type": "markdown",
      "source": [
        "### Loading Datasets"
      ],
      "metadata": {
        "id": "3V6XuYPvsjAO"
      }
    },
    {
      "cell_type": "code",
      "source": [
        "import re\n",
        "import numpy as np \n",
        "import pandas as pd\n",
        "pd.set_option('display.max_rows', 700)\n",
        "from sklearn.utils import shuffle"
      ],
      "metadata": {
        "id": "pbhOawrduieO"
      },
      "execution_count": null,
      "outputs": []
    },
    {
      "cell_type": "code",
      "source": [
        "from google.colab import drive\n",
        "drive.mount('/content/drive')"
      ],
      "metadata": {
        "colab": {
          "base_uri": "https://localhost:8080/"
        },
        "id": "IxAv0ThjHbwT",
        "outputId": "7bb949a8-5afc-436c-ab90-bd9b75848ff8"
      },
      "execution_count": null,
      "outputs": [
        {
          "output_type": "stream",
          "name": "stdout",
          "text": [
            "Mounted at /content/drive\n"
          ]
        }
      ]
    },
    {
      "cell_type": "code",
      "source": [
        "train = shuffle(pd.read_json('is_train.json'), random_state=0)\n",
        "val = shuffle(pd.read_json('is_val.json'), random_state=0)\n",
        "test = pd.read_json('is_test.json')\n",
        "oos_train = pd.read_json('oos_train.json')\n",
        "oos_val = pd.read_json('oos_val.json')\n",
        "oos_test = pd.read_json('oos_test.json')\n",
        "\n",
        "files = [\n",
        "         (train,'train'),\n",
        "         (val,'val'),\n",
        "         (test,'test'),\n",
        "         (oos_train,'oos_train'),\n",
        "         (oos_val,'oos_val'),\n",
        "         (oos_test,'oos_test')\n",
        "         ]\n",
        "         \n",
        "for file,name in files:\n",
        "    file.columns = ['text','intent']\n",
        "    print(f'{name} shape:{file.shape}, {name} has {train.isna().sum().sum()} null values')\n",
        "in_train = train.copy()"
      ],
      "metadata": {
        "colab": {
          "base_uri": "https://localhost:8080/"
        },
        "id": "6BoMQtCgtqNT",
        "outputId": "4b74ff79-1092-467f-ffaa-2a5fd01a8078"
      },
      "execution_count": null,
      "outputs": [
        {
          "output_type": "stream",
          "name": "stdout",
          "text": [
            "train shape:(15000, 2), train has 0 null values\n",
            "val shape:(3000, 2), val has 0 null values\n",
            "test shape:(4500, 2), test has 0 null values\n",
            "oos_train shape:(100, 2), oos_train has 0 null values\n",
            "oos_val shape:(100, 2), oos_val has 0 null values\n",
            "oos_test shape:(1000, 2), oos_test has 0 null values\n"
          ]
        }
      ]
    },
    {
      "cell_type": "code",
      "source": [
        "in_train = pd.concat([in_train, oos_train], axis=0).reset_index(drop=True)\n",
        "val = pd.concat([val, oos_val], axis=0).reset_index(drop=True)\n",
        "test = pd.concat([test, oos_test], axis=0).reset_index(drop=True)"
      ],
      "metadata": {
        "id": "Az12nqjCbxYM"
      },
      "execution_count": null,
      "outputs": []
    },
    {
      "cell_type": "code",
      "source": [
        "in_train = shuffle(in_train , random_state=0).reset_index(drop=True)\n",
        "val = shuffle(val, random_state=0).reset_index(drop=True)\n",
        "test = shuffle(test, random_state=0).reset_index(drop=True)"
      ],
      "metadata": {
        "id": "m25_zO9rcWC2"
      },
      "execution_count": null,
      "outputs": []
    },
    {
      "cell_type": "code",
      "source": [
        "in_train.shape"
      ],
      "metadata": {
        "colab": {
          "base_uri": "https://localhost:8080/"
        },
        "id": "szuRNyRswqwF",
        "outputId": "c859de8e-2450-4c90-8eae-3d0062d8ed68"
      },
      "execution_count": null,
      "outputs": [
        {
          "output_type": "execute_result",
          "data": {
            "text/plain": [
              "(15100, 2)"
            ]
          },
          "metadata": {},
          "execution_count": 26
        }
      ]
    },
    {
      "cell_type": "code",
      "source": [
        "in_train"
      ],
      "metadata": {
        "colab": {
          "base_uri": "https://localhost:8080/",
          "height": 424
        },
        "id": "Js0XPtZ5iB7Z",
        "outputId": "1a38801c-3a48-4327-afab-c37f01608854"
      },
      "execution_count": null,
      "outputs": [
        {
          "output_type": "execute_result",
          "data": {
            "text/html": [
              "\n",
              "  <div id=\"df-c9012668-fcd8-467c-a03b-51f750dfdded\">\n",
              "    <div class=\"colab-df-container\">\n",
              "      <div>\n",
              "<style scoped>\n",
              "    .dataframe tbody tr th:only-of-type {\n",
              "        vertical-align: middle;\n",
              "    }\n",
              "\n",
              "    .dataframe tbody tr th {\n",
              "        vertical-align: top;\n",
              "    }\n",
              "\n",
              "    .dataframe thead th {\n",
              "        text-align: right;\n",
              "    }\n",
              "</style>\n",
              "<table border=\"1\" class=\"dataframe\">\n",
              "  <thead>\n",
              "    <tr style=\"text-align: right;\">\n",
              "      <th></th>\n",
              "      <th>text</th>\n",
              "      <th>intent</th>\n",
              "    </tr>\n",
              "  </thead>\n",
              "  <tbody>\n",
              "    <tr>\n",
              "      <th>0</th>\n",
              "      <td>is it possible for you to use the whisper voice</td>\n",
              "      <td>whisper_mode</td>\n",
              "    </tr>\n",
              "    <tr>\n",
              "      <th>1</th>\n",
              "      <td>search for a macaroni and cheese recipe</td>\n",
              "      <td>recipe</td>\n",
              "    </tr>\n",
              "    <tr>\n",
              "      <th>2</th>\n",
              "      <td>correct</td>\n",
              "      <td>yes</td>\n",
              "    </tr>\n",
              "    <tr>\n",
              "      <th>3</th>\n",
              "      <td>my card got scratched badly, can you tell my b...</td>\n",
              "      <td>damaged_card</td>\n",
              "    </tr>\n",
              "    <tr>\n",
              "      <th>4</th>\n",
              "      <td>i'd like to know what my credit rating is</td>\n",
              "      <td>credit_score</td>\n",
              "    </tr>\n",
              "    <tr>\n",
              "      <th>...</th>\n",
              "      <td>...</td>\n",
              "      <td>...</td>\n",
              "    </tr>\n",
              "    <tr>\n",
              "      <th>15095</th>\n",
              "      <td>please play come as you are by nirvana</td>\n",
              "      <td>play_music</td>\n",
              "    </tr>\n",
              "    <tr>\n",
              "      <th>15096</th>\n",
              "      <td>book a hotel in pa, harrisburg for the 10th to...</td>\n",
              "      <td>book_hotel</td>\n",
              "    </tr>\n",
              "    <tr>\n",
              "      <th>15097</th>\n",
              "      <td>what kind of mpg does this car get in the city</td>\n",
              "      <td>mpg</td>\n",
              "    </tr>\n",
              "    <tr>\n",
              "      <th>15098</th>\n",
              "      <td>roll dice</td>\n",
              "      <td>roll_dice</td>\n",
              "    </tr>\n",
              "    <tr>\n",
              "      <th>15099</th>\n",
              "      <td>the tasks for today, what are they</td>\n",
              "      <td>todo_list</td>\n",
              "    </tr>\n",
              "  </tbody>\n",
              "</table>\n",
              "<p>15100 rows × 2 columns</p>\n",
              "</div>\n",
              "      <button class=\"colab-df-convert\" onclick=\"convertToInteractive('df-c9012668-fcd8-467c-a03b-51f750dfdded')\"\n",
              "              title=\"Convert this dataframe to an interactive table.\"\n",
              "              style=\"display:none;\">\n",
              "        \n",
              "  <svg xmlns=\"http://www.w3.org/2000/svg\" height=\"24px\"viewBox=\"0 0 24 24\"\n",
              "       width=\"24px\">\n",
              "    <path d=\"M0 0h24v24H0V0z\" fill=\"none\"/>\n",
              "    <path d=\"M18.56 5.44l.94 2.06.94-2.06 2.06-.94-2.06-.94-.94-2.06-.94 2.06-2.06.94zm-11 1L8.5 8.5l.94-2.06 2.06-.94-2.06-.94L8.5 2.5l-.94 2.06-2.06.94zm10 10l.94 2.06.94-2.06 2.06-.94-2.06-.94-.94-2.06-.94 2.06-2.06.94z\"/><path d=\"M17.41 7.96l-1.37-1.37c-.4-.4-.92-.59-1.43-.59-.52 0-1.04.2-1.43.59L10.3 9.45l-7.72 7.72c-.78.78-.78 2.05 0 2.83L4 21.41c.39.39.9.59 1.41.59.51 0 1.02-.2 1.41-.59l7.78-7.78 2.81-2.81c.8-.78.8-2.07 0-2.86zM5.41 20L4 18.59l7.72-7.72 1.47 1.35L5.41 20z\"/>\n",
              "  </svg>\n",
              "      </button>\n",
              "      \n",
              "  <style>\n",
              "    .colab-df-container {\n",
              "      display:flex;\n",
              "      flex-wrap:wrap;\n",
              "      gap: 12px;\n",
              "    }\n",
              "\n",
              "    .colab-df-convert {\n",
              "      background-color: #E8F0FE;\n",
              "      border: none;\n",
              "      border-radius: 50%;\n",
              "      cursor: pointer;\n",
              "      display: none;\n",
              "      fill: #1967D2;\n",
              "      height: 32px;\n",
              "      padding: 0 0 0 0;\n",
              "      width: 32px;\n",
              "    }\n",
              "\n",
              "    .colab-df-convert:hover {\n",
              "      background-color: #E2EBFA;\n",
              "      box-shadow: 0px 1px 2px rgba(60, 64, 67, 0.3), 0px 1px 3px 1px rgba(60, 64, 67, 0.15);\n",
              "      fill: #174EA6;\n",
              "    }\n",
              "\n",
              "    [theme=dark] .colab-df-convert {\n",
              "      background-color: #3B4455;\n",
              "      fill: #D2E3FC;\n",
              "    }\n",
              "\n",
              "    [theme=dark] .colab-df-convert:hover {\n",
              "      background-color: #434B5C;\n",
              "      box-shadow: 0px 1px 3px 1px rgba(0, 0, 0, 0.15);\n",
              "      filter: drop-shadow(0px 1px 2px rgba(0, 0, 0, 0.3));\n",
              "      fill: #FFFFFF;\n",
              "    }\n",
              "  </style>\n",
              "\n",
              "      <script>\n",
              "        const buttonEl =\n",
              "          document.querySelector('#df-c9012668-fcd8-467c-a03b-51f750dfdded button.colab-df-convert');\n",
              "        buttonEl.style.display =\n",
              "          google.colab.kernel.accessAllowed ? 'block' : 'none';\n",
              "\n",
              "        async function convertToInteractive(key) {\n",
              "          const element = document.querySelector('#df-c9012668-fcd8-467c-a03b-51f750dfdded');\n",
              "          const dataTable =\n",
              "            await google.colab.kernel.invokeFunction('convertToInteractive',\n",
              "                                                     [key], {});\n",
              "          if (!dataTable) return;\n",
              "\n",
              "          const docLinkHtml = 'Like what you see? Visit the ' +\n",
              "            '<a target=\"_blank\" href=https://colab.research.google.com/notebooks/data_table.ipynb>data table notebook</a>'\n",
              "            + ' to learn more about interactive tables.';\n",
              "          element.innerHTML = '';\n",
              "          dataTable['output_type'] = 'display_data';\n",
              "          await google.colab.output.renderOutput(dataTable, element);\n",
              "          const docLink = document.createElement('div');\n",
              "          docLink.innerHTML = docLinkHtml;\n",
              "          element.appendChild(docLink);\n",
              "        }\n",
              "      </script>\n",
              "    </div>\n",
              "  </div>\n",
              "  "
            ],
            "text/plain": [
              "                                                    text        intent\n",
              "0        is it possible for you to use the whisper voice  whisper_mode\n",
              "1                search for a macaroni and cheese recipe        recipe\n",
              "2                                                correct           yes\n",
              "3      my card got scratched badly, can you tell my b...  damaged_card\n",
              "4              i'd like to know what my credit rating is  credit_score\n",
              "...                                                  ...           ...\n",
              "15095             please play come as you are by nirvana    play_music\n",
              "15096  book a hotel in pa, harrisburg for the 10th to...    book_hotel\n",
              "15097     what kind of mpg does this car get in the city           mpg\n",
              "15098                                          roll dice     roll_dice\n",
              "15099                 the tasks for today, what are they     todo_list\n",
              "\n",
              "[15100 rows x 2 columns]"
            ]
          },
          "metadata": {},
          "execution_count": 27
        }
      ]
    },
    {
      "cell_type": "code",
      "source": [
        "in_train.intent.value_counts()"
      ],
      "metadata": {
        "colab": {
          "base_uri": "https://localhost:8080/"
        },
        "id": "uJzuFiLpuZZq",
        "outputId": "35877853-d0b2-401f-9fa6-191e51f3ea67"
      },
      "execution_count": null,
      "outputs": [
        {
          "output_type": "execute_result",
          "data": {
            "text/plain": [
              "change_language              100\n",
              "meeting_schedule             100\n",
              "cook_time                    100\n",
              "order                        100\n",
              "pin_change                   100\n",
              "taxes                        100\n",
              "pay_bill                     100\n",
              "improve_credit_score         100\n",
              "recipe                       100\n",
              "application_status           100\n",
              "cancel_reservation           100\n",
              "lost_luggage                 100\n",
              "international_fees           100\n",
              "who_do_you_work_for          100\n",
              "oil_change_how               100\n",
              "restaurant_reservation       100\n",
              "fun_fact                     100\n",
              "flight_status                100\n",
              "report_lost_card             100\n",
              "calories                     100\n",
              "change_accent                100\n",
              "next_holiday                 100\n",
              "change_ai_name               100\n",
              "how_busy                     100\n",
              "exchange_rate                100\n",
              "change_volume                100\n",
              "no                           100\n",
              "car_rental                   100\n",
              "calendar_update              100\n",
              "travel_suggestion            100\n",
              "oil_change_when              100\n",
              "jump_start                   100\n",
              "date                         100\n",
              "traffic                      100\n",
              "how_old_are_you              100\n",
              "who_made_you                 100\n",
              "order_status                 100\n",
              "meaning_of_life              100\n",
              "restaurant_suggestion        100\n",
              "vaccines                     100\n",
              "play_music                   100\n",
              "roll_dice                    100\n",
              "make_call                    100\n",
              "sync_device                  100\n",
              "interest_rate                100\n",
              "are_you_a_bot                100\n",
              "w2                           100\n",
              "mpg                          100\n",
              "freeze_account               100\n",
              "thank_you                    100\n",
              "meal_suggestion              100\n",
              "time                         100\n",
              "new_card                     100\n",
              "redeem_rewards               100\n",
              "travel_alert                 100\n",
              "smart_home                   100\n",
              "where_are_you_from           100\n",
              "what_song                    100\n",
              "todo_list_update             100\n",
              "accept_reservations          100\n",
              "last_maintenance             100\n",
              "order_checks                 100\n",
              "user_name                    100\n",
              "shopping_list_update         100\n",
              "replacement_card_duration    100\n",
              "tell_joke                    100\n",
              "damaged_card                 100\n",
              "todo_list                    100\n",
              "pto_balance                  100\n",
              "international_visa           100\n",
              "nutrition_info               100\n",
              "directions                   100\n",
              "weather                      100\n",
              "credit_score                 100\n",
              "flip_coin                    100\n",
              "pto_request_status           100\n",
              "yes                          100\n",
              "goodbye                      100\n",
              "timezone                     100\n",
              "insurance_change             100\n",
              "find_phone                   100\n",
              "account_blocked              100\n",
              "carry_on                     100\n",
              "translate                    100\n",
              "travel_notification          100\n",
              "card_declined                100\n",
              "gas                          100\n",
              "food_last                    100\n",
              "book_hotel                   100\n",
              "credit_limit_change          100\n",
              "timer                        100\n",
              "maybe                        100\n",
              "bill_balance                 100\n",
              "shopping_list                100\n",
              "reminder                     100\n",
              "update_playlist              100\n",
              "reset_settings               100\n",
              "tire_pressure                100\n",
              "confirm_reservation          100\n",
              "what_are_your_hobbies        100\n",
              "alarm                        100\n",
              "balance                      100\n",
              "repeat                       100\n",
              "spending_history             100\n",
              "share_location               100\n",
              "oos                          100\n",
              "pto_used                     100\n",
              "min_payment                  100\n",
              "book_flight                  100\n",
              "insurance                    100\n",
              "ingredients_list             100\n",
              "do_you_have_pets             100\n",
              "spelling                     100\n",
              "next_song                    100\n",
              "change_speed                 100\n",
              "rewards_balance              100\n",
              "change_user_name             100\n",
              "what_can_i_ask_you           100\n",
              "greeting                     100\n",
              "expiration_date              100\n",
              "text                         100\n",
              "calendar                     100\n",
              "report_fraud                 100\n",
              "reminder_update              100\n",
              "what_is_your_name            100\n",
              "apr                          100\n",
              "uber                         100\n",
              "whisper_mode                 100\n",
              "rollover_401k                100\n",
              "schedule_maintenance         100\n",
              "gas_type                     100\n",
              "direct_deposit               100\n",
              "schedule_meeting             100\n",
              "pto_request                  100\n",
              "tire_change                  100\n",
              "restaurant_reviews           100\n",
              "bill_due                     100\n",
              "definition                   100\n",
              "plug_type                    100\n",
              "ingredient_substitution      100\n",
              "credit_limit                 100\n",
              "measurement_conversion       100\n",
              "payday                       100\n",
              "calculator                   100\n",
              "income                       100\n",
              "distance                     100\n",
              "cancel                       100\n",
              "transactions                 100\n",
              "transfer                     100\n",
              "routing                      100\n",
              "current_location             100\n",
              "Name: intent, dtype: int64"
            ]
          },
          "metadata": {},
          "execution_count": 28
        }
      ]
    },
    {
      "cell_type": "code",
      "source": [
        "in_train['intent'].nunique(), val['intent'].nunique(), test['intent'].nunique()"
      ],
      "metadata": {
        "id": "WXJ-pC6RxeKt",
        "colab": {
          "base_uri": "https://localhost:8080/"
        },
        "outputId": "cc9e9fa0-f906-4c81-b2e4-b220a1e9766e"
      },
      "execution_count": null,
      "outputs": [
        {
          "output_type": "execute_result",
          "data": {
            "text/plain": [
              "(151, 151, 151)"
            ]
          },
          "metadata": {},
          "execution_count": 29
        }
      ]
    },
    {
      "cell_type": "code",
      "source": [
        "# oss_plus_train = pd.concat([in_train, oos_train],axis=0).reset_index(drop=True)\n",
        "# oss_plus_val = pd.concat([val,oos_val],axis=0).reset_index(drop=True)\n",
        "# oss_plus_test = pd.concat([test,oos_test],axis=0).reset_index(drop=True)"
      ],
      "metadata": {
        "id": "2lfJ_L2rx98X"
      },
      "execution_count": null,
      "outputs": []
    },
    {
      "cell_type": "code",
      "source": [
        "# oss_plus_train['intent'].nunique(), oss_plus_val['intent'].nunique(), oss_plus_test['intent'].nunique()"
      ],
      "metadata": {
        "id": "dSKiii4yyYX2"
      },
      "execution_count": null,
      "outputs": []
    },
    {
      "cell_type": "code",
      "source": [
        "# def binarize(df):\n",
        "#     df.intent = np.where(df.intent!='oos',0,1)\n",
        "#     return df"
      ],
      "metadata": {
        "id": "yT2MTkXsxNGn"
      },
      "execution_count": null,
      "outputs": []
    },
    {
      "cell_type": "code",
      "source": [
        "# oos_plus_train = binarize(pd.concat([in_train,oos_train],axis=0).reset_index(drop=True))\n",
        "# oos_plus_val = binarize(pd.concat([val,oos_val],axis=0).reset_index(drop=True))\n",
        "# oos_plus_test = binarize(pd.concat([test,oos_test],axis=0).reset_index(drop=True))"
      ],
      "metadata": {
        "id": "83wot8Wjvsde"
      },
      "execution_count": null,
      "outputs": []
    },
    {
      "cell_type": "code",
      "source": [
        "# oos_count = oos_plus_train.intent.value_counts()\n",
        "# oos_count"
      ],
      "metadata": {
        "id": "4B_k1NCpw-N2"
      },
      "execution_count": null,
      "outputs": []
    },
    {
      "cell_type": "code",
      "source": [
        "# oss_plus_train.head()"
      ],
      "metadata": {
        "id": "dRLfZcudyyYJ"
      },
      "execution_count": null,
      "outputs": []
    },
    {
      "cell_type": "code",
      "source": [
        "from sklearn.preprocessing import LabelBinarizer\n",
        "labelBinary = LabelBinarizer()\n",
        " \n",
        "labels = labelBinary.fit_transform(in_train['intent'])\n",
        "text = in_train['text']\n",
        "# import numpy as np\n",
        "# val = [\n",
        "#        [0, 0, 1],\n",
        "#        [1, 0, 0]\n",
        "# ]\n",
        " \n",
        "# lb.inverse_transform(np.asarray(val))"
      ],
      "metadata": {
        "id": "sNekS6YaxPN5"
      },
      "execution_count": null,
      "outputs": []
    },
    {
      "cell_type": "code",
      "source": [
        "labelBinary.classes_"
      ],
      "metadata": {
        "colab": {
          "base_uri": "https://localhost:8080/"
        },
        "id": "6vl_trBK0TBV",
        "outputId": "0b65cc7d-f060-4a87-a87e-5b4b8d00eaf4"
      },
      "execution_count": null,
      "outputs": [
        {
          "output_type": "execute_result",
          "data": {
            "text/plain": [
              "array(['accept_reservations', 'account_blocked', 'alarm',\n",
              "       'application_status', 'apr', 'are_you_a_bot', 'balance',\n",
              "       'bill_balance', 'bill_due', 'book_flight', 'book_hotel',\n",
              "       'calculator', 'calendar', 'calendar_update', 'calories', 'cancel',\n",
              "       'cancel_reservation', 'car_rental', 'card_declined', 'carry_on',\n",
              "       'change_accent', 'change_ai_name', 'change_language',\n",
              "       'change_speed', 'change_user_name', 'change_volume',\n",
              "       'confirm_reservation', 'cook_time', 'credit_limit',\n",
              "       'credit_limit_change', 'credit_score', 'current_location',\n",
              "       'damaged_card', 'date', 'definition', 'direct_deposit',\n",
              "       'directions', 'distance', 'do_you_have_pets', 'exchange_rate',\n",
              "       'expiration_date', 'find_phone', 'flight_status', 'flip_coin',\n",
              "       'food_last', 'freeze_account', 'fun_fact', 'gas', 'gas_type',\n",
              "       'goodbye', 'greeting', 'how_busy', 'how_old_are_you',\n",
              "       'improve_credit_score', 'income', 'ingredient_substitution',\n",
              "       'ingredients_list', 'insurance', 'insurance_change',\n",
              "       'interest_rate', 'international_fees', 'international_visa',\n",
              "       'jump_start', 'last_maintenance', 'lost_luggage', 'make_call',\n",
              "       'maybe', 'meal_suggestion', 'meaning_of_life',\n",
              "       'measurement_conversion', 'meeting_schedule', 'min_payment', 'mpg',\n",
              "       'new_card', 'next_holiday', 'next_song', 'no', 'nutrition_info',\n",
              "       'oil_change_how', 'oil_change_when', 'oos', 'order',\n",
              "       'order_checks', 'order_status', 'pay_bill', 'payday', 'pin_change',\n",
              "       'play_music', 'plug_type', 'pto_balance', 'pto_request',\n",
              "       'pto_request_status', 'pto_used', 'recipe', 'redeem_rewards',\n",
              "       'reminder', 'reminder_update', 'repeat',\n",
              "       'replacement_card_duration', 'report_fraud', 'report_lost_card',\n",
              "       'reset_settings', 'restaurant_reservation', 'restaurant_reviews',\n",
              "       'restaurant_suggestion', 'rewards_balance', 'roll_dice',\n",
              "       'rollover_401k', 'routing', 'schedule_maintenance',\n",
              "       'schedule_meeting', 'share_location', 'shopping_list',\n",
              "       'shopping_list_update', 'smart_home', 'spelling',\n",
              "       'spending_history', 'sync_device', 'taxes', 'tell_joke', 'text',\n",
              "       'thank_you', 'time', 'timer', 'timezone', 'tire_change',\n",
              "       'tire_pressure', 'todo_list', 'todo_list_update', 'traffic',\n",
              "       'transactions', 'transfer', 'translate', 'travel_alert',\n",
              "       'travel_notification', 'travel_suggestion', 'uber',\n",
              "       'update_playlist', 'user_name', 'vaccines', 'w2', 'weather',\n",
              "       'what_are_your_hobbies', 'what_can_i_ask_you', 'what_is_your_name',\n",
              "       'what_song', 'where_are_you_from', 'whisper_mode',\n",
              "       'who_do_you_work_for', 'who_made_you', 'yes'], dtype='<U25')"
            ]
          },
          "metadata": {},
          "execution_count": 37
        }
      ]
    },
    {
      "cell_type": "code",
      "source": [
        "import pickle\n",
        "\n",
        "labelpath = 'label-151.pkl'\n",
        "with open(labelpath, 'wb') as handle:\n",
        "    pickle.dump(labelBinary, handle, protocol=pickle.HIGHEST_PROTOCOL)"
      ],
      "metadata": {
        "id": "RYx3IvRe0WF6"
      },
      "execution_count": null,
      "outputs": []
    },
    {
      "cell_type": "code",
      "source": [
        "print(labels.shape, text.shape)"
      ],
      "metadata": {
        "colab": {
          "base_uri": "https://localhost:8080/"
        },
        "id": "TRmbO9U40WAr",
        "outputId": "5749463c-78ef-4065-e98b-0eeb6e5bb3f0"
      },
      "execution_count": null,
      "outputs": [
        {
          "output_type": "stream",
          "name": "stdout",
          "text": [
            "(15100, 151) (15100,)\n"
          ]
        }
      ]
    },
    {
      "cell_type": "code",
      "source": [
        "labels"
      ],
      "metadata": {
        "colab": {
          "base_uri": "https://localhost:8080/"
        },
        "id": "RtrSOrONTq4A",
        "outputId": "06f3756e-800a-4cad-cad1-db439493d175"
      },
      "execution_count": null,
      "outputs": [
        {
          "output_type": "execute_result",
          "data": {
            "text/plain": [
              "array([[0, 0, 0, ..., 0, 0, 0],\n",
              "       [0, 0, 0, ..., 0, 0, 0],\n",
              "       [0, 0, 0, ..., 0, 0, 1],\n",
              "       ...,\n",
              "       [0, 0, 0, ..., 0, 0, 0],\n",
              "       [0, 0, 0, ..., 0, 0, 0],\n",
              "       [0, 0, 0, ..., 0, 0, 0]])"
            ]
          },
          "metadata": {},
          "execution_count": 40
        }
      ]
    },
    {
      "cell_type": "markdown",
      "source": [
        "#### Transform validation dataset"
      ],
      "metadata": {
        "id": "u-xKz0Rh4jog"
      }
    },
    {
      "cell_type": "code",
      "source": [
        "val.head()"
      ],
      "metadata": {
        "id": "iVjGWs5y4u3S",
        "colab": {
          "base_uri": "https://localhost:8080/",
          "height": 206
        },
        "outputId": "c84c726d-0349-47a0-c36c-e362f986a3e3"
      },
      "execution_count": null,
      "outputs": [
        {
          "output_type": "execute_result",
          "data": {
            "text/html": [
              "\n",
              "  <div id=\"df-a0703b29-960a-4dd7-aa32-363bc6cf88c0\">\n",
              "    <div class=\"colab-df-container\">\n",
              "      <div>\n",
              "<style scoped>\n",
              "    .dataframe tbody tr th:only-of-type {\n",
              "        vertical-align: middle;\n",
              "    }\n",
              "\n",
              "    .dataframe tbody tr th {\n",
              "        vertical-align: top;\n",
              "    }\n",
              "\n",
              "    .dataframe thead th {\n",
              "        text-align: right;\n",
              "    }\n",
              "</style>\n",
              "<table border=\"1\" class=\"dataframe\">\n",
              "  <thead>\n",
              "    <tr style=\"text-align: right;\">\n",
              "      <th></th>\n",
              "      <th>text</th>\n",
              "      <th>intent</th>\n",
              "    </tr>\n",
              "  </thead>\n",
              "  <tbody>\n",
              "    <tr>\n",
              "      <th>0</th>\n",
              "      <td>how much do i need to pay in tax</td>\n",
              "      <td>taxes</td>\n",
              "    </tr>\n",
              "    <tr>\n",
              "      <th>1</th>\n",
              "      <td>forget reservation at longhorn for 4</td>\n",
              "      <td>cancel_reservation</td>\n",
              "    </tr>\n",
              "    <tr>\n",
              "      <th>2</th>\n",
              "      <td>is rice bad after 3 days in fridge</td>\n",
              "      <td>food_last</td>\n",
              "    </tr>\n",
              "    <tr>\n",
              "      <th>3</th>\n",
              "      <td>i want to change your name to sarah</td>\n",
              "      <td>change_ai_name</td>\n",
              "    </tr>\n",
              "    <tr>\n",
              "      <th>4</th>\n",
              "      <td>what do i get paid</td>\n",
              "      <td>income</td>\n",
              "    </tr>\n",
              "  </tbody>\n",
              "</table>\n",
              "</div>\n",
              "      <button class=\"colab-df-convert\" onclick=\"convertToInteractive('df-a0703b29-960a-4dd7-aa32-363bc6cf88c0')\"\n",
              "              title=\"Convert this dataframe to an interactive table.\"\n",
              "              style=\"display:none;\">\n",
              "        \n",
              "  <svg xmlns=\"http://www.w3.org/2000/svg\" height=\"24px\"viewBox=\"0 0 24 24\"\n",
              "       width=\"24px\">\n",
              "    <path d=\"M0 0h24v24H0V0z\" fill=\"none\"/>\n",
              "    <path d=\"M18.56 5.44l.94 2.06.94-2.06 2.06-.94-2.06-.94-.94-2.06-.94 2.06-2.06.94zm-11 1L8.5 8.5l.94-2.06 2.06-.94-2.06-.94L8.5 2.5l-.94 2.06-2.06.94zm10 10l.94 2.06.94-2.06 2.06-.94-2.06-.94-.94-2.06-.94 2.06-2.06.94z\"/><path d=\"M17.41 7.96l-1.37-1.37c-.4-.4-.92-.59-1.43-.59-.52 0-1.04.2-1.43.59L10.3 9.45l-7.72 7.72c-.78.78-.78 2.05 0 2.83L4 21.41c.39.39.9.59 1.41.59.51 0 1.02-.2 1.41-.59l7.78-7.78 2.81-2.81c.8-.78.8-2.07 0-2.86zM5.41 20L4 18.59l7.72-7.72 1.47 1.35L5.41 20z\"/>\n",
              "  </svg>\n",
              "      </button>\n",
              "      \n",
              "  <style>\n",
              "    .colab-df-container {\n",
              "      display:flex;\n",
              "      flex-wrap:wrap;\n",
              "      gap: 12px;\n",
              "    }\n",
              "\n",
              "    .colab-df-convert {\n",
              "      background-color: #E8F0FE;\n",
              "      border: none;\n",
              "      border-radius: 50%;\n",
              "      cursor: pointer;\n",
              "      display: none;\n",
              "      fill: #1967D2;\n",
              "      height: 32px;\n",
              "      padding: 0 0 0 0;\n",
              "      width: 32px;\n",
              "    }\n",
              "\n",
              "    .colab-df-convert:hover {\n",
              "      background-color: #E2EBFA;\n",
              "      box-shadow: 0px 1px 2px rgba(60, 64, 67, 0.3), 0px 1px 3px 1px rgba(60, 64, 67, 0.15);\n",
              "      fill: #174EA6;\n",
              "    }\n",
              "\n",
              "    [theme=dark] .colab-df-convert {\n",
              "      background-color: #3B4455;\n",
              "      fill: #D2E3FC;\n",
              "    }\n",
              "\n",
              "    [theme=dark] .colab-df-convert:hover {\n",
              "      background-color: #434B5C;\n",
              "      box-shadow: 0px 1px 3px 1px rgba(0, 0, 0, 0.15);\n",
              "      filter: drop-shadow(0px 1px 2px rgba(0, 0, 0, 0.3));\n",
              "      fill: #FFFFFF;\n",
              "    }\n",
              "  </style>\n",
              "\n",
              "      <script>\n",
              "        const buttonEl =\n",
              "          document.querySelector('#df-a0703b29-960a-4dd7-aa32-363bc6cf88c0 button.colab-df-convert');\n",
              "        buttonEl.style.display =\n",
              "          google.colab.kernel.accessAllowed ? 'block' : 'none';\n",
              "\n",
              "        async function convertToInteractive(key) {\n",
              "          const element = document.querySelector('#df-a0703b29-960a-4dd7-aa32-363bc6cf88c0');\n",
              "          const dataTable =\n",
              "            await google.colab.kernel.invokeFunction('convertToInteractive',\n",
              "                                                     [key], {});\n",
              "          if (!dataTable) return;\n",
              "\n",
              "          const docLinkHtml = 'Like what you see? Visit the ' +\n",
              "            '<a target=\"_blank\" href=https://colab.research.google.com/notebooks/data_table.ipynb>data table notebook</a>'\n",
              "            + ' to learn more about interactive tables.';\n",
              "          element.innerHTML = '';\n",
              "          dataTable['output_type'] = 'display_data';\n",
              "          await google.colab.output.renderOutput(dataTable, element);\n",
              "          const docLink = document.createElement('div');\n",
              "          docLink.innerHTML = docLinkHtml;\n",
              "          element.appendChild(docLink);\n",
              "        }\n",
              "      </script>\n",
              "    </div>\n",
              "  </div>\n",
              "  "
            ],
            "text/plain": [
              "                                   text              intent\n",
              "0      how much do i need to pay in tax               taxes\n",
              "1  forget reservation at longhorn for 4  cancel_reservation\n",
              "2    is rice bad after 3 days in fridge           food_last\n",
              "3   i want to change your name to sarah      change_ai_name\n",
              "4                    what do i get paid              income"
            ]
          },
          "metadata": {},
          "execution_count": 41
        }
      ]
    },
    {
      "cell_type": "code",
      "source": [
        "val_labels = labelBinary.transform(val['intent'])\n",
        "val_text = val['text']"
      ],
      "metadata": {
        "id": "tpiQxFH04jBS"
      },
      "execution_count": null,
      "outputs": []
    },
    {
      "cell_type": "code",
      "source": [
        "val_labels"
      ],
      "metadata": {
        "colab": {
          "base_uri": "https://localhost:8080/"
        },
        "id": "-oWbhHXlS9ZV",
        "outputId": "4996024a-1b2e-454e-8d5a-28dd6ee83d55"
      },
      "execution_count": null,
      "outputs": [
        {
          "output_type": "execute_result",
          "data": {
            "text/plain": [
              "array([[0, 0, 0, ..., 0, 0, 0],\n",
              "       [0, 0, 0, ..., 0, 0, 0],\n",
              "       [0, 0, 0, ..., 0, 0, 0],\n",
              "       ...,\n",
              "       [0, 0, 0, ..., 0, 0, 0],\n",
              "       [0, 0, 0, ..., 0, 0, 0],\n",
              "       [0, 0, 0, ..., 0, 0, 0]])"
            ]
          },
          "metadata": {},
          "execution_count": 43
        }
      ]
    },
    {
      "cell_type": "markdown",
      "metadata": {
        "id": "bWRbhw8qOljk"
      },
      "source": [
        "### **Download & Load Word Vectors for Embedding (Glove)**"
      ]
    },
    {
      "cell_type": "markdown",
      "metadata": {
        "id": "mQQh-7I_McGj"
      },
      "source": [
        "* *Download and extract word vectors Glove*"
      ]
    },
    {
      "cell_type": "code",
      "metadata": {
        "id": "-jo10NRyMTmG",
        "colab": {
          "base_uri": "https://localhost:8080/"
        },
        "outputId": "7d7a7851-f8e8-4ca6-f8cb-8a2147b0acdb"
      },
      "source": [
        "# %%time\n",
        "\n",
        "import zipfile\n",
        "!wget http://nlp.stanford.edu/data/glove.840B.300d.zip\n",
        "zip_file = zipfile.ZipFile('glove.840B.300d.zip')\n",
        "zip_file.extractall()"
      ],
      "execution_count": null,
      "outputs": [
        {
          "output_type": "stream",
          "name": "stdout",
          "text": [
            "--2022-01-05 07:49:27--  http://nlp.stanford.edu/data/glove.840B.300d.zip\n",
            "Resolving nlp.stanford.edu (nlp.stanford.edu)... 171.64.67.140\n",
            "Connecting to nlp.stanford.edu (nlp.stanford.edu)|171.64.67.140|:80... connected.\n",
            "HTTP request sent, awaiting response... 302 Found\n",
            "Location: https://nlp.stanford.edu/data/glove.840B.300d.zip [following]\n",
            "--2022-01-05 07:49:27--  https://nlp.stanford.edu/data/glove.840B.300d.zip\n",
            "Connecting to nlp.stanford.edu (nlp.stanford.edu)|171.64.67.140|:443... connected.\n",
            "HTTP request sent, awaiting response... 301 Moved Permanently\n",
            "Location: http://downloads.cs.stanford.edu/nlp/data/glove.840B.300d.zip [following]\n",
            "--2022-01-05 07:49:27--  http://downloads.cs.stanford.edu/nlp/data/glove.840B.300d.zip\n",
            "Resolving downloads.cs.stanford.edu (downloads.cs.stanford.edu)... 171.64.64.22\n",
            "Connecting to downloads.cs.stanford.edu (downloads.cs.stanford.edu)|171.64.64.22|:80... connected.\n",
            "HTTP request sent, awaiting response... 200 OK\n",
            "Length: 2176768927 (2.0G) [application/zip]\n",
            "Saving to: ‘glove.840B.300d.zip’\n",
            "\n",
            "glove.840B.300d.zip 100%[===================>]   2.03G  4.95MB/s    in 6m 53s  \n",
            "\n",
            "2022-01-05 07:56:20 (5.03 MB/s) - ‘glove.840B.300d.zip’ saved [2176768927/2176768927]\n",
            "\n"
          ]
        }
      ]
    },
    {
      "cell_type": "markdown",
      "metadata": {
        "id": "TGHB3FeGOSiG"
      },
      "source": [
        "* *Load Word vectors in memory*"
      ]
    },
    {
      "cell_type": "code",
      "metadata": {
        "colab": {
          "base_uri": "https://localhost:8080/",
          "height": 116,
          "referenced_widgets": [
            "0f584dc46c19442bbe501c1c4f6848f5",
            "f3bc1aebd4144063aecb635c4c2a1786",
            "a670a28fab6e4588a76014a02b20daac",
            "f4459b6ec4ff490e987aa8ea65361534",
            "50c260a645784b34ae78d6a20de22cc1",
            "5a0b9b69b0414bff96a27c77f46945b7",
            "4c3581feba6e430f907be837d32a332e",
            "837f42f83a1f4e1e9bc3b0d6c35742f2",
            "dc7fdf04fe0847659fb015318ee2579e",
            "4ebcfbda5121407b9ea48a041715d7b2",
            "c7e12203836d4b41a04da9ad4fb86ea1",
            "015248f089054a8ab25e520eb8c75678",
            "c6cd05364e0c4ba68e8d06cc6f4efe1b",
            "9241f2e3722642cc972527fe9f75e700",
            "a384e88c968d4f6ea884c817a56cd7eb",
            "022f12e8b67f40248bb4a7b46a7b7da3",
            "35bc90ba8fa041e381bf24d65789b996",
            "b0a78281a4424233b273cf823227b86b",
            "bc2b86142a4b45b9932da7ec91d20358",
            "296422643ac44ca7b789884e21548ce3",
            "3ab1d3dbd4ab4466b04f04223a93de07",
            "edf4c29549664f6aa2fd7b90a50cf099"
          ]
        },
        "id": "49DV0K0HMit7",
        "outputId": "f609483d-ac3d-4904-c65e-466f2146adf8"
      },
      "source": [
        "%%time\n",
        "\n",
        "from tqdm.notebook import tqdm\n",
        "import numpy as np \n",
        " \n",
        "def get_coefs(word, *arr):\n",
        "    try:\n",
        "        return word, np.asarray(arr, dtype='float32')\n",
        "    except:\n",
        "        return None, None\n",
        "\n",
        "embedding_path = '/content/drive/MyDrive/glove.840B.300d.txt'\n",
        "embeddings_index = dict(get_coefs(*o.strip().split()) for o in tqdm(open(\n",
        "    embedding_path)))\n",
        " \n",
        "embed_size=300\n",
        " \n",
        "for k in tqdm(list(embeddings_index.keys())):\n",
        "    v = embeddings_index[k]\n",
        "    try:\n",
        "        if v.shape != (embed_size, ):\n",
        "            embeddings_index.pop(k)\n",
        "    except:\n",
        "        pass\n",
        " \n",
        "if None in embeddings_index:\n",
        "  embeddings_index.pop(None)\n",
        "  \n",
        "values = list(embeddings_index.values())\n",
        "all_embs = np.stack(values)\n",
        " \n",
        "emb_mean, emb_std = all_embs.mean(), all_embs.std()"
      ],
      "execution_count": null,
      "outputs": [
        {
          "output_type": "display_data",
          "data": {
            "application/vnd.jupyter.widget-view+json": {
              "model_id": "0f584dc46c19442bbe501c1c4f6848f5",
              "version_minor": 0,
              "version_major": 2
            },
            "text/plain": [
              "0it [00:00, ?it/s]"
            ]
          },
          "metadata": {}
        },
        {
          "output_type": "display_data",
          "data": {
            "application/vnd.jupyter.widget-view+json": {
              "model_id": "015248f089054a8ab25e520eb8c75678",
              "version_minor": 0,
              "version_major": 2
            },
            "text/plain": [
              "  0%|          | 0/2195885 [00:00<?, ?it/s]"
            ]
          },
          "metadata": {}
        },
        {
          "output_type": "stream",
          "name": "stdout",
          "text": [
            "CPU times: user 3min 1s, sys: 16.1 s, total: 3min 17s\n",
            "Wall time: 3min 19s\n"
          ]
        }
      ]
    },
    {
      "cell_type": "markdown",
      "metadata": {
        "id": "3lIexLVw5klJ"
      },
      "source": [
        "### **Tokenizing the Dataset using keras**\n",
        "\n"
      ]
    },
    {
      "cell_type": "markdown",
      "metadata": {
        "id": "dtipf4Ad5ebS"
      },
      "source": [
        "* *Read the train and test file from directory and split the train dataset in train test split*"
      ]
    },
    {
      "cell_type": "code",
      "metadata": {
        "id": "uVgNOXuSr-nR"
      },
      "source": [
        "import tensorflow"
      ],
      "execution_count": null,
      "outputs": []
    },
    {
      "cell_type": "code",
      "metadata": {
        "id": "-msqkEAe56GW"
      },
      "source": [
        "from tensorflow.keras.preprocessing.text import Tokenizer\n",
        "from tensorflow.keras.preprocessing.text import text_to_word_sequence\n",
        "from tensorflow.keras.preprocessing.sequence import pad_sequences\n",
        " \n",
        " \n",
        "from tensorflow.keras.models import Model\n",
        "from tensorflow.keras.models import Sequential\n",
        " \n",
        "from tensorflow.keras.layers import Input, Dense, Embedding, Conv1D, Conv2D, MaxPooling1D, MaxPool2D\n",
        "from tensorflow.keras.layers import Reshape, Flatten, Dropout, Concatenate\n",
        "from tensorflow.keras.layers import SpatialDropout1D, concatenate\n",
        "from tensorflow.keras.layers import GRU,LSTM,Bidirectional, GlobalAveragePooling1D, GlobalMaxPooling1D\n",
        "from tensorflow.keras.layers import TimeDistributed\n",
        " \n",
        "from tensorflow.keras.callbacks import Callback\n",
        "from tensorflow.keras.optimizers import Adam\n",
        " \n",
        "from tensorflow.keras.callbacks import ModelCheckpoint, EarlyStopping"
      ],
      "execution_count": null,
      "outputs": []
    },
    {
      "cell_type": "markdown",
      "metadata": {
        "id": "IyhQy2whXgmK"
      },
      "source": [
        "#### **Save Keras Tokenizer**"
      ]
    },
    {
      "cell_type": "code",
      "metadata": {
        "colab": {
          "base_uri": "https://localhost:8080/"
        },
        "id": "4Fg0FozOvNms",
        "outputId": "b8881fb1-db5f-43c4-e379-56c9a6f0c1a0"
      },
      "source": [
        "text.map(len).max()"
      ],
      "execution_count": null,
      "outputs": [
        {
          "output_type": "execute_result",
          "data": {
            "text/plain": [
              "136"
            ]
          },
          "metadata": {},
          "execution_count": 47
        }
      ]
    },
    {
      "cell_type": "code",
      "metadata": {
        "colab": {
          "base_uri": "https://localhost:8080/"
        },
        "id": "lFJhazYhtB7B",
        "outputId": "87fc1411-c1c7-44e4-abe1-e6e19ab3dc91"
      },
      "source": [
        "%%time\n",
        "MAX_NB_WORDS = 10000\n",
        "# tokenizer = Tokenizer(num_words=MAX_NB_WORDS)\n",
        "tokenizer = Tokenizer(num_words=MAX_NB_WORDS)\n",
        "tokenizer.fit_on_texts(text)"
      ],
      "execution_count": null,
      "outputs": [
        {
          "output_type": "stream",
          "name": "stdout",
          "text": [
            "CPU times: user 216 ms, sys: 733 µs, total: 217 ms\n",
            "Wall time: 217 ms\n"
          ]
        }
      ]
    },
    {
      "cell_type": "code",
      "metadata": {
        "colab": {
          "base_uri": "https://localhost:8080/"
        },
        "id": "CwwezOjS9A67",
        "outputId": "10075ca0-32e1-4369-dcf9-6f0365223bbd"
      },
      "source": [
        "%%time\n",
        "train_sequences = tokenizer.texts_to_sequences(text)"
      ],
      "execution_count": null,
      "outputs": [
        {
          "output_type": "stream",
          "name": "stdout",
          "text": [
            "CPU times: user 367 ms, sys: 2.67 ms, total: 370 ms\n",
            "Wall time: 372 ms\n"
          ]
        }
      ]
    },
    {
      "cell_type": "code",
      "metadata": {
        "colab": {
          "base_uri": "https://localhost:8080/"
        },
        "id": "9r4OI_naXdx1",
        "outputId": "fadce5c6-5bfd-47fe-c66a-71a5248d9fd4"
      },
      "source": [
        "train_sequences[:3]"
      ],
      "execution_count": null,
      "outputs": [
        {
          "output_type": "execute_result",
          "data": {
            "text/plain": [
              "[[10, 24, 257, 8, 5, 2, 75, 4, 211, 188],\n",
              " [664, 8, 7, 665, 27, 584, 283],\n",
              " [536]]"
            ]
          },
          "metadata": {},
          "execution_count": 50
        }
      ]
    },
    {
      "cell_type": "code",
      "metadata": {
        "colab": {
          "base_uri": "https://localhost:8080/"
        },
        "id": "mnRau9Vzz89W",
        "outputId": "6a9fb73b-f5b9-4a2c-f9d8-54f40191322e"
      },
      "source": [
        "print(text[0], train_sequences[0])"
      ],
      "execution_count": null,
      "outputs": [
        {
          "output_type": "stream",
          "name": "stdout",
          "text": [
            "is it possible for you to use the whisper voice [10, 24, 257, 8, 5, 2, 75, 4, 211, 188]\n"
          ]
        }
      ]
    },
    {
      "cell_type": "code",
      "metadata": {
        "id": "nOx4Up9Pi7N2"
      },
      "source": [
        "def FindMaxLength(lst): \n",
        "    maxList = max(lst, key = lambda i: len(i)) \n",
        "    maxLength = len(maxList) \n",
        "    return maxLength\n",
        "\n",
        "MAX_LENGTH = FindMaxLength(train_sequences)"
      ],
      "execution_count": null,
      "outputs": []
    },
    {
      "cell_type": "code",
      "metadata": {
        "colab": {
          "base_uri": "https://localhost:8080/"
        },
        "id": "S4jdN62foenP",
        "outputId": "5de805b9-531b-42bf-de34-fc14e8fff98c"
      },
      "source": [
        "print(MAX_LENGTH)"
      ],
      "execution_count": null,
      "outputs": [
        {
          "output_type": "stream",
          "name": "stdout",
          "text": [
            "28\n"
          ]
        }
      ]
    },
    {
      "cell_type": "markdown",
      "metadata": {
        "id": "R9DSBV4f9IoR"
      },
      "source": [
        "* Now the Sentences are mapped to lists of integers. However, we still cannot stack them together in a matrix since they have different lengths.\n",
        "Hopefully Keras allows to **pad** sequences with **0s** to a maximum length. We'll set this length to 425."
      ]
    },
    {
      "cell_type": "code",
      "metadata": {
        "colab": {
          "base_uri": "https://localhost:8080/"
        },
        "id": "h3EKPUNe9Ecm",
        "outputId": "fda71123-59c1-4506-fbd1-4fb3a542b20a"
      },
      "source": [
        "%%time\n",
        "padded_train_sequences = pad_sequences(train_sequences, maxlen=MAX_LENGTH)"
      ],
      "execution_count": null,
      "outputs": [
        {
          "output_type": "stream",
          "name": "stdout",
          "text": [
            "CPU times: user 79.6 ms, sys: 0 ns, total: 79.6 ms\n",
            "Wall time: 83.6 ms\n"
          ]
        }
      ]
    },
    {
      "cell_type": "code",
      "metadata": {
        "colab": {
          "base_uri": "https://localhost:8080/"
        },
        "id": "WaDSp1ZE-Jpk",
        "outputId": "0271d429-0313-4fcd-8fba-ae927427abce"
      },
      "source": [
        "%%time\n",
        "padded_train_sequences"
      ],
      "execution_count": null,
      "outputs": [
        {
          "output_type": "stream",
          "name": "stdout",
          "text": [
            "CPU times: user 4 µs, sys: 0 ns, total: 4 µs\n",
            "Wall time: 9.3 µs\n"
          ]
        },
        {
          "output_type": "execute_result",
          "data": {
            "text/plain": [
              "array([[  0,   0,   0, ...,   4, 211, 188],\n",
              "       [  0,   0,   0, ...,  27, 584, 283],\n",
              "       [  0,   0,   0, ...,   0,   0, 536],\n",
              "       ...,\n",
              "       [  0,   0,   0, ...,  15,   4, 303],\n",
              "       [  0,   0,   0, ...,   0, 165, 221],\n",
              "       [  0,   0,   0, ...,   6,  22, 210]], dtype=int32)"
            ]
          },
          "metadata": {},
          "execution_count": 55
        }
      ]
    },
    {
      "cell_type": "code",
      "metadata": {
        "colab": {
          "base_uri": "https://localhost:8080/"
        },
        "id": "MR5FrUKX-R08",
        "outputId": "a5384220-82c5-426a-b35c-bbbc469a07d3"
      },
      "source": [
        "%%time\n",
        "padded_train_sequences.shape"
      ],
      "execution_count": null,
      "outputs": [
        {
          "output_type": "stream",
          "name": "stdout",
          "text": [
            "CPU times: user 6 µs, sys: 0 ns, total: 6 µs\n",
            "Wall time: 8.82 µs\n"
          ]
        },
        {
          "output_type": "execute_result",
          "data": {
            "text/plain": [
              "(15100, 28)"
            ]
          },
          "metadata": {},
          "execution_count": 56
        }
      ]
    },
    {
      "cell_type": "code",
      "metadata": {
        "id": "4OjGiot5UdGn"
      },
      "source": [
        "import pickle\n",
        " \n",
        "with open('token-28.pkl', 'wb') as handle:\n",
        "    pickle.dump(tokenizer, handle, protocol=pickle.HIGHEST_PROTOCOL)"
      ],
      "execution_count": null,
      "outputs": []
    },
    {
      "cell_type": "markdown",
      "metadata": {
        "id": "EtZlVLSEsxRT"
      },
      "source": [
        "#### **Use Saved keras tokenizer**"
      ]
    },
    {
      "cell_type": "code",
      "metadata": {
        "id": "bXhRRXKd3o4z"
      },
      "source": [
        "import pickle\n",
        "cat_token = 'token-28.pkl'\n",
        "with open(cat_token, 'rb') as handle:\n",
        "    load_token = pickle.load(handle)"
      ],
      "execution_count": null,
      "outputs": []
    },
    {
      "cell_type": "code",
      "metadata": {
        "colab": {
          "base_uri": "https://localhost:8080/",
          "height": 35
        },
        "id": "rDM3udJkW2hw",
        "outputId": "54b4b278-534e-45d1-d3bd-f56a4e90ce23"
      },
      "source": [
        "text[2]"
      ],
      "execution_count": null,
      "outputs": [
        {
          "output_type": "execute_result",
          "data": {
            "application/vnd.google.colaboratory.intrinsic+json": {
              "type": "string"
            },
            "text/plain": [
              "'correct'"
            ]
          },
          "metadata": {},
          "execution_count": 59
        }
      ]
    },
    {
      "cell_type": "code",
      "metadata": {
        "id": "SD7R7zUW5Fsw"
      },
      "source": [
        "# MAX_LENGTH = 28\n",
        "train_sequences = load_token.texts_to_sequences(text)\n",
        "padded_train_sequences = pad_sequences(train_sequences, maxlen=MAX_LENGTH)\n",
        "\n",
        "# padding val\n",
        "val_sequences = load_token.texts_to_sequences(val_text)\n",
        "padded_val_sequences = pad_sequences(val_sequences, maxlen=MAX_LENGTH)"
      ],
      "execution_count": null,
      "outputs": []
    },
    {
      "cell_type": "code",
      "metadata": {
        "colab": {
          "base_uri": "https://localhost:8080/"
        },
        "id": "6sbk6cclMS7I",
        "outputId": "a4d45530-c301-4840-b1c0-be93b5deab3c"
      },
      "source": [
        "padded_train_sequences.shape"
      ],
      "execution_count": null,
      "outputs": [
        {
          "output_type": "execute_result",
          "data": {
            "text/plain": [
              "(15100, 28)"
            ]
          },
          "metadata": {},
          "execution_count": 61
        }
      ]
    },
    {
      "cell_type": "code",
      "source": [
        "padded_val_sequences.shape"
      ],
      "metadata": {
        "id": "HITN1QTyzN7O",
        "colab": {
          "base_uri": "https://localhost:8080/"
        },
        "outputId": "55b24aab-d318-42b4-c3b7-1b388045cd7d"
      },
      "execution_count": null,
      "outputs": [
        {
          "output_type": "execute_result",
          "data": {
            "text/plain": [
              "(3100, 28)"
            ]
          },
          "metadata": {},
          "execution_count": 62
        }
      ]
    },
    {
      "cell_type": "markdown",
      "metadata": {
        "id": "utRC5pB8_AJw"
      },
      "source": [
        "### **Training Model using Glove Embedding while using RNN & CNN**"
      ]
    },
    {
      "cell_type": "code",
      "metadata": {
        "colab": {
          "base_uri": "https://localhost:8080/",
          "height": 101,
          "referenced_widgets": [
            "c2368dee050243abbc3855bff1ce8648",
            "513839706afb46ffa68215f52c804e41",
            "923d88c3863847558842c3f91e67132d",
            "6bfe4465e2074188b8960129c21f0459",
            "cb843e4713014310ac9e745b63a5b6d0",
            "b415b4dcbc0c4c00855bc2820fe29305",
            "9589df644e4f4e3da7f6019a04851454",
            "591792d69b0a4bf99eb4985a3cc2ddbd",
            "38d0f683f042423ca4759cf776099348",
            "355784fd8fde4a4a9e73e93ffa59b196",
            "30ab69d3bec04be79db29e902597e0b6"
          ]
        },
        "id": "FkkFCyOX5klK",
        "outputId": "28c9414b-f260-471d-8986-e56d2ae088f7"
      },
      "source": [
        "%%time\n",
        "# MAX_NB_WORDS = 2600\n",
        "word_index = load_token.word_index\n",
        "nb_words = MAX_NB_WORDS\n",
        "embedding_matrix = np.random.normal(emb_mean, emb_std, (nb_words, embed_size))\n",
        " \n",
        "oov = 0\n",
        "for word, i in tqdm(word_index.items()):\n",
        "    if i >= MAX_NB_WORDS: continue\n",
        "    embedding_vector = embeddings_index.get(word)\n",
        "    if embedding_vector is not None:\n",
        "        embedding_matrix[i] = embedding_vector\n",
        "    else:\n",
        "        oov += 1\n",
        " \n",
        "print(oov)"
      ],
      "execution_count": null,
      "outputs": [
        {
          "output_type": "display_data",
          "data": {
            "application/vnd.jupyter.widget-view+json": {
              "model_id": "c2368dee050243abbc3855bff1ce8648",
              "version_minor": 0,
              "version_major": 2
            },
            "text/plain": [
              "  0%|          | 0/5350 [00:00<?, ?it/s]"
            ]
          },
          "metadata": {}
        },
        {
          "output_type": "stream",
          "name": "stdout",
          "text": [
            "340\n",
            "CPU times: user 208 ms, sys: 11 ms, total: 219 ms\n",
            "Wall time: 233 ms\n"
          ]
        }
      ]
    },
    {
      "cell_type": "markdown",
      "metadata": {
        "id": "iZVvISMGRefj"
      },
      "source": [
        "* Loading the Layers and Embedding"
      ]
    },
    {
      "cell_type": "code",
      "metadata": {
        "colab": {
          "base_uri": "https://localhost:8080/"
        },
        "id": "G5fFz2FfSKxV",
        "outputId": "08f929ea-db49-4e5a-898b-c8901090b003"
      },
      "source": [
        "len(labels[0])"
      ],
      "execution_count": null,
      "outputs": [
        {
          "output_type": "execute_result",
          "data": {
            "text/plain": [
              "151"
            ]
          },
          "metadata": {},
          "execution_count": 64
        }
      ]
    },
    {
      "cell_type": "code",
      "metadata": {
        "colab": {
          "base_uri": "https://localhost:8080/"
        },
        "id": "tMqOB8RSNAW2",
        "outputId": "fefa7675-1e8b-4be8-9b6b-56fd3ffb319a"
      },
      "source": [
        "labels"
      ],
      "execution_count": null,
      "outputs": [
        {
          "output_type": "execute_result",
          "data": {
            "text/plain": [
              "array([[0, 0, 0, ..., 0, 0, 0],\n",
              "       [0, 0, 0, ..., 0, 0, 0],\n",
              "       [0, 0, 0, ..., 0, 0, 1],\n",
              "       ...,\n",
              "       [0, 0, 0, ..., 0, 0, 0],\n",
              "       [0, 0, 0, ..., 0, 0, 0],\n",
              "       [0, 0, 0, ..., 0, 0, 0]])"
            ]
          },
          "metadata": {},
          "execution_count": 65
        }
      ]
    },
    {
      "cell_type": "code",
      "source": [
        "len(val_labels[0])"
      ],
      "metadata": {
        "colab": {
          "base_uri": "https://localhost:8080/"
        },
        "id": "gY0G0Np_VS-g",
        "outputId": "777bb7d2-86d9-4860-925c-e79fd0a1e0a4"
      },
      "execution_count": null,
      "outputs": [
        {
          "output_type": "execute_result",
          "data": {
            "text/plain": [
              "151"
            ]
          },
          "metadata": {},
          "execution_count": 66
        }
      ]
    },
    {
      "cell_type": "code",
      "metadata": {
        "id": "u8XYuXWtwHh0"
      },
      "source": [
        "LABEL_VALUES = labels\n",
        "LABEL_LEN = len(labels[0])\n",
        "# MAX_LENGTH = 1155\n",
        "# MAX_NB_WORDS = 1170"
      ],
      "execution_count": null,
      "outputs": []
    },
    {
      "cell_type": "code",
      "source": [
        "LABEL_LEN"
      ],
      "metadata": {
        "colab": {
          "base_uri": "https://localhost:8080/"
        },
        "id": "eeHLhiHJfMtK",
        "outputId": "3fce2a52-6ce5-4d23-afca-d660dbfe5d29"
      },
      "execution_count": null,
      "outputs": [
        {
          "output_type": "execute_result",
          "data": {
            "text/plain": [
              "151"
            ]
          },
          "metadata": {},
          "execution_count": 68
        }
      ]
    },
    {
      "cell_type": "code",
      "metadata": {
        "colab": {
          "base_uri": "https://localhost:8080/"
        },
        "id": "2zDAcVPi_L-i",
        "outputId": "265889f9-66e9-4a2e-a854-d60bd61c4bca"
      },
      "source": [
        "%%time\n",
        "from tensorflow.keras.regularizers import l2\n",
        "\n",
        "def get_rnn_cnn_model():\n",
        "    embedding_dim = 300\n",
        "    inp = Input(shape=(MAX_LENGTH, ))\n",
        "    x = Embedding(MAX_NB_WORDS, embedding_dim, weights=[embedding_matrix], input_length=MAX_LENGTH, trainable=True)(inp)\n",
        "    x = SpatialDropout1D(0.3)(x)\n",
        "    x = Bidirectional(GRU(100, return_sequences=True))(x)\n",
        "    # x = Bidirectional(LSTM(100, return_sequences=True))(x)\n",
        "    # x = Conv1D(64, kernel_size = 2, padding = \"valid\", kernel_initializer = \"he_uniform\")(x)\n",
        "    x = Conv1D(64, kernel_size = 2, padding = \"valid\", kernel_regularizer=l2(0.0005))(x)\n",
        "    avg_pool = GlobalAveragePooling1D()(x)\n",
        "    max_pool = GlobalMaxPooling1D()(x)\n",
        "    conc = concatenate([avg_pool, max_pool])\n",
        "    outp = Dense(LABEL_LEN, activation=\"softmax\")(conc)\n",
        "    model = Model(inputs=inp, outputs=outp)\n",
        "    optimizer = tensorflow.keras.optimizers.Adam(learning_rate=0.001)\n",
        "    model.compile(loss='categorical_crossentropy',\n",
        "                  optimizer=optimizer,\n",
        "                  metrics=['accuracy'])\n",
        "    return model\n",
        "\n",
        "rnn_cnn_model = get_rnn_cnn_model()"
      ],
      "execution_count": null,
      "outputs": [
        {
          "output_type": "stream",
          "name": "stdout",
          "text": [
            "CPU times: user 1.1 s, sys: 3.79 s, total: 4.89 s\n",
            "Wall time: 5.44 s\n"
          ]
        }
      ]
    },
    {
      "cell_type": "markdown",
      "metadata": {
        "id": "2xFD0l39RjPH"
      },
      "source": [
        "* **Training and Saving the Model**"
      ]
    },
    {
      "cell_type": "markdown",
      "metadata": {
        "id": "AsJBEk3_SYQs"
      },
      "source": [
        "* *change mode to min if we are going to monitor the loss*\n",
        "* *If we don't want to use validation data for whatever be the reason and implement check pointing, we have to change the ModelCheckpoint to work based on monitor='acc'*\n",
        "* We have to fit validation data like this validation_data=(X_valid, y_valid),"
      ]
    },
    {
      "cell_type": "code",
      "metadata": {
        "id": "2cAUshD_DvaW"
      },
      "source": [
        "filepath = 'oos_model.h5'\n",
        "checkpoint = ModelCheckpoint(filepath,\n",
        "                             monitor='val_accuracy',\n",
        "                             verbose=1,\n",
        "                             save_best_only=True,\n",
        "                             mode='max')\n",
        " \n",
        "# batch size factor of 4,8,16,32\n",
        "BATCH_SIZE = 256\n",
        "epochs = 100"
      ],
      "execution_count": null,
      "outputs": []
    },
    {
      "cell_type": "code",
      "metadata": {
        "colab": {
          "base_uri": "https://localhost:8080/"
        },
        "id": "GdWRHwNMQzv5",
        "outputId": "651a1b3f-9065-42e4-bb2c-93cdfe37d75c"
      },
      "source": [
        "history = rnn_cnn_model.fit(padded_train_sequences, \n",
        "                    LABEL_VALUES, \n",
        "                    # validation_split = 0.1, #0.1\n",
        "                    validation_data=(padded_val_sequences, val_labels), \n",
        "                    batch_size=BATCH_SIZE, \n",
        "                    callbacks=[checkpoint,\n",
        "                               tensorflow.keras.callbacks.EarlyStopping(\n",
        "                                   monitor='val_accuracy', patience=3)], \n",
        "                    epochs=epochs, \n",
        "                    verbose=1,\n",
        "                    shuffle=True)"
      ],
      "execution_count": null,
      "outputs": [
        {
          "output_type": "stream",
          "name": "stdout",
          "text": [
            "Epoch 1/100\n",
            "59/59 [==============================] - ETA: 0s - loss: 4.7620 - accuracy: 0.0723\n",
            "Epoch 00001: val_accuracy improved from -inf to 0.22806, saving model to oos_model.h5\n",
            "59/59 [==============================] - 24s 66ms/step - loss: 4.7620 - accuracy: 0.0723 - val_loss: 4.0045 - val_accuracy: 0.2281\n",
            "Epoch 2/100\n",
            "59/59 [==============================] - ETA: 0s - loss: 2.6051 - accuracy: 0.4643\n",
            "Epoch 00002: val_accuracy improved from 0.22806 to 0.66065, saving model to oos_model.h5\n",
            "59/59 [==============================] - 2s 39ms/step - loss: 2.6051 - accuracy: 0.4643 - val_loss: 1.5416 - val_accuracy: 0.6606\n",
            "Epoch 3/100\n",
            "59/59 [==============================] - ETA: 0s - loss: 0.9338 - accuracy: 0.7919\n",
            "Epoch 00003: val_accuracy improved from 0.66065 to 0.79968, saving model to oos_model.h5\n",
            "59/59 [==============================] - 2s 40ms/step - loss: 0.9338 - accuracy: 0.7919 - val_loss: 0.9132 - val_accuracy: 0.7997\n",
            "Epoch 4/100\n",
            "59/59 [==============================] - ETA: 0s - loss: 0.5193 - accuracy: 0.8925\n",
            "Epoch 00004: val_accuracy improved from 0.79968 to 0.84323, saving model to oos_model.h5\n",
            "59/59 [==============================] - 3s 45ms/step - loss: 0.5193 - accuracy: 0.8925 - val_loss: 0.7487 - val_accuracy: 0.8432\n",
            "Epoch 5/100\n",
            "58/59 [============================>.] - ETA: 0s - loss: 0.3676 - accuracy: 0.9327\n",
            "Epoch 00005: val_accuracy improved from 0.84323 to 0.86774, saving model to oos_model.h5\n",
            "59/59 [==============================] - 3s 44ms/step - loss: 0.3669 - accuracy: 0.9327 - val_loss: 0.6453 - val_accuracy: 0.8677\n",
            "Epoch 6/100\n",
            "58/59 [============================>.] - ETA: 0s - loss: 0.2858 - accuracy: 0.9527\n",
            "Epoch 00006: val_accuracy improved from 0.86774 to 0.87258, saving model to oos_model.h5\n",
            "59/59 [==============================] - 3s 44ms/step - loss: 0.2853 - accuracy: 0.9529 - val_loss: 0.6292 - val_accuracy: 0.8726\n",
            "Epoch 7/100\n",
            "59/59 [==============================] - ETA: 0s - loss: 0.2367 - accuracy: 0.9655\n",
            "Epoch 00007: val_accuracy improved from 0.87258 to 0.87871, saving model to oos_model.h5\n",
            "59/59 [==============================] - 3s 44ms/step - loss: 0.2367 - accuracy: 0.9655 - val_loss: 0.6173 - val_accuracy: 0.8787\n",
            "Epoch 8/100\n",
            "58/59 [============================>.] - ETA: 0s - loss: 0.2028 - accuracy: 0.9742\n",
            "Epoch 00008: val_accuracy improved from 0.87871 to 0.88323, saving model to oos_model.h5\n",
            "59/59 [==============================] - 3s 44ms/step - loss: 0.2027 - accuracy: 0.9744 - val_loss: 0.5920 - val_accuracy: 0.8832\n",
            "Epoch 9/100\n",
            "58/59 [============================>.] - ETA: 0s - loss: 0.1780 - accuracy: 0.9809\n",
            "Epoch 00009: val_accuracy improved from 0.88323 to 0.88484, saving model to oos_model.h5\n",
            "59/59 [==============================] - 3s 43ms/step - loss: 0.1778 - accuracy: 0.9811 - val_loss: 0.6029 - val_accuracy: 0.8848\n",
            "Epoch 10/100\n",
            "59/59 [==============================] - ETA: 0s - loss: 0.1597 - accuracy: 0.9844\n",
            "Epoch 00010: val_accuracy improved from 0.88484 to 0.88548, saving model to oos_model.h5\n",
            "59/59 [==============================] - 3s 44ms/step - loss: 0.1597 - accuracy: 0.9844 - val_loss: 0.6158 - val_accuracy: 0.8855\n",
            "Epoch 11/100\n",
            "59/59 [==============================] - ETA: 0s - loss: 0.1452 - accuracy: 0.9875\n",
            "Epoch 00011: val_accuracy improved from 0.88548 to 0.88903, saving model to oos_model.h5\n",
            "59/59 [==============================] - 3s 43ms/step - loss: 0.1452 - accuracy: 0.9875 - val_loss: 0.5920 - val_accuracy: 0.8890\n",
            "Epoch 12/100\n",
            "58/59 [============================>.] - ETA: 0s - loss: 0.1344 - accuracy: 0.9894\n",
            "Epoch 00012: val_accuracy improved from 0.88903 to 0.88935, saving model to oos_model.h5\n",
            "59/59 [==============================] - 3s 43ms/step - loss: 0.1343 - accuracy: 0.9895 - val_loss: 0.6049 - val_accuracy: 0.8894\n",
            "Epoch 13/100\n",
            "58/59 [============================>.] - ETA: 0s - loss: 0.1222 - accuracy: 0.9927\n",
            "Epoch 00013: val_accuracy improved from 0.88935 to 0.89129, saving model to oos_model.h5\n",
            "59/59 [==============================] - 3s 43ms/step - loss: 0.1222 - accuracy: 0.9928 - val_loss: 0.5989 - val_accuracy: 0.8913\n",
            "Epoch 14/100\n",
            "59/59 [==============================] - ETA: 0s - loss: 0.1149 - accuracy: 0.9936\n",
            "Epoch 00014: val_accuracy improved from 0.89129 to 0.89194, saving model to oos_model.h5\n",
            "59/59 [==============================] - 2s 38ms/step - loss: 0.1149 - accuracy: 0.9936 - val_loss: 0.5967 - val_accuracy: 0.8919\n",
            "Epoch 15/100\n",
            "59/59 [==============================] - ETA: 0s - loss: 0.1067 - accuracy: 0.9956\n",
            "Epoch 00015: val_accuracy did not improve from 0.89194\n",
            "59/59 [==============================] - 2s 35ms/step - loss: 0.1067 - accuracy: 0.9956 - val_loss: 0.5976 - val_accuracy: 0.8865\n",
            "Epoch 16/100\n",
            "59/59 [==============================] - ETA: 0s - loss: 0.1015 - accuracy: 0.9955\n",
            "Epoch 00016: val_accuracy improved from 0.89194 to 0.89387, saving model to oos_model.h5\n",
            "59/59 [==============================] - 2s 39ms/step - loss: 0.1015 - accuracy: 0.9955 - val_loss: 0.5897 - val_accuracy: 0.8939\n",
            "Epoch 17/100\n",
            "59/59 [==============================] - ETA: 0s - loss: 0.0929 - accuracy: 0.9967\n",
            "Epoch 00017: val_accuracy improved from 0.89387 to 0.89419, saving model to oos_model.h5\n",
            "59/59 [==============================] - 2s 38ms/step - loss: 0.0929 - accuracy: 0.9967 - val_loss: 0.5949 - val_accuracy: 0.8942\n",
            "Epoch 18/100\n",
            "59/59 [==============================] - ETA: 0s - loss: 0.0883 - accuracy: 0.9974\n",
            "Epoch 00018: val_accuracy did not improve from 0.89419\n",
            "59/59 [==============================] - 2s 35ms/step - loss: 0.0883 - accuracy: 0.9974 - val_loss: 0.5903 - val_accuracy: 0.8903\n",
            "Epoch 19/100\n",
            "59/59 [==============================] - ETA: 0s - loss: 0.0850 - accuracy: 0.9967\n",
            "Epoch 00019: val_accuracy did not improve from 0.89419\n",
            "59/59 [==============================] - 2s 35ms/step - loss: 0.0850 - accuracy: 0.9967 - val_loss: 0.5966 - val_accuracy: 0.8865\n",
            "Epoch 20/100\n",
            "59/59 [==============================] - ETA: 0s - loss: 0.0795 - accuracy: 0.9974\n",
            "Epoch 00020: val_accuracy did not improve from 0.89419\n",
            "59/59 [==============================] - 2s 35ms/step - loss: 0.0795 - accuracy: 0.9974 - val_loss: 0.5971 - val_accuracy: 0.8929\n"
          ]
        }
      ]
    },
    {
      "cell_type": "markdown",
      "metadata": {
        "id": "YtMmy8Ypqn3V"
      },
      "source": [
        "### **Loading the Tokenizer and Model**"
      ]
    },
    {
      "cell_type": "code",
      "metadata": {
        "id": "3Qa5hvjvL35E"
      },
      "source": [
        "from keras.models import load_model\n",
        "from keras.preprocessing.text import text_to_word_sequence\n",
        "from keras.preprocessing.sequence import pad_sequences\n",
        "import pandas as pd\n",
        "import numpy as np\n",
        "import pickle"
      ],
      "execution_count": null,
      "outputs": []
    },
    {
      "cell_type": "code",
      "metadata": {
        "id": "3VsvdHAzWban"
      },
      "source": [
        "modelPath = 'oos_model.h5'\n",
        "tokenPath = 'token-28.pkl'\n",
        "labelPath = '/content/label-151.pkl'"
      ],
      "execution_count": null,
      "outputs": []
    },
    {
      "cell_type": "code",
      "metadata": {
        "id": "4N0-J0WUWRKY"
      },
      "source": [
        "loadModel= load_model(modelPath)\n",
        "\n",
        "with open(tokenPath, 'rb') as handle:\n",
        "    loadToken = pickle.load(handle)\n",
        "\n",
        "with open(labelPath, 'rb') as handle:\n",
        "    loadLabel = pickle.load(handle)\n"
      ],
      "execution_count": null,
      "outputs": []
    },
    {
      "cell_type": "code",
      "metadata": {
        "id": "vxapQRJ1cid_"
      },
      "source": [
        "LABEL = loadLabel.classes_"
      ],
      "execution_count": null,
      "outputs": []
    },
    {
      "cell_type": "code",
      "metadata": {
        "colab": {
          "base_uri": "https://localhost:8080/"
        },
        "id": "zp4s9zsXziaD",
        "outputId": "6da3251b-b51d-42d9-8382-ec318f48d76f"
      },
      "source": [
        "LABEL"
      ],
      "execution_count": null,
      "outputs": [
        {
          "output_type": "execute_result",
          "data": {
            "text/plain": [
              "array(['accept_reservations', 'account_blocked', 'alarm',\n",
              "       'application_status', 'apr', 'are_you_a_bot', 'balance',\n",
              "       'bill_balance', 'bill_due', 'book_flight', 'book_hotel',\n",
              "       'calculator', 'calendar', 'calendar_update', 'calories', 'cancel',\n",
              "       'cancel_reservation', 'car_rental', 'card_declined', 'carry_on',\n",
              "       'change_accent', 'change_ai_name', 'change_language',\n",
              "       'change_speed', 'change_user_name', 'change_volume',\n",
              "       'confirm_reservation', 'cook_time', 'credit_limit',\n",
              "       'credit_limit_change', 'credit_score', 'current_location',\n",
              "       'damaged_card', 'date', 'definition', 'direct_deposit',\n",
              "       'directions', 'distance', 'do_you_have_pets', 'exchange_rate',\n",
              "       'expiration_date', 'find_phone', 'flight_status', 'flip_coin',\n",
              "       'food_last', 'freeze_account', 'fun_fact', 'gas', 'gas_type',\n",
              "       'goodbye', 'greeting', 'how_busy', 'how_old_are_you',\n",
              "       'improve_credit_score', 'income', 'ingredient_substitution',\n",
              "       'ingredients_list', 'insurance', 'insurance_change',\n",
              "       'interest_rate', 'international_fees', 'international_visa',\n",
              "       'jump_start', 'last_maintenance', 'lost_luggage', 'make_call',\n",
              "       'maybe', 'meal_suggestion', 'meaning_of_life',\n",
              "       'measurement_conversion', 'meeting_schedule', 'min_payment', 'mpg',\n",
              "       'new_card', 'next_holiday', 'next_song', 'no', 'nutrition_info',\n",
              "       'oil_change_how', 'oil_change_when', 'oos', 'order',\n",
              "       'order_checks', 'order_status', 'pay_bill', 'payday', 'pin_change',\n",
              "       'play_music', 'plug_type', 'pto_balance', 'pto_request',\n",
              "       'pto_request_status', 'pto_used', 'recipe', 'redeem_rewards',\n",
              "       'reminder', 'reminder_update', 'repeat',\n",
              "       'replacement_card_duration', 'report_fraud', 'report_lost_card',\n",
              "       'reset_settings', 'restaurant_reservation', 'restaurant_reviews',\n",
              "       'restaurant_suggestion', 'rewards_balance', 'roll_dice',\n",
              "       'rollover_401k', 'routing', 'schedule_maintenance',\n",
              "       'schedule_meeting', 'share_location', 'shopping_list',\n",
              "       'shopping_list_update', 'smart_home', 'spelling',\n",
              "       'spending_history', 'sync_device', 'taxes', 'tell_joke', 'text',\n",
              "       'thank_you', 'time', 'timer', 'timezone', 'tire_change',\n",
              "       'tire_pressure', 'todo_list', 'todo_list_update', 'traffic',\n",
              "       'transactions', 'transfer', 'translate', 'travel_alert',\n",
              "       'travel_notification', 'travel_suggestion', 'uber',\n",
              "       'update_playlist', 'user_name', 'vaccines', 'w2', 'weather',\n",
              "       'what_are_your_hobbies', 'what_can_i_ask_you', 'what_is_your_name',\n",
              "       'what_song', 'where_are_you_from', 'whisper_mode',\n",
              "       'who_do_you_work_for', 'who_made_you', 'yes'], dtype='<U25')"
            ]
          },
          "metadata": {},
          "execution_count": 76
        }
      ]
    },
    {
      "cell_type": "code",
      "source": [
        "len(LABEL)"
      ],
      "metadata": {
        "colab": {
          "base_uri": "https://localhost:8080/"
        },
        "id": "ddhDWty4gImZ",
        "outputId": "9e3d1505-c5bb-4687-fb53-88818ca77ef4"
      },
      "execution_count": null,
      "outputs": [
        {
          "output_type": "execute_result",
          "data": {
            "text/plain": [
              "151"
            ]
          },
          "metadata": {},
          "execution_count": 77
        }
      ]
    },
    {
      "cell_type": "markdown",
      "metadata": {
        "id": "YOYMOFbe2qwJ"
      },
      "source": [
        "### **Testing**"
      ]
    },
    {
      "cell_type": "code",
      "metadata": {
        "id": "QOBn3p282piR"
      },
      "source": [
        "# oss_plus_val.head()"
      ],
      "execution_count": null,
      "outputs": []
    },
    {
      "cell_type": "code",
      "source": [
        "# test = pd.read_csv('/content/test.tsv', sep='\\t')"
      ],
      "metadata": {
        "id": "JRtecf0zXzD-"
      },
      "execution_count": null,
      "outputs": []
    },
    {
      "cell_type": "code",
      "metadata": {
        "colab": {
          "base_uri": "https://localhost:8080/",
          "height": 424
        },
        "id": "1Kc9IxJFKL7S",
        "outputId": "726b9a87-48a9-4cd4-c727-79531291dcd3"
      },
      "source": [
        "test"
      ],
      "execution_count": null,
      "outputs": [
        {
          "output_type": "execute_result",
          "data": {
            "text/html": [
              "\n",
              "  <div id=\"df-5f021687-997c-4369-b86e-545d99edfed9\">\n",
              "    <div class=\"colab-df-container\">\n",
              "      <div>\n",
              "<style scoped>\n",
              "    .dataframe tbody tr th:only-of-type {\n",
              "        vertical-align: middle;\n",
              "    }\n",
              "\n",
              "    .dataframe tbody tr th {\n",
              "        vertical-align: top;\n",
              "    }\n",
              "\n",
              "    .dataframe thead th {\n",
              "        text-align: right;\n",
              "    }\n",
              "</style>\n",
              "<table border=\"1\" class=\"dataframe\">\n",
              "  <thead>\n",
              "    <tr style=\"text-align: right;\">\n",
              "      <th></th>\n",
              "      <th>text</th>\n",
              "      <th>intent</th>\n",
              "    </tr>\n",
              "  </thead>\n",
              "  <tbody>\n",
              "    <tr>\n",
              "      <th>0</th>\n",
              "      <td>i would like to do some things in phoenix</td>\n",
              "      <td>travel_suggestion</td>\n",
              "    </tr>\n",
              "    <tr>\n",
              "      <th>1</th>\n",
              "      <td>what are the steps to rollover my 401k</td>\n",
              "      <td>rollover_401k</td>\n",
              "    </tr>\n",
              "    <tr>\n",
              "      <th>2</th>\n",
              "      <td>what films are in the running for best song at...</td>\n",
              "      <td>oos</td>\n",
              "    </tr>\n",
              "    <tr>\n",
              "      <th>3</th>\n",
              "      <td>will you tell me how the ai is doing</td>\n",
              "      <td>greeting</td>\n",
              "    </tr>\n",
              "    <tr>\n",
              "      <th>4</th>\n",
              "      <td>how would i say what is your name if i were fr...</td>\n",
              "      <td>translate</td>\n",
              "    </tr>\n",
              "    <tr>\n",
              "      <th>...</th>\n",
              "      <td>...</td>\n",
              "      <td>...</td>\n",
              "    </tr>\n",
              "    <tr>\n",
              "      <th>5495</th>\n",
              "      <td>what time is a star is born showing</td>\n",
              "      <td>oos</td>\n",
              "    </tr>\n",
              "    <tr>\n",
              "      <th>5496</th>\n",
              "      <td>need to know the weather now</td>\n",
              "      <td>weather</td>\n",
              "    </tr>\n",
              "    <tr>\n",
              "      <th>5497</th>\n",
              "      <td>tell me nutritional info for burger</td>\n",
              "      <td>nutrition_info</td>\n",
              "    </tr>\n",
              "    <tr>\n",
              "      <th>5498</th>\n",
              "      <td>what is the timeframe for getting my tires cha...</td>\n",
              "      <td>tire_change</td>\n",
              "    </tr>\n",
              "    <tr>\n",
              "      <th>5499</th>\n",
              "      <td>what is my visa credit limit</td>\n",
              "      <td>credit_limit</td>\n",
              "    </tr>\n",
              "  </tbody>\n",
              "</table>\n",
              "<p>5500 rows × 2 columns</p>\n",
              "</div>\n",
              "      <button class=\"colab-df-convert\" onclick=\"convertToInteractive('df-5f021687-997c-4369-b86e-545d99edfed9')\"\n",
              "              title=\"Convert this dataframe to an interactive table.\"\n",
              "              style=\"display:none;\">\n",
              "        \n",
              "  <svg xmlns=\"http://www.w3.org/2000/svg\" height=\"24px\"viewBox=\"0 0 24 24\"\n",
              "       width=\"24px\">\n",
              "    <path d=\"M0 0h24v24H0V0z\" fill=\"none\"/>\n",
              "    <path d=\"M18.56 5.44l.94 2.06.94-2.06 2.06-.94-2.06-.94-.94-2.06-.94 2.06-2.06.94zm-11 1L8.5 8.5l.94-2.06 2.06-.94-2.06-.94L8.5 2.5l-.94 2.06-2.06.94zm10 10l.94 2.06.94-2.06 2.06-.94-2.06-.94-.94-2.06-.94 2.06-2.06.94z\"/><path d=\"M17.41 7.96l-1.37-1.37c-.4-.4-.92-.59-1.43-.59-.52 0-1.04.2-1.43.59L10.3 9.45l-7.72 7.72c-.78.78-.78 2.05 0 2.83L4 21.41c.39.39.9.59 1.41.59.51 0 1.02-.2 1.41-.59l7.78-7.78 2.81-2.81c.8-.78.8-2.07 0-2.86zM5.41 20L4 18.59l7.72-7.72 1.47 1.35L5.41 20z\"/>\n",
              "  </svg>\n",
              "      </button>\n",
              "      \n",
              "  <style>\n",
              "    .colab-df-container {\n",
              "      display:flex;\n",
              "      flex-wrap:wrap;\n",
              "      gap: 12px;\n",
              "    }\n",
              "\n",
              "    .colab-df-convert {\n",
              "      background-color: #E8F0FE;\n",
              "      border: none;\n",
              "      border-radius: 50%;\n",
              "      cursor: pointer;\n",
              "      display: none;\n",
              "      fill: #1967D2;\n",
              "      height: 32px;\n",
              "      padding: 0 0 0 0;\n",
              "      width: 32px;\n",
              "    }\n",
              "\n",
              "    .colab-df-convert:hover {\n",
              "      background-color: #E2EBFA;\n",
              "      box-shadow: 0px 1px 2px rgba(60, 64, 67, 0.3), 0px 1px 3px 1px rgba(60, 64, 67, 0.15);\n",
              "      fill: #174EA6;\n",
              "    }\n",
              "\n",
              "    [theme=dark] .colab-df-convert {\n",
              "      background-color: #3B4455;\n",
              "      fill: #D2E3FC;\n",
              "    }\n",
              "\n",
              "    [theme=dark] .colab-df-convert:hover {\n",
              "      background-color: #434B5C;\n",
              "      box-shadow: 0px 1px 3px 1px rgba(0, 0, 0, 0.15);\n",
              "      filter: drop-shadow(0px 1px 2px rgba(0, 0, 0, 0.3));\n",
              "      fill: #FFFFFF;\n",
              "    }\n",
              "  </style>\n",
              "\n",
              "      <script>\n",
              "        const buttonEl =\n",
              "          document.querySelector('#df-5f021687-997c-4369-b86e-545d99edfed9 button.colab-df-convert');\n",
              "        buttonEl.style.display =\n",
              "          google.colab.kernel.accessAllowed ? 'block' : 'none';\n",
              "\n",
              "        async function convertToInteractive(key) {\n",
              "          const element = document.querySelector('#df-5f021687-997c-4369-b86e-545d99edfed9');\n",
              "          const dataTable =\n",
              "            await google.colab.kernel.invokeFunction('convertToInteractive',\n",
              "                                                     [key], {});\n",
              "          if (!dataTable) return;\n",
              "\n",
              "          const docLinkHtml = 'Like what you see? Visit the ' +\n",
              "            '<a target=\"_blank\" href=https://colab.research.google.com/notebooks/data_table.ipynb>data table notebook</a>'\n",
              "            + ' to learn more about interactive tables.';\n",
              "          element.innerHTML = '';\n",
              "          dataTable['output_type'] = 'display_data';\n",
              "          await google.colab.output.renderOutput(dataTable, element);\n",
              "          const docLink = document.createElement('div');\n",
              "          docLink.innerHTML = docLinkHtml;\n",
              "          element.appendChild(docLink);\n",
              "        }\n",
              "      </script>\n",
              "    </div>\n",
              "  </div>\n",
              "  "
            ],
            "text/plain": [
              "                                                   text             intent\n",
              "0             i would like to do some things in phoenix  travel_suggestion\n",
              "1                what are the steps to rollover my 401k      rollover_401k\n",
              "2     what films are in the running for best song at...                oos\n",
              "3                  will you tell me how the ai is doing           greeting\n",
              "4     how would i say what is your name if i were fr...          translate\n",
              "...                                                 ...                ...\n",
              "5495                what time is a star is born showing                oos\n",
              "5496                       need to know the weather now            weather\n",
              "5497                tell me nutritional info for burger     nutrition_info\n",
              "5498  what is the timeframe for getting my tires cha...        tire_change\n",
              "5499                       what is my visa credit limit       credit_limit\n",
              "\n",
              "[5500 rows x 2 columns]"
            ]
          },
          "metadata": {},
          "execution_count": 80
        }
      ]
    },
    {
      "cell_type": "code",
      "source": [
        "test.shape"
      ],
      "metadata": {
        "colab": {
          "base_uri": "https://localhost:8080/"
        },
        "id": "eYeYg3s64Uct",
        "outputId": "827a8f9a-b0ac-4998-afb7-df6d3e042054"
      },
      "execution_count": null,
      "outputs": [
        {
          "output_type": "execute_result",
          "data": {
            "text/plain": [
              "(5500, 2)"
            ]
          },
          "metadata": {},
          "execution_count": 81
        }
      ]
    },
    {
      "cell_type": "code",
      "metadata": {
        "id": "Dx7WbumV6812"
      },
      "source": [
        "test_label = test['intent'].values\n",
        "sentence = test['text'].values"
      ],
      "execution_count": null,
      "outputs": []
    },
    {
      "cell_type": "code",
      "metadata": {
        "id": "HM0gwV_W2zyx"
      },
      "source": [
        "# tokenization\n",
        "maxLength = 28\n",
        "test_sequences = loadToken.texts_to_sequences(sentence)\n",
        "padded_test_sequences = pad_sequences(test_sequences, maxlen=maxLength)"
      ],
      "execution_count": null,
      "outputs": []
    },
    {
      "cell_type": "code",
      "metadata": {
        "id": "wG3qll0935gw"
      },
      "source": [
        "# predection\n",
        "pred_ls = loadModel.predict(padded_test_sequences)\n",
        "# print(type(pred_ls))\n",
        "category = loadLabel.inverse_transform(pred_ls)\n",
        "# score = ('{:.2f}'.format(round(np.max(pred_ls), 2)*100))"
      ],
      "execution_count": null,
      "outputs": []
    },
    {
      "cell_type": "code",
      "source": [
        "pred_ls"
      ],
      "metadata": {
        "colab": {
          "base_uri": "https://localhost:8080/"
        },
        "id": "YvwoBXJ5m2pY",
        "outputId": "7e6f405c-9d69-49da-d880-03dee1c7930a"
      },
      "execution_count": null,
      "outputs": [
        {
          "output_type": "execute_result",
          "data": {
            "text/plain": [
              "array([[9.2511791e-06, 1.9787474e-10, 6.8441426e-09, ..., 4.3683452e-09,\n",
              "        7.7619366e-10, 4.8828091e-15],\n",
              "       [3.0184139e-10, 1.0303477e-07, 2.5443482e-11, ..., 4.8036636e-10,\n",
              "        1.5961625e-07, 5.6372382e-13],\n",
              "       [1.0861066e-05, 1.9428160e-07, 1.3370811e-05, ..., 1.6753489e-05,\n",
              "        1.8590594e-04, 1.6000612e-07],\n",
              "       ...,\n",
              "       [1.2201089e-07, 1.9129483e-10, 4.6167055e-12, ..., 1.2736726e-08,\n",
              "        8.8295269e-07, 6.0660137e-11],\n",
              "       [9.8403351e-12, 3.1148082e-09, 1.2534829e-06, ..., 5.8524567e-08,\n",
              "        1.1706497e-08, 4.5826060e-10],\n",
              "       [1.4371895e-07, 1.4527260e-06, 5.5210989e-16, ..., 2.9916063e-09,\n",
              "        2.3958079e-13, 1.4989715e-14]], dtype=float32)"
            ]
          },
          "metadata": {},
          "execution_count": 96
        }
      ]
    },
    {
      "cell_type": "code",
      "source": [
        "# score = []\n",
        "# for i in pred_ls:\n",
        "#   score.append(np.max(pred_ls)*100)"
      ],
      "metadata": {
        "id": "MzKuUXpWmCJd"
      },
      "execution_count": null,
      "outputs": []
    },
    {
      "cell_type": "code",
      "source": [
        "category"
      ],
      "metadata": {
        "colab": {
          "base_uri": "https://localhost:8080/"
        },
        "id": "BOjmo3oA9OzC",
        "outputId": "364b19a0-acbd-49f0-a5b2-79ed26ae4b51"
      },
      "execution_count": null,
      "outputs": [
        {
          "output_type": "execute_result",
          "data": {
            "text/plain": [
              "array(['travel_suggestion', 'rollover_401k', 'oos', ..., 'nutrition_info',\n",
              "       'tire_pressure', 'credit_limit'], dtype='<U25')"
            ]
          },
          "metadata": {},
          "execution_count": 85
        }
      ]
    },
    {
      "cell_type": "code",
      "source": [
        "from sklearn.metrics import accuracy_score\n",
        "from sklearn.metrics.cluster import adjusted_rand_score, normalized_mutual_info_score\n",
        "\n",
        "# DeepAlingned : NMI: 93.86, ARI: 79.75, ACC: 86.49 \n",
        "print('ACC : ', round(accuracy_score(test_label, category)*100, 2))\n",
        "print('ARI : ', round(adjusted_rand_score(test_label, category)*100, 2))\n",
        "print('NMI : ', round(normalized_mutual_info_score(test_label, category)*100, 2))"
      ],
      "metadata": {
        "colab": {
          "base_uri": "https://localhost:8080/"
        },
        "id": "rluOxJ-h9L0B",
        "outputId": "ca963154-c85b-42c3-abef-4088a3e32f5b"
      },
      "execution_count": null,
      "outputs": [
        {
          "output_type": "stream",
          "name": "stdout",
          "text": [
            "ACC :  77.22\n",
            "ARI :  19.48\n",
            "NMI :  82.52\n"
          ]
        }
      ]
    },
    {
      "cell_type": "code",
      "metadata": {
        "id": "Y5YQZ8Ty3_h-"
      },
      "source": [
        "# result = []\n",
        "# for i in pred_ls:\n",
        "#     if i > 0.5:\n",
        "#         result.append(1)\n",
        "#     else:\n",
        "#         result.append(0)"
      ],
      "execution_count": null,
      "outputs": []
    },
    {
      "cell_type": "markdown",
      "metadata": {
        "id": "xqnOjfZgRUr9"
      },
      "source": [
        "### **Accuracy, ROC AUC, Confusion Matrix and Classification Report**"
      ]
    },
    {
      "cell_type": "code",
      "metadata": {
        "colab": {
          "base_uri": "https://localhost:8080/",
          "height": 1000
        },
        "id": "Oikq3UBWRUsI",
        "outputId": "00521569-a5a3-4a12-e12e-f7869c683ce7"
      },
      "source": [
        "from sklearn.metrics import confusion_matrix\n",
        "from sklearn.metrics import classification_report\n",
        "from sklearn.metrics import accuracy_score, roc_auc_score\n",
        "from sklearn.metrics import matthews_corrcoef\n",
        "import seaborn as sns\n",
        "from matplotlib import pyplot as plt\n",
        "%matplotlib inline\n",
        "sns.set(rc={'figure.facecolor':'white'})\n",
        "\n",
        "# input values\n",
        "TEST_LABEL = test_label\n",
        "PREDICTED_LABEL = category\n",
        "labels = LABEL\n",
        "\n",
        "# accuracy = accuracy_score(TEST_LABEL, PREDICTED_LABEL)\n",
        "# conf_mat = confusion_matrix(TEST_LABEL, PREDICTED_LABEL)\n",
        "# fig, ax = plt.subplots(figsize=(30,27))\n",
        "# sns.heatmap(conf_mat, annot=True, fmt='d',\n",
        "#             xticklabels=labels, yticklabels=labels)\n",
        "# plt.ylabel('Actual Label')\n",
        "# # plt.xlabel('Predicted Label\\n\\nAccuracy={:0.4f}; ROC AUC={:0.4f}'.format(accuracy, roc_score))\n",
        "# plt.xlabel('Predicted Label\\n\\nAccuracy={:0.4f}'.format(accuracy))\n",
        "# # plt.savefig('/content/drive/My Drive/Lafarge/Model/Hardware/HardwareModel-Confusion-v1.5.jpg')\n",
        "# # plt.savefig('HardwareModel-Confusion-v1.5.jpg')\n",
        "# plt.xticks(rotation=90)\n",
        "# plt.show()"
      ],
      "execution_count": null,
      "outputs": [
        {
          "output_type": "display_data",
          "data": {
            "image/png": "[encoded data removed]",
            "text/plain": [
              "<Figure size 2160x1944 with 2 Axes>"
            ]
          },
          "metadata": {}
        }
      ]
    },
    {
      "cell_type": "code",
      "metadata": {
        "id": "SRubAp91VeAE",
        "colab": {
          "base_uri": "https://localhost:8080/"
        },
        "outputId": "776257a4-317e-4022-a598-244bded4aa08"
      },
      "source": [
        "from sklearn.metrics import classification_report\n",
        "print(classification_report(test_label, category, target_names=LABEL))"
      ],
      "execution_count": null,
      "outputs": [
        {
          "output_type": "stream",
          "name": "stdout",
          "text": [
            "                           precision    recall  f1-score   support\n",
            "\n",
            "      accept_reservations       0.96      0.90      0.93        30\n",
            "          account_blocked       0.76      0.93      0.84        30\n",
            "                    alarm       0.88      1.00      0.94        30\n",
            "       application_status       0.97      1.00      0.98        30\n",
            "                      apr       0.88      1.00      0.94        30\n",
            "            are_you_a_bot       0.69      0.97      0.81        30\n",
            "                  balance       0.62      0.97      0.75        30\n",
            "             bill_balance       0.68      0.77      0.72        30\n",
            "                 bill_due       0.68      0.87      0.76        30\n",
            "              book_flight       0.91      1.00      0.95        30\n",
            "               book_hotel       0.94      0.97      0.95        30\n",
            "               calculator       0.69      0.90      0.78        30\n",
            "                 calendar       0.92      0.77      0.84        30\n",
            "          calendar_update       0.88      0.93      0.90        30\n",
            "                 calories       0.94      0.97      0.95        30\n",
            "                   cancel       0.75      0.90      0.82        30\n",
            "       cancel_reservation       0.91      1.00      0.95        30\n",
            "               car_rental       0.91      0.97      0.94        30\n",
            "            card_declined       0.85      0.93      0.89        30\n",
            "                 carry_on       1.00      0.97      0.98        30\n",
            "            change_accent       0.90      0.90      0.90        30\n",
            "           change_ai_name       0.62      0.80      0.70        30\n",
            "          change_language       0.85      0.97      0.91        30\n",
            "             change_speed       0.79      1.00      0.88        30\n",
            "         change_user_name       0.72      0.70      0.71        30\n",
            "            change_volume       0.74      0.87      0.80        30\n",
            "      confirm_reservation       0.97      0.93      0.95        30\n",
            "                cook_time       1.00      0.90      0.95        30\n",
            "             credit_limit       1.00      1.00      1.00        30\n",
            "      credit_limit_change       0.97      1.00      0.98        30\n",
            "             credit_score       0.85      0.97      0.91        30\n",
            "         current_location       0.66      0.97      0.78        30\n",
            "             damaged_card       0.82      0.93      0.87        30\n",
            "                     date       0.64      0.97      0.77        30\n",
            "               definition       0.69      0.83      0.76        30\n",
            "           direct_deposit       0.83      0.97      0.89        30\n",
            "               directions       0.46      1.00      0.63        30\n",
            "                 distance       0.57      0.70      0.63        30\n",
            "         do_you_have_pets       0.83      1.00      0.91        30\n",
            "            exchange_rate       0.88      0.97      0.92        30\n",
            "          expiration_date       0.87      0.90      0.89        30\n",
            "               find_phone       0.58      0.93      0.72        30\n",
            "            flight_status       0.83      1.00      0.91        30\n",
            "                flip_coin       0.94      1.00      0.97        30\n",
            "                food_last       0.70      0.93      0.80        30\n",
            "           freeze_account       0.83      1.00      0.91        30\n",
            "                 fun_fact       0.84      0.90      0.87        30\n",
            "                      gas       0.71      0.97      0.82        30\n",
            "                 gas_type       0.77      1.00      0.87        30\n",
            "                  goodbye       0.69      0.83      0.76        30\n",
            "                 greeting       0.46      0.97      0.62        30\n",
            "                 how_busy       0.86      0.83      0.85        30\n",
            "          how_old_are_you       0.57      0.93      0.71        30\n",
            "     improve_credit_score       0.92      0.77      0.84        30\n",
            "                   income       0.49      0.93      0.64        30\n",
            "  ingredient_substitution       0.93      0.83      0.88        30\n",
            "         ingredients_list       0.59      0.73      0.66        30\n",
            "                insurance       0.88      1.00      0.94        30\n",
            "         insurance_change       0.93      0.93      0.93        30\n",
            "            interest_rate       0.79      0.77      0.78        30\n",
            "       international_fees       0.96      0.87      0.91        30\n",
            "       international_visa       0.94      1.00      0.97        30\n",
            "               jump_start       0.86      1.00      0.92        30\n",
            "         last_maintenance       0.67      1.00      0.80        30\n",
            "             lost_luggage       0.91      0.97      0.94        30\n",
            "                make_call       0.72      0.93      0.81        30\n",
            "                    maybe       0.59      0.90      0.71        30\n",
            "          meal_suggestion       0.76      0.83      0.79        30\n",
            "          meaning_of_life       0.72      0.97      0.83        30\n",
            "   measurement_conversion       0.80      0.93      0.86        30\n",
            "         meeting_schedule       0.85      0.97      0.91        30\n",
            "              min_payment       1.00      1.00      1.00        30\n",
            "                      mpg       0.88      1.00      0.94        30\n",
            "                 new_card       0.82      0.90      0.86        30\n",
            "             next_holiday       0.68      1.00      0.81        30\n",
            "                next_song       0.97      0.97      0.97        30\n",
            "                       no       0.90      0.93      0.92        30\n",
            "           nutrition_info       0.83      1.00      0.91        30\n",
            "           oil_change_how       0.79      0.90      0.84        30\n",
            "          oil_change_when       0.71      0.97      0.82        30\n",
            "                      oos       0.99      0.11      0.20      1000\n",
            "                    order       0.56      0.80      0.66        30\n",
            "             order_checks       0.94      1.00      0.97        30\n",
            "             order_status       0.68      0.83      0.75        30\n",
            "                 pay_bill       0.93      0.90      0.92        30\n",
            "                   payday       0.87      0.90      0.89        30\n",
            "               pin_change       0.93      0.83      0.88        30\n",
            "               play_music       0.80      0.80      0.80        30\n",
            "                plug_type       0.90      0.93      0.92        30\n",
            "              pto_balance       0.84      0.87      0.85        30\n",
            "              pto_request       0.93      0.87      0.90        30\n",
            "       pto_request_status       0.79      0.87      0.83        30\n",
            "                 pto_used       0.78      0.93      0.85        30\n",
            "                   recipe       0.62      0.83      0.71        30\n",
            "           redeem_rewards       0.86      0.83      0.85        30\n",
            "                 reminder       0.64      0.93      0.76        30\n",
            "          reminder_update       0.75      0.90      0.82        30\n",
            "                   repeat       0.76      0.97      0.85        30\n",
            "replacement_card_duration       0.71      0.83      0.77        30\n",
            "             report_fraud       0.79      0.73      0.76        30\n",
            "         report_lost_card       1.00      0.90      0.95        30\n",
            "           reset_settings       0.88      0.97      0.92        30\n",
            "   restaurant_reservation       0.90      0.93      0.92        30\n",
            "       restaurant_reviews       0.72      0.77      0.74        30\n",
            "    restaurant_suggestion       0.70      1.00      0.82        30\n",
            "          rewards_balance       0.86      1.00      0.92        30\n",
            "                roll_dice       1.00      1.00      1.00        30\n",
            "            rollover_401k       0.97      0.97      0.97        30\n",
            "                  routing       1.00      1.00      1.00        30\n",
            "     schedule_maintenance       0.90      0.87      0.88        30\n",
            "         schedule_meeting       0.94      0.97      0.95        30\n",
            "           share_location       0.81      0.83      0.82        30\n",
            "            shopping_list       0.56      0.83      0.67        30\n",
            "     shopping_list_update       0.82      0.93      0.87        30\n",
            "               smart_home       0.56      0.93      0.70        30\n",
            "                 spelling       0.85      0.97      0.91        30\n",
            "         spending_history       0.73      0.80      0.76        30\n",
            "              sync_device       0.66      0.97      0.78        30\n",
            "                    taxes       0.88      1.00      0.94        30\n",
            "                tell_joke       0.94      1.00      0.97        30\n",
            "                     text       0.84      0.90      0.87        30\n",
            "                thank_you       0.51      0.93      0.66        30\n",
            "                     time       0.70      0.93      0.80        30\n",
            "                    timer       0.81      0.97      0.88        30\n",
            "                 timezone       0.90      0.93      0.92        30\n",
            "              tire_change       0.90      0.93      0.92        30\n",
            "            tire_pressure       0.97      1.00      0.98        30\n",
            "                todo_list       0.58      0.87      0.69        30\n",
            "         todo_list_update       0.83      0.83      0.83        30\n",
            "                  traffic       0.79      1.00      0.88        30\n",
            "             transactions       0.89      0.83      0.86        30\n",
            "                 transfer       0.97      0.93      0.95        30\n",
            "                translate       0.63      0.87      0.73        30\n",
            "             travel_alert       0.87      0.90      0.89        30\n",
            "      travel_notification       0.97      0.97      0.97        30\n",
            "        travel_suggestion       0.57      1.00      0.72        30\n",
            "                     uber       0.91      1.00      0.95        30\n",
            "          update_playlist       0.93      0.93      0.93        30\n",
            "                user_name       0.76      0.87      0.81        30\n",
            "                 vaccines       0.94      1.00      0.97        30\n",
            "                       w2       0.97      0.97      0.97        30\n",
            "                  weather       0.77      1.00      0.87        30\n",
            "    what_are_your_hobbies       0.97      0.93      0.95        30\n",
            "       what_can_i_ask_you       0.52      0.97      0.67        30\n",
            "        what_is_your_name       0.69      0.90      0.78        30\n",
            "                what_song       0.71      1.00      0.83        30\n",
            "       where_are_you_from       0.47      0.87      0.61        30\n",
            "             whisper_mode       0.91      0.97      0.94        30\n",
            "      who_do_you_work_for       0.38      0.70      0.49        30\n",
            "             who_made_you       0.48      0.93      0.64        30\n",
            "                      yes       0.46      0.80      0.59        30\n",
            "\n",
            "                 accuracy                           0.77      5500\n",
            "                macro avg       0.80      0.92      0.84      5500\n",
            "             weighted avg       0.83      0.77      0.73      5500\n",
            "\n"
          ]
        }
      ]
    },
    {
      "cell_type": "code",
      "source": [
        ""
      ],
      "metadata": {
        "id": "TSdFg0MIEJ7I"
      },
      "execution_count": null,
      "outputs": []
    }
  ]
}